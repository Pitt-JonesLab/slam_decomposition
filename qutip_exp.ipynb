{
 "cells": [
  {
   "cell_type": "code",
   "execution_count": 8,
   "metadata": {},
   "outputs": [],
   "source": [
    "import qutip\n",
    "import numpy as np\n",
    "from scipy.linalg import expm"
   ]
  },
  {
   "cell_type": "markdown",
   "metadata": {},
   "source": [
    "First,  by inspection construct a target unitary for cyclic_3 swap.\n",
    "\n",
    "$U|a, b, c\\rangle = |b,c,a\\rangle$.\n",
    "\n",
    "\\begin{equation}\n",
    "\\begin{bmatrix}\n",
    "1& 0& 0& 0& 0& 0& 0& 0\\\\\n",
    "0& 0& 0& 0& 1& 0& 0& 0\\\\\n",
    "0& 1& 0& 0& 0& 0& 0& 0\\\\\n",
    "0& 0& 0& 0& 0& 1& 0& 0\\\\\n",
    "0& 0& 1& 0& 0& 0& 0& 0\\\\\n",
    "0& 0& 0& 0& 0& 0& 1& 0\\\\\n",
    "0& 0& 0& 1& 0& 0& 0& 0\\\\\n",
    "0& 0& 0& 0& 0& 0& 0& 1\n",
    "\\end{bmatrix}\n",
    "\n",
    "\\begin{bmatrix}\n",
    "a\\\\\n",
    "b\\\\\n",
    "c\\\\\n",
    "d\\\\\n",
    "e\\\\\n",
    "f\\\\\n",
    "g\\\\\n",
    "h\n",
    "\\end{bmatrix}\n",
    "=\n",
    "\\begin{bmatrix}\n",
    "a\\\\\n",
    "e\\\\\n",
    "b\\\\\n",
    "f\\\\\n",
    "c\\\\\n",
    "g\\\\\n",
    "d\\\\\n",
    "h\n",
    "\\end{bmatrix}\n",
    "\\end{equation}"
   ]
  },
  {
   "cell_type": "code",
   "execution_count": 190,
   "metadata": {},
   "outputs": [],
   "source": [
    "def build_circulator_U(phi_ab=0, phi_ac=0, phi_bc=np.pi/2, g_ab=1.0, g_ac=1.0, g_bc=1.0):\n",
    "    #TODO: when sweeping phase parameters leave time-independent\n",
    "    # when sweeping coupling parameters make time-dependet i.e gaussian shaped pusle\n",
    "    #build raising and lowering operations\n",
    "    a = qutip.operators.create(N=2)\n",
    "    I2 = qutip.operators.identity(2)\n",
    "    A = qutip.tensor(a, I2, I2)\n",
    "    B = qutip.tensor(I2, a, I2)\n",
    "    C = qutip.tensor(I2, I2, a)\n",
    "\n",
    "    #construct circulator Hamiltonian\n",
    "    H_ab = np.exp(1j * phi_ab)*A*B.dag() + np.exp(-1j * phi_ab)*A.dag()*B\n",
    "    H_ac = np.exp(1j * phi_ac)*A*C.dag() + np.exp(-1j * phi_ac)*A.dag()*C\n",
    "    H_bc = np.exp(1j * phi_bc)*B*C.dag() + np.exp(-1j * phi_bc)*B.dag()*C\n",
    "    H = g_ab*H_ab + g_ac*H_ac + g_bc*H_bc\n",
    "    \n",
    "    #time evolution, if time dependent need to use master-equation\n",
    "    #qutip.mesolve()\n",
    "    # U = expm(1j*np.array(H))\n",
    "    U = (1j*H).expm()\n",
    "    return U\n",
    "\n",
    "# #construct an example initial state\n",
    "# inita = qutip.basis(2, 1)\n",
    "# initb = qutip.basis(2, 0)\n",
    "# initc = qutip.basis(2, 0)\n",
    "# init = qutip.tensor(inita, initb, initc)\n",
    "# #print(init)\n",
    "\n",
    "# U = build_circulator_U()\n",
    "# #apply unitary to initial state\n",
    "# new_state = U*init\n",
    "# print(new_state)\n",
    "\n",
    "\n",
    "# #expected\n",
    "# expected = qutip.tensor(initb, initc, inita)\n",
    "# print(expected.overlap(new_state))"
   ]
  },
  {
   "cell_type": "code",
   "execution_count": 181,
   "metadata": {},
   "outputs": [],
   "source": [
    "expected_U = qutip.Qobj(dims = [[2, 2, 2], [2, 2, 2]],inpt=(1.0+0j)* np.array([[1,0,0,0,0,0,0,0],[0,0,0,0,1,0,0,0],[0,1,0,0,0,0,0,0],[0,0,0,0,0,1,0,0],[0,0,1,0,0,0,0,0],[0,0,0,0,0,0,1,0],[0,0,0,1,0,0,0,0],[0,0,0,0,0,0,0,1]]))\n",
    "# gk = [1,1,1]\n",
    "# template = build_circulator_U(g_ab=gk[0], g_ac=gk[1], g_bc=gk[2])\n",
    "# #1- np.abs(np.sum(np.matmul(template.full(), expected.conj().full())))/ (2*np.log2(expected.shape[0]))\n",
    "# np.real(((expected_U.full() - template.full()) * (expected_U.full() - template.full()).conj()).mean() ** 0.5)\n",
    "# print(expected_U)"
   ]
  },
  {
   "cell_type": "code",
   "execution_count": 192,
   "metadata": {},
   "outputs": [
    {
     "name": "stdout",
     "output_type": "stream",
     "text": [
      "0.875\n",
      "[1. 1. 1.]\n"
     ]
    }
   ],
   "source": [
    "from scipy import optimize as opt\n",
    "from itertools import product\n",
    "#initial guess\n",
    "gk = [1,1,1]\n",
    "\n",
    "#Option 1. Optimize inner product of quantum states\n",
    "#Problem is that we want the expected inner product to be the same over all states not just 1 at a time\n",
    "#construct an example initial state\n",
    "def build_init_state(a,b,c):\n",
    "    inita = qutip.basis(2, a)\n",
    "    initb = qutip.basis(2, b)\n",
    "    initc = qutip.basis(2, c)\n",
    "    init = qutip.tensor(inita, initb, initc)\n",
    "    return init\n",
    "\n",
    "#expected\n",
    "#expected_state = qutip.tensor(initb, initc, inita)\n",
    "init = build_init_state(0,1,1)\n",
    "expected_state = expected_U*init\n",
    "# print(expected_state)\n",
    "\n",
    "\n",
    "#can we improve this by iterating over all basis states?\n",
    "def foo(gk):\n",
    "    sum = 0\n",
    "    k = 0\n",
    "    for a,b,c in product([0,1], repeat=3):\n",
    "        init = build_init_state(a,b,c)\n",
    "        inner_product = expected_state.overlap(build_circulator_U(g_ab=gk[0], g_ac=gk[1], g_bc=gk[2])*init)\n",
    "        sum += 1 - np.real(np.conj(inner_product) * inner_product)\n",
    "        k+=1\n",
    "    return sum/k\n",
    "\n",
    "#Option 2. Optmize target unitary difference\n",
    "#The problem with this method is that it is not clear how to define difference cost function between 2 matrices, and they might be similar operations but don't look similar because differ by 1Q gates or with complex phase\n",
    "# expected = qutip.Qobj(np.array([[1,0,0,0,0,0,0,0],[0,0,0,0,1,0,0,0],[0,1,0,0,0,0,0,0],[0,0,0,0,0,1,0,0],[0,0,1,0,0,0,0,0],[0,0,0,0,0,0,1,0],[0,0,0,1,0,0,0,0],[0,0,0,0,0,0,0,1]]))\n",
    "# def foo2(gk):\n",
    "#     template = build_circulator_U(g_ab=gk[0], g_ac=gk[1], g_bc=gk[2])\n",
    "#     return np.real(((expected.full() - template.full()) * (expected.full() - template.full()).conj()).mean() ** 0.5)\n",
    "#     #return 1- np.abs(np.sum(np.matmul(template.full(), expected.conj().full())))/ (2*np.log2(expected.shape[0]))\n",
    "\n",
    "opt_result = opt.minimize(fun=foo, x0=gk)\n",
    "print(opt_result.fun)\n",
    "print(opt_result.x)\n",
    "\n",
    "# gk = opt_result.x\n",
    "# U = build_circulator_U(g_ab=gk[0], g_ac=gk[1], g_bc=gk[2])\n",
    "# from pprint import pprint\n",
    "# pprint(np.matrix(U))"
   ]
  },
  {
   "cell_type": "markdown",
   "metadata": {},
   "source": [
    "This feels like evidence that for time-independent parameters, you can't build the target unitary. You can get near-exact for states at a time, but if we iterate over just the most basic basis states we can't get a unitary that works for them all simultaneously."
   ]
  }
 ],
 "metadata": {
  "interpreter": {
   "hash": "70a9657f8d39e21152eb858a3a300098f5a2e9482322eb6e79a7a1d26655bc0b"
  },
  "kernelspec": {
   "display_name": "Python 3.8.10 ('venv': venv)",
   "language": "python",
   "name": "python3"
  },
  "language_info": {
   "codemirror_mode": {
    "name": "ipython",
    "version": 3
   },
   "file_extension": ".py",
   "mimetype": "text/x-python",
   "name": "python",
   "nbconvert_exporter": "python",
   "pygments_lexer": "ipython3",
   "version": "3.8.10"
  },
  "orig_nbformat": 4
 },
 "nbformat": 4,
 "nbformat_minor": 2
}
