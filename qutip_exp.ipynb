{
 "cells": [
  {
   "cell_type": "code",
   "execution_count": 1,
   "metadata": {},
   "outputs": [],
   "source": [
    "import qutip\n",
    "import numpy as np\n",
    "from scipy.linalg import expm\n"
   ]
  },
  {
   "cell_type": "code",
   "execution_count": 15,
   "metadata": {},
   "outputs": [],
   "source": [
    "# pretty print from Chao\n",
    "import matplotlib.pyplot as plt\n",
    "\n",
    "\n",
    "def plotMatrix(matrix, rounder=2, vmin=0, vmax=1):\n",
    "    matrix = np.array(matrix)\n",
    "    dim = len(matrix)\n",
    "    nBits = int(np.log2(dim))\n",
    "    number_label = np.arange(0, dim, 1)\n",
    "    fig = plt.figure(figsize=(7, 7))\n",
    "    plt.subplot(1, 1, 1)\n",
    "    pm = plt.imshow(np.abs(matrix), interpolation=\"nearest\", vmin=vmin, vmax=vmax)\n",
    "    plt.xticks(number_label, [f\"{n:0{nBits}b}\" for n in number_label])\n",
    "    plt.yticks(number_label, [f\"{n:0{nBits}b}\" for n in number_label])\n",
    "    for (j, i), label in np.ndenumerate(matrix):\n",
    "        label = np.round(label, rounder)\n",
    "        plt.text(i, j, label, ha=\"center\", va=\"center\")\n",
    "    plt.colorbar()\n",
    "    plt.show()\n",
    "    return pm\n"
   ]
  },
  {
   "cell_type": "markdown",
   "metadata": {},
   "source": [
    "First,  by inspection construct a target unitary for cyclic_3 swap.\n",
    "\n",
    "$U|a, b, c\\rangle = |b,c,a\\rangle$.\n",
    "\n",
    "\\begin{equation}\n",
    "\\begin{bmatrix}\n",
    "1& 0& 0& 0& 0& 0& 0& 0\\\\\n",
    "0& 0& 0& 0& 1& 0& 0& 0\\\\\n",
    "0& 1& 0& 0& 0& 0& 0& 0\\\\\n",
    "0& 0& 0& 0& 0& 1& 0& 0\\\\\n",
    "0& 0& 1& 0& 0& 0& 0& 0\\\\\n",
    "0& 0& 0& 0& 0& 0& 1& 0\\\\\n",
    "0& 0& 0& 1& 0& 0& 0& 0\\\\\n",
    "0& 0& 0& 0& 0& 0& 0& 1\n",
    "\\end{bmatrix}\n",
    "\n",
    "\\begin{bmatrix}\n",
    "a\\\\\n",
    "b\\\\\n",
    "c\\\\\n",
    "d\\\\\n",
    "e\\\\\n",
    "f\\\\\n",
    "g\\\\\n",
    "h\n",
    "\\end{bmatrix}\n",
    "=\n",
    "\\begin{bmatrix}\n",
    "a\\\\\n",
    "e\\\\\n",
    "b\\\\\n",
    "f\\\\\n",
    "c\\\\\n",
    "g\\\\\n",
    "d\\\\\n",
    "h\n",
    "\\end{bmatrix}\n",
    "\\end{equation}"
   ]
  },
  {
   "cell_type": "code",
   "execution_count": 92,
   "metadata": {},
   "outputs": [],
   "source": [
    "# def gaussian(t, u, s):\n",
    "#     return (np.exp(-.5*((t-u)/s)**2))/np.sqrt(2*np.pi)\n",
    "\n",
    "def gaussian(t, A, s):\n",
    "    return A*np.exp(-(t/s)**2)"
   ]
  },
  {
   "cell_type": "code",
   "execution_count": 2,
   "metadata": {},
   "outputs": [],
   "source": [
    "def build_circulator_U(\n",
    "    phi_ab=0, phi_ac=0, phi_bc=np.pi / 2, g_ab=1.0, g_ac=1.0, g_bc=1.0\n",
    "):\n",
    "    # TODO: when sweeping phase parameters leave time-independent\n",
    "    # when sweeping coupling parameters make time-dependet i.e gaussian shaped pusle\n",
    "    # build raising and lowering operations\n",
    "    a = qutip.operators.create(N=2)\n",
    "    I2 = qutip.operators.identity(2)\n",
    "    A = qutip.tensor(a, I2, I2)\n",
    "    B = qutip.tensor(I2, a, I2)\n",
    "    C = qutip.tensor(I2, I2, a)\n",
    "\n",
    "    # construct circulator Hamiltonian\n",
    "    H_ab = np.exp(1j * phi_ab) * A * B.dag() + np.exp(-1j * phi_ab) * A.dag() * B\n",
    "    H_ac = np.exp(1j * phi_ac) * A * C.dag() + np.exp(-1j * phi_ac) * A.dag() * C\n",
    "    H_bc = np.exp(1j * phi_bc) * B * C.dag() + np.exp(-1j * phi_bc) * B.dag() * C\n",
    "    H = g_ab * H_ab + g_ac * H_ac + g_bc * H_bc\n",
    "\n",
    "    # time evolution, if time dependent need to use master-equation\n",
    "    # qutip.mesolve()\n",
    "    # U = expm(1j*np.array(H))\n",
    "    U = (1j * H).expm()\n",
    "    return U\n",
    "\n",
    "def build_time_dependent_U(phi_ab=0, phi_ac=0, phi_bc=np.pi / 2, g_ab_A=0, g_ab_s=.1, g_ac_A=0, g_ac_s=.1, g_bc_A=0, g_bc_s=.1):\n",
    "    a = qutip.operators.create(N=2)\n",
    "    I2 = qutip.operators.identity(2)\n",
    "    A = qutip.tensor(a, I2, I2)\n",
    "    B = qutip.tensor(I2, a, I2)\n",
    "    C = qutip.tensor(I2, I2, a)\n",
    "\n",
    "    # construct circulator Hamiltonian\n",
    "    H_ab = np.exp(1j * phi_ab) * A * B.dag() + np.exp(-1j * phi_ab) * A.dag() * B\n",
    "    H_ac = np.exp(1j * phi_ac) * A * C.dag() + np.exp(-1j * phi_ac) * A.dag() * C\n",
    "    H_bc = np.exp(1j * phi_bc) * B * C.dag() + np.exp(-1j * phi_bc) * B.dag() * C\n",
    "    H = g_ab * H_ab + g_ac * H_ac + g_bc * H_bc\n",
    "\n",
    "    t_list = np.linspace(-1,1,100)\n",
    "    qutip.mesolve(H, init, t_list)\n",
    "\n",
    "# #construct an example initial state\n",
    "# inita = qutip.basis(2, 1)\n",
    "# initb = qutip.basis(2, 0)\n",
    "# initc = qutip.basis(2, 0)\n",
    "# init = qutip.tensor(inita, initb, initc)\n",
    "# #print(init)\n",
    "\n",
    "# U = build_circulator_U()\n",
    "# #apply unitary to initial state\n",
    "# new_state = U*init\n",
    "# print(new_state)\n",
    "\n",
    "\n",
    "# #expected\n",
    "# expected = qutip.tensor(initb, initc, inita)\n",
    "# print(expected.overlap(new_state))\n"
   ]
  },
  {
   "cell_type": "code",
   "execution_count": 96,
   "metadata": {},
   "outputs": [
    {
     "name": "stdout",
     "output_type": "stream",
     "text": [
      "Result object with mesolve data.\n",
      "--------------------------------\n",
      "expect = True\n",
      "num_expect = 1, num_collapse = 1\n"
     ]
    }
   ],
   "source": [
    "kappa = 0.5\n",
    "\n",
    "def col_coeff(t, args):  # coefficient function\n",
    "    return np.sqrt(kappa * np.exp(-t))\n",
    "\n",
    "N = 10  # number of basis states\n",
    "a = qutip.destroy(N)\n",
    "H = a.dag() * a  # simple HO\n",
    "psi0 = qutip.basis(N, 9)  # initial state\n",
    "c_ops = [[a, col_coeff]]  # time-dependent collapse term\n",
    "times = np.linspace(0, 10, 100)\n",
    "output = qutip.mesolve(H, psi0, times, c_ops, [a.dag() * a])"
   ]
  },
  {
   "cell_type": "code",
   "execution_count": 72,
   "metadata": {},
   "outputs": [
    {
     "data": {
      "image/png": "[encoded data removed]",
      "text/plain": [
       "<Figure size 504x504 with 2 Axes>"
      ]
     },
     "metadata": {
      "needs_background": "light"
     },
     "output_type": "display_data"
    }
   ],
   "source": [
    "expected_U = qutip.Qobj(\n",
    "    dims=[[2, 2, 2], [2, 2, 2]],\n",
    "    inpt=(1.0 + 0j)\n",
    "    * np.array(\n",
    "        [\n",
    "            [1, 0, 0, 0, 0, 0, 0, 0],\n",
    "            [0, 0, 0, 0, 1, 0, 0, 0],\n",
    "            [0, 1, 0, 0, 0, 0, 0, 0],\n",
    "            [0, 0, 0, 0, 0, 1, 0, 0],\n",
    "            [0, 0, 1, 0, 0, 0, 0, 0],\n",
    "            [0, 0, 0, 0, 0, 0, 1, 0],\n",
    "            [0, 0, 0, 1, 0, 0, 0, 0],\n",
    "            [0, 0, 0, 0, 0, 0, 0, 1],\n",
    "        ]\n",
    "    ),\n",
    ")\n",
    "# gk = [1,1,1]\n",
    "# template = build_circulator_U(g_ab=gk[0], g_ac=gk[1], g_bc=gk[2])\n",
    "# #1- np.abs(np.sum(np.matmul(template.full(), expected.conj().full())))/ (2*np.log2(expected.shape[0]))\n",
    "# np.real(((expected_U.full() - template.full()) * (expected_U.full() - template.full()).conj()).mean() ** 0.5)\n",
    "# print(expected_U)\n",
    "# np.abs((expected_U*template.dag()).tr())/expected_U.shape[0]\n",
    "\n",
    "guess_U = qutip.Qobj(\n",
    "    dims=[[2, 2, 2], [2, 2, 2]],\n",
    "    inpt=(1.0 + 0j)\n",
    "    * np.array(\n",
    "        [\n",
    "            [1, 0, 0, 0, 0, 0, 0, 0],\n",
    "            [0, 0, 0, 0, 1, 0, 0, 0],\n",
    "            [0, -1, 0, 0, 0, 0, 0, 0],\n",
    "            [0, 0, 0, 0, 0, 1, 0, 0],\n",
    "            [0, 0, -1, 0, 0, 0, 0, 0],\n",
    "            [0, 0, 0, 0, 0, 0, -1, 0],\n",
    "            [0, 0, 0, -1, 0, 0, 0, 0],\n",
    "            [0, 0, 0, 0, 0, 0, 0, 1],\n",
    "        ]\n",
    "    ),\n",
    ")\n",
    "# plotMatrix(expected_U)\n",
    "plotMatrix(guess_U)\n",
    "distance = (\n",
    "    lambda template: 1\n",
    "    - np.abs((expected_U * template.dag()).tr()) / expected_U.shape[0]\n",
    ")\n",
    "distance(guess_U)\n",
    "\n",
    "expected_U = guess_U\n",
    "\n",
    "#well of course this breask for 3qubit gate\n",
    "# import weylchamber\n",
    "# weylchamber.concurrence(*weylchamber.c1c2c3(expected_U))\n"
   ]
  },
  {
   "cell_type": "code",
   "execution_count": 81,
   "metadata": {},
   "outputs": [],
   "source": [
    "from scipy import optimize as opt\n",
    "from itertools import product\n",
    "\n",
    "# initial guess, here I'm letting phases also be parametric\n",
    "# gk = [np.random.random() for _ in range(6)]\n",
    "gk = [0, 0, np.pi / 2, np.pi, 0, 0]"
   ]
  },
  {
   "cell_type": "code",
   "execution_count": 82,
   "metadata": {},
   "outputs": [
    {
     "name": "stdout",
     "output_type": "stream",
     "text": [
      "0.2500000000044913\n",
      "[-1.57079837e+00 -1.57079436e+00  1.57079633e+00  3.09185541e+00\n",
      "  3.09186267e+00  1.89965347e-08]\n"
     ]
    }
   ],
   "source": [
    "# Option 1. Optimize inner product of quantum states\n",
    "# Problem is that we want the expected inner product to be the same over all states not just 1 at a time\n",
    "# construct an example initial state\n",
    "def build_init_state(a, b, c):\n",
    "    inita = qutip.basis(2, a)\n",
    "    initb = qutip.basis(2, b)\n",
    "    initc = qutip.basis(2, c)\n",
    "    init = qutip.tensor(inita, initb, initc)\n",
    "    return init\n",
    "\n",
    "\n",
    "# expected\n",
    "# expected_state = qutip.tensor(initb, initc, inita)\n",
    "init = build_init_state(0, 1, 1)\n",
    "expected_state = expected_U * init\n",
    "# print(expected_state)\n",
    "\n",
    "\n",
    "# can we improve this by iterating over all coherent states?\n",
    "def min_coherent_innerproduct(gk):\n",
    "    sum = 0\n",
    "    k = 0\n",
    "    for a, b, c in product([0, 1], repeat=3):\n",
    "        init = build_init_state(a, b, c)\n",
    "        inner_product = expected_state.overlap(\n",
    "            build_circulator_U(\n",
    "                phi_ab=gk[0],\n",
    "                phi_ac=gk[1],\n",
    "                phi_bc=gk[2],\n",
    "                g_ab=gk[3],\n",
    "                g_ac=gk[4],\n",
    "                g_bc=gk[5],\n",
    "            )\n",
    "            * init\n",
    "        )\n",
    "        sum += 1 - np.real(np.conj(inner_product) * inner_product)\n",
    "        k += 1\n",
    "    return sum / k\n",
    "\n",
    "\n",
    "# Option 2. Optmize target unitary difference\n",
    "# Here I use the normalized overlap of the anstantz and target, the absolute value is taken to ignore global phase.\n",
    "def min_unitary_distance(gk):\n",
    "    template = build_circulator_U(\n",
    "        phi_ab=gk[0], phi_ac=gk[1], phi_bc=gk[2], g_ab=gk[3], g_ac=gk[4], g_bc=gk[5]\n",
    "    )\n",
    "    return 1 - np.abs((expected_U * template.dag()).tr()) / expected_U.shape[0]\n",
    "\n",
    "\n",
    "# opt_result = opt.minimize(fun=min_coherent_innerproduct, x0=gk)\n",
    "opt_result = opt.minimize(fun=min_unitary_distance, x0=gk)\n",
    "print(opt_result.fun)\n",
    "print(opt_result.x)\n",
    "\n",
    "# gk = opt_result.x\n",
    "# U = build_circulator_U(g_ab=gk[0], g_ac=gk[1], g_bc=gk[2])\n",
    "# from pprint import pprint\n",
    "# pprint(np.matrix(U))\n"
   ]
  },
  {
   "cell_type": "code",
   "execution_count": 84,
   "metadata": {},
   "outputs": [
    {
     "data": {
      "image/png": "[encoded data removed]",
      "text/plain": [
       "<Figure size 504x504 with 2 Axes>"
      ]
     },
     "metadata": {
      "needs_background": "light"
     },
     "output_type": "display_data"
    },
    {
     "data": {
      "text/plain": [
       "<matplotlib.image.AxesImage at 0x7fb9e1213460>"
      ]
     },
     "execution_count": 84,
     "metadata": {},
     "output_type": "execute_result"
    }
   ],
   "source": [
    "U = build_circulator_U(np.pi / 2, 0, 0, np.pi / 2, 0, 0) * build_circulator_U(0, np.pi / 2, 0, 0, np.pi / 2, 0)\n",
    "#U = build_circulator_U(*opt_result.x)\n",
    "plotMatrix(U)"
   ]
  },
  {
   "cell_type": "markdown",
   "metadata": {},
   "source": [
    "This feels like evidence that for time-independent parameters, you just can't build the target unitary. You can get near-exact for states at a time, but if we iterate over just the most basic basis states we can't get a unitary that works for them all simultaneously. We should look into pulse control optimization methods supplied by Qutip, either GRAPE or CRAB which seem to be similar just with different optimization techniques.\n",
    "\n",
    "https://docs.qdyn-library.net/MR-103/examples/CRAB/CRAB.html#Optimization"
   ]
  },
  {
   "cell_type": "code",
   "execution_count": 214,
   "metadata": {},
   "outputs": [],
   "source": [
    "# def test_6_crab(self):\n",
    "#     \"\"\"\n",
    "#     control.pulseoptim: Hadamard gate using CRAB algorithm\n",
    "#     Apply guess and ramping pulse\n",
    "#     assert that goal is achieved and fidelity error is below threshold\n",
    "#     assert that starting amplitude is zero\n",
    "#     \"\"\"\n",
    "#     # Hadamard\n",
    "#     H_d = sigmaz()\n",
    "#     H_c = [sigmax()]\n",
    "#     U_0 = identity(2)\n",
    "#     U_targ = hadamard_transform(1)\n",
    "\n",
    "#     n_ts = 12\n",
    "#     evo_time = 10\n",
    "\n",
    "#     # Run the optimisation\n",
    "#     result = cpo.opt_pulse_crab_unitary(H_d, H_c, U_0, U_targ,\n",
    "#             n_ts, evo_time,\n",
    "#             fid_err_targ=1e-5,\n",
    "#             alg_params={'crab_pulse_params':{'randomize_coeffs':False,\n",
    "#                                                 'randomize_freqs':False}},\n",
    "#             init_coeff_scaling=0.5,\n",
    "#             guess_pulse_type='GAUSSIAN',\n",
    "#             guess_pulse_params={'variance':0.1*evo_time},\n",
    "#             guess_pulse_scaling=1.0, guess_pulse_offset=1.0,\n",
    "#             amp_lbound=None, amp_ubound=None,\n",
    "#             ramping_pulse_type='GAUSSIAN_EDGE',\n",
    "#             ramping_pulse_params={'decay_time':evo_time/100.0},\n",
    "#             gen_stats=True)\n",
    "#     assert_(result.goal_achieved, msg=\"Hadamard goal not achieved. \"\n",
    "#                 \"Terminated due to: {}, with infidelity: {}\".format(\n",
    "#                 result.termination_reason, result.fid_err))\n",
    "#     assert_almost_equal(result.fid_err, 0.0, decimal=3,\n",
    "#                         err_msg=\"Hadamard infidelity too high\")\n",
    "#     assert_almost_equal(result.final_amps[0, 0], 0.0, decimal=3,\n",
    "#                         err_msg=\"lead in amplitude not zero\")\n",
    "#     # Repeat with Qobj integration\n",
    "#     result = cpo.opt_pulse_crab_unitary(H_d, H_c, U_0, U_targ,\n",
    "#             n_ts, evo_time,\n",
    "#             fid_err_targ=1e-5,\n",
    "#             alg_params={'crab_pulse_params':{'randomize_coeffs':False,\n",
    "#                                                 'randomize_freqs':False}},\n",
    "#             dyn_params={'oper_dtype':Qobj},\n",
    "#             init_coeff_scaling=0.5,\n",
    "#             guess_pulse_type='GAUSSIAN',\n",
    "#             guess_pulse_params={'variance':0.1*evo_time},\n",
    "#             guess_pulse_scaling=1.0, guess_pulse_offset=1.0,\n",
    "#             amp_lbound=None, amp_ubound=None,\n",
    "#             ramping_pulse_type='GAUSSIAN_EDGE',\n",
    "#             ramping_pulse_params={'decay_time':evo_time/100.0},\n",
    "#             gen_stats=True)\n",
    "#     assert_(result.goal_achieved, msg=\"Hadamard goal not achieved\"\n",
    "#                                     \"(Qobj integration). \"\n",
    "#                 \"Terminated due to: {}, with infidelity: {}\".format(\n",
    "#                 result.termination_reason, result.fid_err))\n"
   ]
  }
 ],
 "metadata": {
  "interpreter": {
   "hash": "70a9657f8d39e21152eb858a3a300098f5a2e9482322eb6e79a7a1d26655bc0b"
  },
  "kernelspec": {
   "display_name": "Python 3.8.10 ('venv': venv)",
   "language": "python",
   "name": "python3"
  },
  "language_info": {
   "codemirror_mode": {
    "name": "ipython",
    "version": 3
   },
   "file_extension": ".py",
   "mimetype": "text/x-python",
   "name": "python",
   "nbconvert_exporter": "python",
   "pygments_lexer": "ipython3",
   "version": "3.8.10"
  },
  "orig_nbformat": 4
 },
 "nbformat": 4,
 "nbformat_minor": 2
}
