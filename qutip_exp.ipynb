{
 "cells": [
  {
   "cell_type": "code",
   "execution_count": 26,
   "metadata": {},
   "outputs": [],
   "source": [
    "import qutip\n",
    "import numpy as np\n",
    "from scipy.linalg import expm\n",
    "from pprint import pprint\n",
    "#qutip.mesolve()"
   ]
  },
  {
   "cell_type": "code",
   "execution_count": 32,
   "metadata": {},
   "outputs": [
    {
     "name": "stdout",
     "output_type": "stream",
     "text": [
      "Quantum object: dims = [[2, 2, 2], [1, 1, 1]], shape = (8, 1), type = ket\n",
      "Qobj data =\n",
      "[[0.]\n",
      " [0.]\n",
      " [0.]\n",
      " [0.]\n",
      " [1.]\n",
      " [0.]\n",
      " [0.]\n",
      " [0.]]\n",
      "array([[0.        +0.j        ],\n",
      "       [0.        +0.95671228j],\n",
      "       [0.        +0.18300792j],\n",
      "       [0.        +0.j        ],\n",
      "       [0.22629564+0.j        ],\n",
      "       [0.        +0.j        ],\n",
      "       [0.        +0.j        ],\n",
      "       [0.        +0.j        ]])\n"
     ]
    }
   ],
   "source": [
    "a = qutip.operators.create(N=2)\n",
    "a_dag = a.dag()\n",
    "I2 = qutip.operators.identity(2)\n",
    "\n",
    "phi_ab=0#.5*np.pi\n",
    "phi_ac=0#.5*np.pi\n",
    "phi_bc=0.5*np.pi\n",
    "#sweep leave time independent\n",
    "\n",
    "g_ab = 1.0\n",
    "g_ac = 1.0\n",
    "g_bc = 1.0\n",
    "#sweep, make time depdenent gaussian curves as function of 1-2 scalar params\n",
    "\n",
    "A = qutip.tensor(a, I2, I2)\n",
    "B = qutip.tensor(I2, a, I2)\n",
    "C = qutip.tensor(I2, I2, a)\n",
    "H_ab = np.exp(1j * phi_ab)*A*B.dag() + np.exp(-1j * phi_ab)*A.dag()*B\n",
    "H_ac = np.exp(1j * phi_ac)*A*C.dag() + np.exp(-1j * phi_ac)*A.dag()*C\n",
    "H_bc = np.exp(1j * phi_bc)*B*C.dag() + np.exp(-1j * phi_bc)*B.dag()*C\n",
    "H = g_ab*H_ab + g_ac*H_ac + g_bc*H_bc\n",
    "U = expm(1j*np.array(H))\n",
    "\n",
    "inita = qutip.basis(2, 1)\n",
    "initb = qutip.basis(2, 0)\n",
    "initc = qutip.basis(2, 0)\n",
    "init = qutip.tensor(inita, initb, initc)\n",
    "\n",
    "new_state = U*init\n",
    "\n",
    "pprint(init)\n",
    "pprint(new_state)\n"
   ]
  },
  {
   "cell_type": "code",
   "execution_count": null,
   "metadata": {},
   "outputs": [],
   "source": []
  }
 ],
 "metadata": {
  "interpreter": {
   "hash": "3c923d04e9af837f8cfab086aad703afe35b7499ff33e9e2bcba0d425db844a6"
  },
  "kernelspec": {
   "display_name": "Python 3.8.10 ('venv': venv)",
   "language": "python",
   "name": "python3"
  },
  "language_info": {
   "codemirror_mode": {
    "name": "ipython",
    "version": 3
   },
   "file_extension": ".py",
   "mimetype": "text/x-python",
   "name": "python",
   "nbconvert_exporter": "python",
   "pygments_lexer": "ipython3",
   "version": "3.8.10"
  },
  "orig_nbformat": 4
 },
 "nbformat": 4,
 "nbformat_minor": 2
}
