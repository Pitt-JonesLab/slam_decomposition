{
    "cells": [
        {
            "cell_type": "code",
            "execution_count": 39,
            "metadata": {},
            "outputs": [],
            "source": [
                "import logging\n",
                "logger = logging.getLogger()\n",
                "logger.setLevel(logging.INFO)\n",
                "\n",
                "import numpy as np\n",
                "\n",
                "# %matplotlib widget"
            ]
        },
        {
            "cell_type": "code",
            "execution_count": 40,
            "metadata": {},
            "outputs": [],
            "source": [
                "from qiskit import transpile\n",
                "from qiskit import QuantumCircuit\n",
                "from qiskit.circuit.random import random_circuit\n",
                "from slam.utils.transpiler_pass.weyl_decompose import RootiSwapWeylDecomposition as decomposer\n",
                "from qiskit.transpiler.passes import Collect2qBlocks, ConsolidateBlocks, Unroll3qOrMore, Optimize1qGates\n",
                "from slam.utils.gates.custom_gates import RiSwapGate\n",
                "from qiskit.circuit.library import CXGate\n",
                "from qiskit.converters import circuit_to_dag\n",
                "from qiskit.transpiler.basepasses import TransformationPass\n",
                "from qiskit.quantum_info import Operator\n",
                "from slam.basis import MixedOrderBasisCircuitTemplate\n",
                "from slam.utils.monodromy.polytope_wrap import monodromy_range_from_target\n",
                "from slam.utils.gates.family_extend import recursive_sibling_check\n",
                "from slam.utils.gates.bare_candidates import get_group_name\n",
                "from slam.utils.gates.duraton_scaling import cost_scaling, atomic_cost_scaling\n",
                "from slam.utils.gates.winner_selection import pick_winner\n",
                "from qiskit.transpiler.basepasses import AnalysisPass\n",
                "from qiskit.transpiler.passes import CountOps\n",
                "from qiskit.dagcircuit import DAGOpNode, DAGCircuit\n",
                "from qiskit.transpiler import PassManager\n",
                "from itertools import product"
            ]
        },
        {
            "cell_type": "code",
            "execution_count": 41,
            "metadata": {},
            "outputs": [],
            "source": [
                "from slam.utils.circuit_suite import benchmark_lambdas"
            ]
        },
        {
            "cell_type": "code",
            "execution_count": 42,
            "metadata": {},
            "outputs": [],
            "source": [
                "# load square-lattice coupling map or all-to-all\n",
                "from qiskit.transpiler import CouplingMap\n",
                "coupling_map = CouplingMap.from_grid(8,8)\n",
                "# coupling_map = CouplingMap.from_full(16)\n",
                "\n",
                "# load qiskit transpiler with pass for coupling map\n",
                "induce_swaps = lambda qc: transpile(qc, coupling_map=CouplingMap.from_grid(8,8), optimization_level=3)\n",
                "\n",
                "qc = benchmark_lambdas[0](16)\n",
                "# turn off logging\n",
                "logger.setLevel(logging.ERROR)\n",
                "qc = induce_swaps(qc)\n",
                "# turn back on logging\n",
                "logger.setLevel(logging.INFO)\n",
                "\n",
                "duration_1q = 0.1"
            ]
        },
        {
            "cell_type": "code",
            "execution_count": 43,
            "metadata": {},
            "outputs": [],
            "source": [
                "from slam.utils.transpiler_pass.speed_limit_pass import pass_manager_basic, pass_manager_slam, pass_manager_optimized_sqiswap"
            ]
        },
        {
            "cell_type": "code",
            "execution_count": 44,
            "metadata": {},
            "outputs": [],
            "source": [
                "# qc = QuantumCircuit(2)\n",
                "# # qc.cx(0,1)\n",
                "# # qc.crz(np.pi/4, 0,1)\n",
                "# qc.swap(0,1)"
            ]
        },
        {
            "cell_type": "code",
            "execution_count": 58,
            "metadata": {},
            "outputs": [
                {
                    "name": "stderr",
                    "output_type": "stream",
                    "text": [
                        "INFO:qiskit.transpiler.runningpassmanager:Pass: CountOps - 0.01597 (ms)\n",
                        "INFO:root:\n",
                        "Transpilation Results:\n",
                        "INFO:root:Gate Counts: {'h': 16, 'cp': 120, 'swap': 72}\n",
                        "INFO:root:Longest Path Gate Counts: {'h': 4, 'cp': 56, 'swap': 36}\n",
                        "INFO:root:Duration: 0\n",
                        "INFO:qiskit.transpiler.runningpassmanager:Pass: fooAnalysis - 4.10533 (ms)\n",
                        "INFO:qiskit.transpiler.runningpassmanager:Pass: Unroll3qOrMore - 0.22149 (ms)\n",
                        "INFO:qiskit.transpiler.runningpassmanager:Pass: Collect2qBlocks - 4.21381 (ms)\n",
                        "INFO:qiskit.transpiler.runningpassmanager:Pass: ConsolidateBlocks - 260.62822 (ms)\n",
                        "INFO:qiskit.transpiler.runningpassmanager:Pass: RootiSwapWeylDecomposition - 1752.29454 (ms)\n",
                        "INFO:qiskit.transpiler.runningpassmanager:Pass: Optimize1qGates - 645.76268 (ms)\n",
                        "INFO:qiskit.transpiler.runningpassmanager:Pass: CountOps - 0.04172 (ms)\n",
                        "INFO:root:\n",
                        "Transpilation Results:\n",
                        "INFO:root:Gate Counts: {'u3': 747, 'riswap': 422, 'u1': 104, 'u2': 9}\n",
                        "INFO:root:Longest Path Gate Counts: {'u3': 211, 'riswap': 211, 'u2': 1}\n",
                        "INFO:root:Duration: 126.6999999999995\n",
                        "INFO:qiskit.transpiler.runningpassmanager:Pass: fooAnalysis - 8.52346 (ms)\n"
                    ]
                }
            ],
            "source": [
                "pm = pass_manager_basic(gate='sqiswap', duration_1q=duration_1q)\n",
                "transp1 = pm.run(qc)\n",
                "# transp1.draw(output='mpl')"
            ]
        },
        {
            "cell_type": "code",
            "execution_count": 57,
            "metadata": {},
            "outputs": [
                {
                    "name": "stderr",
                    "output_type": "stream",
                    "text": [
                        "WARNING:root:1Q gates are not being set to accurate values, just placeholders for fast counting\n",
                        "INFO:qiskit.transpiler.runningpassmanager:Pass: CountOps - 0.02027 (ms)\n",
                        "INFO:root:\n",
                        "Transpilation Results:\n",
                        "INFO:root:Gate Counts: {'h': 16, 'cp': 120, 'swap': 72}\n",
                        "INFO:root:Longest Path Gate Counts: {'h': 4, 'cp': 56, 'swap': 36}\n",
                        "INFO:root:Duration: 0\n",
                        "INFO:qiskit.transpiler.runningpassmanager:Pass: fooAnalysis - 7.04145 (ms)\n",
                        "INFO:qiskit.transpiler.runningpassmanager:Pass: Unroll3qOrMore - 0.51284 (ms)\n",
                        "INFO:qiskit.transpiler.runningpassmanager:Pass: Collect2qBlocks - 9.81021 (ms)\n",
                        "INFO:qiskit.transpiler.runningpassmanager:Pass: ConsolidateBlocks - 253.93319 (ms)\n",
                        "INFO:qiskit.transpiler.runningpassmanager:Pass: OptimizedSqiswapSub - 941.84685 (ms)\n",
                        "INFO:qiskit.transpiler.runningpassmanager:Pass: Optimize1qGates - 275.42758 (ms)\n",
                        "INFO:qiskit.transpiler.runningpassmanager:Pass: CountOps - 0.02789 (ms)\n",
                        "INFO:root:\n",
                        "Transpilation Results:\n",
                        "INFO:root:Gate Counts: {'unitary': 17, '2QGate(1.57079633, 0.00000000, 0.12500000)': 8, '2QGate(1.57079633, 0.00000000, 0.06250000)': 7, '2QGate(1.57079633, 0.00000000, 1.00000000)': 55, '2QGate(1.57079633, 0.00000000, 0.50000000)': 56, '2QGate(1.57079633, 0.00000000, 1.75000000)': 13, '2QGate(1.57079633, 0.00000000, 1.50000000)': 13, '2QGate(1.57079633, 0.00000000, 0.03125000)': 11, '2QGate(1.57079633, 0.00000000, 1.99218750)': 8, '2QGate(1.57079633, 0.00000000, 0.01562500)': 10, '2QGate(1.57079633, 0.00000000, 1.99609376)': 8, '2QGate(1.57079633, 0.00000000, 1.99804688)': 6, '2QGate(1.57079633, 0.00000000, 1.99951172)': 4, '2QGate(1.57079633, 0.00000000, 0.00024414)': 4, '2QGate(1.57079633, 0.00000000, 0.00097656)': 6, '2QGate(1.57079633, 0.00000000, 0.00006104)': 2, '2QGate(1.57079633, 0.00000000, 1.99987792)': 2, 'u3': 468}\n",
                        "INFO:root:Longest Path Gate Counts: {'u3': 120, '2QGate(1.57079633, 0.00000000, 0.50000000)': 34, '2QGate(1.57079633, 0.00000000, 1.75000000)': 9, '2QGate(1.57079633, 0.00000000, 0.12500000)': 7, '2QGate(1.57079633, 0.00000000, 0.06250000)': 3, '2QGate(1.57079633, 0.00000000, 1.00000000)': 33, 'unitary': 6, '2QGate(1.57079633, 0.00000000, 1.50000000)': 3, '2QGate(1.57079633, 0.00000000, 1.99218750)': 5, '2QGate(1.57079633, 0.00000000, 0.03125000)': 4, '2QGate(1.57079633, 0.00000000, 1.99609376)': 4, '2QGate(1.57079633, 0.00000000, 1.99804688)': 4, '2QGate(1.57079633, 0.00000000, 0.00097656)': 2, '2QGate(1.57079633, 0.00000000, 1.99951172)': 1, '2QGate(1.57079633, 0.00000000, 0.00024414)': 1, '2QGate(1.57079633, 0.00000000, 0.01562500)': 3}\n",
                        "INFO:root:Duration: 111.54817499744337\n",
                        "INFO:qiskit.transpiler.runningpassmanager:Pass: fooAnalysis - 6.23369 (ms)\n"
                    ]
                }
            ],
            "source": [
                "pm = pass_manager_optimized_sqiswap(duration_1q=duration_1q, speed_method='hardware')\n",
                "transp1 = pm.run(qc)\n",
                "# transp1.draw(output='mpl')"
            ]
        },
        {
            "cell_type": "code",
            "execution_count": 8,
            "metadata": {},
            "outputs": [
                {
                    "name": "stderr",
                    "output_type": "stream",
                    "text": [
                        "INFO:qiskit.transpiler.runningpassmanager:Pass: CountOps - 0.01097 (ms)\n",
                        "INFO:root:\n",
                        "Transpilation Results:\n",
                        "INFO:root:Gate Counts: {'cx': 1}\n",
                        "INFO:root:Longest Path Gate Counts: {'cx': 1}\n",
                        "INFO:root:Duration: 1\n",
                        "INFO:qiskit.transpiler.runningpassmanager:Pass: fooAnalysis - 4.13680 (ms)\n",
                        "INFO:qiskit.transpiler.runningpassmanager:Pass: Unroll3qOrMore - 0.01264 (ms)\n",
                        "INFO:qiskit.transpiler.runningpassmanager:Pass: Collect2qBlocks - 0.04101 (ms)\n",
                        "INFO:qiskit.transpiler.runningpassmanager:Pass: ConsolidateBlocks - 1.11985 (ms)\n"
                    ]
                },
                {
                    "ename": "FileNotFoundError",
                    "evalue": "[Errno 2] Unable to open file (unable to open file: name = '/home/evm9/decomposition_EM/data/cg_gates.h5', errno = 2, error message = 'No such file or directory', flags = 0, o_flags = 0)",
                    "output_type": "error",
                    "traceback": [
                        "\u001b[0;31m---------------------------------------------------------------------------\u001b[0m",
                        "\u001b[0;31mFileNotFoundError\u001b[0m                         Traceback (most recent call last)",
                        "\u001b[1;32m/home/evm9/slam_decomposition/slam/scripts/pm_test.ipynb Cell 8\u001b[0m in \u001b[0;36m<cell line: 5>\u001b[0;34m()\u001b[0m\n\u001b[1;32m      <a href='vscode-notebook-cell://ssh-remote%2B7b22686f73744e616d65223a224f707469706c6578227d/home/evm9/slam_decomposition/slam/scripts/pm_test.ipynb#X10sdnNjb2RlLXJlbW90ZQ%3D%3D?line=2'>3</a>\u001b[0m use_fam \u001b[39m=\u001b[39m \u001b[39m0\u001b[39m\n\u001b[1;32m      <a href='vscode-notebook-cell://ssh-remote%2B7b22686f73744e616d65223a224f707469706c6578227d/home/evm9/slam_decomposition/slam/scripts/pm_test.ipynb#X10sdnNjb2RlLXJlbW90ZQ%3D%3D?line=3'>4</a>\u001b[0m pm \u001b[39m=\u001b[39m pass_manager_slam(strategy\u001b[39m=\u001b[39mstrategy, family_extension\u001b[39m=\u001b[39muse_fam, speed_method\u001b[39m=\u001b[39mmethod, duration_1q\u001b[39m=\u001b[39mduration_1q, coupling_map\u001b[39m=\u001b[39mcoupling_map)\n\u001b[0;32m----> <a href='vscode-notebook-cell://ssh-remote%2B7b22686f73744e616d65223a224f707469706c6578227d/home/evm9/slam_decomposition/slam/scripts/pm_test.ipynb#X10sdnNjb2RlLXJlbW90ZQ%3D%3D?line=4'>5</a>\u001b[0m transp0 \u001b[39m=\u001b[39m pm\u001b[39m.\u001b[39;49mrun(qc)\n\u001b[1;32m      <a href='vscode-notebook-cell://ssh-remote%2B7b22686f73744e616d65223a224f707469706c6578227d/home/evm9/slam_decomposition/slam/scripts/pm_test.ipynb#X10sdnNjb2RlLXJlbW90ZQ%3D%3D?line=5'>6</a>\u001b[0m transp0\u001b[39m.\u001b[39mdraw(output\u001b[39m=\u001b[39m\u001b[39m'\u001b[39m\u001b[39mmpl\u001b[39m\u001b[39m'\u001b[39m)\n",
                        "File \u001b[0;32m~/slam_decomposition/slam_venv/lib/python3.8/site-packages/qiskit/transpiler/passmanager.py:222\u001b[0m, in \u001b[0;36mPassManager.run\u001b[0;34m(self, circuits, output_name, callback)\u001b[0m\n\u001b[1;32m    220\u001b[0m     \u001b[39mreturn\u001b[39;00m circuits\n\u001b[1;32m    221\u001b[0m \u001b[39mif\u001b[39;00m \u001b[39misinstance\u001b[39m(circuits, QuantumCircuit):\n\u001b[0;32m--> 222\u001b[0m     \u001b[39mreturn\u001b[39;00m \u001b[39mself\u001b[39;49m\u001b[39m.\u001b[39;49m_run_single_circuit(circuits, output_name, callback)\n\u001b[1;32m    223\u001b[0m \u001b[39mif\u001b[39;00m \u001b[39mlen\u001b[39m(circuits) \u001b[39m==\u001b[39m \u001b[39m1\u001b[39m:\n\u001b[1;32m    224\u001b[0m     \u001b[39mreturn\u001b[39;00m \u001b[39mself\u001b[39m\u001b[39m.\u001b[39m_run_single_circuit(circuits[\u001b[39m0\u001b[39m], output_name, callback)\n",
                        "File \u001b[0;32m~/slam_decomposition/slam_venv/lib/python3.8/site-packages/qiskit/transpiler/passmanager.py:277\u001b[0m, in \u001b[0;36mPassManager._run_single_circuit\u001b[0;34m(self, circuit, output_name, callback)\u001b[0m\n\u001b[1;32m    265\u001b[0m \u001b[39m\"\"\"Run all the passes on a ``circuit``.\u001b[39;00m\n\u001b[1;32m    266\u001b[0m \n\u001b[1;32m    267\u001b[0m \u001b[39mArgs:\u001b[39;00m\n\u001b[0;32m   (...)\u001b[0m\n\u001b[1;32m    274\u001b[0m \u001b[39m    The transformed circuit.\u001b[39;00m\n\u001b[1;32m    275\u001b[0m \u001b[39m\"\"\"\u001b[39;00m\n\u001b[1;32m    276\u001b[0m running_passmanager \u001b[39m=\u001b[39m \u001b[39mself\u001b[39m\u001b[39m.\u001b[39m_create_running_passmanager()\n\u001b[0;32m--> 277\u001b[0m result \u001b[39m=\u001b[39m running_passmanager\u001b[39m.\u001b[39;49mrun(circuit, output_name\u001b[39m=\u001b[39;49moutput_name, callback\u001b[39m=\u001b[39;49mcallback)\n\u001b[1;32m    278\u001b[0m \u001b[39mself\u001b[39m\u001b[39m.\u001b[39mproperty_set \u001b[39m=\u001b[39m running_passmanager\u001b[39m.\u001b[39mproperty_set\n\u001b[1;32m    279\u001b[0m \u001b[39mreturn\u001b[39;00m result\n",
                        "File \u001b[0;32m~/slam_decomposition/slam_venv/lib/python3.8/site-packages/qiskit/transpiler/runningpassmanager.py:124\u001b[0m, in \u001b[0;36mRunningPassManager.run\u001b[0;34m(***failed resolving arguments***)\u001b[0m\n\u001b[1;32m    122\u001b[0m \u001b[39mfor\u001b[39;00m passset \u001b[39min\u001b[39;00m \u001b[39mself\u001b[39m\u001b[39m.\u001b[39mworking_list:\n\u001b[1;32m    123\u001b[0m     \u001b[39mfor\u001b[39;00m pass_ \u001b[39min\u001b[39;00m passset:\n\u001b[0;32m--> 124\u001b[0m         dag \u001b[39m=\u001b[39m \u001b[39mself\u001b[39;49m\u001b[39m.\u001b[39;49m_do_pass(pass_, dag, passset\u001b[39m.\u001b[39;49moptions)\n\u001b[1;32m    126\u001b[0m circuit \u001b[39m=\u001b[39m dag_to_circuit(dag)\n\u001b[1;32m    127\u001b[0m \u001b[39mif\u001b[39;00m output_name:\n",
                        "File \u001b[0;32m~/slam_decomposition/slam_venv/lib/python3.8/site-packages/qiskit/transpiler/runningpassmanager.py:157\u001b[0m, in \u001b[0;36mRunningPassManager._do_pass\u001b[0;34m(self, pass_, dag, options)\u001b[0m\n\u001b[1;32m    155\u001b[0m \u001b[39m# Run the pass itself, if not already run\u001b[39;00m\n\u001b[1;32m    156\u001b[0m \u001b[39mif\u001b[39;00m pass_ \u001b[39mnot\u001b[39;00m \u001b[39min\u001b[39;00m \u001b[39mself\u001b[39m\u001b[39m.\u001b[39mvalid_passes:\n\u001b[0;32m--> 157\u001b[0m     dag \u001b[39m=\u001b[39m \u001b[39mself\u001b[39;49m\u001b[39m.\u001b[39;49m_run_this_pass(pass_, dag)\n\u001b[1;32m    159\u001b[0m     \u001b[39m# update the valid_passes property\u001b[39;00m\n\u001b[1;32m    160\u001b[0m     \u001b[39mself\u001b[39m\u001b[39m.\u001b[39m_update_valid_passes(pass_)\n",
                        "File \u001b[0;32m~/slam_decomposition/slam_venv/lib/python3.8/site-packages/qiskit/transpiler/runningpassmanager.py:186\u001b[0m, in \u001b[0;36mRunningPassManager._run_this_pass\u001b[0;34m(self, pass_, dag)\u001b[0m\n\u001b[1;32m    183\u001b[0m \u001b[39mif\u001b[39;00m pass_\u001b[39m.\u001b[39mis_transformation_pass:\n\u001b[1;32m    184\u001b[0m     \u001b[39m# Measure time if we have a callback or logging set\u001b[39;00m\n\u001b[1;32m    185\u001b[0m     start_time \u001b[39m=\u001b[39m time()\n\u001b[0;32m--> 186\u001b[0m     new_dag \u001b[39m=\u001b[39m pass_\u001b[39m.\u001b[39;49mrun(dag)\n\u001b[1;32m    187\u001b[0m     end_time \u001b[39m=\u001b[39m time()\n\u001b[1;32m    188\u001b[0m     run_time \u001b[39m=\u001b[39m end_time \u001b[39m-\u001b[39m start_time\n",
                        "File \u001b[0;32m~/slam_decomposition/slam/utils/transpiler_pass/speed_limit_pass.py:83\u001b[0m, in \u001b[0;36mSpeedGateSubstitute.run\u001b[0;34m(self, dag)\u001b[0m\n\u001b[1;32m     81\u001b[0m metric \u001b[39m=\u001b[39m \u001b[39mself\u001b[39m\u001b[39m.\u001b[39mbasic_metric \u001b[39mif\u001b[39;00m (\u001b[39m\"\u001b[39m\u001b[39mbasic\u001b[39m\u001b[39m\"\u001b[39m \u001b[39min\u001b[39;00m \u001b[39mself\u001b[39m\u001b[39m.\u001b[39mstrategy) \u001b[39melse\u001b[39;00m (\u001b[39m-\u001b[39m\u001b[39m1\u001b[39m, \u001b[39mself\u001b[39m\u001b[39m.\u001b[39mlambda_weight)\n\u001b[1;32m     82\u001b[0m smush_bool \u001b[39m=\u001b[39m \u001b[39mTrue\u001b[39;00m \u001b[39mif\u001b[39;00m (\u001b[39m\"\u001b[39m\u001b[39msmush\u001b[39m\u001b[39m\"\u001b[39m \u001b[39min\u001b[39;00m \u001b[39mself\u001b[39m\u001b[39m.\u001b[39mstrategy) \u001b[39melse\u001b[39;00m \u001b[39mFalse\u001b[39;00m\n\u001b[0;32m---> 83\u001b[0m winner_gate, scaled_winner_gate \u001b[39m=\u001b[39m pick_winner(\u001b[39mself\u001b[39;49m\u001b[39m.\u001b[39;49mgroup_name, metric\u001b[39m=\u001b[39;49mmetric, plot\u001b[39m=\u001b[39;49m\u001b[39mFalse\u001b[39;49;00m, smush_bool\u001b[39m=\u001b[39;49msmush_bool, family_extension\u001b[39m=\u001b[39;49m\u001b[39mself\u001b[39;49m\u001b[39m.\u001b[39;49mfamily_extension)\n\u001b[1;32m     84\u001b[0m \u001b[39m#that way we only have to compute a single coverage set\u001b[39;00m\n\u001b[1;32m     85\u001b[0m \u001b[39m#NOTE winner_gate goes to constructor so hits the saved polytope coverage set\u001b[39;00m\n\u001b[1;32m     86\u001b[0m template \u001b[39m=\u001b[39m MixedOrderBasisCircuitTemplate(base_gates\u001b[39m=\u001b[39m[winner_gate], smush_bool\u001b[39m=\u001b[39msmush_bool)\n",
                        "File \u001b[0;32m~/slam_decomposition/slam/utils/gates/bgatev2script.py:381\u001b[0m, in \u001b[0;36mpick_winner\u001b[0;34m(group_name, metric, target_ops, tqdm_bool, plot, smush_bool, family_extension)\u001b[0m\n\u001b[1;32m    376\u001b[0m \u001b[39mdef\u001b[39;00m \u001b[39mpick_winner\u001b[39m(group_name, metric\u001b[39m=\u001b[39m\u001b[39m0\u001b[39m, target_ops\u001b[39m=\u001b[39m\u001b[39mNone\u001b[39;00m, tqdm_bool\u001b[39m=\u001b[39m\u001b[39mTrue\u001b[39;00m, plot\u001b[39m=\u001b[39m\u001b[39mTrue\u001b[39;00m, smush_bool\u001b[39m=\u001b[39m\u001b[39mFalse\u001b[39;00m, family_extension\u001b[39m=\u001b[39m\u001b[39mFalse\u001b[39;00m):\n\u001b[1;32m    377\u001b[0m     \u001b[39m# TODO add a tiebreaker between any ties\u001b[39;00m\n\u001b[1;32m    378\u001b[0m     \u001b[39m\"\"\"pick the gate with the lowest score for the given metric\u001b[39;00m\n\u001b[1;32m    379\u001b[0m \u001b[39m    params:\u001b[39;00m\n\u001b[1;32m    380\u001b[0m \u001b[39m        metric = 0 is haar, 1 is cnot, 2 is swap, (-1, lambda) if custom\"\"\"\u001b[39;00m\n\u001b[0;32m--> 381\u001b[0m     \u001b[39mwith\u001b[39;00m h5py\u001b[39m.\u001b[39;49mFile(filename, \u001b[39m\"\u001b[39;49m\u001b[39mr\u001b[39;49m\u001b[39m\"\u001b[39;49m) \u001b[39mas\u001b[39;00m hf:\n\u001b[1;32m    382\u001b[0m         \u001b[39m# FIXME deprecated use of presaved groups so all the scaling is done in the same place\u001b[39;00m\n\u001b[1;32m    383\u001b[0m         g \u001b[39m=\u001b[39m hf\u001b[39m.\u001b[39mrequire_group(\u001b[39m\"\u001b[39m\u001b[39mbare_cost\u001b[39m\u001b[39m\"\u001b[39m)  \u001b[39m# switching to use bare_cost\u001b[39;00m\n\u001b[1;32m    384\u001b[0m         speed_method, duration_1q \u001b[39m=\u001b[39m get_method_duration(\n\u001b[1;32m    385\u001b[0m             group_name\n\u001b[1;32m    386\u001b[0m         )  \u001b[39m# but still use the custom group name to pass these parameters\u001b[39;00m\n",
                        "File \u001b[0;32m~/slam_decomposition/slam_venv/lib/python3.8/site-packages/h5py/_hl/files.py:533\u001b[0m, in \u001b[0;36mFile.__init__\u001b[0;34m(self, name, mode, driver, libver, userblock_size, swmr, rdcc_nslots, rdcc_nbytes, rdcc_w0, track_order, fs_strategy, fs_persist, fs_threshold, fs_page_size, page_buf_size, min_meta_keep, min_raw_keep, locking, alignment_threshold, alignment_interval, **kwds)\u001b[0m\n\u001b[1;32m    525\u001b[0m     fapl \u001b[39m=\u001b[39m make_fapl(driver, libver, rdcc_nslots, rdcc_nbytes, rdcc_w0,\n\u001b[1;32m    526\u001b[0m                      locking, page_buf_size, min_meta_keep, min_raw_keep,\n\u001b[1;32m    527\u001b[0m                      alignment_threshold\u001b[39m=\u001b[39malignment_threshold,\n\u001b[1;32m    528\u001b[0m                      alignment_interval\u001b[39m=\u001b[39malignment_interval,\n\u001b[1;32m    529\u001b[0m                      \u001b[39m*\u001b[39m\u001b[39m*\u001b[39mkwds)\n\u001b[1;32m    530\u001b[0m     fcpl \u001b[39m=\u001b[39m make_fcpl(track_order\u001b[39m=\u001b[39mtrack_order, fs_strategy\u001b[39m=\u001b[39mfs_strategy,\n\u001b[1;32m    531\u001b[0m                      fs_persist\u001b[39m=\u001b[39mfs_persist, fs_threshold\u001b[39m=\u001b[39mfs_threshold,\n\u001b[1;32m    532\u001b[0m                      fs_page_size\u001b[39m=\u001b[39mfs_page_size)\n\u001b[0;32m--> 533\u001b[0m     fid \u001b[39m=\u001b[39m make_fid(name, mode, userblock_size, fapl, fcpl, swmr\u001b[39m=\u001b[39;49mswmr)\n\u001b[1;32m    535\u001b[0m \u001b[39mif\u001b[39;00m \u001b[39misinstance\u001b[39m(libver, \u001b[39mtuple\u001b[39m):\n\u001b[1;32m    536\u001b[0m     \u001b[39mself\u001b[39m\u001b[39m.\u001b[39m_libver \u001b[39m=\u001b[39m libver\n",
                        "File \u001b[0;32m~/slam_decomposition/slam_venv/lib/python3.8/site-packages/h5py/_hl/files.py:226\u001b[0m, in \u001b[0;36mmake_fid\u001b[0;34m(name, mode, userblock_size, fapl, fcpl, swmr)\u001b[0m\n\u001b[1;32m    224\u001b[0m     \u001b[39mif\u001b[39;00m swmr \u001b[39mand\u001b[39;00m swmr_support:\n\u001b[1;32m    225\u001b[0m         flags \u001b[39m|\u001b[39m\u001b[39m=\u001b[39m h5f\u001b[39m.\u001b[39mACC_SWMR_READ\n\u001b[0;32m--> 226\u001b[0m     fid \u001b[39m=\u001b[39m h5f\u001b[39m.\u001b[39;49mopen(name, flags, fapl\u001b[39m=\u001b[39;49mfapl)\n\u001b[1;32m    227\u001b[0m \u001b[39melif\u001b[39;00m mode \u001b[39m==\u001b[39m \u001b[39m'\u001b[39m\u001b[39mr+\u001b[39m\u001b[39m'\u001b[39m:\n\u001b[1;32m    228\u001b[0m     fid \u001b[39m=\u001b[39m h5f\u001b[39m.\u001b[39mopen(name, h5f\u001b[39m.\u001b[39mACC_RDWR, fapl\u001b[39m=\u001b[39mfapl)\n",
                        "File \u001b[0;32mh5py/_objects.pyx:54\u001b[0m, in \u001b[0;36mh5py._objects.with_phil.wrapper\u001b[0;34m()\u001b[0m\n",
                        "File \u001b[0;32mh5py/_objects.pyx:55\u001b[0m, in \u001b[0;36mh5py._objects.with_phil.wrapper\u001b[0;34m()\u001b[0m\n",
                        "File \u001b[0;32mh5py/h5f.pyx:106\u001b[0m, in \u001b[0;36mh5py.h5f.open\u001b[0;34m()\u001b[0m\n",
                        "\u001b[0;31mFileNotFoundError\u001b[0m: [Errno 2] Unable to open file (unable to open file: name = '/home/evm9/decomposition_EM/data/cg_gates.h5', errno = 2, error message = 'No such file or directory', flags = 0, o_flags = 0)"
                    ]
                }
            ],
            "source": [
                "method = ['linear', 'mid', 'squared', 'hardware'][0]\n",
                "strategy = ['basic_overall', 'lambda_weight', 'basic_smush', 'lambda_smush'][3]\n",
                "use_fam = 0\n",
                "pm = pass_manager_slam(strategy=strategy, family_extension=use_fam, speed_method=method, duration_1q=duration_1q, coupling_map=coupling_map)\n",
                "transp0 = pm.run(qc)\n",
                "transp0.draw(output='mpl')"
            ]
        }
    ],
    "metadata": {
        "kernelspec": {
            "display_name": "slam_venv",
            "language": "python",
            "name": "python3"
        },
        "language_info": {
            "codemirror_mode": {
                "name": "ipython",
                "version": 3
            },
            "file_extension": ".py",
            "mimetype": "text/x-python",
            "name": "python",
            "nbconvert_exporter": "python",
            "pygments_lexer": "ipython3",
            "version": "3.8.10"
        },
        "orig_nbformat": 4,
        "vscode": {
            "interpreter": {
                "hash": "0f9874ac19202b761670116a795595a05be93acda1108357dd2cad7aa80a21f9"
            }
        }
    },
    "nbformat": 4,
    "nbformat_minor": 2
}
