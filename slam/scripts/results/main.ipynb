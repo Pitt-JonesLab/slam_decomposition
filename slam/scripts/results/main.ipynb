{
 "cells": [
  {
   "cell_type": "code",
   "execution_count": 17,
   "metadata": {},
   "outputs": [],
   "source": [
    "# first, import the circuit benchmarks\n",
    "\n",
    "# second, run transpilation on benchmarks for many iterations and save results\n",
    "# want to show how much variance there is in the results\n",
    "# NOTE important, use the same placement and routing before passed to transpiler so has a fair comparison\n",
    "\n",
    "# third, use longest path to convert to fidelities\n",
    "# we want to calculate expected fidelity improvement factor\n",
    "# is fidelity improvement factor the same as the ratio between lengths (?)\n",
    "# "
   ]
  },
  {
   "cell_type": "code",
   "execution_count": 18,
   "metadata": {},
   "outputs": [],
   "source": [
    "import logging\n",
    "logger = logging.getLogger()\n",
    "logger.setLevel(logging.ERROR) # turn off for now\n",
    "\n",
    "#  CONSTANTS\n",
    "# repeat 10 times, only keep best\n",
    "data_repitition = range(1)\n",
    "\n",
    "# 1Q:2Q gate duraton ratio\n",
    "duration_1q =0.1"
   ]
  },
  {
   "cell_type": "code",
   "execution_count": 19,
   "metadata": {},
   "outputs": [],
   "source": [
    "from slam.utils.transpiler_pass.speed_limit_pass import \\\n",
    "    pass_manager_basic, \\\n",
    "    pass_manager_optimized_sqiswap\n",
    "    # pass_manager_slam\n",
    "\n",
    "\"\"\" \n",
    "Basic, uses alibaba rules\n",
    "Optimized, use parallel gate optimized CPhase-family and SWAP ruless\n",
    "\"\"\"\n",
    "speed_method = 'linear'\n",
    "pm_basic = pass_manager_basic(gate='sqiswap', duration_1q=duration_1q)\n",
    "pm_optimized = pass_manager_optimized_sqiswap(duration_1q=duration_1q, speed_method=speed_method)"
   ]
  },
  {
   "cell_type": "code",
   "execution_count": 20,
   "metadata": {},
   "outputs": [
    {
     "name": "stdout",
     "output_type": "stream",
     "text": [
      "basic 126.09999999999951\n",
      "optimized 104.19999999999978\n"
     ]
    }
   ],
   "source": [
    "# first, import the circuit benchmarks\n",
    "from slam.utils.circuit_suite import benchmark_lambdas\n",
    "\n",
    "# define the topology\n",
    "from qiskit import transpile\n",
    "from qiskit.transpiler import CouplingMap\n",
    "coupling_map = CouplingMap.from_grid(4,4)\n",
    "induce_swaps = lambda qc: transpile(qc, coupling_map=coupling_map, optimization_level=3)\n",
    "\n",
    "# repeat, only keep best\n",
    "for benchmark_circuit in benchmark_lambdas[0:1]:\n",
    "\n",
    "    # best, defined by shortest duration\n",
    "    basic_best = (None, None, None, None)\n",
    "    optimized_best = (None, None, None, None)\n",
    "\n",
    "    for _ in data_repitition:\n",
    "        qc = benchmark_circuit(16) # instantiate of size 16\n",
    "\n",
    "        # before inducing, turn off logging for readability\n",
    "        logger.setLevel(logging.ERROR)\n",
    "        qc = induce_swaps(qc) # transpile to induce swaps\n",
    "\n",
    "        # second, run the benchmark\n",
    "        qc_basic = pm_basic.run(qc)\n",
    "        duration = pm_basic.property_set['duration']\n",
    "        gate_counts = pm_basic.property_set['gate_counts']\n",
    "        crit_counts = pm_basic.property_set['longest_path_counts']\n",
    "\n",
    "        # check if best\n",
    "        if basic_best[0] is None or duration < basic_best[0]:\n",
    "            basic_best = (duration, gate_counts, crit_counts, qc_basic)\n",
    "        \n",
    "        # repeat on optimized\n",
    "        qc_optimized = pm_optimized.run(qc)\n",
    "        duration = pm_optimized.property_set['duration']\n",
    "        gate_counts = pm_optimized.property_set['gate_counts']\n",
    "        crit_counts = pm_optimized.property_set['longest_path_counts']\n",
    "\n",
    "        # check if best\n",
    "        if optimized_best[0] is None or duration < optimized_best[0]:\n",
    "            optimized_best = (duration, gate_counts, crit_counts, qc_optimized)\n",
    "            \n",
    "    # print results\n",
    "    print('basic', basic_best[0])\n",
    "    print('optimized', optimized_best[0])\n",
    "    assert basic_best[0] >= optimized_best[0]"
   ]
  },
  {
   "cell_type": "code",
   "execution_count": null,
   "metadata": {},
   "outputs": [],
   "source": []
  },
  {
   "cell_type": "code",
   "execution_count": 21,
   "metadata": {},
   "outputs": [],
   "source": [
    "# qc.draw(output='mpl')"
   ]
  },
  {
   "cell_type": "code",
   "execution_count": 22,
   "metadata": {},
   "outputs": [],
   "source": [
    "# basic_best[3].draw(output='mpl')"
   ]
  },
  {
   "cell_type": "code",
   "execution_count": 23,
   "metadata": {},
   "outputs": [],
   "source": [
    "# optimized_best[3].draw(output='mpl')"
   ]
  },
  {
   "cell_type": "code",
   "execution_count": 24,
   "metadata": {},
   "outputs": [],
   "source": [
    "# third, use ret longest path data to convert to fidelity ratios\n",
    "# TODO"
   ]
  }
 ],
 "metadata": {
  "kernelspec": {
   "display_name": "slam_venv",
   "language": "python",
   "name": "python3"
  },
  "language_info": {
   "codemirror_mode": {
    "name": "ipython",
    "version": 3
   },
   "file_extension": ".py",
   "mimetype": "text/x-python",
   "name": "python",
   "nbconvert_exporter": "python",
   "pygments_lexer": "ipython3",
   "version": "3.8.10"
  },
  "orig_nbformat": 4,
  "vscode": {
   "interpreter": {
    "hash": "0f9874ac19202b761670116a795595a05be93acda1108357dd2cad7aa80a21f9"
   }
  }
 },
 "nbformat": 4,
 "nbformat_minor": 2
}
