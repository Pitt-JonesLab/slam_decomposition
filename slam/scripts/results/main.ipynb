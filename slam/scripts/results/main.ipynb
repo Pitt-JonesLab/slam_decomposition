{
 "cells": [
  {
   "cell_type": "code",
   "execution_count": 1,
   "metadata": {},
   "outputs": [],
   "source": [
    "# first, import the circuit benchmarks\n",
    "\n",
    "# second, run transpilation on benchmarks for many iterations and save results\n",
    "# want to show how much variance there is in the results\n",
    "# NOTE important, use the same placement and routing before passed to transpiler so has a fair comparison\n",
    "\n",
    "# third, use longest path to convert to fidelities\n",
    "# we want to calculate expected fidelity improvement factor\n",
    "# is fidelity improvement factor the same as the ratio between lengths (?)\n",
    "# "
   ]
  },
  {
   "cell_type": "code",
   "execution_count": 2,
   "metadata": {},
   "outputs": [],
   "source": [
    "import logging\n",
    "logger = logging.getLogger()\n",
    "logger.setLevel(logging.ERROR) # turn off for now\n",
    "\n",
    "#  CONSTANTS\n",
    "# repeat 10 times, only keep best\n",
    "data_repitition = range(10)\n",
    "average_repitition = range(3)\n",
    "\n",
    "# 1Q:2Q gate duraton ratio\n",
    "duration_1q = .25\n",
    "\n",
    "# number of qubits\n",
    "n_qubits = 16"
   ]
  },
  {
   "cell_type": "code",
   "execution_count": 3,
   "metadata": {},
   "outputs": [],
   "source": [
    "from slam.utils.transpiler_pass.speed_limit_pass import \\\n",
    "    pass_manager_basic, \\\n",
    "    pass_manager_optimized_sqiswap\n",
    "    # pass_manager_slam\n",
    "\n",
    "\"\"\" \n",
    "Basic, uses alibaba rules\n",
    "Optimized, use parallel gate optimized CPhase-family and SWAP ruless\n",
    "\"\"\"\n",
    "speed_method = 'linear' # just using iswap-family gates the SLF makes no difference for now because they all scale linearly to each other\n",
    "pm_basic = pass_manager_basic(gate='sqiswap', duration_1q=duration_1q)\n",
    "pm_optimized = pass_manager_optimized_sqiswap(duration_1q=duration_1q, speed_method=speed_method)"
   ]
  },
  {
   "cell_type": "code",
   "execution_count": 4,
   "metadata": {},
   "outputs": [],
   "source": [
    "import numpy as np\n",
    "def fidelity(qc_duration, n_qubits=1.0):\n",
    "    \"\"\"simple model for fidelity on a single msmt outcome\"\"\"\n",
    "    # iswap:=1 in previous units\n",
    "    # iswap time is 100 ns\n",
    "    iswap_time = 1e-7\n",
    "    # coherence time is 100 us\n",
    "    t1 = 1e-4\n",
    "    return (np.exp(-qc_duration*iswap_time/t1))**n_qubits\n",
    "\n",
    "def infidelity_factor(qc_time1, qc_time2, n_qubits=1):\n",
    "    \"\"\"Note, for these chosen values, given a fidelity threshold of 0.5 fidelity, duration <= 69.3\"\"\"\n",
    "    if1 = 1 - fidelity(qc_time1, n_qubits=n_qubits)\n",
    "    if2 = 1 - fidelity(qc_time2, n_qubits=n_qubits)\n",
    "    # percent change\n",
    "    return 100*(if1-if2)/if1\n",
    "\n",
    "def fidelity_factor(qc_time1, qc_time2, n_qubits=1):\n",
    "    \"\"\"Note, for these chosen values, given a fidelity threshold of 0.5 fidelity, duration <= 69.3\"\"\"\n",
    "    f1 = fidelity(qc_time1, n_qubits=n_qubits)\n",
    "    f2 = fidelity(qc_time2, n_qubits=n_qubits)\n",
    "    # percent change\n",
    "    return 100*(f2-f1)/f1"
   ]
  },
  {
   "cell_type": "code",
   "execution_count": 6,
   "metadata": {},
   "outputs": [
    {
     "name": "stdout",
     "output_type": "stream",
     "text": [
      "2.5\n",
      "0.005\n",
      "2.25\n",
      "0.0045\n",
      "9.98\n"
     ]
    }
   ],
   "source": [
    "from qiskit import QuantumCircuit\n",
    "qc = QuantumCircuit(2)\n",
    "qc.swap(0,1) # or qc.cx(0,1)\n",
    "\n",
    "output= pm_basic.run(qc)\n",
    "duration1 = pm_basic.property_set['duration']\n",
    "print(duration1)\n",
    "# print(output.draw())\n",
    "# print(1 - fidelity(duration1, n_qubits=2))\n",
    "# round to 4 sig figs\n",
    "print(round(1 - fidelity(duration1, n_qubits=2), 4))\n",
    "#\n",
    "output= pm_optimized.run(qc)\n",
    "duration2 = pm_optimized.property_set['duration']\n",
    "print(duration2)\n",
    "# print(output.draw())\n",
    "# print(1 - fidelity(duration2, n_qubits=2))\n",
    "# round to 4 sig figs\n",
    "print(round(1 - fidelity(duration2, n_qubits=2), 4))\n",
    "\n",
    "pimprov = infidelity_factor(duration1, duration2, n_qubits=2)\n",
    "# print(pimprov)\n",
    "print(round(pimprov, 2))\n"
   ]
  },
  {
   "cell_type": "code",
   "execution_count": 13,
   "metadata": {},
   "outputs": [
    {
     "data": {
      "text/plain": [
       "11.619366034265234"
      ]
     },
     "execution_count": 13,
     "metadata": {},
     "output_type": "execute_result"
    }
   ],
   "source": [
    "1- fidelity(2.1475, n_qubits=2)\n",
    "1- fidelity(1.8975, n_qubits=2)\n",
    "infidelity_factor(2.1475, 1.8975, n_qubits=2)"
   ]
  },
  {
   "cell_type": "code",
   "execution_count": 12,
   "metadata": {},
   "outputs": [
    {
     "data": {
      "text/plain": [
       "1.8835855646100117"
      ]
     },
     "execution_count": 12,
     "metadata": {},
     "output_type": "execute_result"
    }
   ],
   "source": [
    "# percent decrease between 2.1475 and 1.8975\n",
    "11.6414"
   ]
  },
  {
   "cell_type": "code",
   "execution_count": 13,
   "metadata": {},
   "outputs": [
    {
     "name": "stdout",
     "output_type": "stream",
     "text": [
      "1.9045\n",
      "0.0038\n",
      "1.36525\n",
      "0.0027\n",
      "28.275872503098906\n"
     ]
    }
   ],
   "source": [
    "# unit infidelities over haar\n",
    "from qiskit.quantum_info import random_unitary\n",
    "avg_dur1 = 0\n",
    "avg_dur2 = 0\n",
    "N=3000\n",
    "for i in range(N):\n",
    "    U = random_unitary(4)\n",
    "    qc = QuantumCircuit(2)\n",
    "    qc.unitary(U, [0,1])\n",
    "    output= pm_basic.run(qc)\n",
    "    duration1 = pm_basic.property_set['duration']\n",
    "    avg_dur1 += duration1\n",
    "    output= pm_optimized.run(qc)\n",
    "    duration2 = pm_optimized.property_set['duration']\n",
    "    avg_dur2 += duration2\n",
    "\n",
    "avg_dur1 /= N\n",
    "avg_dur2 /= N\n",
    "print(avg_dur1)\n",
    "print(round(1 - fidelity(avg_dur1, n_qubits=2), 4))\n",
    "print(avg_dur2)\n",
    "print(round(1 - fidelity(avg_dur2, n_qubits=2), 4))\n",
    "print(infidelity_factor(avg_dur1, avg_dur2, n_qubits=2))"
   ]
  },
  {
   "cell_type": "code",
   "execution_count": 21,
   "metadata": {},
   "outputs": [],
   "source": [
    "# first, import the circuit benchmarks\n",
    "from slam.utils.circuit_suite import benchmark_lambdas\n",
    "\n",
    "# define the topology\n",
    "from qiskit import transpile\n",
    "from qiskit.transpiler import CouplingMap\n",
    "coupling_map = CouplingMap.from_grid(4,4)\n",
    "induce_swaps = lambda qc: transpile(qc, coupling_map=coupling_map, optimization_level=3)\n",
    "\n",
    "# repeat, only keep best\n",
    "for benchmark_circuit in benchmark_lambdas:\n",
    "\n",
    "    basic_data = [] #duration\n",
    "    optimized_data = []\n",
    "\n",
    "    # averaging loop\n",
    "    # if benchmark_circuit.__name__ == \"QV\":\n",
    "    #     avg_rep = average_repitition\n",
    "    # else:\n",
    "    #     avg_rep = range(1)\n",
    "    # for _ in avg_rep:\n",
    "    for _ in average_repitition:\n",
    "\n",
    "        # best, defined by shortest duration\n",
    "        basic_best = (None, None, None, None)\n",
    "        optimized_best = (None, None, None, None)\n",
    "\n",
    "        for _ in data_repitition:\n",
    "            qc = benchmark_circuit(n_qubits) # instantiate of size 16\n",
    "\n",
    "            # before inducing, turn off logging for readability\n",
    "            logger.setLevel(logging.ERROR)\n",
    "            # NOTE non-determinsitc, hence the averaging\n",
    "            qc = induce_swaps(qc) # transpile to induce swaps\n",
    "\n",
    "            # second, run the benchmark\n",
    "            qc_basic = pm_basic.run(qc)\n",
    "            duration = pm_basic.property_set['duration']\n",
    "            gate_counts = pm_basic.property_set['gate_counts']\n",
    "            crit_counts = pm_basic.property_set['longest_path_counts']\n",
    "\n",
    "            # check if best\n",
    "            if basic_best[0] is None or duration < basic_best[0]:\n",
    "                basic_best = (duration, gate_counts, crit_counts, qc_basic)\n",
    "            \n",
    "            # repeat on optimized\n",
    "            qc_optimized = pm_optimized.run(qc)\n",
    "            duration = pm_optimized.property_set['duration']\n",
    "            gate_counts = pm_optimized.property_set['gate_counts']\n",
    "            crit_counts = pm_optimized.property_set['longest_path_counts']\n",
    "\n",
    "            # check if best\n",
    "            if optimized_best[0] is None or duration < optimized_best[0]:\n",
    "                optimized_best = (duration, gate_counts, crit_counts, qc_optimized)\n",
    "                \n",
    "        # save results to average\n",
    "        assert basic_best[0] >= optimized_best[0]\n",
    "        basic_data.append(basic_best[0])\n",
    "        optimized_data.append(optimized_best[0])\n",
    "\n",
    "    # compute averages with std dev\n",
    "    basic_average = np.mean(basic_data)\n",
    "    optimized_average = np.mean(optimized_data)\n",
    "    basic_err = np.std(basic_data)\n",
    "    optimized_err = np.std(optimized_data)\n",
    "\n",
    "    # print results\n",
    "    print(benchmark_circuit.__name__)\n",
    "    # print basic w/err and optimized w/err\n",
    "    print(\"basic duration\", basic_average, basic_err)\n",
    "    print(\"optimized duration\", optimized_average, optimized_err)\n",
    "    print('___')\n",
    "    print(\"duration % reduction\", 100*(basic_average - optimized_average)/basic_average)\n",
    "    print(\"wire fidelity -> optimized fidelity\", fidelity(basic_average), fidelity(optimized_average))\n",
    "    print(\"wire fidelity % improvement\", fidelity_factor(basic_average, optimized_average))\n",
    "    # print(\"wire infidelity % reduction\", infidelity_factor(basic_average, optimized_average))\n",
    "    print(\"total fidelity -> optimized fidelity\", fidelity(basic_average, n_qubits=n_qubits), fidelity(optimized_average, n_qubits=n_qubits))\n",
    "    # print(\"total infidelity % reduction\", infidelity_factor(basic_average, optimized_average, n_qubits=n_qubits))\n",
    "    print(\"total fidelity % improvement\", fidelity_factor(basic_average, optimized_average, n_qubits=n_qubits))\n",
    "    print(\"\\n\")"
   ]
  }
 ],
 "metadata": {
  "kernelspec": {
   "display_name": "slam_venv",
   "language": "python",
   "name": "python3"
  },
  "language_info": {
   "codemirror_mode": {
    "name": "ipython",
    "version": 3
   },
   "file_extension": ".py",
   "mimetype": "text/x-python",
   "name": "python",
   "nbconvert_exporter": "python",
   "pygments_lexer": "ipython3",
   "version": "3.10.6"
  },
  "orig_nbformat": 4,
  "vscode": {
   "interpreter": {
    "hash": "0f9874ac19202b761670116a795595a05be93acda1108357dd2cad7aa80a21f9"
   }
  }
 },
 "nbformat": 4,
 "nbformat_minor": 2
}
