{
 "cells": [
  {
   "cell_type": "code",
   "execution_count": 1,
   "metadata": {},
   "outputs": [],
   "source": [
    "# first, import the circuit benchmarks\n",
    "\n",
    "# second, run transpilation on benchmarks for many iterations and save results\n",
    "# want to show how much variance there is in the results\n",
    "# NOTE important, use the same placement and routing before passed to transpiler so has a fair comparison\n",
    "\n",
    "# third, use longest path to convert to fidelities\n",
    "# we want to calculate expected fidelity improvement factor\n",
    "# is fidelity improvement factor the same as the ratio between lengths (?)\n",
    "# "
   ]
  },
  {
   "cell_type": "code",
   "execution_count": 2,
   "metadata": {},
   "outputs": [],
   "source": [
    "import logging\n",
    "logger = logging.getLogger()\n",
    "logger.setLevel(logging.ERROR) # turn off for now\n",
    "\n",
    "#  CONSTANTS\n",
    "# repeat 10 times, only keep best\n",
    "data_repitition = range(10)\n",
    "\n",
    "# 1Q:2Q gate duraton ratio\n",
    "duration_1q =0.1"
   ]
  },
  {
   "cell_type": "code",
   "execution_count": 3,
   "metadata": {},
   "outputs": [],
   "source": [
    "from slam.utils.transpiler_pass.speed_limit_pass import \\\n",
    "    pass_manager_basic, \\\n",
    "    pass_manager_optimized_sqiswap\n",
    "    # pass_manager_slam\n",
    "\n",
    "\"\"\" \n",
    "Basic, uses alibaba rules\n",
    "Optimized, use parallel gate optimized CPhase-family and SWAP ruless\n",
    "\"\"\"\n",
    "speed_method = 'linear'\n",
    "pm_basic = pass_manager_basic(gate='sqiswap', duration_1q=duration_1q)\n",
    "pm_optimized = pass_manager_optimized_sqiswap(duration_1q=duration_1q, speed_method=speed_method)"
   ]
  },
  {
   "cell_type": "code",
   "execution_count": 4,
   "metadata": {},
   "outputs": [
    {
     "name": "stderr",
     "output_type": "stream",
     "text": [
      "INFO:qiskit.transpiler.runningpassmanager:Pass: CountOps - 0.15998 (ms)\n",
      "INFO:qiskit.transpiler.runningpassmanager:Pass: Unroll3qOrMore - 0.05817 (ms)\n",
      "INFO:qiskit.transpiler.runningpassmanager:Pass: Collect2qBlocks - 0.45514 (ms)\n",
      "INFO:qiskit.transpiler.runningpassmanager:Pass: ConsolidateBlocks - 33.95081 (ms)\n",
      "INFO:qiskit.transpiler.runningpassmanager:Pass: RootiSwapWeylDecomposition - 224.43104 (ms)\n",
      "INFO:qiskit.transpiler.runningpassmanager:Pass: Optimize1qGates - 70.07670 (ms)\n",
      "INFO:qiskit.transpiler.runningpassmanager:Pass: CountOps - 0.02050 (ms)\n"
     ]
    },
    {
     "ename": "TypeError",
     "evalue": "argument 'node': 'DAGOpNode' object cannot be interpreted as an integer",
     "output_type": "error",
     "traceback": [
      "\u001b[0;31m---------------------------------------------------------------------------\u001b[0m",
      "\u001b[0;31mTypeError\u001b[0m                                 Traceback (most recent call last)",
      "\u001b[1;32m/home/evm9/slam_decomposition/slam/scripts/results/main.ipynb Cell 4\u001b[0m in \u001b[0;36m<cell line: 11>\u001b[0;34m()\u001b[0m\n\u001b[1;32m     <a href='vscode-notebook-cell://ssh-remote%2B7b22686f73744e616d65223a224f707469706c6578227d/home/evm9/slam_decomposition/slam/scripts/results/main.ipynb#W3sdnNjb2RlLXJlbW90ZQ%3D%3D?line=22'>23</a>\u001b[0m logger\u001b[39m.\u001b[39msetLevel(logging\u001b[39m.\u001b[39mINFO)\n\u001b[1;32m     <a href='vscode-notebook-cell://ssh-remote%2B7b22686f73744e616d65223a224f707469706c6578227d/home/evm9/slam_decomposition/slam/scripts/results/main.ipynb#W3sdnNjb2RlLXJlbW90ZQ%3D%3D?line=24'>25</a>\u001b[0m \u001b[39m# second, run the benchmark\u001b[39;00m\n\u001b[0;32m---> <a href='vscode-notebook-cell://ssh-remote%2B7b22686f73744e616d65223a224f707469706c6578227d/home/evm9/slam_decomposition/slam/scripts/results/main.ipynb#W3sdnNjb2RlLXJlbW90ZQ%3D%3D?line=25'>26</a>\u001b[0m pm_basic\u001b[39m.\u001b[39;49mrun(qc)\n\u001b[1;32m     <a href='vscode-notebook-cell://ssh-remote%2B7b22686f73744e616d65223a224f707469706c6578227d/home/evm9/slam_decomposition/slam/scripts/results/main.ipynb#W3sdnNjb2RlLXJlbW90ZQ%3D%3D?line=26'>27</a>\u001b[0m duration \u001b[39m=\u001b[39m pm_basic\u001b[39m.\u001b[39mproperty_set[\u001b[39m'\u001b[39m\u001b[39mduration\u001b[39m\u001b[39m'\u001b[39m]\n\u001b[1;32m     <a href='vscode-notebook-cell://ssh-remote%2B7b22686f73744e616d65223a224f707469706c6578227d/home/evm9/slam_decomposition/slam/scripts/results/main.ipynb#W3sdnNjb2RlLXJlbW90ZQ%3D%3D?line=27'>28</a>\u001b[0m gate_counts \u001b[39m=\u001b[39m pm_basic\u001b[39m.\u001b[39mproperty_set[\u001b[39m'\u001b[39m\u001b[39mgate_counts\u001b[39m\u001b[39m'\u001b[39m]\n",
      "File \u001b[0;32m~/slam_decomposition/slam_venv/lib/python3.8/site-packages/qiskit/transpiler/passmanager.py:222\u001b[0m, in \u001b[0;36mPassManager.run\u001b[0;34m(self, circuits, output_name, callback)\u001b[0m\n\u001b[1;32m    220\u001b[0m     \u001b[39mreturn\u001b[39;00m circuits\n\u001b[1;32m    221\u001b[0m \u001b[39mif\u001b[39;00m \u001b[39misinstance\u001b[39m(circuits, QuantumCircuit):\n\u001b[0;32m--> 222\u001b[0m     \u001b[39mreturn\u001b[39;00m \u001b[39mself\u001b[39;49m\u001b[39m.\u001b[39;49m_run_single_circuit(circuits, output_name, callback)\n\u001b[1;32m    223\u001b[0m \u001b[39mif\u001b[39;00m \u001b[39mlen\u001b[39m(circuits) \u001b[39m==\u001b[39m \u001b[39m1\u001b[39m:\n\u001b[1;32m    224\u001b[0m     \u001b[39mreturn\u001b[39;00m \u001b[39mself\u001b[39m\u001b[39m.\u001b[39m_run_single_circuit(circuits[\u001b[39m0\u001b[39m], output_name, callback)\n",
      "File \u001b[0;32m~/slam_decomposition/slam_venv/lib/python3.8/site-packages/qiskit/transpiler/passmanager.py:277\u001b[0m, in \u001b[0;36mPassManager._run_single_circuit\u001b[0;34m(self, circuit, output_name, callback)\u001b[0m\n\u001b[1;32m    265\u001b[0m \u001b[39m\"\"\"Run all the passes on a ``circuit``.\u001b[39;00m\n\u001b[1;32m    266\u001b[0m \n\u001b[1;32m    267\u001b[0m \u001b[39mArgs:\u001b[39;00m\n\u001b[0;32m   (...)\u001b[0m\n\u001b[1;32m    274\u001b[0m \u001b[39m    The transformed circuit.\u001b[39;00m\n\u001b[1;32m    275\u001b[0m \u001b[39m\"\"\"\u001b[39;00m\n\u001b[1;32m    276\u001b[0m running_passmanager \u001b[39m=\u001b[39m \u001b[39mself\u001b[39m\u001b[39m.\u001b[39m_create_running_passmanager()\n\u001b[0;32m--> 277\u001b[0m result \u001b[39m=\u001b[39m running_passmanager\u001b[39m.\u001b[39;49mrun(circuit, output_name\u001b[39m=\u001b[39;49moutput_name, callback\u001b[39m=\u001b[39;49mcallback)\n\u001b[1;32m    278\u001b[0m \u001b[39mself\u001b[39m\u001b[39m.\u001b[39mproperty_set \u001b[39m=\u001b[39m running_passmanager\u001b[39m.\u001b[39mproperty_set\n\u001b[1;32m    279\u001b[0m \u001b[39mreturn\u001b[39;00m result\n",
      "File \u001b[0;32m~/slam_decomposition/slam_venv/lib/python3.8/site-packages/qiskit/transpiler/runningpassmanager.py:124\u001b[0m, in \u001b[0;36mRunningPassManager.run\u001b[0;34m(***failed resolving arguments***)\u001b[0m\n\u001b[1;32m    122\u001b[0m \u001b[39mfor\u001b[39;00m passset \u001b[39min\u001b[39;00m \u001b[39mself\u001b[39m\u001b[39m.\u001b[39mworking_list:\n\u001b[1;32m    123\u001b[0m     \u001b[39mfor\u001b[39;00m pass_ \u001b[39min\u001b[39;00m passset:\n\u001b[0;32m--> 124\u001b[0m         dag \u001b[39m=\u001b[39m \u001b[39mself\u001b[39;49m\u001b[39m.\u001b[39;49m_do_pass(pass_, dag, passset\u001b[39m.\u001b[39;49moptions)\n\u001b[1;32m    126\u001b[0m circuit \u001b[39m=\u001b[39m dag_to_circuit(dag)\n\u001b[1;32m    127\u001b[0m \u001b[39mif\u001b[39;00m output_name:\n",
      "File \u001b[0;32m~/slam_decomposition/slam_venv/lib/python3.8/site-packages/qiskit/transpiler/runningpassmanager.py:157\u001b[0m, in \u001b[0;36mRunningPassManager._do_pass\u001b[0;34m(self, pass_, dag, options)\u001b[0m\n\u001b[1;32m    155\u001b[0m \u001b[39m# Run the pass itself, if not already run\u001b[39;00m\n\u001b[1;32m    156\u001b[0m \u001b[39mif\u001b[39;00m pass_ \u001b[39mnot\u001b[39;00m \u001b[39min\u001b[39;00m \u001b[39mself\u001b[39m\u001b[39m.\u001b[39mvalid_passes:\n\u001b[0;32m--> 157\u001b[0m     dag \u001b[39m=\u001b[39m \u001b[39mself\u001b[39;49m\u001b[39m.\u001b[39;49m_run_this_pass(pass_, dag)\n\u001b[1;32m    159\u001b[0m     \u001b[39m# update the valid_passes property\u001b[39;00m\n\u001b[1;32m    160\u001b[0m     \u001b[39mself\u001b[39m\u001b[39m.\u001b[39m_update_valid_passes(pass_)\n",
      "File \u001b[0;32m~/slam_decomposition/slam_venv/lib/python3.8/site-packages/qiskit/transpiler/runningpassmanager.py:211\u001b[0m, in \u001b[0;36mRunningPassManager._run_this_pass\u001b[0;34m(self, pass_, dag)\u001b[0m\n\u001b[1;32m    208\u001b[0m \u001b[39melif\u001b[39;00m pass_\u001b[39m.\u001b[39mis_analysis_pass:\n\u001b[1;32m    209\u001b[0m     \u001b[39m# Measure time if we have a callback or logging set\u001b[39;00m\n\u001b[1;32m    210\u001b[0m     start_time \u001b[39m=\u001b[39m time()\n\u001b[0;32m--> 211\u001b[0m     pass_\u001b[39m.\u001b[39;49mrun(FencedDAGCircuit(dag))\n\u001b[1;32m    212\u001b[0m     end_time \u001b[39m=\u001b[39m time()\n\u001b[1;32m    213\u001b[0m     run_time \u001b[39m=\u001b[39m end_time \u001b[39m-\u001b[39m start_time\n",
      "File \u001b[0;32m~/slam_decomposition/slam/utils/transpiler_pass/speed_limit_pass.py:71\u001b[0m, in \u001b[0;36mfooAnalysis.run\u001b[0;34m(self, dag)\u001b[0m\n\u001b[1;32m     69\u001b[0m d \u001b[39m=\u001b[39m \u001b[39m0\u001b[39m\n\u001b[1;32m     70\u001b[0m \u001b[39m# make a working copy of the dag\u001b[39;00m\n\u001b[0;32m---> 71\u001b[0m msmtdag \u001b[39m=\u001b[39m circuit_to_dag(tempc)\n\u001b[1;32m     72\u001b[0m node \u001b[39m=\u001b[39m msmtdag\u001b[39m.\u001b[39mnamed_nodes(\u001b[39m'\u001b[39m\u001b[39mmeasure\u001b[39m\u001b[39m'\u001b[39m)[i] \u001b[39m# have to remake such that the node is in the copy of the dag, bad code :(\u001b[39;00m\n\u001b[1;32m     73\u001b[0m msmtdag\u001b[39m.\u001b[39mremove_nonancestors_of(node)\n",
      "File \u001b[0;32m~/slam_decomposition/slam_venv/lib/python3.8/site-packages/qiskit/dagcircuit/dagcircuit.py:1507\u001b[0m, in \u001b[0;36mDAGCircuit.remove_nonancestors_of\u001b[0;34m(self, node)\u001b[0m\n\u001b[1;32m   1505\u001b[0m \u001b[39mdef\u001b[39;00m \u001b[39mremove_nonancestors_of\u001b[39m(\u001b[39mself\u001b[39m, node):\n\u001b[1;32m   1506\u001b[0m     \u001b[39m\"\"\"Remove all of the non-ancestors operation nodes of node.\"\"\"\u001b[39;00m\n\u001b[0;32m-> 1507\u001b[0m     anc \u001b[39m=\u001b[39m rx\u001b[39m.\u001b[39;49mancestors(\u001b[39mself\u001b[39;49m\u001b[39m.\u001b[39;49m_multi_graph, node)\n\u001b[1;32m   1508\u001b[0m     comp \u001b[39m=\u001b[39m \u001b[39mlist\u001b[39m(\u001b[39mset\u001b[39m(\u001b[39mself\u001b[39m\u001b[39m.\u001b[39m_multi_graph\u001b[39m.\u001b[39mnodes()) \u001b[39m-\u001b[39m \u001b[39mset\u001b[39m(anc))\n\u001b[1;32m   1509\u001b[0m     \u001b[39mfor\u001b[39;00m n \u001b[39min\u001b[39;00m comp:\n",
      "\u001b[0;31mTypeError\u001b[0m: argument 'node': 'DAGOpNode' object cannot be interpreted as an integer"
     ]
    }
   ],
   "source": [
    "# first, import the circuit benchmarks\n",
    "from slam.utils.circuit_suite import benchmark_lambdas\n",
    "\n",
    "# define the topology\n",
    "from qiskit import transpile\n",
    "from qiskit.transpiler import CouplingMap\n",
    "coupling_map = CouplingMap.from_grid(4,4)\n",
    "induce_swaps = lambda qc: transpile(qc, coupling_map=coupling_map, optimization_level=3)\n",
    "\n",
    "# repeat, only keep best\n",
    "for _ in data_repitition:\n",
    "\n",
    "    # best, defined by shortest duration\n",
    "    basic_best = (None, None, None)\n",
    "    optimized_best = (None, None, None)\n",
    "\n",
    "    for benchmark_circuit in benchmark_lambdas[-2:]:\n",
    "        qc = benchmark_circuit(16) # instantiate of size 16\n",
    "\n",
    "        # before inducing, turn off logging for readability\n",
    "        logger.setLevel(logging.ERROR)\n",
    "        qc = induce_swaps(qc) # transpile to induce swaps\n",
    "        logger.setLevel(logging.INFO)\n",
    "\n",
    "        # second, run the benchmark\n",
    "        pm_basic.run(qc)\n",
    "        duration = pm_basic.property_set['duration']\n",
    "        gate_counts = pm_basic.property_set['gate_counts']\n",
    "        dag_counts = pm_basic.property_set['dag_counts']\n",
    "\n",
    "        # check if best\n",
    "        if basic_best[0] is None or duration < basic_best[0]:\n",
    "            basic_best = (duration, gate_counts, dag_counts)\n",
    "        \n",
    "        # repeat on optimized\n",
    "        pm_optimized.run(qc)\n",
    "        duration = pm_optimized.property_set['duration']\n",
    "        gate_counts = pm_optimized.property_set['gate_counts']\n",
    "        dag_counts = pm_optimized.property_set['dag_counts']\n",
    "\n",
    "        # check if best\n",
    "        if optimized_best[0] is None or duration < optimized_best[0]:\n",
    "            optimized_best = (duration, gate_counts, dag_counts)\n",
    "        \n",
    "    # print results\n",
    "    print('basic', basic_best)\n",
    "    print('optimized', optimized_best)"
   ]
  },
  {
   "cell_type": "code",
   "execution_count": null,
   "metadata": {},
   "outputs": [],
   "source": [
    "# third, use ret longest path data to convert to fidelity ratios\n",
    "# TODO"
   ]
  }
 ],
 "metadata": {
  "kernelspec": {
   "display_name": "slam_venv",
   "language": "python",
   "name": "python3"
  },
  "language_info": {
   "codemirror_mode": {
    "name": "ipython",
    "version": 3
   },
   "file_extension": ".py",
   "mimetype": "text/x-python",
   "name": "python",
   "nbconvert_exporter": "python",
   "pygments_lexer": "ipython3",
   "version": "3.8.10"
  },
  "orig_nbformat": 4,
  "vscode": {
   "interpreter": {
    "hash": "0f9874ac19202b761670116a795595a05be93acda1108357dd2cad7aa80a21f9"
   }
  }
 },
 "nbformat": 4,
 "nbformat_minor": 2
}
