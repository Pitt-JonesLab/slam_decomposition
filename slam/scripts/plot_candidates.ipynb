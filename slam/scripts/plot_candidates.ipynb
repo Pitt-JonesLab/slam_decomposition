{
 "cells": [
  {
   "cell_type": "code",
   "execution_count": null,
   "metadata": {},
   "outputs": [],
   "source": [
    "# makes weyl plot of candidate gates with basic metrics\n",
    "from slam.scripts.gate_exploration.bgatev2script import build_gates\n",
    "from matplotlib import colors\n",
    "from slam.utils.visualize import coordinate_2dlist_weyl\n",
    "unitary_list, coordinate_list = build_gates()\n",
    "color_list = []\n",
    "speed_method = 'linear' \n",
    "for u in unitary_list[1:]:\n",
    "    h = cost_scaling(speed_method=speed_method, duration_1q=0, query_params=u.params)[1][0]\n",
    "    color_list.append(h)\n",
    "fig = coordinate_2dlist_weyl(np.array(coordinate_list[1:]).reshape(-1, 3), c=color_list, elev=90, azim=-90, cmap='viridis');\n",
    "# fig.tight_layout()\n",
    "#save matplotlib fig as pdf\n",
    "fig.savefig(f'/home/evm9/decomposition_EM/images/weyl_plot_{speed_method}_haar.pdf', format='pdf')"
   ]
  }
 ],
 "metadata": {
  "kernelspec": {
   "display_name": "slam_venv",
   "language": "python",
   "name": "python3"
  },
  "language_info": {
   "name": "python",
   "version": "3.8.10 (default, Nov 14 2022, 12:59:47) \n[GCC 9.4.0]"
  },
  "orig_nbformat": 4,
  "vscode": {
   "interpreter": {
    "hash": "0f9874ac19202b761670116a795595a05be93acda1108357dd2cad7aa80a21f9"
   }
  }
 },
 "nbformat": 4,
 "nbformat_minor": 2
}
