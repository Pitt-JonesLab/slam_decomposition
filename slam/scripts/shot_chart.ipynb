{
    "cells": [
        {
            "cell_type": "code",
            "execution_count": 1,
            "metadata": {},
            "outputs": [],
            "source": [
                "import weylchamber\n",
                "from qiskit.converters import circuit_to_dag\n",
                "from qiskit import transpile\n",
                "from qiskit.transpiler import PassManager\n",
                "from qiskit.transpiler.passes import ConsolidateBlocks, Collect2qBlocks\n",
                "from qiskit.quantum_info import Operator\n",
                "# append src head to sys.path\n",
                "from qiskit.circuit.library import SwapGate, CXGate\n",
                "\n",
                "from tqdm import tqdm"
            ]
        },
        {
            "cell_type": "code",
            "execution_count": 2,
            "metadata": {},
            "outputs": [],
            "source": [
                "from slam.utils.circuit_suite import benchmark_lambdas, benchmark_lambdas_no_qv\n",
                "# benchmark_lambdas[9](6).draw(output=\"mpl\")"
            ]
        },
        {
            "cell_type": "code",
            "execution_count": 3,
            "metadata": {},
            "outputs": [],
            "source": [
                "from qiskit.transpiler import CouplingMap\n",
                "map_option = [\"a2a\", \"lattice\"][1]\n",
                "if map_option == \"a2a\":\n",
                "    coupling_map = CouplingMap.from_full(16)\n",
                "elif map_option ==\"lattice\":\n",
                "    coupling_map = CouplingMap.from_grid(8,8)"
            ]
        },
        {
            "cell_type": "code",
            "execution_count": 4,
            "metadata": {},
            "outputs": [
                {
                    "name": "stderr",
                    "output_type": "stream",
                    "text": [
                        "100%|██████████| 8/8 [00:30<00:00,  3.83s/it]\n"
                    ]
                }
            ],
            "source": [
                "coordinate_list = []\n",
                "for lambda_item in tqdm(benchmark_lambdas_no_qv):\n",
                "    # load qiskit transpiler with pass for coupling map\n",
                "    induce_swaps = lambda qc: transpile(qc, coupling_map=coupling_map, optimization_level=3)\n",
                "    circuit = lambda_item(16)\n",
                "    circuit = induce_swaps(circuit)\n",
                "    \n",
                "    #Proceed\n",
                "    pm = PassManager()\n",
                "    pm.append(Collect2qBlocks())\n",
                "    pm.append(ConsolidateBlocks(force_consolidate=True))\n",
                "    transp_circuit = pm.run(circuit)\n",
                "    dag = circuit_to_dag(transp_circuit)\n",
                "    for gate in dag.collect_2q_runs():\n",
                "        assert len(gate) == 1 #should be 1 bc of consolidation\n",
                "        d = Operator(gate[0].op).data\n",
                "        try:\n",
                "            coordinate_list.append(weylchamber.c1c2c3(d))\n",
                "        except ValueError:\n",
                "            # seems like some SWAPs were getting a rounding error and couldn't be converted to a Weyl chamber coordinate\n",
                "            # XXX manually add a SWAP - it only happens two or three times total anyway\n",
                "            coordinate_list.append(weylchamber.c1c2c3(SwapGate().to_matrix()))\n",
                "coordinate_freq = {i:coordinate_list.count(i) for i in set(coordinate_list)}"
            ]
        },
        {
            "cell_type": "code",
            "execution_count": 5,
            "metadata": {},
            "outputs": [
                {
                    "name": "stdout",
                    "output_type": "stream",
                    "text": [
                        "828\n",
                        "731\n"
                    ]
                }
            ],
            "source": [
                "print(coordinate_freq[weylchamber.c1c2c3(SwapGate().to_matrix())])\n",
                "print(coordinate_freq[weylchamber.c1c2c3(CXGate().to_matrix())])"
            ]
        },
        {
            "cell_type": "code",
            "execution_count": 7,
            "metadata": {},
            "outputs": [
                {
                    "data": {
                        "text/plain": [
                            "0.8828502415458938"
                        ]
                    },
                    "execution_count": 7,
                    "metadata": {},
                    "output_type": "execute_result"
                }
            ],
            "source": [
                "731/828"
            ]
        },
        {
            "cell_type": "code",
            "execution_count": 6,
            "metadata": {},
            "outputs": [
                {
                    "data": {
                        "image/png": "[encoded data removed]",
                        "text/plain": [
                            "<Figure size 432x288 with 1 Axes>"
                        ]
                    },
                    "metadata": {
                        "needs_background": "light"
                    },
                    "output_type": "display_data"
                }
            ],
            "source": [
                "import matplotlib.pyplot as plt\n",
                "from slam.utils.visualize import fpath\n",
                "plt.close()\n",
                "fig = plt.figure()\n",
                "ax = fig.add_subplot(111, projection=\"3d\")\n",
                "\n",
                "from weylchamber import WeylChamber\n",
                "w = WeylChamber();\n",
                "\n",
                "## \n",
                "for k, v in coordinate_freq.items():\n",
                "    ax.scatter3D(*k, s=.75*v, c=\"k\")\n",
                "##\n",
                "\n",
                "w.labels = {}\n",
                "w.render(ax)\n",
                "# save as pdf and svg\n",
                "plt.savefig(f\"{fpath}/shot_chart_{map_option}.pdf\", format='pdf')\n",
                "plt.savefig(f\"{fpath}/shot_chart_{map_option}.svg\", format='svg')\n",
                "fig.show()"
            ]
        }
    ],
    "metadata": {
        "kernelspec": {
            "display_name": "slam_venv",
            "language": "python",
            "name": "python3"
        },
        "language_info": {
            "codemirror_mode": {
                "name": "ipython",
                "version": 3
            },
            "file_extension": ".py",
            "mimetype": "text/x-python",
            "name": "python",
            "nbconvert_exporter": "python",
            "pygments_lexer": "ipython3",
            "version": "3.8.10 (default, Nov 14 2022, 12:59:47) \n[GCC 9.4.0]"
        },
        "orig_nbformat": 4,
        "vscode": {
            "interpreter": {
                "hash": "0f9874ac19202b761670116a795595a05be93acda1108357dd2cad7aa80a21f9"
            }
        }
    },
    "nbformat": 4,
    "nbformat_minor": 2
}
