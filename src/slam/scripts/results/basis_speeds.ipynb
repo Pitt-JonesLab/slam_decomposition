{
 "cells": [
  {
   "cell_type": "code",
   "execution_count": 17,
   "metadata": {},
   "outputs": [],
   "source": [
    "# for linear, squared, hardware what are the speeds of the basis gates\n",
    "from slam.utils.gates.custom_gates import ConversionGainGate\n",
    "from slam.utils.gates.duraton_scaling import atomic_cost_scaling\n",
    "import numpy as np\n",
    "\n",
    "speed_method = [\"linear\", \"squared\", \"hardware\"][2]\n",
    "duration_1q = 0"
   ]
  },
  {
   "cell_type": "code",
   "execution_count": 18,
   "metadata": {},
   "outputs": [
    {
     "name": "stdout",
     "output_type": "stream",
     "text": [
      "1.0012531328320802\n",
      "0.5006265664160401\n",
      "1.7834821428571426\n",
      "0.8917410714285713\n",
      "1.4066901408450705\n",
      "0.7033450704225352\n"
     ]
    }
   ],
   "source": [
    "# first, we need to get a duration scaled iswap gate\n",
    "iswap = ConversionGainGate(0, 0, np.pi / 2, 0, t_el=1)\n",
    "scaled_iswap, _ = atomic_cost_scaling(\n",
    "    params=iswap.params,\n",
    "    scores=np.array([0]),\n",
    "    speed_method=speed_method,\n",
    "    duration_1q=duration_1q,\n",
    ")\n",
    "print(scaled_iswap.duration)\n",
    "\n",
    "sqiswap = ConversionGainGate(0, 0, np.pi / 2, 0, t_el=0.5)\n",
    "scaled_sqiswap, _ = atomic_cost_scaling(\n",
    "    params=sqiswap.params,\n",
    "    scores=np.array([0]),\n",
    "    speed_method=speed_method,\n",
    "    duration_1q=duration_1q,\n",
    ")\n",
    "print(scaled_sqiswap.duration)\n",
    "\n",
    "cnot = ConversionGainGate(0, 0, np.pi / 4, np.pi / 4, t_el=1)\n",
    "scaled_cnot, _ = atomic_cost_scaling(\n",
    "    params=cnot.params,\n",
    "    scores=np.array([0]),\n",
    "    speed_method=speed_method,\n",
    "    duration_1q=duration_1q,\n",
    ")\n",
    "print(scaled_cnot.duration)\n",
    "\n",
    "sqcnot = ConversionGainGate(0, 0, np.pi / 4, np.pi / 4, t_el=0.5)\n",
    "scaled_sqcnot, _ = atomic_cost_scaling(\n",
    "    params=sqcnot.params,\n",
    "    scores=np.array([0]),\n",
    "    speed_method=speed_method,\n",
    "    duration_1q=duration_1q,\n",
    ")\n",
    "print(scaled_sqcnot.duration)\n",
    "\n",
    "bgate = ConversionGainGate(0, 0, 3 * np.pi / 8, np.pi / 8, t_el=1)\n",
    "scaled_bgate, _ = atomic_cost_scaling(\n",
    "    params=bgate.params,\n",
    "    scores=np.array([0]),\n",
    "    speed_method=speed_method,\n",
    "    duration_1q=duration_1q,\n",
    ")\n",
    "print(scaled_bgate.duration)\n",
    "\n",
    "sqbgate = ConversionGainGate(0, 0, 3 * np.pi / 8, np.pi / 8, t_el=0.5)\n",
    "scaled_sqbgate, _ = atomic_cost_scaling(\n",
    "    params=sqbgate.params,\n",
    "    scores=np.array([0]),\n",
    "    speed_method=speed_method,\n",
    "    duration_1q=duration_1q,\n",
    ")\n",
    "print(scaled_sqbgate.duration)"
   ]
  },
  {
   "cell_type": "code",
   "execution_count": null,
   "metadata": {},
   "outputs": [],
   "source": [
    "# make plots over candidate gates for each speed limit"
   ]
  }
 ],
 "metadata": {
  "kernelspec": {
   "display_name": "slam_venv",
   "language": "python",
   "name": "python3"
  },
  "language_info": {
   "codemirror_mode": {
    "name": "ipython",
    "version": 3
   },
   "file_extension": ".py",
   "mimetype": "text/x-python",
   "name": "python",
   "nbconvert_exporter": "python",
   "pygments_lexer": "ipython3",
   "version": "3.10.6"
  },
  "orig_nbformat": 4,
  "vscode": {
   "interpreter": {
    "hash": "0f9874ac19202b761670116a795595a05be93acda1108357dd2cad7aa80a21f9"
   }
  }
 },
 "nbformat": 4,
 "nbformat_minor": 2
}
