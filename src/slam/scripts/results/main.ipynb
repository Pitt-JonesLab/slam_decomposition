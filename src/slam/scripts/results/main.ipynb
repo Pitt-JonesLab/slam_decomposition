{
 "cells": [
  {
   "cell_type": "code",
   "execution_count": 1,
   "metadata": {},
   "outputs": [],
   "source": [
    "# first, import the circuit benchmarks\n",
    "\n",
    "# second, run transpilation on benchmarks for many iterations and save results\n",
    "# want to show how much variance there is in the results\n",
    "# NOTE important, use the same placement and routing before passed to transpiler so has a fair comparison\n",
    "\n",
    "# third, use longest path to convert to fidelities\n",
    "# we want to calculate expected fidelity improvement factor\n",
    "# is fidelity improvement factor the same as the ratio between lengths (?)\n",
    "# "
   ]
  },
  {
   "cell_type": "code",
   "execution_count": 2,
   "metadata": {},
   "outputs": [],
   "source": [
    "import logging\n",
    "logger = logging.getLogger()\n",
    "logger.setLevel(logging.ERROR) # turn off for now\n",
    "\n",
    "#  CONSTANTS\n",
    "# repeat 10 times, only keep best\n",
    "data_repitition = range(10)\n",
    "average_repitition = range(3)\n",
    "\n",
    "# 1Q:2Q gate duraton ratio\n",
    "duration_1q = .25\n",
    "\n",
    "# number of qubits\n",
    "n_qubits = 16"
   ]
  },
  {
   "cell_type": "code",
   "execution_count": 3,
   "metadata": {},
   "outputs": [],
   "source": [
    "from slam.utils.transpiler_pass.speed_limit_pass import \\\n",
    "    pass_manager_basic, \\\n",
    "    pass_manager_optimized_sqiswap\n",
    "    # pass_manager_slam\n",
    "\n",
    "\"\"\" \n",
    "Basic, uses alibaba rules\n",
    "Optimized, use parallel gate optimized CPhase-family and SWAP ruless\n",
    "\"\"\"\n",
    "speed_method = 'linear' # just using iswap-family gates the SLF makes no difference for now because they all scale linearly to each other\n",
    "pm_basic = pass_manager_basic(gate='sqiswap', duration_1q=duration_1q)\n",
    "pm_optimized = pass_manager_optimized_sqiswap(duration_1q=duration_1q, speed_method=speed_method)"
   ]
  },
  {
   "cell_type": "code",
   "execution_count": 4,
   "metadata": {},
   "outputs": [],
   "source": [
    "import numpy as np\n",
    "def fidelity(qc_duration, n_qubits=1.0):\n",
    "    \"\"\"simple model for fidelity on a single msmt outcome\"\"\"\n",
    "    # iswap:=1 in previous units\n",
    "    # iswap time is 100 ns\n",
    "    iswap_time = 1e-7\n",
    "    # coherence time is 100 us\n",
    "    t1 = 1e-4\n",
    "    return (np.exp(-qc_duration*iswap_time/t1))**n_qubits\n",
    "\n",
    "def infidelity_factor(qc_time1, qc_time2, n_qubits=1):\n",
    "    \"\"\"Note, for these chosen values, given a fidelity threshold of 0.5 fidelity, duration <= 69.3\"\"\"\n",
    "    if1 = 1 - fidelity(qc_time1, n_qubits=n_qubits)\n",
    "    if2 = 1 - fidelity(qc_time2, n_qubits=n_qubits)\n",
    "    # percent change\n",
    "    return 100*(if1-if2)/if1\n",
    "\n",
    "def fidelity_factor(qc_time1, qc_time2, n_qubits=1):\n",
    "    \"\"\"Note, for these chosen values, given a fidelity threshold of 0.5 fidelity, duration <= 69.3\"\"\"\n",
    "    f1 = fidelity(qc_time1, n_qubits=n_qubits)\n",
    "    f2 = fidelity(qc_time2, n_qubits=n_qubits)\n",
    "    # percent change\n",
    "    return 100*(f2-f1)/f1"
   ]
  },
  {
   "cell_type": "code",
   "execution_count": 6,
   "metadata": {},
   "outputs": [
    {
     "name": "stdout",
     "output_type": "stream",
     "text": [
      "2.5\n",
      "0.005\n",
      "2.25\n",
      "0.0045\n",
      "9.98\n"
     ]
    }
   ],
   "source": [
    "from qiskit import QuantumCircuit\n",
    "qc = QuantumCircuit(2)\n",
    "qc.swap(0,1) # or qc.cx(0,1)\n",
    "\n",
    "output= pm_basic.run(qc)\n",
    "duration1 = pm_basic.property_set['duration']\n",
    "print(duration1)\n",
    "# print(output.draw())\n",
    "# print(1 - fidelity(duration1, n_qubits=2))\n",
    "# round to 4 sig figs\n",
    "print(round(1 - fidelity(duration1, n_qubits=2), 4))\n",
    "#\n",
    "output= pm_optimized.run(qc)\n",
    "duration2 = pm_optimized.property_set['duration']\n",
    "print(duration2)\n",
    "# print(output.draw())\n",
    "# print(1 - fidelity(duration2, n_qubits=2))\n",
    "# round to 4 sig figs\n",
    "print(round(1 - fidelity(duration2, n_qubits=2), 4))\n",
    "\n",
    "pimprov = infidelity_factor(duration1, duration2, n_qubits=2)\n",
    "# print(pimprov)\n",
    "print(round(pimprov, 2))\n"
   ]
  },
  {
   "cell_type": "code",
   "execution_count": 6,
   "metadata": {},
   "outputs": [
    {
     "data": {
      "text/plain": [
       "11.619366034265234"
      ]
     },
     "execution_count": 13,
     "metadata": {},
     "output_type": "execute_result"
    }
   ],
   "source": [
    "1- fidelity(2.1475, n_qubits=2)\n",
    "1- fidelity(1.8975, n_qubits=2)\n",
    "infidelity_factor(2.1475, 1.8975, n_qubits=2)"
   ]
  },
  {
   "cell_type": "code",
   "execution_count": 12,
   "metadata": {},
   "outputs": [
    {
     "data": {
      "text/plain": [
       "1.8835855646100117"
      ]
     },
     "execution_count": 12,
     "metadata": {},
     "output_type": "execute_result"
    }
   ],
   "source": [
    "# percent decrease between 2.1475 and 1.8975\n",
    "11.6414"
   ]
  },
  {
   "cell_type": "code",
   "execution_count": 13,
   "metadata": {},
   "outputs": [
    {
     "name": "stdout",
     "output_type": "stream",
     "text": [
      "1.9055\n",
      "0.0038\n",
      "1.7075\n",
      "0.0034\n",
      "10.373239839995604\n",
      "{2.5: 0.20733333333333334, 1.75: 0.7926666666666666}\n",
      "{2.5: 0.17533333333333334, 1.75: 0.12933333333333333, 1.5: 0.695, 1.0: 0.0003333333333333333}\n"
     ]
    }
   ],
   "source": [
    "# unit infidelities over haar\n",
    "from qiskit.quantum_info import random_unitary\n",
    "avg_dur1 = 0\n",
    "avg_dict1 = {}\n",
    "avg_dur2 = 0\n",
    "avg_dict2 = {}\n",
    "N=3000\n",
    "for i in range(N):\n",
    "    U = random_unitary(4)\n",
    "    qc = QuantumCircuit(2)\n",
    "    qc.unitary(U, [0,1])\n",
    "    output= pm_basic.run(qc)\n",
    "    duration1 = pm_basic.property_set['duration']\n",
    "    avg_dur1 += duration1\n",
    "    avg_dict1[duration1] = avg_dict1.get(duration1, 0) + 1\n",
    "    output= pm_optimized.run(qc)\n",
    "    duration2 = pm_optimized.property_set['duration']\n",
    "    avg_dur2 += duration2\n",
    "    avg_dict2[duration2] = avg_dict2.get(duration2, 0) + 1\n",
    "\n",
    "avg_dur1 /= N\n",
    "avg_dur2 /= N\n",
    "print(avg_dur1)\n",
    "print(round(1 - fidelity(avg_dur1, n_qubits=2), 4))\n",
    "print(avg_dur2)\n",
    "print(round(1 - fidelity(avg_dur2, n_qubits=2), 4))\n",
    "print(infidelity_factor(avg_dur1, avg_dur2, n_qubits=2))\n",
    "\n",
    "# debugging\n",
    "# for all values, divide by N\n",
    "avg_dict1 = {k: v/N for k, v in avg_dict1.items()}\n",
    "avg_dict2 = {k: v/N for k, v in avg_dict2.items()}\n",
    "print(avg_dict1)\n",
    "print(avg_dict2)"
   ]
  },
  {
   "cell_type": "code",
   "execution_count": 8,
   "metadata": {},
   "outputs": [
    {
     "name": "stdout",
     "output_type": "stream",
     "text": [
      "QV\n",
      "basic duration 133.0 4.415880433163924\n",
      "optimized duration 118.08333333333333 3.7877727257878373\n",
      "___\n",
      "duration % reduction 11.215538847117799\n",
      "wire fidelity -> optimized fidelity 0.8754650921087711 0.8886219976958973\n",
      "wire fidelity % improvement 1.5028475384934674\n",
      "total fidelity -> optimized fidelity 0.11907520627323107 0.1511725569545699\n",
      "total fidelity % improvement 26.955528095150193\n",
      "\n",
      "\n",
      "VQE(Linear)\n",
      "basic duration 25.75 0.0\n",
      "optimized duration 21.5 0.0\n",
      "___\n",
      "duration % reduction 16.50485436893204\n",
      "wire fidelity -> optimized fidelity 0.9745787038316606 0.9787294774691476\n",
      "wire fidelity % improvement 0.42590440578763405\n",
      "total fidelity -> optimized fidelity 0.6623242760521224 0.7089289280495112\n",
      "total fidelity % improvement 7.036530847877486\n",
      "\n",
      "\n",
      "VQE(Full)\n",
      "basic duration 318.0 31.845329327862196\n",
      "optimized duration 273.3333333333333 27.253694958461853\n",
      "___\n",
      "duration % reduction 14.046121593291412\n",
      "wire fidelity -> optimized fidelity 0.7276027884145955 0.760839132311293\n",
      "wire fidelity % improvement 4.567924206161658\n",
      "total fidelity -> optimized fidelity 0.006170348251197809 0.012609139972752752\n",
      "total fidelity % improvement 104.35054002511158\n",
      "\n",
      "\n",
      "QFT\n",
      "basic duration 127.5 5.2796780204857185\n",
      "optimized duration 106.20751956 6.195786923384578\n",
      "___\n",
      "duration % reduction 16.69998465882353\n",
      "wire fidelity -> optimized fidelity 0.8802934158342212 0.8992380192339395\n",
      "wire fidelity % improvement 2.1520782796910143\n",
      "total fidelity -> optimized fidelity 0.13002871087842602 0.18280773388357915\n",
      "total fidelity % improvement 40.59028398312766\n",
      "\n",
      "\n"
     ]
    },
    {
     "ename": "ValueError",
     "evalue": "array must not contain infs or NaNs",
     "output_type": "error",
     "traceback": [
      "\u001b[0;31m---------------------------------------------------------------------------\u001b[0m",
      "\u001b[0;31mValueError\u001b[0m                                Traceback (most recent call last)",
      "\u001b[1;32m/home/evm9/slam_decomposition/slam/scripts/results/main.ipynb Cell 7\u001b[0m in \u001b[0;36m<cell line: 11>\u001b[0;34m()\u001b[0m\n\u001b[1;32m     <a href='vscode-notebook-cell://ssh-remote%2B7b22686f73744e616d65223a224f707469706c6578227d/home/evm9/slam_decomposition/slam/scripts/results/main.ipynb#W6sdnNjb2RlLXJlbW90ZQ%3D%3D?line=33'>34</a>\u001b[0m qc \u001b[39m=\u001b[39m induce_swaps(qc) \u001b[39m# transpile to induce swaps\u001b[39;00m\n\u001b[1;32m     <a href='vscode-notebook-cell://ssh-remote%2B7b22686f73744e616d65223a224f707469706c6578227d/home/evm9/slam_decomposition/slam/scripts/results/main.ipynb#W6sdnNjb2RlLXJlbW90ZQ%3D%3D?line=35'>36</a>\u001b[0m \u001b[39m# second, run the benchmark\u001b[39;00m\n\u001b[0;32m---> <a href='vscode-notebook-cell://ssh-remote%2B7b22686f73744e616d65223a224f707469706c6578227d/home/evm9/slam_decomposition/slam/scripts/results/main.ipynb#W6sdnNjb2RlLXJlbW90ZQ%3D%3D?line=36'>37</a>\u001b[0m qc_basic \u001b[39m=\u001b[39m pm_basic\u001b[39m.\u001b[39;49mrun(qc)\n\u001b[1;32m     <a href='vscode-notebook-cell://ssh-remote%2B7b22686f73744e616d65223a224f707469706c6578227d/home/evm9/slam_decomposition/slam/scripts/results/main.ipynb#W6sdnNjb2RlLXJlbW90ZQ%3D%3D?line=37'>38</a>\u001b[0m duration \u001b[39m=\u001b[39m pm_basic\u001b[39m.\u001b[39mproperty_set[\u001b[39m'\u001b[39m\u001b[39mduration\u001b[39m\u001b[39m'\u001b[39m]\n\u001b[1;32m     <a href='vscode-notebook-cell://ssh-remote%2B7b22686f73744e616d65223a224f707469706c6578227d/home/evm9/slam_decomposition/slam/scripts/results/main.ipynb#W6sdnNjb2RlLXJlbW90ZQ%3D%3D?line=38'>39</a>\u001b[0m gate_counts \u001b[39m=\u001b[39m pm_basic\u001b[39m.\u001b[39mproperty_set[\u001b[39m'\u001b[39m\u001b[39mgate_counts\u001b[39m\u001b[39m'\u001b[39m]\n",
      "File \u001b[0;32m~/slam_decomposition/slam_venv/lib/python3.8/site-packages/qiskit/transpiler/passmanager.py:222\u001b[0m, in \u001b[0;36mPassManager.run\u001b[0;34m(self, circuits, output_name, callback)\u001b[0m\n\u001b[1;32m    220\u001b[0m     \u001b[39mreturn\u001b[39;00m circuits\n\u001b[1;32m    221\u001b[0m \u001b[39mif\u001b[39;00m \u001b[39misinstance\u001b[39m(circuits, QuantumCircuit):\n\u001b[0;32m--> 222\u001b[0m     \u001b[39mreturn\u001b[39;00m \u001b[39mself\u001b[39;49m\u001b[39m.\u001b[39;49m_run_single_circuit(circuits, output_name, callback)\n\u001b[1;32m    223\u001b[0m \u001b[39mif\u001b[39;00m \u001b[39mlen\u001b[39m(circuits) \u001b[39m==\u001b[39m \u001b[39m1\u001b[39m:\n\u001b[1;32m    224\u001b[0m     \u001b[39mreturn\u001b[39;00m \u001b[39mself\u001b[39m\u001b[39m.\u001b[39m_run_single_circuit(circuits[\u001b[39m0\u001b[39m], output_name, callback)\n",
      "File \u001b[0;32m~/slam_decomposition/slam_venv/lib/python3.8/site-packages/qiskit/transpiler/passmanager.py:277\u001b[0m, in \u001b[0;36mPassManager._run_single_circuit\u001b[0;34m(self, circuit, output_name, callback)\u001b[0m\n\u001b[1;32m    265\u001b[0m \u001b[39m\"\"\"Run all the passes on a ``circuit``.\u001b[39;00m\n\u001b[1;32m    266\u001b[0m \n\u001b[1;32m    267\u001b[0m \u001b[39mArgs:\u001b[39;00m\n\u001b[0;32m   (...)\u001b[0m\n\u001b[1;32m    274\u001b[0m \u001b[39m    The transformed circuit.\u001b[39;00m\n\u001b[1;32m    275\u001b[0m \u001b[39m\"\"\"\u001b[39;00m\n\u001b[1;32m    276\u001b[0m running_passmanager \u001b[39m=\u001b[39m \u001b[39mself\u001b[39m\u001b[39m.\u001b[39m_create_running_passmanager()\n\u001b[0;32m--> 277\u001b[0m result \u001b[39m=\u001b[39m running_passmanager\u001b[39m.\u001b[39;49mrun(circuit, output_name\u001b[39m=\u001b[39;49moutput_name, callback\u001b[39m=\u001b[39;49mcallback)\n\u001b[1;32m    278\u001b[0m \u001b[39mself\u001b[39m\u001b[39m.\u001b[39mproperty_set \u001b[39m=\u001b[39m running_passmanager\u001b[39m.\u001b[39mproperty_set\n\u001b[1;32m    279\u001b[0m \u001b[39mreturn\u001b[39;00m result\n",
      "File \u001b[0;32m~/slam_decomposition/slam_venv/lib/python3.8/site-packages/qiskit/transpiler/runningpassmanager.py:124\u001b[0m, in \u001b[0;36mRunningPassManager.run\u001b[0;34m(***failed resolving arguments***)\u001b[0m\n\u001b[1;32m    122\u001b[0m \u001b[39mfor\u001b[39;00m passset \u001b[39min\u001b[39;00m \u001b[39mself\u001b[39m\u001b[39m.\u001b[39mworking_list:\n\u001b[1;32m    123\u001b[0m     \u001b[39mfor\u001b[39;00m pass_ \u001b[39min\u001b[39;00m passset:\n\u001b[0;32m--> 124\u001b[0m         dag \u001b[39m=\u001b[39m \u001b[39mself\u001b[39;49m\u001b[39m.\u001b[39;49m_do_pass(pass_, dag, passset\u001b[39m.\u001b[39;49moptions)\n\u001b[1;32m    126\u001b[0m circuit \u001b[39m=\u001b[39m dag_to_circuit(dag)\n\u001b[1;32m    127\u001b[0m \u001b[39mif\u001b[39;00m output_name:\n",
      "File \u001b[0;32m~/slam_decomposition/slam_venv/lib/python3.8/site-packages/qiskit/transpiler/runningpassmanager.py:157\u001b[0m, in \u001b[0;36mRunningPassManager._do_pass\u001b[0;34m(self, pass_, dag, options)\u001b[0m\n\u001b[1;32m    155\u001b[0m \u001b[39m# Run the pass itself, if not already run\u001b[39;00m\n\u001b[1;32m    156\u001b[0m \u001b[39mif\u001b[39;00m pass_ \u001b[39mnot\u001b[39;00m \u001b[39min\u001b[39;00m \u001b[39mself\u001b[39m\u001b[39m.\u001b[39mvalid_passes:\n\u001b[0;32m--> 157\u001b[0m     dag \u001b[39m=\u001b[39m \u001b[39mself\u001b[39;49m\u001b[39m.\u001b[39;49m_run_this_pass(pass_, dag)\n\u001b[1;32m    159\u001b[0m     \u001b[39m# update the valid_passes property\u001b[39;00m\n\u001b[1;32m    160\u001b[0m     \u001b[39mself\u001b[39m\u001b[39m.\u001b[39m_update_valid_passes(pass_)\n",
      "File \u001b[0;32m~/slam_decomposition/slam_venv/lib/python3.8/site-packages/qiskit/transpiler/runningpassmanager.py:186\u001b[0m, in \u001b[0;36mRunningPassManager._run_this_pass\u001b[0;34m(self, pass_, dag)\u001b[0m\n\u001b[1;32m    183\u001b[0m \u001b[39mif\u001b[39;00m pass_\u001b[39m.\u001b[39mis_transformation_pass:\n\u001b[1;32m    184\u001b[0m     \u001b[39m# Measure time if we have a callback or logging set\u001b[39;00m\n\u001b[1;32m    185\u001b[0m     start_time \u001b[39m=\u001b[39m time()\n\u001b[0;32m--> 186\u001b[0m     new_dag \u001b[39m=\u001b[39m pass_\u001b[39m.\u001b[39;49mrun(dag)\n\u001b[1;32m    187\u001b[0m     end_time \u001b[39m=\u001b[39m time()\n\u001b[1;32m    188\u001b[0m     run_time \u001b[39m=\u001b[39m end_time \u001b[39m-\u001b[39m start_time\n",
      "File \u001b[0;32m~/slam_decomposition/slam/utils/transpiler_pass/weyl_decompose.py:441\u001b[0m, in \u001b[0;36mRootiSwapWeylDecomposition.run\u001b[0;34m(self, dag)\u001b[0m\n\u001b[1;32m    438\u001b[0m     \u001b[39mcontinue\u001b[39;00m\n\u001b[1;32m    440\u001b[0m \u001b[39m# special_unitary = unitary\u001b[39;00m\n\u001b[0;32m--> 441\u001b[0m dag_sub \u001b[39m=\u001b[39m circuit_to_dag(\u001b[39mself\u001b[39;49m\u001b[39m.\u001b[39;49mdecomposer(unitary))\n\u001b[1;32m    442\u001b[0m dag\u001b[39m.\u001b[39msubstitute_node_with_dag(node, dag_sub)\n\u001b[1;32m    444\u001b[0m \u001b[39m# if node.name == \"swap\":\u001b[39;00m\n\u001b[1;32m    445\u001b[0m \u001b[39m#     if self.decompose_swaps:\u001b[39;00m\n\u001b[1;32m    446\u001b[0m \u001b[39m#         dag_weyl = circuit_to_dag(self.swap_decomp(unitary))\u001b[39;00m\n\u001b[0;32m   (...)\u001b[0m\n\u001b[1;32m    458\u001b[0m \u001b[39m#     dag_weyl = circuit_to_dag(self.cphase_decomp(unitary))\u001b[39;00m\n\u001b[1;32m    459\u001b[0m \u001b[39m#     dag.substitute_node_with_dag(node, dag_weyl)\u001b[39;00m\n",
      "File \u001b[0;32m~/slam_decomposition/slam/utils/transpiler_pass/weyl_decompose.py:288\u001b[0m, in \u001b[0;36mRootiSwapWeylDecomposition.riswapWeylDecomp\u001b[0;34m(self, U)\u001b[0m\n\u001b[1;32m    282\u001b[0m C1, C2 \u001b[39m=\u001b[39m \u001b[39mself\u001b[39m\u001b[39m.\u001b[39minterleavingSingleQubitRotations(x, y, z)\n\u001b[1;32m    283\u001b[0m V \u001b[39m=\u001b[39m (\n\u001b[1;32m    284\u001b[0m     RiSwapGate(\u001b[39m0.5\u001b[39m)\u001b[39m.\u001b[39mto_matrix()\n\u001b[1;32m    285\u001b[0m     \u001b[39m@\u001b[39m np\u001b[39m.\u001b[39mkron(C1, C2)\n\u001b[1;32m    286\u001b[0m     \u001b[39m@\u001b[39m RiSwapGate(\u001b[39m0.5\u001b[39m)\u001b[39m.\u001b[39mto_matrix()\n\u001b[1;32m    287\u001b[0m )\n\u001b[0;32m--> 288\u001b[0m _, (x, y, z), D1, D2, E1, E2 \u001b[39m=\u001b[39m \u001b[39mself\u001b[39;49m\u001b[39m.\u001b[39;49mKAKDecomp(V)\n\u001b[1;32m    290\u001b[0m qc\u001b[39m.\u001b[39mappend(UnitaryGate(np\u001b[39m.\u001b[39mmatrix(E1)\u001b[39m.\u001b[39mH \u001b[39m@\u001b[39m B1), [\u001b[39m1\u001b[39m])\n\u001b[1;32m    291\u001b[0m qc\u001b[39m.\u001b[39mappend(UnitaryGate(np\u001b[39m.\u001b[39mmatrix(E2)\u001b[39m.\u001b[39mH \u001b[39m@\u001b[39m B2), [\u001b[39m0\u001b[39m])\n",
      "File \u001b[0;32m~/slam_decomposition/slam/utils/transpiler_pass/weyl_decompose.py:163\u001b[0m, in \u001b[0;36mRootiSwapWeylDecomposition.KAKDecomp\u001b[0;34m(self, unitary_matrix, fidelity)\u001b[0m\n\u001b[1;32m    161\u001b[0m \u001b[39m# Make U be in SU(4)\u001b[39;00m\n\u001b[1;32m    162\u001b[0m U \u001b[39m=\u001b[39m np\u001b[39m.\u001b[39marray(unitary_matrix, dtype\u001b[39m=\u001b[39m\u001b[39mcomplex\u001b[39m, copy\u001b[39m=\u001b[39m\u001b[39mTrue\u001b[39;00m)\n\u001b[0;32m--> 163\u001b[0m detU \u001b[39m=\u001b[39m la\u001b[39m.\u001b[39;49mdet(U)\n\u001b[1;32m    164\u001b[0m U \u001b[39m*\u001b[39m\u001b[39m=\u001b[39m detU \u001b[39m*\u001b[39m\u001b[39m*\u001b[39m (\u001b[39m-\u001b[39m\u001b[39m0.25\u001b[39m)\n\u001b[1;32m    165\u001b[0m global_phase \u001b[39m=\u001b[39m cmath\u001b[39m.\u001b[39mphase(detU) \u001b[39m/\u001b[39m \u001b[39m4\u001b[39m\n",
      "File \u001b[0;32m~/slam_decomposition/slam_venv/lib/python3.8/site-packages/scipy/linalg/_basic.py:1023\u001b[0m, in \u001b[0;36mdet\u001b[0;34m(a, overwrite_a, check_finite)\u001b[0m\n\u001b[1;32m    977\u001b[0m \u001b[39mdef\u001b[39;00m \u001b[39mdet\u001b[39m(a, overwrite_a\u001b[39m=\u001b[39m\u001b[39mFalse\u001b[39;00m, check_finite\u001b[39m=\u001b[39m\u001b[39mTrue\u001b[39;00m):\n\u001b[1;32m    978\u001b[0m     \u001b[39m\"\"\"\u001b[39;00m\n\u001b[1;32m    979\u001b[0m \u001b[39m    Compute the determinant of a matrix\u001b[39;00m\n\u001b[1;32m    980\u001b[0m \n\u001b[0;32m   (...)\u001b[0m\n\u001b[1;32m   1021\u001b[0m \n\u001b[1;32m   1022\u001b[0m \u001b[39m    \"\"\"\u001b[39;00m\n\u001b[0;32m-> 1023\u001b[0m     a1 \u001b[39m=\u001b[39m _asarray_validated(a, check_finite\u001b[39m=\u001b[39;49mcheck_finite)\n\u001b[1;32m   1024\u001b[0m     \u001b[39mif\u001b[39;00m \u001b[39mlen\u001b[39m(a1\u001b[39m.\u001b[39mshape) \u001b[39m!=\u001b[39m \u001b[39m2\u001b[39m \u001b[39mor\u001b[39;00m a1\u001b[39m.\u001b[39mshape[\u001b[39m0\u001b[39m] \u001b[39m!=\u001b[39m a1\u001b[39m.\u001b[39mshape[\u001b[39m1\u001b[39m]:\n\u001b[1;32m   1025\u001b[0m         \u001b[39mraise\u001b[39;00m \u001b[39mValueError\u001b[39;00m(\u001b[39m'\u001b[39m\u001b[39mexpected square matrix\u001b[39m\u001b[39m'\u001b[39m)\n",
      "File \u001b[0;32m~/slam_decomposition/slam_venv/lib/python3.8/site-packages/scipy/_lib/_util.py:287\u001b[0m, in \u001b[0;36m_asarray_validated\u001b[0;34m(a, check_finite, sparse_ok, objects_ok, mask_ok, as_inexact)\u001b[0m\n\u001b[1;32m    285\u001b[0m         \u001b[39mraise\u001b[39;00m \u001b[39mValueError\u001b[39;00m(\u001b[39m'\u001b[39m\u001b[39mmasked arrays are not supported\u001b[39m\u001b[39m'\u001b[39m)\n\u001b[1;32m    286\u001b[0m toarray \u001b[39m=\u001b[39m np\u001b[39m.\u001b[39masarray_chkfinite \u001b[39mif\u001b[39;00m check_finite \u001b[39melse\u001b[39;00m np\u001b[39m.\u001b[39masarray\n\u001b[0;32m--> 287\u001b[0m a \u001b[39m=\u001b[39m toarray(a)\n\u001b[1;32m    288\u001b[0m \u001b[39mif\u001b[39;00m \u001b[39mnot\u001b[39;00m objects_ok:\n\u001b[1;32m    289\u001b[0m     \u001b[39mif\u001b[39;00m a\u001b[39m.\u001b[39mdtype \u001b[39mis\u001b[39;00m np\u001b[39m.\u001b[39mdtype(\u001b[39m'\u001b[39m\u001b[39mO\u001b[39m\u001b[39m'\u001b[39m):\n",
      "File \u001b[0;32m~/slam_decomposition/slam_venv/lib/python3.8/site-packages/numpy/lib/function_base.py:603\u001b[0m, in \u001b[0;36masarray_chkfinite\u001b[0;34m(a, dtype, order)\u001b[0m\n\u001b[1;32m    601\u001b[0m a \u001b[39m=\u001b[39m asarray(a, dtype\u001b[39m=\u001b[39mdtype, order\u001b[39m=\u001b[39morder)\n\u001b[1;32m    602\u001b[0m \u001b[39mif\u001b[39;00m a\u001b[39m.\u001b[39mdtype\u001b[39m.\u001b[39mchar \u001b[39min\u001b[39;00m typecodes[\u001b[39m'\u001b[39m\u001b[39mAllFloat\u001b[39m\u001b[39m'\u001b[39m] \u001b[39mand\u001b[39;00m \u001b[39mnot\u001b[39;00m np\u001b[39m.\u001b[39misfinite(a)\u001b[39m.\u001b[39mall():\n\u001b[0;32m--> 603\u001b[0m     \u001b[39mraise\u001b[39;00m \u001b[39mValueError\u001b[39;00m(\n\u001b[1;32m    604\u001b[0m         \u001b[39m\"\u001b[39m\u001b[39marray must not contain infs or NaNs\u001b[39m\u001b[39m\"\u001b[39m)\n\u001b[1;32m    605\u001b[0m \u001b[39mreturn\u001b[39;00m a\n",
      "\u001b[0;31mValueError\u001b[0m: array must not contain infs or NaNs"
     ]
    }
   ],
   "source": [
    "# first, import the circuit benchmarks\n",
    "from slam.utils.circuit_suite import benchmark_lambdas\n",
    "\n",
    "# define the topology\n",
    "from qiskit import transpile\n",
    "from qiskit.transpiler import CouplingMap\n",
    "coupling_map = CouplingMap.from_grid(4,4)\n",
    "induce_swaps = lambda qc: transpile(qc, coupling_map=coupling_map, optimization_level=3)\n",
    "\n",
    "# repeat, only keep best\n",
    "for benchmark_circuit in benchmark_lambdas:\n",
    "\n",
    "    basic_data = [] #duration\n",
    "    optimized_data = []\n",
    "\n",
    "    # averaging loop\n",
    "    # if benchmark_circuit.__name__ == \"QV\":\n",
    "    #     avg_rep = average_repitition\n",
    "    # else:\n",
    "    #     avg_rep = range(1)\n",
    "    # for _ in avg_rep:\n",
    "    for _ in average_repitition:\n",
    "\n",
    "        # best, defined by shortest duration\n",
    "        basic_best = (None, None, None, None)\n",
    "        optimized_best = (None, None, None, None)\n",
    "\n",
    "        for _ in data_repitition:\n",
    "            qc = benchmark_circuit(n_qubits) # instantiate of size 16\n",
    "\n",
    "            # before inducing, turn off logging for readability\n",
    "            logger.setLevel(logging.ERROR)\n",
    "            # NOTE non-determinsitc, hence the averaging\n",
    "            qc = induce_swaps(qc) # transpile to induce swaps\n",
    "\n",
    "            # second, run the benchmark\n",
    "            qc_basic = pm_basic.run(qc)\n",
    "            duration = pm_basic.property_set['duration']\n",
    "            gate_counts = pm_basic.property_set['gate_counts']\n",
    "            crit_counts = pm_basic.property_set['longest_path_counts']\n",
    "\n",
    "            # check if best\n",
    "            if basic_best[0] is None or duration < basic_best[0]:\n",
    "                basic_best = (duration, gate_counts, crit_counts, qc_basic)\n",
    "            \n",
    "            # repeat on optimized\n",
    "            qc_optimized = pm_optimized.run(qc)\n",
    "            duration = pm_optimized.property_set['duration']\n",
    "            gate_counts = pm_optimized.property_set['gate_counts']\n",
    "            crit_counts = pm_optimized.property_set['longest_path_counts']\n",
    "\n",
    "            # check if best\n",
    "            if optimized_best[0] is None or duration < optimized_best[0]:\n",
    "                optimized_best = (duration, gate_counts, crit_counts, qc_optimized)\n",
    "                \n",
    "        # save results to average\n",
    "        assert basic_best[0] >= optimized_best[0]\n",
    "        basic_data.append(basic_best[0])\n",
    "        optimized_data.append(optimized_best[0])\n",
    "\n",
    "    # compute averages with std dev\n",
    "    basic_average = np.mean(basic_data)\n",
    "    optimized_average = np.mean(optimized_data)\n",
    "    basic_err = np.std(basic_data)\n",
    "    optimized_err = np.std(optimized_data)\n",
    "\n",
    "    # print results\n",
    "    print(benchmark_circuit.__name__)\n",
    "    # print basic w/err and optimized w/err\n",
    "    print(\"basic duration\", basic_average, basic_err)\n",
    "    print(\"optimized duration\", optimized_average, optimized_err)\n",
    "    print('___')\n",
    "    print(\"duration % reduction\", 100*(basic_average - optimized_average)/basic_average)\n",
    "    print(\"wire fidelity -> optimized fidelity\", fidelity(basic_average), fidelity(optimized_average))\n",
    "    print(\"wire fidelity % improvement\", fidelity_factor(basic_average, optimized_average))\n",
    "    # print(\"wire infidelity % reduction\", infidelity_factor(basic_average, optimized_average))\n",
    "    print(\"total fidelity -> optimized fidelity\", fidelity(basic_average, n_qubits=n_qubits), fidelity(optimized_average, n_qubits=n_qubits))\n",
    "    # print(\"total infidelity % reduction\", infidelity_factor(basic_average, optimized_average, n_qubits=n_qubits))\n",
    "    print(\"total fidelity % improvement\", fidelity_factor(basic_average, optimized_average, n_qubits=n_qubits))\n",
    "    print(\"\\n\")"
   ]
  }
 ],
 "metadata": {
  "kernelspec": {
   "display_name": "slam_venv",
   "language": "python",
   "name": "python3"
  },
  "language_info": {
   "codemirror_mode": {
    "name": "ipython",
    "version": 3
   },
   "file_extension": ".py",
   "mimetype": "text/x-python",
   "name": "python",
   "nbconvert_exporter": "python",
   "pygments_lexer": "ipython3",
   "version": "3.10.6"
  },
  "orig_nbformat": 4,
  "vscode": {
   "interpreter": {
    "hash": "0f9874ac19202b761670116a795595a05be93acda1108357dd2cad7aa80a21f9"
   }
  }
 },
 "nbformat": 4,
 "nbformat_minor": 2
}
