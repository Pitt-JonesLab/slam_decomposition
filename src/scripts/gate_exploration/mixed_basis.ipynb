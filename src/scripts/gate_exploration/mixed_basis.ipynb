{
 "cells": [
  {
   "cell_type": "code",
   "execution_count": 1,
   "metadata": {},
   "outputs": [],
   "source": [
    "import logging\n",
    "logger = logging.getLogger()\n",
    "logger.setLevel(logging.INFO)\n",
    "\n",
    "import sys\n",
    "sys.path.append(\"../../../\")\n",
    "import numpy as np"
   ]
  },
  {
   "cell_type": "code",
   "execution_count": 2,
   "metadata": {},
   "outputs": [
    {
     "name": "stderr",
     "output_type": "stream",
     "text": [
      "INFO:root:==== Working to build a set of covering polytopes ====\n"
     ]
    },
    {
     "name": "stdout",
     "output_type": "stream",
     "text": [
      "Considering $\\sqrt[3]{iSwap}$;\tCost 0.3333333333333333 and Euclidean volume   0.00%\n",
      "Considering $\\sqrt[2]{iSwap}$;\tCost 0.5 and Euclidean volume   0.00%\n",
      "Considering $\\sqrt[3]{iSwap}$·$\\sqrt[3]{iSwap}$;\tCost 0.6666666666666666 and Euclidean volume  14.81%\n",
      "Considering $\\sqrt[3]{iSwap}$·$\\sqrt[2]{iSwap}$;\tCost 0.8333333333333333 and Euclidean volume  21.30%\n",
      "Considering $\\sqrt[2]{iSwap}$·$\\sqrt[3]{iSwap}$;\tCost 0.8333333333333333 and Euclidean volume  21.30%\n",
      "Considering $\\sqrt[2]{iSwap}$·$\\sqrt[2]{iSwap}$;\tCost 1.0 and Euclidean volume  50.00%\n",
      "Considering $\\sqrt[3]{iSwap}$·$\\sqrt[3]{iSwap}$·$\\sqrt[3]{iSwap}$;\tCost 1.0 and Euclidean volume  83.33%\n",
      "Considering $\\sqrt[3]{iSwap}$·$\\sqrt[2]{iSwap}$·$\\sqrt[3]{iSwap}$;\tCost 1.1666666666666665 and Euclidean volume  94.44%\n",
      "Considering $\\sqrt[3]{iSwap}$·$\\sqrt[3]{iSwap}$·$\\sqrt[2]{iSwap}$;\tCost 1.1666666666666665 and Euclidean volume  94.44%\n",
      "Considering $\\sqrt[2]{iSwap}$·$\\sqrt[3]{iSwap}$·$\\sqrt[3]{iSwap}$;\tno ancestor, skipping.\n",
      "Considering $\\sqrt[2]{iSwap}$·$\\sqrt[3]{iSwap}$·$\\sqrt[2]{iSwap}$;\tno ancestor, skipping.\n",
      "Considering $\\sqrt[2]{iSwap}$·$\\sqrt[2]{iSwap}$·$\\sqrt[3]{iSwap}$;\tno ancestor, skipping.\n",
      "Considering $\\sqrt[3]{iSwap}$·$\\sqrt[2]{iSwap}$·$\\sqrt[2]{iSwap}$;\tCost 1.3333333333333333 and Euclidean volume  98.15%\n",
      "Considering $\\sqrt[3]{iSwap}$·$\\sqrt[3]{iSwap}$·$\\sqrt[3]{iSwap}$·$\\sqrt[3]{iSwap}$;\tCost 1.3333333333333333 and Euclidean volume  99.38%\n",
      "Considering $\\sqrt[3]{iSwap}$·$\\sqrt[3]{iSwap}$·$\\sqrt[2]{iSwap}$·$\\sqrt[3]{iSwap}$;\tno ancestor, skipping.\n",
      "Considering $\\sqrt[3]{iSwap}$·$\\sqrt[2]{iSwap}$·$\\sqrt[3]{iSwap}$·$\\sqrt[3]{iSwap}$;\tCost 1.4999999999999998 and Euclidean volume 100.00%\n"
     ]
    },
    {
     "name": "stderr",
     "output_type": "stream",
     "text": [
      "INFO:root:==== Done. Here's what we found: ====\n",
      "INFO:root:Percent volume of A_C2\t | Cost\t | Sequence name\n",
      "  0.00% =    0/1    \t | 0.00\t | \n",
      "  0.00% =    0/1    \t | 0.33\t | $\\sqrt[3]{iSwap}$\n",
      "  0.00% =    0/1    \t | 0.50\t | $\\sqrt[2]{iSwap}$\n",
      " 14.81% =    4/27   \t | 0.67\t | $\\sqrt[3]{iSwap}$.$\\sqrt[3]{iSwap}$\n",
      " 21.30% =   23/108  \t | 0.83\t | $\\sqrt[3]{iSwap}$.$\\sqrt[2]{iSwap}$\n",
      " 83.33% =    5/6    \t | 1.00\t | $\\sqrt[3]{iSwap}$.$\\sqrt[3]{iSwap}$.$\\sqrt[3]{iSwap}$\n",
      " 94.44% =   17/18   \t | 1.17\t | $\\sqrt[3]{iSwap}$.$\\sqrt[2]{iSwap}$.$\\sqrt[3]{iSwap}$\n",
      " 99.38% =  161/162  \t | 1.33\t | $\\sqrt[3]{iSwap}$.$\\sqrt[3]{iSwap}$.$\\sqrt[3]{iSwap}$.$\\sqrt[3]{iSwap}$\n",
      "100.00% =    1/1    \t | 1.50\t | $\\sqrt[3]{iSwap}$.$\\sqrt[2]{iSwap}$.$\\sqrt[3]{iSwap}$.$\\sqrt[3]{iSwap}$\n",
      "\n",
      "INFO:root:==== Haar volumes ====\n"
     ]
    },
    {
     "name": "stdout",
     "output_type": "stream",
     "text": [
      " deg 0\t | Sequence name\n",
      "0.00000\t | \n",
      "0.00000\t | $\\sqrt[3]{iSwap}$\n",
      "0.00000\t | $\\sqrt[2]{iSwap}$\n",
      "0.06819\t | $\\sqrt[3]{iSwap}$.$\\sqrt[3]{iSwap}$\n",
      "0.21489\t | $\\sqrt[3]{iSwap}$.$\\sqrt[2]{iSwap}$\n",
      "0.67681\t | $\\sqrt[3]{iSwap}$.$\\sqrt[3]{iSwap}$.$\\sqrt[3]{iSwap}$\n",
      "0.03847\t | $\\sqrt[3]{iSwap}$.$\\sqrt[2]{iSwap}$.$\\sqrt[3]{iSwap}$\n",
      "0.00165\t | $\\sqrt[3]{iSwap}$.$\\sqrt[3]{iSwap}$.$\\sqrt[3]{iSwap}$.$\\sqrt[3]{iSwap}$\n",
      "0.00000\t | $\\sqrt[3]{iSwap}$.$\\sqrt[2]{iSwap}$.$\\sqrt[3]{iSwap}$.$\\sqrt[3]{iSwap}$\n"
     ]
    },
    {
     "name": "stderr",
     "output_type": "stream",
     "text": [
      "INFO:root:Haar-expectation cost: 0.9484185085810616\n"
     ]
    },
    {
     "data": {
      "text/plain": [
       "0.9484185085810616"
      ]
     },
     "execution_count": 2,
     "metadata": {},
     "output_type": "execute_result"
    }
   ],
   "source": [
    "from src.utils.polytope_wrap import gate_set_to_haar_expectation\n",
    "from src.utils.custom_gates import RiSwapGate, CustomCostGate\n",
    "basis_gates = [CustomCostGate.from_gate(RiSwapGate(1/2), cost=1/2), CustomCostGate.from_gate(RiSwapGate(1/3), cost=1/3)]\n",
    "gate_set_to_haar_expectation(*basis_gates)"
   ]
  },
  {
   "cell_type": "code",
   "execution_count": null,
   "metadata": {},
   "outputs": [
    {
     "name": "stderr",
     "output_type": "stream",
     "text": [
      "INFO:root:==== Haar volumes ====\n"
     ]
    },
    {
     "name": "stdout",
     "output_type": "stream",
     "text": [
      " deg 0\t | Sequence name\n",
      "0.00000\t | \n",
      "0.00000\t | can\n",
      "0.99882\t | can.can\n",
      "0.00118\t | can.can.can\n"
     ]
    },
    {
     "name": "stderr",
     "output_type": "stream",
     "text": [
      "INFO:root:Haar-expectation cost: 2.0011770545216936\n"
     ]
    },
    {
     "data": {
      "text/plain": [
       "2.0011770545216936"
      ]
     },
     "execution_count": 51,
     "metadata": {},
     "output_type": "execute_result"
    }
   ],
   "source": [
    "#test expected CAN(symmetric middle)\n",
    "from src.utils.custom_gates import CanonicalGate\n",
    "u = CanonicalGate(np.pi/4, np.pi/8 ,np.pi/16).to_matrix()\n",
    "u = CustomCostGate(u, \"can\")\n",
    "gate_set_to_haar_expectation(u)\n",
    "# from src.utils.visualize import unitary_to_weyl\n",
    "# unitary_to_weyl(u)"
   ]
  },
  {
   "cell_type": "code",
   "execution_count": 12,
   "metadata": {},
   "outputs": [
    {
     "name": "stderr",
     "output_type": "stream",
     "text": [
      "INFO:root:==== Working to build a set of covering polytopes ====\n"
     ]
    },
    {
     "name": "stdout",
     "output_type": "stream",
     "text": [
      "Considering B((0.7853981633974483, 0.39269908169872414));\tCost 0.75 and Euclidean volume   0.00%\n",
      "Considering B((1.1780972450961724, 0.39269908169872414));\tCost 1.0 and Euclidean volume   0.00%\n",
      "Considering B((0.7853981633974483, 0.39269908169872414))·B((0.7853981633974483, 0.39269908169872414));\tCost 1.5 and Euclidean volume  81.25%\n",
      "Considering B((1.1780972450961724, 0.39269908169872414))·B((0.7853981633974483, 0.39269908169872414));\tno ancestor, skipping.\n",
      "Considering B((0.7853981633974483, 0.39269908169872414))·B((1.1780972450961724, 0.39269908169872414));\tCost 1.75 and Euclidean volume  81.25%\n",
      "Considering B((1.1780972450961724, 0.39269908169872414))·B((1.1780972450961724, 0.39269908169872414));\tno ancestor, skipping.\n",
      "Considering B((0.7853981633974483, 0.39269908169872414))·B((0.7853981633974483, 0.39269908169872414))·B((0.7853981633974483, 0.39269908169872414));\tCost 2.25 and Euclidean volume 100.00%\n"
     ]
    },
    {
     "name": "stderr",
     "output_type": "stream",
     "text": [
      "INFO:root:==== Done. Here's what we found: ====\n",
      "INFO:root:Percent volume of A_C2\t | Cost\t | Sequence name\n",
      "  0.00% =    0/1    \t | 0.00\t | \n",
      "  0.00% =    0/1    \t | 0.75\t | B((0.7853981633974483, 0.39269908169872414))\n",
      " 81.25% =   13/16   \t | 1.50\t | B((0.7853981633974483, 0.39269908169872414)).B((0.7853981633974483, 0.39269908169872414))\n",
      "100.00% =    1/1    \t | 2.25\t | B((0.7853981633974483, 0.39269908169872414)).B((0.7853981633974483, 0.39269908169872414)).B((0.7853981633974483, 0.39269908169872414))\n",
      "\n"
     ]
    }
   ],
   "source": [
    "from src.basis import CustomCostCircuitTemplate\n",
    "from src.utils.custom_gates import CustomCostGate\n",
    "from src.hamiltonian import ConversionGainHamiltonian\n",
    "from src.utils.polytope_wrap import gate_set_to_haar_expectation\n",
    "import numpy as np\n",
    "h = ConversionGainHamiltonian()\n",
    "i,j = (2,1)\n",
    "u = h._construct_U_lambda(i*np.pi/8, j*np.pi/8)(1).full()\n",
    "u = CustomCostGate(u, f\"B({i*np.pi/8, j*np.pi/8})\", cost=sum([i*np.pi/8, j*np.pi/8])/SPEED_LIMIT)\n",
    "\n",
    "i,j = (3,1)\n",
    "u2 = h._construct_U_lambda(i*np.pi/8, j*np.pi/8)(1).full()\n",
    "u2 = CustomCostGate(u, f\"B({i*np.pi/8, j*np.pi/8})\", cost=sum([i*np.pi/8, j*np.pi/8])/SPEED_LIMIT)\n",
    "\n",
    "basis = CustomCostCircuitTemplate(base_gates=[u, u2])"
   ]
  },
  {
   "cell_type": "code",
   "execution_count": null,
   "metadata": {},
   "outputs": [],
   "source": [
    "#TODO plot spanning region of the 2.04 gate"
   ]
  },
  {
   "cell_type": "code",
   "execution_count": 10,
   "metadata": {},
   "outputs": [],
   "source": [
    "# from src.utils.custom_gates import CustomCostGate\n",
    "# from src.hamiltonian import ConversionGainHamiltonian\n",
    "# from src.utils.polytope_wrap import gate_set_to_haar_expectation\n",
    "# import numpy as np\n",
    "# from src.utils.visualize import plotHamiltonianSweep\n",
    "# h = ConversionGainHamiltonian()\n",
    "# i,j = (3,1)\n",
    "# u = h._construct_U_lambda(i*np.pi/8, j*np.pi/8)(1).full()\n",
    "# u = CustomCostGate(u, f\"B({i*np.pi/8, j*np.pi/8})\", cost=sum([i*np.pi/8, j*np.pi/8])/SPEED_LIMIT)\n",
    "\n",
    "# result = gate_set_to_haar_expectation(u, chatty=False)\n",
    "# print(result)\n",
    "\n",
    "# plotHamiltonianSweep(u)\n",
    "# # u = CustomCostGate(u, f\"B({i*np.pi/8, j*np.pi/8})\", cost=1)\n",
    "# # gate_set_to_haar_expectation(u, chatty=True)\n",
    "# from src.utils.visualize import unitary_to_weyl\n",
    "# unitary_to_weyl(u)"
   ]
  }
 ],
 "metadata": {
  "interpreter": {
   "hash": "8458c2db8745e513b658ab31603256ba78a013051ccc1ae9ae2e6e521b9ef2ea"
  },
  "kernelspec": {
   "display_name": "Python 3.8.10 ('decomp_venv': venv)",
   "language": "python",
   "name": "python3"
  },
  "language_info": {
   "codemirror_mode": {
    "name": "ipython",
    "version": 3
   },
   "file_extension": ".py",
   "mimetype": "text/x-python",
   "name": "python",
   "nbconvert_exporter": "python",
   "pygments_lexer": "ipython3",
   "version": "3.8.10"
  },
  "orig_nbformat": 4
 },
 "nbformat": 4,
 "nbformat_minor": 2
}
