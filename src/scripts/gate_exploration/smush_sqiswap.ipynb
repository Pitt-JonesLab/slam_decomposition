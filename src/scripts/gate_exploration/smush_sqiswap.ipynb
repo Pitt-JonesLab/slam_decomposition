{
 "cells": [
  {
   "cell_type": "code",
   "execution_count": 1,
   "metadata": {},
   "outputs": [],
   "source": [
    "import logging\n",
    "logger = logging.getLogger()\n",
    "logger.setLevel(logging.INFO)\n",
    "\n",
    "import sys\n",
    "sys.path.append(\"../../../\")\n",
    "\n",
    "import numpy as np\n",
    "from src.utils.visualize import plotMatrix\n",
    "\n",
    "import matplotlib.pyplot as plt\n",
    "# %matplotlib widget\n",
    "from qiskit import QuantumCircuit, BasicAer, execute\n",
    "from qiskit.visualization import plot_histogram\n",
    "from qiskit.quantum_info import mutual_information, Statevector, partial_trace, concurrence, entanglement_of_formation\n",
    "from src.basisv2 import CircuitTemplateV2\n",
    "from src.utils.custom_gates import CirculatorSNAILGate, ConversionGainSmushGate\n",
    "from src.cost_function import BasicCostInverse, BasicCost, BasicReducedCost\n",
    "from src.optimizer import TemplateOptimizer\n",
    "import h5py"
   ]
  },
  {
   "cell_type": "code",
   "execution_count": 2,
   "metadata": {},
   "outputs": [],
   "source": [
    "t= 1.0\n",
    "duration_1q = 0.25\n",
    "\n",
    "# # if using riswap\n",
    "# basis = CircuitTemplateV2(n_qubits=2, base_gates = [RiSwapGate], edge_params=[[(0,1), (1,2)]])\n",
    "# basis_str = \"riswap\"\n",
    "\n",
    "varg_offset = 2 #set to 4 if want to use phase, and change 0s to vargs in pp2 constructor below\n",
    "pp2 =lambda *vargs: ConversionGainSmushGate(0,0 , vargs[0], vargs[1], vargs[varg_offset:varg_offset+round(t/duration_1q)], vargs[varg_offset+round(t/duration_1q):], t_el=t)\n",
    "basis = CircuitTemplateV2(n_qubits=2, base_gates = [pp2], edge_params=[[(0,1)]], vz_only=True, param_vec_expand=[varg_offset,round(t/duration_1q),round(t/duration_1q)])\n",
    "basis_str = \"CG2Q\"\n",
    "\n",
    "# varg_offset = 4\n",
    "# pp3 =lambda *vargs: ConversionGainSmushGate(vargs[0], vargs[1], vargs[2], vargs[3], vargs[varg_offset:varg_offset+round(t/duration_1q)], vargs[varg_offset+round(t/duration_1q):], t_el=t)\n",
    "# basis = CircuitTemplateV2(n_qubits=2, base_gates = [pp3], edge_params=[[(0,1)]], vz_only=True, param_vec_expand=[varg_offset,round(t/duration_1q),round(t/duration_1q)])\n",
    "# basis_str = \"CG2Q+P\"\n",
    "\n",
    "\n",
    "basis.build(1)\n",
    "basis.spanning_range = range(1,2)\n",
    "\n",
    "#for all smush gates make bounds\n",
    "bounds_1q = 4*np.pi\n",
    "for el in basis.circuit.parameters:\n",
    "    s_el = str(el)\n",
    "    if 'Q' in s_el:\n",
    "        basis.add_bound(s_el, bounds_1q, -bounds_1q)\n",
    "\n",
    "# manually set the gc, gg bounds\n",
    "for el in basis.circuit.parameters:\n",
    "    s_el = str(el)\n",
    "    if s_el in [f\"Q{varg_offset-2}\", f\"Q{1+varg_offset-2}\", f\"Q{22+varg_offset-2}\", f\"Q{23+varg_offset-2}\", f\"Q{44+varg_offset-2}\", f\"Q{45+varg_offset-2}\"]: #XXX these need to be offset by varg_offset\n",
    "        #basis.add_bound(s_el, .5, 0)\n",
    "        basis.add_bound(s_el, 0.5*np.pi, 0) #XXX when using riswapgate should be 0.5, but when using ConversionGain should be np.pi/2 !!! BAD BAD BAD"
   ]
  },
  {
   "cell_type": "code",
   "execution_count": 3,
   "metadata": {},
   "outputs": [
    {
     "data": {
      "image/png": "[encoded data removed]",
      "text/plain": [
       "<Figure size 507.852x144.48 with 1 Axes>"
      ]
     },
     "execution_count": 3,
     "metadata": {},
     "output_type": "execute_result"
    }
   ],
   "source": [
    "basis.circuit.draw(output='mpl')"
   ]
  },
  {
   "cell_type": "code",
   "execution_count": 4,
   "metadata": {},
   "outputs": [],
   "source": [
    "# from src.sampler import HaarSample\n",
    "# sampler = HaarSample(seed=0,n_samples=1)\n",
    "# s = [s for s in sampler][0]\n",
    "from src.utils.custom_gates import RiSwapGate, BerkeleyGate\n",
    "from src.sampler import HaarSample, GateSample\n",
    "sampler = GateSample(gate = RiSwapGate(1/2))\n",
    "#sampler = GateSample(gate = BerkeleyGate())\n",
    "s = [s for s in sampler][0]"
   ]
  },
  {
   "cell_type": "code",
   "execution_count": 5,
   "metadata": {},
   "outputs": [
    {
     "name": "stderr",
     "output_type": "stream",
     "text": [
      "INFO:root:Begin search: (0.25, 0.25, 0.0)\n",
      "INFO:root:Starting opt on template size 1\n"
     ]
    },
    {
     "name": "stdout",
     "output_type": "stream",
     "text": [
      "Starting cost = 0.5\n"
     ]
    },
    {
     "name": "stderr",
     "output_type": "stream",
     "text": [
      "100%|██████████| 5/5 [03:26<00:00, 41.24s/it]\n",
      "INFO:root:Cycle (k =1), Best Loss=0.030220479921396093\n",
      "INFO:root:Overall Best Loss=0.030220479921396093\n",
      "INFO:root:Fail: (0.25, 0.25, 0.0), Found: (0.25, 0.09464621, 0.02177237)\n",
      "INFO:root:Begin search: (0.25, 0.25, 0.0)\n",
      "INFO:root:Starting opt on template size 1\n"
     ]
    },
    {
     "name": "stdout",
     "output_type": "stream",
     "text": [
      "Iteration:0, Decomposition Result:0.030220479921396093, Cost:0.5000000000000002,\n",
      "Fail, new cost: 0.7500000000000001\n"
     ]
    },
    {
     "name": "stderr",
     "output_type": "stream",
     "text": [
      "100%|██████████| 5/5 [02:32<00:00, 30.46s/it]\n",
      "INFO:root:Cycle (k =1), Best Loss=0.0026878926083095944\n",
      "INFO:root:Overall Best Loss=0.0026878926083095944\n",
      "INFO:root:Fail: (0.25, 0.25, 0.0), Found: (0.7216686, 0.21289299, 1.192e-05)\n",
      "INFO:root:Begin search: (0.25, 0.25, 0.0)\n",
      "INFO:root:Starting opt on template size 1\n"
     ]
    },
    {
     "name": "stdout",
     "output_type": "stream",
     "text": [
      "Iteration:1, Decomposition Result:0.0026878926083095944, Cost:0.5566627938375677,\n",
      "Fail, new cost: 0.7783313969187838\n"
     ]
    },
    {
     "name": "stderr",
     "output_type": "stream",
     "text": [
      "100%|██████████| 5/5 [00:59<00:00, 11.83s/it]\n",
      "INFO:root:Cycle (k =1), Best Loss=0.018644086633890722\n",
      "INFO:root:Overall Best Loss=0.018644086633890722\n",
      "INFO:root:Fail: (0.25, 0.25, 0.0), Found: (0.29265549, 0.14711023, 0.05244264)\n",
      "INFO:root:Begin search: (0.25, 0.25, 0.0)\n",
      "INFO:root:Starting opt on template size 1\n"
     ]
    },
    {
     "name": "stdout",
     "output_type": "stream",
     "text": [
      "Iteration:2, Decomposition Result:0.018644086633890722, Cost:0.5853109873559325,\n",
      "Fail, new cost: 0.7926554936779662\n"
     ]
    },
    {
     "name": "stderr",
     "output_type": "stream",
     "text": [
      "100%|██████████| 5/5 [02:14<00:00, 26.87s/it]\n",
      "INFO:root:Cycle (k =1), Best Loss=0.01870568043805454\n",
      "INFO:root:Overall Best Loss=0.01870568043805454\n",
      "INFO:root:Fail: (0.25, 0.25, 0.0), Found: (0.28708753, 0.15228616, 0.0657475)\n",
      "INFO:root:Begin search: (0.25, 0.25, 0.0)\n",
      "INFO:root:Starting opt on template size 1\n"
     ]
    },
    {
     "name": "stdout",
     "output_type": "stream",
     "text": [
      "Iteration:3, Decomposition Result:0.01870568043805454, Cost:0.5741750635091454,\n",
      "Fail, new cost: 0.7870875317545727\n"
     ]
    },
    {
     "name": "stderr",
     "output_type": "stream",
     "text": [
      "100%|██████████| 5/5 [02:18<00:00, 27.63s/it]\n",
      "INFO:root:Cycle (k =1), Best Loss=0.025913525736539822\n",
      "INFO:root:Overall Best Loss=0.025913525736539822\n",
      "INFO:root:Fail: (0.25, 0.25, 0.0), Found: (0.29940462, 0.12004889, 0.02452493)\n",
      "INFO:root:Begin search: (0.25, 0.25, 0.0)\n",
      "INFO:root:Starting opt on template size 1\n"
     ]
    },
    {
     "name": "stdout",
     "output_type": "stream",
     "text": [
      "Iteration:4, Decomposition Result:0.025913525736539822, Cost:0.5988092440206926,\n",
      "Fail, new cost: 0.7994046220103463\n"
     ]
    },
    {
     "name": "stderr",
     "output_type": "stream",
     "text": [
      "100%|██████████| 5/5 [01:40<00:00, 20.01s/it]\n",
      "INFO:root:Cycle (k =1), Best Loss=0.006278151850713787\n",
      "INFO:root:Overall Best Loss=0.006278151850713787\n",
      "INFO:root:Fail: (0.25, 0.25, 0.0), Found: (0.27753763, 0.20217544, 0.04462338)\n",
      "INFO:root:Begin search: (0.25, 0.25, 0.0)\n",
      "INFO:root:Starting opt on template size 1\n"
     ]
    },
    {
     "name": "stdout",
     "output_type": "stream",
     "text": [
      "Iteration:5, Decomposition Result:0.006278151850713787, Cost:0.5550752574948592,\n",
      "Fail, new cost: 0.7775376287474296\n"
     ]
    },
    {
     "name": "stderr",
     "output_type": "stream",
     "text": [
      "100%|██████████| 5/5 [02:15<00:00, 27.13s/it]\n",
      "INFO:root:Cycle (k =1), Best Loss=0.008984418714040987\n",
      "INFO:root:Overall Best Loss=0.008984418714040987\n",
      "INFO:root:Fail: (0.25, 0.25, 0.0), Found: (0.71114905, 0.1823047, 0.03477416)\n",
      "INFO:root:Begin search: (0.25, 0.25, 0.0)\n",
      "INFO:root:Starting opt on template size 1\n"
     ]
    },
    {
     "name": "stdout",
     "output_type": "stream",
     "text": [
      "Iteration:6, Decomposition Result:0.008984418714040987, Cost:0.5777019047220023,\n",
      "Fail, new cost: 0.7888509523610012\n"
     ]
    },
    {
     "name": "stderr",
     "output_type": "stream",
     "text": [
      "100%|██████████| 5/5 [01:54<00:00, 22.88s/it]\n",
      "INFO:root:Cycle (k =1), Best Loss=0.014187634101035407\n",
      "INFO:root:Overall Best Loss=0.014187634101035407\n",
      "INFO:root:Fail: (0.25, 0.25, 0.0), Found: (0.29941148, 0.15480823, 0.00385117)\n",
      "INFO:root:Begin search: (0.25, 0.25, 0.0)\n",
      "INFO:root:Starting opt on template size 1\n"
     ]
    },
    {
     "name": "stdout",
     "output_type": "stream",
     "text": [
      "Iteration:7, Decomposition Result:0.014187634101035407, Cost:0.5988229670316232,\n",
      "Fail, new cost: 0.7994114835158116\n"
     ]
    },
    {
     "name": "stderr",
     "output_type": "stream",
     "text": [
      "100%|██████████| 5/5 [01:51<00:00, 22.35s/it]\n",
      "INFO:root:Cycle (k =1), Best Loss=0.007589076322090382\n",
      "INFO:root:Overall Best Loss=0.007589076322090382\n",
      "INFO:root:Fail: (0.25, 0.25, 0.0), Found: (0.27901381, 0.19614964, 0.04903607)\n",
      "INFO:root:Begin search: (0.25, 0.25, 0.0)\n",
      "INFO:root:Starting opt on template size 1\n"
     ]
    },
    {
     "name": "stdout",
     "output_type": "stream",
     "text": [
      "Iteration:8, Decomposition Result:0.007589076322090382, Cost:0.5580276107987584,\n",
      "Fail, new cost: 0.7790138053993791\n"
     ]
    },
    {
     "name": "stderr",
     "output_type": "stream",
     "text": [
      "100%|██████████| 5/5 [01:49<00:00, 22.00s/it]\n",
      "INFO:root:Cycle (k =1), Best Loss=0.01454649721746748\n",
      "INFO:root:Overall Best Loss=0.01454649721746748\n",
      "INFO:root:Fail: (0.25, 0.25, 0.0), Found: (0.29984862, 0.15357217, 0.00176186)\n",
      "INFO:root:Begin search: (0.25, 0.25, 0.0)\n",
      "INFO:root:Starting opt on template size 1\n"
     ]
    },
    {
     "name": "stdout",
     "output_type": "stream",
     "text": [
      "Iteration:9, Decomposition Result:0.01454649721746748, Cost:0.5996972396749842,\n",
      "Fail, new cost: 0.7998486198374921\n"
     ]
    },
    {
     "name": "stderr",
     "output_type": "stream",
     "text": [
      "100%|██████████| 5/5 [02:06<00:00, 25.30s/it]\n",
      "INFO:root:Cycle (k =1), Best Loss=0.01404921986860963\n",
      "INFO:root:Overall Best Loss=0.01404921986860963\n",
      "INFO:root:Fail: (0.25, 0.25, 0.0), Found: (0.29874219, 0.15700427, 0.00631495)\n",
      "INFO:root:Begin search: (0.25, 0.25, 0.0)\n",
      "INFO:root:Starting opt on template size 1\n"
     ]
    },
    {
     "name": "stdout",
     "output_type": "stream",
     "text": [
      "Iteration:10, Decomposition Result:0.01404921986860963, Cost:0.5974843808911142,\n",
      "Fail, new cost: 0.7987421904455572\n"
     ]
    },
    {
     "name": "stderr",
     "output_type": "stream",
     "text": [
      "100%|██████████| 5/5 [02:10<00:00, 26.08s/it]\n",
      "INFO:root:Cycle (k =1), Best Loss=0.146447723818513\n",
      "INFO:root:Overall Best Loss=0.146447723818513\n",
      "INFO:root:Fail: (0.25, 0.25, 0.0), Found: (0.0, 0.0, 0.0)\n",
      "INFO:root:Begin search: (0.25, 0.25, 0.0)\n",
      "INFO:root:Starting opt on template size 1\n"
     ]
    },
    {
     "name": "stdout",
     "output_type": "stream",
     "text": [
      "Iteration:11, Decomposition Result:0.146447723818513, Cost:1.4020427007701156e-17,\n",
      "Fail, new cost: 0.5\n"
     ]
    },
    {
     "name": "stderr",
     "output_type": "stream",
     "text": [
      "100%|██████████| 5/5 [01:51<00:00, 22.38s/it]\n",
      "INFO:root:Cycle (k =1), Best Loss=0.010056255756531352\n",
      "INFO:root:Overall Best Loss=0.010056255756531352\n",
      "INFO:root:Fail: (0.25, 0.25, 0.0), Found: (0.75, 0.17343438, 0.0477323)\n",
      "INFO:root:Begin search: (0.25, 0.25, 0.0)\n",
      "INFO:root:Starting opt on template size 1\n"
     ]
    },
    {
     "name": "stdout",
     "output_type": "stream",
     "text": [
      "Iteration:12, Decomposition Result:0.010056255756531352, Cost:0.5,\n",
      "Fail, new cost: 0.75\n"
     ]
    },
    {
     "name": "stderr",
     "output_type": "stream",
     "text": [
      "100%|██████████| 5/5 [02:18<00:00, 27.63s/it]\n",
      "INFO:root:Cycle (k =1), Best Loss=0.0063237793207999715\n",
      "INFO:root:Overall Best Loss=0.0063237793207999715\n",
      "INFO:root:Fail: (0.25, 0.25, 0.0), Found: (0.27945012, 0.20023853, 0.04227622)\n",
      "INFO:root:Begin search: (0.25, 0.25, 0.0)\n",
      "INFO:root:Starting opt on template size 1\n"
     ]
    },
    {
     "name": "stdout",
     "output_type": "stream",
     "text": [
      "Iteration:13, Decomposition Result:0.0063237793207999715, Cost:0.5589002305390618,\n",
      "Fail, new cost: 0.7794501152695309\n"
     ]
    },
    {
     "name": "stderr",
     "output_type": "stream",
     "text": [
      " 20%|██        | 1/5 [00:23<01:35, 23.85s/it]"
     ]
    }
   ],
   "source": [
    "# Here we want to save the best cost as a function of the success threshold\n",
    "# success_thresholds = [0.99, 0.999, 0.9999, 0.99999, 0.999999]\n",
    "# fidelities = [None]*len(success_thresholds)\n",
    "# for k, success_threshold in enumerate(success_thresholds):\n",
    "#     objective1 = BasicCost()\n",
    "\n",
    "objective1 = BasicCost()\n",
    "\n",
    "# keep trying until success_threshold converges:\n",
    "i=0\n",
    "LB = 0\n",
    "UB = 1\n",
    "current_cost = (UB + LB)/2\n",
    "print(f\"Starting cost = {current_cost}\")\n",
    "\n",
    "# keep trying until success_threshold converges:\n",
    "while i == 0 or np.abs(current_cost - previous_cost) > 0.01:\n",
    "    if not current_cost is None:\n",
    "        basis.set_constraint(param_max_cost=current_cost)\n",
    "        #pass\n",
    "    #rebuild optimizer to refresh the updated f_basis obj\n",
    "    #NOTE setting the success threshold low since SWAP is very hard to find exactly\n",
    "    optimizer3 = TemplateOptimizer(basis=basis, objective=objective1, use_callback=True, override_fail=True, success_threshold = 1e-7, training_restarts=5)\n",
    "\n",
    "    _ret3 = optimizer3.approximate_target_U(s)\n",
    "    current_cost = basis.circuit_cost(_ret3.Xk)\n",
    "    print(f\"Iteration:{i}, Decomposition Result:{_ret3.loss_result}, Cost:{current_cost},\")\n",
    "\n",
    "    #search using 2 steps forward, 1 step back approach BAD\n",
    "    # I want to do a binary search between 0 and 1.5 \n",
    "    # if success, then set next cost to be current - LB / 2\n",
    "    # if fail, then set next cost to be current + (UB - current) / 2\n",
    "    \n",
    "    if _ret3.success_label:\n",
    "        ret3 = _ret3\n",
    "        #fidelities[k] = ret3\n",
    "\n",
    "        #success means can tighten the constraint\n",
    "        previous_cost = current_cost\n",
    "        current_cost = (current_cost + LB)/2\n",
    "        print(\"Success, new cost:\", current_cost)\n",
    "        #update UB\n",
    "        UB = previous_cost\n",
    "\n",
    "    else:\n",
    "        #fail means loosen the constraint\n",
    "        previous_cost = current_cost\n",
    "        current_cost = (current_cost + UB)/2\n",
    "        print(\"Fail, new cost:\", current_cost)\n",
    "        #update LB\n",
    "        LB = previous_cost\n",
    "\n",
    "    i+=1\n",
    "\n",
    "    # # save fidelities to h5 file\n",
    "    # with h5py.File(f'swap_fidelities_{basis_str}.h5', 'a') as hf:\n",
    "    #     #if dataset exists, delete it\n",
    "    #     if f\"success_{success_threshold}\" in hf:\n",
    "    #         del hf[f\"success_{success_threshold}\"]\n",
    "    #     hf.create_dataset(f\"success_{success_threshold}\", data=fidelities[k])"
   ]
  },
  {
   "cell_type": "code",
   "execution_count": null,
   "metadata": {},
   "outputs": [
    {
     "name": "stdout",
     "output_type": "stream",
     "text": [
      "0.12500000000001749 0.0614742657534455\n"
     ]
    },
    {
     "data": {
      "text/html": [
       "<pre style=\"word-wrap: normal;white-space: pre;background: #fff0;line-height: 1.1;font-family: &quot;Courier New&quot;,Courier,monospace\">     »\n",
       "q_0: »\n",
       "     »\n",
       "q_1: »\n",
       "     »\n",
       "«     ┌────────────────────────────────────────────────────────────────────────────────────────────────────────────────────────────────────────────────────┐\n",
       "«q_0: ┤0                                                                                                                                                   ├\n",
       "«     │  2qsmushgate(-3.14166745223154,-3.53809451621603,1π/8,3.00304233737071e-7,-3.83726519138434,3.83698884485411,3.83610061462769,-3.83629951531048,1) │\n",
       "«q_1: ┤1                                                                                                                                                   ├\n",
       "«     └────────────────────────────────────────────────────────────────────────────────────────────────────────────────────────────────────────────────────┘</pre>"
      ],
      "text/plain": [
       "     »\n",
       "q_0: »\n",
       "     »\n",
       "q_1: »\n",
       "     »\n",
       "«     ┌────────────────────────────────────────────────────────────────────────────────────────────────────────────────────────────────────────────────────┐\n",
       "«q_0: ┤0                                                                                                                                                   ├\n",
       "«     │  2qsmushgate(-3.14166745223154,-3.53809451621603,1π/8,3.00304233737071e-7,-3.83726519138434,3.83698884485411,3.83610061462769,-3.83629951531048,1) │\n",
       "«q_1: ┤1                                                                                                                                                   ├\n",
       "«     └────────────────────────────────────────────────────────────────────────────────────────────────────────────────────────────────────────────────────┘"
      ]
     },
     "execution_count": 6,
     "metadata": {},
     "output_type": "execute_result"
    }
   ],
   "source": [
    "# load best from h5\n",
    "with h5py.File(f'sqiswap_fidelity.h5', 'r') as hf:\n",
    "    #save ret3\n",
    "    loss = hf['loss'][0]\n",
    "    Xk = hf['Xk'][:]\n",
    "    cycles = hf['cycles'][0]\n",
    "    cost = hf['cost'][0]\n",
    "\n",
    "# build the circuit\n",
    "print(cost, loss)\n",
    "#show the result of training\n",
    "basis.build(cycles)\n",
    "circuit =basis.assign_Xk(Xk)\n",
    "circuit.draw()"
   ]
  }
 ],
 "metadata": {
  "kernelspec": {
   "display_name": "Python 3.8.10 ('decomp_venv': venv)",
   "language": "python",
   "name": "python3"
  },
  "language_info": {
   "codemirror_mode": {
    "name": "ipython",
    "version": 3
   },
   "file_extension": ".py",
   "mimetype": "text/x-python",
   "name": "python",
   "nbconvert_exporter": "python",
   "pygments_lexer": "ipython3",
   "version": "3.8.10"
  },
  "orig_nbformat": 4,
  "vscode": {
   "interpreter": {
    "hash": "141f2845ff61560a6082741173a60265cfaf5f1fd91b5e939309b621eb5ce0f2"
   }
  }
 },
 "nbformat": 4,
 "nbformat_minor": 2
}
