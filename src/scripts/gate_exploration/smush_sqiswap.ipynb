{
 "cells": [
  {
   "cell_type": "code",
   "execution_count": 1,
   "metadata": {},
   "outputs": [],
   "source": [
    "import logging\n",
    "logger = logging.getLogger()\n",
    "logger.setLevel(logging.INFO)\n",
    "\n",
    "import sys\n",
    "sys.path.append(\"../../../\")\n",
    "\n",
    "import numpy as np\n",
    "from src.utils.visualize import plotMatrix\n",
    "\n",
    "import matplotlib.pyplot as plt\n",
    "# %matplotlib widget\n",
    "from qiskit import QuantumCircuit, BasicAer, execute\n",
    "from qiskit.visualization import plot_histogram\n",
    "from qiskit.quantum_info import mutual_information, Statevector, partial_trace, concurrence, entanglement_of_formation\n",
    "from src.basisv2 import CircuitTemplateV2\n",
    "from src.utils.custom_gates import CirculatorSNAILGate\n",
    "from src.cost_function import BasicCostInverse, BasicCost, BasicReducedCost\n",
    "from src.optimizer import TemplateOptimizer\n",
    "import h5py"
   ]
  },
  {
   "cell_type": "code",
   "execution_count": 2,
   "metadata": {},
   "outputs": [],
   "source": [
    "# use the ideas from smush volume to find a gaet taht can include sqiswap in its extended primative set\n",
    "\n",
    "from src.hamiltonian import ConversionGainPhaseHamiltonian\n",
    "from src.basisv2 import CircuitTemplateV2\n",
    "from src.utils.custom_gates import ConversionGainGate\n",
    "pp =lambda p1, p2: ConversionGainGate(p1, p2, np.pi/4, np.pi/4)\n",
    "basis = CircuitTemplateV2(n_qubits=2, base_gates=[pp], no_exterior_1q=0, vz_only=1)\n",
    "basis.build(1)\n"
   ]
  },
  {
   "cell_type": "code",
   "execution_count": 3,
   "metadata": {},
   "outputs": [],
   "source": [
    "t = 1\n",
    "duration_1q = .5\n",
    "# gc = np.pi/2\n",
    "# gg = 0*np.pi/4"
   ]
  },
  {
   "cell_type": "code",
   "execution_count": 4,
   "metadata": {},
   "outputs": [
    {
     "data": {
      "text/html": [
       "<pre style=\"word-wrap: normal;white-space: pre;background: #fff0;line-height: 1.1;font-family: &quot;Courier New&quot;,Courier,monospace\">     ┌─────────────────────────────────────────┐\n",
       "q_0: ┤0                                        ├\n",
       "     │  2qsmushgate(Q0,Q1,Q2,Q3,Q4,Q5,Q6,Q7,1) │\n",
       "q_1: ┤1                                        ├\n",
       "     └─────────────────────────────────────────┘</pre>"
      ],
      "text/plain": [
       "     ┌─────────────────────────────────────────┐\n",
       "q_0: ┤0                                        ├\n",
       "     │  2qsmushgate(Q0,Q1,Q2,Q3,Q4,Q5,Q6,Q7,1) │\n",
       "q_1: ┤1                                        ├\n",
       "     └─────────────────────────────────────────┘"
      ]
     },
     "execution_count": 4,
     "metadata": {},
     "output_type": "execute_result"
    }
   ],
   "source": [
    "from src.utils.custom_gates import ConversionGainSmushGate\n",
    "\n",
    "# NOTE first variable is tracking an offset (basically set it to 2 if counting the phase variables)\n",
    "offset = 4 # 2 if only phase, 4 if c and g\n",
    "p_expand = [offset, round(t/duration_1q), round(t/duration_1q)]\n",
    "# XXX turn p_expand into indices is tricky\n",
    "\n",
    "pp2 =lambda *vargs: ConversionGainSmushGate(vargs[0], vargs[1], vargs[2], vargs[3], vargs[offset:offset+round(t/duration_1q)], vargs[offset+round(t/duration_1q):], t_el=t)\n",
    "#pp2 =lambda *vargs: ConversionGainSmushGate(0, 0, np.pi/2, 0, vargs[:round(t/du}ration_1q)], vargs[round(t/duration_1q):], t_el=t)\n",
    "\n",
    "# circuittemplate builds # of parameters by checking the number of parameters in the lambda function to build the gate\n",
    "# because the parametes for gx and gy are vectors they only get counted once and it messes up\n",
    "# we can add an extra parameter called param_vec_expand\n",
    "# we need to use this to tell it to expand the number of parameters we should include\n",
    "# however, this will get really messy because we don't know which parameters are the vectors or not\n",
    "# be careful, this is going to be a mess :(\n",
    "basis = CircuitTemplateV2(n_qubits=2, base_gates=[pp2], no_exterior_1q=1, vz_only=0, param_vec_expand = p_expand)\n",
    "basis.spanning_range = range(1,2)\n",
    "\n",
    "basis.build(1)\n",
    "#adding constraint of 1Q params need to be positive valued\n",
    "#this could be optional let's compare what happens if include it or not\n",
    "for el in basis.circuit.parameters:\n",
    "    s_el = str(el)\n",
    "    if 'Q' in s_el:\n",
    "        basis.add_bound(s_el, 2*np.pi, -2*np.pi)\n",
    "#basis.add_bound(\"Q0\", 4*np.pi, 0)\n",
    "basis.circuit.draw()"
   ]
  },
  {
   "cell_type": "code",
   "execution_count": 5,
   "metadata": {},
   "outputs": [],
   "source": [
    "# from src.sampler import HaarSample\n",
    "# sampler = HaarSample(seed=0,n_samples=1)\n",
    "# s = [s for s in sampler][0]\n",
    "from src.utils.custom_gates import RiSwapGate, BerkeleyGate\n",
    "from src.sampler import HaarSample, GateSample\n",
    "sampler = GateSample(gate = RiSwapGate(1/2))\n",
    "sampler = GateSample(gate = BerkeleyGate())\n",
    "s = [s for s in sampler][0]"
   ]
  },
  {
   "cell_type": "code",
   "execution_count": null,
   "metadata": {},
   "outputs": [],
   "source": [
    "# Here we want to save the best cost as a function of the success threshold\n",
    "objective1 = BasicCost()\n",
    "# keep trying until success_threshold converges:\n",
    "i=0\n",
    "LB = 0\n",
    "UB = 0.75\n",
    "current_cost = (UB - LB)/2\n",
    "\n",
    "# keep trying until success_threshold converges:\n",
    "while i == 0 or np.abs(current_cost - previous_cost) > 0.0001:\n",
    "    if not current_cost is None:\n",
    "        basis.set_constraint(param_max_cost=current_cost)\n",
    "        #pass\n",
    "    #rebuild optimizer to refresh the updated f_basis obj\n",
    "    #NOTE setting the success threshold low since SWAP is very hard to find exactly\n",
    "    optimizer3 = TemplateOptimizer(basis=basis, objective=objective1, use_callback=False, override_fail=True, success_threshold = 1e-8, training_restarts=50)\n",
    "\n",
    "    _ret3 = optimizer3.approximate_target_U(s)\n",
    "    current_cost = basis.circuit_cost(_ret3.Xk)\n",
    "    print(f\"Iteration:{i}, Decomposition Result:{_ret3.loss_result}, Cost:{current_cost},\")\n",
    "\n",
    "    #search using 2 steps forward, 1 step back approach BAD\n",
    "    # I want to do a binary search between 0 and 1.5 \n",
    "    # if success, then set next cost to be current - LB / 2\n",
    "    # if fail, then set next cost to be current + (UB - current) / 2\n",
    "    \n",
    "    if _ret3.success_label:\n",
    "        ret3 = _ret3\n",
    "        #fidelities[k] = ret3\n",
    "\n",
    "        #success means can tighten the constraint\n",
    "        previous_cost = current_cost\n",
    "        current_cost = (current_cost - LB)/2\n",
    "        print(\"Success, new cost:\", current_cost)\n",
    "\n",
    "        # save best cost as we find it \n",
    "        with h5py.File(f'sqiswap_fidelity.h5', 'w') as hf:\n",
    "            #save ret3\n",
    "            hf.create_dataset('loss', data=[ret3.loss_result])\n",
    "            hf.create_dataset('Xk', data=ret3.Xk)\n",
    "            hf.create_dataset('cost', data=[current_cost])\n",
    "            hf.create_dataset('cycles', data=[ret3.cycles])\n",
    "\n",
    "    else:\n",
    "        #fail means loosen the constraint\n",
    "        previous_cost = current_cost\n",
    "        current_cost = current_cost + (UB - current_cost)/2\n",
    "        print(\"Fail, new cost:\", current_cost)\n",
    "\n",
    "    i+=1"
   ]
  },
  {
   "cell_type": "code",
   "execution_count": 6,
   "metadata": {},
   "outputs": [
    {
     "name": "stdout",
     "output_type": "stream",
     "text": [
      "0.12500000000001749 0.0614742657534455\n"
     ]
    },
    {
     "data": {
      "text/html": [
       "<pre style=\"word-wrap: normal;white-space: pre;background: #fff0;line-height: 1.1;font-family: &quot;Courier New&quot;,Courier,monospace\">     »\n",
       "q_0: »\n",
       "     »\n",
       "q_1: »\n",
       "     »\n",
       "«     ┌────────────────────────────────────────────────────────────────────────────────────────────────────────────────────────────────────────────────────┐\n",
       "«q_0: ┤0                                                                                                                                                   ├\n",
       "«     │  2qsmushgate(-3.14166745223154,-3.53809451621603,1π/8,3.00304233737071e-7,-3.83726519138434,3.83698884485411,3.83610061462769,-3.83629951531048,1) │\n",
       "«q_1: ┤1                                                                                                                                                   ├\n",
       "«     └────────────────────────────────────────────────────────────────────────────────────────────────────────────────────────────────────────────────────┘</pre>"
      ],
      "text/plain": [
       "     »\n",
       "q_0: »\n",
       "     »\n",
       "q_1: »\n",
       "     »\n",
       "«     ┌────────────────────────────────────────────────────────────────────────────────────────────────────────────────────────────────────────────────────┐\n",
       "«q_0: ┤0                                                                                                                                                   ├\n",
       "«     │  2qsmushgate(-3.14166745223154,-3.53809451621603,1π/8,3.00304233737071e-7,-3.83726519138434,3.83698884485411,3.83610061462769,-3.83629951531048,1) │\n",
       "«q_1: ┤1                                                                                                                                                   ├\n",
       "«     └────────────────────────────────────────────────────────────────────────────────────────────────────────────────────────────────────────────────────┘"
      ]
     },
     "execution_count": 6,
     "metadata": {},
     "output_type": "execute_result"
    }
   ],
   "source": [
    "# load best from h5\n",
    "with h5py.File(f'sqiswap_fidelity.h5', 'r') as hf:\n",
    "    #save ret3\n",
    "    loss = hf['loss'][0]\n",
    "    Xk = hf['Xk'][:]\n",
    "    cycles = hf['cycles'][0]\n",
    "    cost = hf['cost'][0]\n",
    "\n",
    "# build the circuit\n",
    "print(cost, loss)\n",
    "#show the result of training\n",
    "basis.build(cycles)\n",
    "circuit =basis.assign_Xk(Xk)\n",
    "circuit.draw()"
   ]
  }
 ],
 "metadata": {
  "kernelspec": {
   "display_name": "Python 3.8.10 ('decomp_venv': venv)",
   "language": "python",
   "name": "python3"
  },
  "language_info": {
   "codemirror_mode": {
    "name": "ipython",
    "version": 3
   },
   "file_extension": ".py",
   "mimetype": "text/x-python",
   "name": "python",
   "nbconvert_exporter": "python",
   "pygments_lexer": "ipython3",
   "version": "3.8.10"
  },
  "orig_nbformat": 4,
  "vscode": {
   "interpreter": {
    "hash": "141f2845ff61560a6082741173a60265cfaf5f1fd91b5e939309b621eb5ce0f2"
   }
  }
 },
 "nbformat": 4,
 "nbformat_minor": 2
}
