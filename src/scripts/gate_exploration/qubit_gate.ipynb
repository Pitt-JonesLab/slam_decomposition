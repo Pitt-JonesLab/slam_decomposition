{
 "cells": [
  {
   "cell_type": "code",
   "execution_count": 1,
   "metadata": {},
   "outputs": [],
   "source": [
    "import logging\n",
    "logger = logging.getLogger()\n",
    "logger.setLevel(logging.INFO)\n",
    "\n",
    "import sys\n",
    "sys.path.append(\"../../..\")\n",
    "\n",
    "import numpy as np\n",
    "from src.utils.visualize import plotMatrix\n",
    "\n",
    "import matplotlib.pyplot as plt\n",
    "# %matplotlib widget\n",
    "from qiskit import QuantumCircuit, BasicAer, execute\n",
    "from qiskit.visualization import plot_histogram\n",
    "from qiskit.quantum_info import mutual_information, Statevector, partial_trace, concurrence, entanglement_of_formation\n",
    "from src.basisv2 import CircuitTemplateV2\n",
    "from src.utils.custom_gates import CirculatorSNAILGate\n",
    "from src.cost_function import BasicCostInverse, BasicCost, BasicReducedCost\n",
    "from src.optimizer import TemplateOptimizer\n",
    "import h5py"
   ]
  },
  {
   "cell_type": "markdown",
   "metadata": {},
   "source": [
    "Using a wrapper lambda to fix parameter values in the basis gate for all search time. (Alternative is to fix only at beginning by overriding the beginning parameter guess - say if want to start near some known value but on new attempt let other variable that were previously fixed have some wiggle room)"
   ]
  },
  {
   "cell_type": "code",
   "execution_count": 2,
   "metadata": {},
   "outputs": [],
   "source": [
    "# from src.basisv2 import CircuitTemplateV2\n",
    "# from src.utils.custom_gates import CirculatorSNAILGate\n",
    "# bind_lambda = lambda g_ab, t: CirculatorSNAILGate(0, 0, 0, np.pi/2, 0, 0, t)\n",
    "# basis = CircuitTemplateV2(n_qubits=3, base_gates = [bind_lambda], edge_params=[[(0,1,2)]])\n",
    "# basis.build(2)\n",
    "# basis.spanning_range = range(2,3)\n",
    "# basis.circuit.draw(output='mpl')"
   ]
  },
  {
   "cell_type": "code",
   "execution_count": 3,
   "metadata": {},
   "outputs": [],
   "source": [
    "# basis.add_bound(\"Q1\", max=1, min=0)\n",
    "# basis.add_bound(\"Q3\", max=1, min=0)"
   ]
  },
  {
   "cell_type": "markdown",
   "metadata": {},
   "source": [
    "This template is same as from continuous_basis now, we have 2 iswap gates that are free to adjust their times. However, we have a 3rd qubit ancilla. That probably is not very helpful - we should remove it and just rewrite the gate class to be more adaptive. I think this test is at least a good way to quantify how much harder the increased hilbert space is for training - keeping the 3rd qubit just as ancilla."
   ]
  },
  {
   "cell_type": "code",
   "execution_count": 4,
   "metadata": {},
   "outputs": [],
   "source": [
    "# from src.cost_function import BasicCostInverse, BasicCost\n",
    "# objective1 = BasicCost()\n",
    "# objective2 = BasicCostInverse()\n",
    "# from src.optimizer import TemplateOptimizer\n",
    "# optimizer = TemplateOptimizer(basis=basis, objective=objective1, use_callback=False, override_fail=True)"
   ]
  },
  {
   "cell_type": "code",
   "execution_count": 5,
   "metadata": {},
   "outputs": [],
   "source": [
    "# from src.sampler import HaarSample\n",
    "# sampler = HaarSample(seed=0,n_samples=1)\n",
    "# s = [s for s in sampler][0]\n",
    "# s = np.kron(s, np.eye(2))\n",
    "# ret = optimizer.approximate_target_U(s)"
   ]
  },
  {
   "cell_type": "code",
   "execution_count": 6,
   "metadata": {},
   "outputs": [],
   "source": [
    "# basis.build(ret.cycles)\n",
    "# circuit =basis.assign_Xk(ret.Xk)\n",
    "# print(\"Decomposition Fidelity\", objective1.unitary_fidelity(basis.eval(ret.Xk), s))\n",
    "# print(\"Circuit Fidelity\", basis.circuit_fidelity(ret.Xk))\n",
    "# print(\"Total Fidelity\", 1-ret.loss_result)\n",
    "# circuit.draw(output='mpl')"
   ]
  },
  {
   "cell_type": "code",
   "execution_count": 7,
   "metadata": {},
   "outputs": [
    {
     "data": {
      "image/png": "[encoded data removed]",
      "text/plain": [
       "<Figure size 1350.65x144.48 with 1 Axes>"
      ]
     },
     "execution_count": 7,
     "metadata": {},
     "output_type": "execute_result"
    }
   ],
   "source": [
    "from src.basisv2 import CircuitTemplateV2\n",
    "from src.utils.custom_gates import RiSwapGate\n",
    "from src.utils.custom_gates import ConversionGainSmushGate, ConversionGainGate\n",
    "\n",
    "\n",
    "# if using riswap\n",
    "# basis = CircuitTemplateV2(n_qubits=2, base_gates = [RiSwapGate], edge_params=[[(0,1)]])\n",
    "# basis_str = \"riswap\"\n",
    "\n",
    "# if using the 2Q gate\n",
    "duration_1q = 0.25\n",
    "varg_offset = 2\n",
    "t= 1.0\n",
    "pp2 =lambda *vargs: ConversionGainSmushGate(0,0 , vargs[0], vargs[1], vargs[varg_offset:varg_offset+round(t/duration_1q)], vargs[varg_offset+round(t/duration_1q):], t_el=t)\n",
    "basis = CircuitTemplateV2(n_qubits=2, base_gates = [pp2], edge_params=[[(0,1)]], vz_only=True, param_vec_expand=[varg_offset,round(t/duration_1q),round(t/duration_1q)])\n",
    "basis_str = \"CG2Q\"\n",
    "\n",
    "# need to build first before can assign bounds\n",
    "basis.build(3)\n",
    "basis.spanning_range = range(3,6)\n",
    "\n",
    "#for all smush gates make bounds\n",
    "bounds_1q = 4*np.pi\n",
    "for el in basis.circuit.parameters:\n",
    "    s_el = str(el)\n",
    "    if 'Q' in s_el:\n",
    "        basis.add_bound(s_el, bounds_1q, -bounds_1q)\n",
    "\n",
    "# manually set the gc, gg bounds\n",
    "for el in basis.circuit.parameters:\n",
    "    s_el = str(el)\n",
    "    if s_el in [\"Q0\", \"Q1\", \"Q22\", \"Q23\", \"Q44\", \"Q45\"]:\n",
    "        basis.add_bound(s_el, 0.5*np.pi, 0)\n",
    "\n",
    "\n",
    "# print out for confirmation \n",
    "basis.circuit.draw(output='mpl')"
   ]
  },
  {
   "cell_type": "code",
   "execution_count": 8,
   "metadata": {},
   "outputs": [],
   "source": [
    "# from src.sampler import HaarSample\n",
    "# sampler = HaarSample(seed=0,n_samples=1)\n",
    "# s = [s for s in sampler][0]\n",
    "\n",
    "from src.sampler import HaarSample, GateSample\n",
    "#sampler = HaarSample(seed=0,n_samples=1) #don't care\n",
    "from qiskit.circuit.library import CXGate, CZGate, SwapGate\n",
    "#sampler = GateSample(gate = CZGate())\n",
    "#sampler = GateSample(gate = CZGate())\n",
    "sampler = GateSample(gate = SwapGate())\n",
    "s = [s for s in sampler][0]"
   ]
  },
  {
   "cell_type": "code",
   "execution_count": 9,
   "metadata": {},
   "outputs": [],
   "source": [
    "# # Here we want to save the best cost as a function of the success threshold\n",
    "# success_thresholds = [0.99, 0.999, 0.9999, 0.99999, 0.999999]\n",
    "# fidelities = [None]*len(success_thresholds)\n",
    "# for k, success_threshold in enumerate(success_thresholds):\n",
    "#     objective1 = BasicCost()\n",
    "#     # keep trying until success_threshold converges:\n",
    "#     i=0\n",
    "#     LB = 1.25\n",
    "#     UB = 1.5\n",
    "#     current_cost = (UB - LB)/2\n",
    "\n",
    "#     # keep trying until success_threshold converges:\n",
    "#     while i == 0 or np.abs(current_cost - previous_cost) > 0.01:\n",
    "#         if not current_cost is None:\n",
    "#             basis.set_constraint(param_max_cost=current_cost)\n",
    "#             #pass\n",
    "#         #rebuild optimizer to refresh the updated f_basis obj\n",
    "#         #NOTE setting the success threshold low since SWAP is very hard to find exactly\n",
    "#         optimizer3 = TemplateOptimizer(basis=basis, objective=objective1, use_callback=False, override_fail=True, success_threshold = 1- success_threshold, training_restarts=25)\n",
    "\n",
    "#         _ret3 = optimizer3.approximate_target_U(s)\n",
    "#         current_cost = basis.circuit_cost(_ret3.Xk)\n",
    "#         print(f\"Iteration:{i}, Decomposition Result:{_ret3.loss_result}, Cost:{current_cost},\")\n",
    "\n",
    "#         #search using 2 steps forward, 1 step back approach BAD\n",
    "#         # I want to do a binary search between 0 and 1.5 \n",
    "#         # if success, then set next cost to be current - LB / 2\n",
    "#         # if fail, then set next cost to be current + (UB - current) / 2\n",
    "        \n",
    "#         if _ret3.success_label:\n",
    "#             ret3 = _ret3\n",
    "#             fidelities[k] = ret3\n",
    "\n",
    "#             #success means can tighten the constraint\n",
    "#             previous_cost = current_cost\n",
    "#             current_cost = (current_cost - LB)/2\n",
    "#             print(\"Success, new cost:\", current_cost)\n",
    "\n",
    "#         else:\n",
    "#             #fail means loosen the constraint\n",
    "#             previous_cost = current_cost\n",
    "#             current_cost = current_cost + (UB - current_cost)/2\n",
    "#             print(\"Fail, new cost:\", current_cost)\n",
    "    \n",
    "#         i+=1\n",
    "\n",
    "#     # save fidelities to h5 file\n",
    "#     with h5py.File(f'swap_fidelities_{basis_str}.h5', 'a') as hf:\n",
    "#         #if dataset exists, delete it\n",
    "#         if f\"success_{success_threshold}\" in hf:\n",
    "#             del hf[f\"success_{success_threshold}\"]\n",
    "#         hf.create_dataset(f\"success_{success_threshold}\", data=fidelities[k])"
   ]
  },
  {
   "cell_type": "code",
   "execution_count": 10,
   "metadata": {},
   "outputs": [
    {
     "data": {
      "image/png": "[encoded data removed]",
      "text/plain": [
       "<Figure size 432x288 with 1 Axes>"
      ]
     },
     "metadata": {
      "needs_background": "light"
     },
     "output_type": "display_data"
    }
   ],
   "source": [
    "# load from file\n",
    "basis_str_list = [\"riswap\", \"CG2Q\"]\n",
    "for basis_str in basis_str_list:\n",
    "    cost_list = np.linspace(1, 1.5, 16)\n",
    "    cost_list2 = []\n",
    "    loss_list = []\n",
    "    with h5py.File(f'swap_fidelities_{basis_str}.h5', 'r') as hf:\n",
    "        for k in hf.keys():\n",
    "            loss = hf[k]['loss'][0]\n",
    "            cost = hf[k]['cost'][0]\n",
    "            cost_list2.append(cost)\n",
    "            loss_list.append(loss)\n",
    "            #print(f\"Cost: {cost}, Loss: {loss}\")\n",
    "        # plot\n",
    "        plt.plot(cost_list2, loss_list, 'o-', label=basis_str)\n",
    "    \n",
    "    #only show x-axis from 1.4 to 1.5\n",
    "    #plt.xlim(1.4, 1.5)\n",
    "    plt.legend()\n",
    "    plt.xlabel(\"Cost\")\n",
    "    plt.ylabel(\"Loss\")"
   ]
  },
  {
   "cell_type": "code",
   "execution_count": 13,
   "metadata": {},
   "outputs": [],
   "source": [
    "# ^ Redo with SWAP, CNOT, B, Haar\n",
    "# adjusting the bounds to be more meaningful"
   ]
  },
  {
   "cell_type": "code",
   "execution_count": 17,
   "metadata": {},
   "outputs": [
    {
     "ename": "NameError",
     "evalue": "name 'ret3' is not defined",
     "output_type": "error",
     "traceback": [
      "\u001b[0;31m---------------------------------------------------------------------------\u001b[0m",
      "\u001b[0;31mNameError\u001b[0m                                 Traceback (most recent call last)",
      "\u001b[1;32m/home/evm9/decomposition_EM/src/scripts/gate_exploration/qubit_gate.ipynb Cell 14\u001b[0m in \u001b[0;36m<cell line: 1>\u001b[0;34m()\u001b[0m\n\u001b[0;32m----> <a href='vscode-notebook-cell://ssh-remote%2B7b22686f73744e616d65223a224f707469706c6578227d/home/evm9/decomposition_EM/src/scripts/gate_exploration/qubit_gate.ipynb#X16sdnNjb2RlLXJlbW90ZQ%3D%3D?line=0'>1</a>\u001b[0m basis\u001b[39m.\u001b[39mbuild(ret3\u001b[39m.\u001b[39mcycles)\n\u001b[1;32m      <a href='vscode-notebook-cell://ssh-remote%2B7b22686f73744e616d65223a224f707469706c6578227d/home/evm9/decomposition_EM/src/scripts/gate_exploration/qubit_gate.ipynb#X16sdnNjb2RlLXJlbW90ZQ%3D%3D?line=1'>2</a>\u001b[0m circuit \u001b[39m=\u001b[39mbasis\u001b[39m.\u001b[39massign_Xk(ret3\u001b[39m.\u001b[39mXk)\n\u001b[1;32m      <a href='vscode-notebook-cell://ssh-remote%2B7b22686f73744e616d65223a224f707469706c6578227d/home/evm9/decomposition_EM/src/scripts/gate_exploration/qubit_gate.ipynb#X16sdnNjb2RlLXJlbW90ZQ%3D%3D?line=2'>3</a>\u001b[0m \u001b[39mprint\u001b[39m(\u001b[39m\"\u001b[39m\u001b[39mCircuit duration cost\u001b[39m\u001b[39m\"\u001b[39m, basis\u001b[39m.\u001b[39mcircuit_cost(_ret3\u001b[39m.\u001b[39mXk))\n",
      "\u001b[0;31mNameError\u001b[0m: name 'ret3' is not defined"
     ]
    }
   ],
   "source": [
    "basis.build(ret3.cycles)\n",
    "circuit =basis.assign_Xk(ret3.Xk)\n",
    "print(\"Circuit duration cost\", basis.circuit_cost(_ret3.Xk))\n",
    "print(\"Decomposition Fidelity\", objective1.unitary_fidelity(basis.eval(ret3.Xk), s))\n",
    "# print(\"Circuit Fidelity\", basis.circuit_fidelity(ret3.Xk))\n",
    "print(\"Total Fidelity\", 1-ret3.loss_result)\n",
    "circuit.draw(output='mpl')"
   ]
  }
 ],
 "metadata": {
  "kernelspec": {
   "display_name": "Python 3.8.10 ('decomp_venv': venv)",
   "language": "python",
   "name": "python3"
  },
  "language_info": {
   "codemirror_mode": {
    "name": "ipython",
    "version": 3
   },
   "file_extension": ".py",
   "mimetype": "text/x-python",
   "name": "python",
   "nbconvert_exporter": "python",
   "pygments_lexer": "ipython3",
   "version": "3.8.10"
  },
  "orig_nbformat": 4,
  "vscode": {
   "interpreter": {
    "hash": "8458c2db8745e513b658ab31603256ba78a013051ccc1ae9ae2e6e521b9ef2ea"
   }
  }
 },
 "nbformat": 4,
 "nbformat_minor": 2
}
