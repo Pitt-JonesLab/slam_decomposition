{
 "cells": [
  {
   "cell_type": "code",
   "execution_count": 1,
   "metadata": {},
   "outputs": [],
   "source": [
    "import logging\n",
    "logger = logging.getLogger()\n",
    "logger.setLevel(logging.INFO)\n",
    "\n",
    "import sys\n",
    "sys.path.append(\"../../..\")\n",
    "\n",
    "import numpy as np\n",
    "from src.utils.visualize import plotMatrix\n",
    "\n",
    "import matplotlib.pyplot as plt\n",
    "# %matplotlib widget\n",
    "from qiskit import QuantumCircuit, BasicAer, execute\n",
    "from qiskit.visualization import plot_histogram\n",
    "from qiskit.quantum_info import mutual_information, Statevector, partial_trace, concurrence, entanglement_of_formation\n",
    "from src.basisv2 import CircuitTemplateV2\n",
    "from src.utils.custom_gates import CirculatorSNAILGate\n",
    "from src.cost_function import BasicCostInverse, BasicCost, BasicReducedCost\n",
    "from src.optimizer import TemplateOptimizer\n",
    "import h5py"
   ]
  },
  {
   "cell_type": "markdown",
   "metadata": {},
   "source": [
    "Using a wrapper lambda to fix parameter values in the basis gate for all search time. (Alternative is to fix only at beginning by overriding the beginning parameter guess - say if want to start near some known value but on new attempt let other variable that were previously fixed have some wiggle room)"
   ]
  },
  {
   "cell_type": "code",
   "execution_count": 2,
   "metadata": {},
   "outputs": [],
   "source": [
    "# from src.basisv2 import CircuitTemplateV2\n",
    "# from src.utils.custom_gates import CirculatorSNAILGate\n",
    "# bind_lambda = lambda g_ab, t: CirculatorSNAILGate(0, 0, 0, np.pi/2, 0, 0, t)\n",
    "# basis = CircuitTemplateV2(n_qubits=3, base_gates = [bind_lambda], edge_params=[[(0,1,2)]])\n",
    "# basis.build(2)\n",
    "# basis.spanning_range = range(2,3)\n",
    "# basis.circuit.draw(output='mpl')"
   ]
  },
  {
   "cell_type": "code",
   "execution_count": 3,
   "metadata": {},
   "outputs": [],
   "source": [
    "# basis.add_bound(\"Q1\", max=1, min=0)\n",
    "# basis.add_bound(\"Q3\", max=1, min=0)"
   ]
  },
  {
   "cell_type": "markdown",
   "metadata": {},
   "source": [
    "This template is same as from continuous_basis now, we have 2 iswap gates that are free to adjust their times. However, we have a 3rd qubit ancilla. That probably is not very helpful - we should remove it and just rewrite the gate class to be more adaptive. I think this test is at least a good way to quantify how much harder the increased hilbert space is for training - keeping the 3rd qubit just as ancilla."
   ]
  },
  {
   "cell_type": "code",
   "execution_count": 4,
   "metadata": {},
   "outputs": [],
   "source": [
    "# from src.cost_function import BasicCostInverse, BasicCost\n",
    "# objective1 = BasicCost()\n",
    "# objective2 = BasicCostInverse()\n",
    "# from src.optimizer import TemplateOptimizer\n",
    "# optimizer = TemplateOptimizer(basis=basis, objective=objective1, use_callback=False, override_fail=True)"
   ]
  },
  {
   "cell_type": "code",
   "execution_count": 5,
   "metadata": {},
   "outputs": [],
   "source": [
    "# from src.sampler import HaarSample\n",
    "# sampler = HaarSample(seed=0,n_samples=1)\n",
    "# s = [s for s in sampler][0]\n",
    "# s = np.kron(s, np.eye(2))\n",
    "# ret = optimizer.approximate_target_U(s)"
   ]
  },
  {
   "cell_type": "code",
   "execution_count": 6,
   "metadata": {},
   "outputs": [],
   "source": [
    "# basis.build(ret.cycles)\n",
    "# circuit =basis.assign_Xk(ret.Xk)\n",
    "# print(\"Decomposition Fidelity\", objective1.unitary_fidelity(basis.eval(ret.Xk), s))\n",
    "# print(\"Circuit Fidelity\", basis.circuit_fidelity(ret.Xk))\n",
    "# print(\"Total Fidelity\", 1-ret.loss_result)\n",
    "# circuit.draw(output='mpl')"
   ]
  },
  {
   "cell_type": "code",
   "execution_count": 7,
   "metadata": {},
   "outputs": [
    {
     "data": {
      "image/png": "[encoded data removed]",
      "text/plain": [
       "<Figure size 1410.85x144.48 with 1 Axes>"
      ]
     },
     "execution_count": 7,
     "metadata": {},
     "output_type": "execute_result"
    }
   ],
   "source": [
    "from src.basisv2 import CircuitTemplateV2\n",
    "from src.utils.custom_gates import RiSwapGate\n",
    "from src.utils.custom_gates import ConversionGainSmushGate, ConversionGainGate\n",
    "\n",
    "\n",
    "# if using riswap\n",
    "basis = CircuitTemplateV2(n_qubits=2, base_gates = [RiSwapGate], edge_params=[[(0,1)]])\n",
    "basis_str = \"riswap\"\n",
    "\n",
    "# if using the 2Q gate\n",
    "# pp2 =lambda *vargs: ConversionGainGate(0,0 , vargs[0], vargs[1], t_el=1.0)\n",
    "# basis = CircuitTemplateV2(n_qubits=2, base_gates = [pp2], edge_params=[[(0,1)]], param_vec_expand=[2,1,1])\n",
    "# basis_str = \"CG2Q\"\n",
    "\n",
    "# need to build first before can assign bounds\n",
    "basis.build(5)\n",
    "basis.spanning_range = range(3,6)\n",
    "\n",
    "#bound all Qs to be >0\n",
    "for el in basis.circuit.parameters:\n",
    "    s_el = str(el)\n",
    "    if 'Q' in s_el:\n",
    "        basis.add_bound(s_el, 0.5, 0)\n",
    "\n",
    "# print out for confirmation \n",
    "basis.circuit.draw(output='mpl')"
   ]
  },
  {
   "cell_type": "code",
   "execution_count": 8,
   "metadata": {},
   "outputs": [],
   "source": [
    "# from src.sampler import HaarSample\n",
    "# sampler = HaarSample(seed=0,n_samples=1)\n",
    "# s = [s for s in sampler][0]\n",
    "\n",
    "from src.sampler import HaarSample, GateSample\n",
    "#sampler = HaarSample(seed=0,n_samples=1) #don't care\n",
    "from qiskit.circuit.library import CXGate, CZGate, SwapGate\n",
    "#sampler = GateSample(gate = CZGate())\n",
    "#sampler = GateSample(gate = CZGate())\n",
    "sampler = GateSample(gate = SwapGate())\n",
    "s = [s for s in sampler][0]"
   ]
  },
  {
   "cell_type": "code",
   "execution_count": null,
   "metadata": {},
   "outputs": [],
   "source": [
    "# # Here we want to save the best cost as a function of the success threshold\n",
    "# success_thresholds = [0.99, 0.999, 0.9999, 0.99999, 0.999999]\n",
    "# fidelities = [None]*len(success_thresholds)\n",
    "# for k, success_threshold in enumerate(success_thresholds):\n",
    "#     objective1 = BasicCost()\n",
    "#     # keep trying until success_threshold converges:\n",
    "#     i=0\n",
    "#     LB = 1.25\n",
    "#     UB = 1.5\n",
    "#     current_cost = (UB - LB)/2\n",
    "\n",
    "#     # keep trying until success_threshold converges:\n",
    "#     while i == 0 or np.abs(current_cost - previous_cost) > 0.01:\n",
    "#         if not current_cost is None:\n",
    "#             basis.set_constraint(param_max_cost=current_cost)\n",
    "#             #pass\n",
    "#         #rebuild optimizer to refresh the updated f_basis obj\n",
    "#         #NOTE setting the success threshold low since SWAP is very hard to find exactly\n",
    "#         optimizer3 = TemplateOptimizer(basis=basis, objective=objective1, use_callback=False, override_fail=True, success_threshold = 1- success_threshold, training_restarts=25)\n",
    "\n",
    "#         _ret3 = optimizer3.approximate_target_U(s)\n",
    "#         current_cost = basis.circuit_cost(_ret3.Xk)\n",
    "#         print(f\"Iteration:{i}, Decomposition Result:{_ret3.loss_result}, Cost:{current_cost},\")\n",
    "\n",
    "#         #search using 2 steps forward, 1 step back approach BAD\n",
    "#         # I want to do a binary search between 0 and 1.5 \n",
    "#         # if success, then set next cost to be current - LB / 2\n",
    "#         # if fail, then set next cost to be current + (UB - current) / 2\n",
    "        \n",
    "#         if _ret3.success_label:\n",
    "#             ret3 = _ret3\n",
    "#             fidelities[k] = ret3\n",
    "\n",
    "#             #success means can tighten the constraint\n",
    "#             previous_cost = current_cost\n",
    "#             current_cost = (current_cost - LB)/2\n",
    "#             print(\"Success, new cost:\", current_cost)\n",
    "\n",
    "#         else:\n",
    "#             #fail means loosen the constraint\n",
    "#             previous_cost = current_cost\n",
    "#             current_cost = current_cost + (UB - current_cost)/2\n",
    "#             print(\"Fail, new cost:\", current_cost)\n",
    "    \n",
    "#         i+=1\n",
    "\n",
    "#     # save fidelities to h5 file\n",
    "#     with h5py.File(f'swap_fidelities_{basis_str}.h5', 'a') as hf:\n",
    "#         #if dataset exists, delete it\n",
    "#         if f\"success_{success_threshold}\" in hf:\n",
    "#             del hf[f\"success_{success_threshold}\"]\n",
    "#         hf.create_dataset(f\"success_{success_threshold}\", data=fidelities[k])"
   ]
  },
  {
   "cell_type": "code",
   "execution_count": 14,
   "metadata": {},
   "outputs": [
    {
     "name": "stdout",
     "output_type": "stream",
     "text": [
      "Success Threshold: 0.99, Loss: [0.00920635], Cost: [1.34489258]\n",
      "Success Threshold: 0.999, Loss: [0.00075984], Cost: [1.45142365]\n",
      "Success Threshold: 0.9999, Loss: [6.35836601e-05], Cost: [1.48346138]\n",
      "Success Threshold: 0.99999, Loss: [6.35836601e-05], Cost: [1.49462891]\n",
      "Success Threshold: 0.999999, Loss: [6.35836601e-05], Cost: [1.49462891]\n"
     ]
    }
   ],
   "source": [
    "# load from file\n",
    "with h5py.File(f'swap_fidelities_{basis_str}.h5', 'r') as hf:\n",
    "    for k, success_threshold in enumerate(success_thresholds):\n",
    "        loss = hf[f\"success_{success_threshold}\"]['loss'][...]\n",
    "        cost = hf[f\"success_{success_threshold}\"]['cost'][...]\n",
    "        print(f\"Success Threshold: {success_threshold}, Loss: {loss}, Cost: {cost}\")"
   ]
  },
  {
   "cell_type": "code",
   "execution_count": null,
   "metadata": {},
   "outputs": [
    {
     "name": "stdout",
     "output_type": "stream",
     "text": [
      "Circuit duration cost 1.35\n",
      "Decomposition Fidelity 4.367250927561628e-07\n",
      "Total Fidelity 0.9999995632749072\n"
     ]
    },
    {
     "data": {
      "image/png": "[encoded data removed]",
      "text/plain": [
       "<Figure size 1591.45x325.08 with 1 Axes>"
      ]
     },
     "execution_count": 62,
     "metadata": {},
     "output_type": "execute_result"
    }
   ],
   "source": [
    "basis.build(ret3.cycles)\n",
    "circuit =basis.assign_Xk(ret3.Xk)\n",
    "print(\"Circuit duration cost\", basis.circuit_cost(_ret3.Xk))\n",
    "print(\"Decomposition Fidelity\", objective1.unitary_fidelity(basis.eval(ret3.Xk), s))\n",
    "# print(\"Circuit Fidelity\", basis.circuit_fidelity(ret3.Xk))\n",
    "print(\"Total Fidelity\", 1-ret3.loss_result)\n",
    "circuit.draw(output='mpl')"
   ]
  }
 ],
 "metadata": {
  "kernelspec": {
   "display_name": "Python 3.8.10 ('decomp_venv': venv)",
   "language": "python",
   "name": "python3"
  },
  "language_info": {
   "codemirror_mode": {
    "name": "ipython",
    "version": 3
   },
   "file_extension": ".py",
   "mimetype": "text/x-python",
   "name": "python",
   "nbconvert_exporter": "python",
   "pygments_lexer": "ipython3",
   "version": "3.8.10"
  },
  "orig_nbformat": 4,
  "vscode": {
   "interpreter": {
    "hash": "8458c2db8745e513b658ab31603256ba78a013051ccc1ae9ae2e6e521b9ef2ea"
   }
  }
 },
 "nbformat": 4,
 "nbformat_minor": 2
}
