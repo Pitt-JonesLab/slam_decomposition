{
 "cells": [
  {
   "cell_type": "code",
   "execution_count": 2,
   "metadata": {},
   "outputs": [],
   "source": [
    "import logging\n",
    "logger = logging.getLogger()\n",
    "logger.setLevel(logging.INFO)\n",
    "\n",
    "%matplotlib widget\n",
    "import sys\n",
    "sys.path.append(\"../../../\")\n",
    "import numpy as np\n",
    "from src.utils.visualize import plot_coverage_set\n",
    "from src.basis import MixedOrderBasisCircuitTemplate\n",
    "from src.utils.custom_gates import ConversionGainGate"
   ]
  },
  {
   "cell_type": "code",
   "execution_count": 3,
   "metadata": {},
   "outputs": [],
   "source": [
    "# #coverage of an arbitrary gate \n",
    "# # will load coverage polytope from file in template constructor or create it if it doesn't exist\n",
    "# base_gate = ConversionGainGate(0,0, np.pi/8, 3*np.pi/8, 1/2)\n",
    "# template = MixedOrderBasisCircuitTemplate(base_gates=[base_gate], chatty_build=0, bare_cost=True)\n",
    "# plot_coverage_set(template.coverage[:], save=0, filename=f\"coverage_set_custom\") "
   ]
  },
  {
   "cell_type": "code",
   "execution_count": 4,
   "metadata": {},
   "outputs": [],
   "source": [
    "iswap = np.pi/2, 0, 1, \"iSwap\", 3\n",
    "sqiswap = np.pi/2, 0, 1/2, \"sqiSwap\", 3\n",
    "cnot = np.pi/4, np.pi/4, 1, \"CNOT\", 3\n",
    "sqcnot = np.pi/4, np.pi/4, 1/2, \"sqCNOT\", 6\n",
    "b = 3*np.pi/8, np.pi/8, 1, \"B\", 2\n",
    "sqb = 3*np.pi/8, np.pi/8, 1/2,  \"sqB\", 4\n",
    "gate_list = [iswap, sqiswap, cnot, sqcnot, b, sqb]"
   ]
  },
  {
   "cell_type": "code",
   "execution_count": null,
   "metadata": {},
   "outputs": [],
   "source": [
    "use_smush = 1\n",
    "for gate_prop in gate_list[:]:\n",
    "    base_gate = ConversionGainGate(0,0, *gate_prop[:3])\n",
    "    template = MixedOrderBasisCircuitTemplate(base_gates=[base_gate], chatty_build=0, bare_cost=True, use_smush_polytope=use_smush)\n",
    "    fname = f\"coverage_set_{gate_prop[3]}\"\n",
    "    if use_smush:\n",
    "        fname += \"_smush\"\n",
    "\n",
    "    poly_list = template.coverage\n",
    "    plot_coverage_set(poly_list[:], save=1, filename=fname) "
   ]
  }
 ],
 "metadata": {
  "kernelspec": {
   "display_name": "Python 3.8.10 ('decomp_venv': venv)",
   "language": "python",
   "name": "python3"
  },
  "language_info": {
   "codemirror_mode": {
    "name": "ipython",
    "version": 3
   },
   "file_extension": ".py",
   "mimetype": "text/x-python",
   "name": "python",
   "nbconvert_exporter": "python",
   "pygments_lexer": "ipython3",
   "version": "3.8.10"
  },
  "orig_nbformat": 4,
  "vscode": {
   "interpreter": {
    "hash": "141f2845ff61560a6082741173a60265cfaf5f1fd91b5e939309b621eb5ce0f2"
   }
  }
 },
 "nbformat": 4,
 "nbformat_minor": 2
}
