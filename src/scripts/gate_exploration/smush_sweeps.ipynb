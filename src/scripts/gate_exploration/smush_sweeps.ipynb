{
 "cells": [
  {
   "cell_type": "code",
   "execution_count": 3,
   "metadata": {},
   "outputs": [],
   "source": [
    "# this notebook is for sweepign the smush experiment parameters\n",
    "# I want to see primarily how timestep and U parameter range affect the results"
   ]
  },
  {
   "cell_type": "code",
   "execution_count": 4,
   "metadata": {},
   "outputs": [],
   "source": [
    "import logging\n",
    "logger = logging.getLogger()\n",
    "logger.setLevel(logging.INFO)\n",
    "\n",
    "import sys\n",
    "sys.path.append(\"../../../\")\n",
    "\n",
    "import numpy as np\n",
    "\n",
    "%matplotlib widget\n",
    "\n",
    "from src.utils.visualize import unitary_2dlist_weyl, coordinate_2dlist_weyl\n",
    "from qiskit.quantum_info import Operator\n",
    "from weylchamber import c1c2c3\n",
    "import h5py\n",
    "#from tqdm.notebook import tqdm as tqdm\n",
    "from tqdm import tqdm\n",
    "\n",
    "filename = \"/home/evm9/decomposition_EM/data/smush_unitary_sweep.h5\"\n",
    "\n",
    "from src.basisv2 import CircuitTemplateV2\n",
    "from src.utils.custom_gates import CirculatorSNAILGate\n",
    "from src.cost_function import BasicCostInverse, BasicCost, BasicReducedCost\n",
    "from src.optimizer import TemplateOptimizer\n",
    "import h5py"
   ]
  },
  {
   "cell_type": "code",
   "execution_count": 5,
   "metadata": {},
   "outputs": [],
   "source": [
    "t = 1\n",
    "duration_1q = .05\n",
    "gc = np.pi/2\n",
    "gg = 0*np.pi/4"
   ]
  },
  {
   "cell_type": "markdown",
   "metadata": {},
   "source": [
    "# Second, we twirl 1Q gates and phase terms given the same gc,gg from (1)"
   ]
  },
  {
   "cell_type": "code",
   "execution_count": 6,
   "metadata": {},
   "outputs": [
    {
     "data": {
      "text/html": [
       "<pre style=\"word-wrap: normal;white-space: pre;background: #fff0;line-height: 1.1;font-family: &quot;Courier New&quot;,Courier,monospace\">     »\n",
       "q_0: »\n",
       "     »\n",
       "q_1: »\n",
       "     »\n",
       "«     ┌─────────────────────────────────────────────────────────────────────────────────────────────────────────────────────────────────────────────────────────────────────────────────────┐\n",
       "«q_0: ┤0                                                                                                                                                                                    ├\n",
       "«     │  2qsmushgate(Q0,Q1,π/2,0,Q2,Q3,Q4,Q5,Q6,Q7,Q8,Q9,Q10,Q11,Q12,Q13,Q14,Q15,Q16,Q17,Q18,Q19,Q20,Q21,Q22,Q23,Q24,Q25,Q26,Q27,Q28,Q29,Q30,Q31,Q32,Q33,Q34,Q35,Q36,Q37,Q38,Q39,Q40,Q41,1) │\n",
       "«q_1: ┤1                                                                                                                                                                                    ├\n",
       "«     └─────────────────────────────────────────────────────────────────────────────────────────────────────────────────────────────────────────────────────────────────────────────────────┘</pre>"
      ],
      "text/plain": [
       "     »\n",
       "q_0: »\n",
       "     »\n",
       "q_1: »\n",
       "     »\n",
       "«     ┌─────────────────────────────────────────────────────────────────────────────────────────────────────────────────────────────────────────────────────────────────────────────────────┐\n",
       "«q_0: ┤0                                                                                                                                                                                    ├\n",
       "«     │  2qsmushgate(Q0,Q1,π/2,0,Q2,Q3,Q4,Q5,Q6,Q7,Q8,Q9,Q10,Q11,Q12,Q13,Q14,Q15,Q16,Q17,Q18,Q19,Q20,Q21,Q22,Q23,Q24,Q25,Q26,Q27,Q28,Q29,Q30,Q31,Q32,Q33,Q34,Q35,Q36,Q37,Q38,Q39,Q40,Q41,1) │\n",
       "«q_1: ┤1                                                                                                                                                                                    ├\n",
       "«     └─────────────────────────────────────────────────────────────────────────────────────────────────────────────────────────────────────────────────────────────────────────────────────┘"
      ]
     },
     "execution_count": 6,
     "metadata": {},
     "output_type": "execute_result"
    }
   ],
   "source": [
    "from src.utils.custom_gates import ConversionGainSmushGate\n",
    "\n",
    "# NOTE first variable is tracking an offset (basically set it to 2 if counting the phase variables)\n",
    "p_expand = [2, round(t/duration_1q), round(t/duration_1q)]\n",
    "# XXX turn p_expand into indices is tricky\n",
    "\n",
    "pp2 =lambda *vargs: ConversionGainSmushGate(vargs[0], vargs[1], gc, gg, vargs[2:2+round(t/duration_1q)], vargs[2+round(t/duration_1q):], t_el=t)\n",
    "#pp2 =lambda *vargs: ConversionGainSmushGate(0, 0, np.pi/2, 0, vargs[:round(t/du}ration_1q)], vargs[round(t/duration_1q):], t_el=t)\n",
    "\n",
    "# circuittemplate builds # of parameters by checking the number of parameters in the lambda function to build the gate\n",
    "# because the parametes for gx and gy are vectors they only get counted once and it messes up\n",
    "# we can add an extra parameter called param_vec_expand\n",
    "# we need to use this to tell it to expand the number of parameters we should include\n",
    "# however, this will get really messy because we don't know which parameters are the vectors or not\n",
    "# be careful, this is going to be a mess :(\n",
    "basis = CircuitTemplateV2(n_qubits=2, base_gates=[pp2], no_exterior_1q=1, vz_only=0, param_vec_expand = p_expand)\n",
    "basis.build(1)\n",
    "#adding constraint of 1Q params need to be positive valued\n",
    "#this could be optional let's compare what happens if include it or not\n",
    "for el in basis.circuit.parameters:\n",
    "    s_el = str(el)\n",
    "    if 'Q' in s_el:\n",
    "        basis.add_bound(s_el, 2*np.pi, -2*np.pi)\n",
    "#basis.add_bound(\"Q0\", 4*np.pi, 0)\n",
    "basis.circuit.draw()"
   ]
  },
  {
   "cell_type": "code",
   "execution_count": 7,
   "metadata": {},
   "outputs": [
    {
     "name": "stderr",
     "output_type": "stream",
     "text": [
      " 41%|████      | 1236/3000 [04:30<06:25,  4.57it/s]\n"
     ]
    },
    {
     "ename": "KeyboardInterrupt",
     "evalue": "",
     "output_type": "error",
     "traceback": [
      "\u001b[0;31m---------------------------------------------------------------------------\u001b[0m",
      "\u001b[0;31mKeyboardInterrupt\u001b[0m                         Traceback (most recent call last)",
      "\u001b[1;32m/home/evm9/decomposition_EM/src/scripts/gate_exploration/smush_sweeps.ipynb Cell 6\u001b[0m in \u001b[0;36m<cell line: 6>\u001b[0;34m()\u001b[0m\n\u001b[1;32m      <a href='vscode-notebook-cell://ssh-remote%2B7b22686f73744e616d65223a224f707469706c6578227d/home/evm9/decomposition_EM/src/scripts/gate_exploration/smush_sweeps.ipynb#X12sdnNjb2RlLXJlbW90ZQ%3D%3D?line=5'>6</a>\u001b[0m \u001b[39mfor\u001b[39;00m i \u001b[39min\u001b[39;00m tqdm(\u001b[39mrange\u001b[39m(\u001b[39m3000\u001b[39m)):\n\u001b[1;32m      <a href='vscode-notebook-cell://ssh-remote%2B7b22686f73744e616d65223a224f707469706c6578227d/home/evm9/decomposition_EM/src/scripts/gate_exploration/smush_sweeps.ipynb#X12sdnNjb2RlLXJlbW90ZQ%3D%3D?line=6'>7</a>\u001b[0m     qc_init \u001b[39m=\u001b[39m basis\u001b[39m.\u001b[39massign_Xk(basis\u001b[39m.\u001b[39mparameter_guess())\n\u001b[0;32m----> <a href='vscode-notebook-cell://ssh-remote%2B7b22686f73744e616d65223a224f707469706c6578227d/home/evm9/decomposition_EM/src/scripts/gate_exploration/smush_sweeps.ipynb#X12sdnNjb2RlLXJlbW90ZQ%3D%3D?line=7'>8</a>\u001b[0m     unitary_list\u001b[39m.\u001b[39mappend(Operator(qc_init)\u001b[39m.\u001b[39mdata)\n\u001b[1;32m     <a href='vscode-notebook-cell://ssh-remote%2B7b22686f73744e616d65223a224f707469706c6578227d/home/evm9/decomposition_EM/src/scripts/gate_exploration/smush_sweeps.ipynb#X12sdnNjb2RlLXJlbW90ZQ%3D%3D?line=9'>10</a>\u001b[0m unitary_2dlist_weyl(unitary_list)\n",
      "File \u001b[0;32m~/decomposition_EM/decomp_venv/lib/python3.8/site-packages/qiskit/quantum_info/operators/operator.py:86\u001b[0m, in \u001b[0;36mOperator.__init__\u001b[0;34m(self, data, input_dims, output_dims)\u001b[0m\n\u001b[1;32m     77\u001b[0m     \u001b[39mself\u001b[39m\u001b[39m.\u001b[39m_data \u001b[39m=\u001b[39m np\u001b[39m.\u001b[39masarray(data, dtype\u001b[39m=\u001b[39m\u001b[39mcomplex\u001b[39m)\n\u001b[1;32m     78\u001b[0m \u001b[39melif\u001b[39;00m \u001b[39misinstance\u001b[39m(data, (QuantumCircuit, Instruction)):\n\u001b[1;32m     79\u001b[0m     \u001b[39m# If the input is a Terra QuantumCircuit or Instruction we\u001b[39;00m\n\u001b[1;32m     80\u001b[0m     \u001b[39m# perform a simulation to construct the unitary operator.\u001b[39;00m\n\u001b[0;32m   (...)\u001b[0m\n\u001b[1;32m     84\u001b[0m     \u001b[39m# conditional gates, measure, or reset will cause an\u001b[39;00m\n\u001b[1;32m     85\u001b[0m     \u001b[39m# exception to be raised.\u001b[39;00m\n\u001b[0;32m---> 86\u001b[0m     \u001b[39mself\u001b[39m\u001b[39m.\u001b[39m_data \u001b[39m=\u001b[39m \u001b[39mself\u001b[39;49m\u001b[39m.\u001b[39;49m_init_instruction(data)\u001b[39m.\u001b[39mdata\n\u001b[1;32m     87\u001b[0m \u001b[39melif\u001b[39;00m \u001b[39mhasattr\u001b[39m(data, \u001b[39m\"\u001b[39m\u001b[39mto_operator\u001b[39m\u001b[39m\"\u001b[39m):\n\u001b[1;32m     88\u001b[0m     \u001b[39m# If the data object has a 'to_operator' attribute this is given\u001b[39;00m\n\u001b[1;32m     89\u001b[0m     \u001b[39m# higher preference than the 'to_matrix' method for initializing\u001b[39;00m\n\u001b[1;32m     90\u001b[0m     \u001b[39m# an Operator object.\u001b[39;00m\n\u001b[1;32m     91\u001b[0m     data \u001b[39m=\u001b[39m data\u001b[39m.\u001b[39mto_operator()\n",
      "File \u001b[0;32m~/decomposition_EM/decomp_venv/lib/python3.8/site-packages/qiskit/quantum_info/operators/operator.py:511\u001b[0m, in \u001b[0;36mOperator._init_instruction\u001b[0;34m(cls, instruction)\u001b[0m\n\u001b[1;32m    509\u001b[0m \u001b[39mif\u001b[39;00m \u001b[39misinstance\u001b[39m(instruction, QuantumCircuit):\n\u001b[1;32m    510\u001b[0m     instruction \u001b[39m=\u001b[39m instruction\u001b[39m.\u001b[39mto_instruction()\n\u001b[0;32m--> 511\u001b[0m op\u001b[39m.\u001b[39;49m_append_instruction(instruction)\n\u001b[1;32m    512\u001b[0m \u001b[39mreturn\u001b[39;00m op\n",
      "File \u001b[0;32m~/decomposition_EM/decomp_venv/lib/python3.8/site-packages/qiskit/quantum_info/operators/operator.py:579\u001b[0m, in \u001b[0;36mOperator._append_instruction\u001b[0;34m(self, obj, qargs)\u001b[0m\n\u001b[1;32m    577\u001b[0m \u001b[39melse\u001b[39;00m:\n\u001b[1;32m    578\u001b[0m     new_qargs \u001b[39m=\u001b[39m [qargs[bit_indices[tup]] \u001b[39mfor\u001b[39;00m tup \u001b[39min\u001b[39;00m qregs]\n\u001b[0;32m--> 579\u001b[0m \u001b[39mself\u001b[39;49m\u001b[39m.\u001b[39;49m_append_instruction(instr, qargs\u001b[39m=\u001b[39;49mnew_qargs)\n",
      "File \u001b[0;32m~/decomposition_EM/decomp_venv/lib/python3.8/site-packages/qiskit/quantum_info/operators/operator.py:534\u001b[0m, in \u001b[0;36mOperator._append_instruction\u001b[0;34m(self, obj, qargs)\u001b[0m\n\u001b[1;32m    531\u001b[0m \u001b[39mfrom\u001b[39;00m \u001b[39mqiskit\u001b[39;00m\u001b[39m.\u001b[39;00m\u001b[39mcircuit\u001b[39;00m\u001b[39m.\u001b[39;00m\u001b[39mbarrier\u001b[39;00m \u001b[39mimport\u001b[39;00m Barrier\n\u001b[1;32m    532\u001b[0m \u001b[39mfrom\u001b[39;00m \u001b[39m.\u001b[39;00m\u001b[39mscalar_op\u001b[39;00m \u001b[39mimport\u001b[39;00m ScalarOp\n\u001b[0;32m--> 534\u001b[0m mat \u001b[39m=\u001b[39m \u001b[39mself\u001b[39;49m\u001b[39m.\u001b[39;49m_instruction_to_matrix(obj)\n\u001b[1;32m    535\u001b[0m \u001b[39mif\u001b[39;00m mat \u001b[39mis\u001b[39;00m \u001b[39mnot\u001b[39;00m \u001b[39mNone\u001b[39;00m:\n\u001b[1;32m    536\u001b[0m     \u001b[39m# Perform the composition and inplace update the current state\u001b[39;00m\n\u001b[1;32m    537\u001b[0m     \u001b[39m# of the operator\u001b[39;00m\n\u001b[1;32m    538\u001b[0m     op \u001b[39m=\u001b[39m \u001b[39mself\u001b[39m\u001b[39m.\u001b[39mcompose(mat, qargs\u001b[39m=\u001b[39mqargs)\n",
      "File \u001b[0;32m~/decomposition_EM/decomp_venv/lib/python3.8/site-packages/qiskit/quantum_info/operators/operator.py:524\u001b[0m, in \u001b[0;36mOperator._instruction_to_matrix\u001b[0;34m(cls, obj)\u001b[0m\n\u001b[1;32m    520\u001b[0m \u001b[39mif\u001b[39;00m \u001b[39mhasattr\u001b[39m(obj, \u001b[39m\"\u001b[39m\u001b[39mto_matrix\u001b[39m\u001b[39m\"\u001b[39m):\n\u001b[1;32m    521\u001b[0m     \u001b[39m# If instruction is a gate first we see if it has a\u001b[39;00m\n\u001b[1;32m    522\u001b[0m     \u001b[39m# `to_matrix` definition and if so use that.\u001b[39;00m\n\u001b[1;32m    523\u001b[0m     \u001b[39mtry\u001b[39;00m:\n\u001b[0;32m--> 524\u001b[0m         mat \u001b[39m=\u001b[39m obj\u001b[39m.\u001b[39;49mto_matrix()\n\u001b[1;32m    525\u001b[0m     \u001b[39mexcept\u001b[39;00m QiskitError:\n\u001b[1;32m    526\u001b[0m         \u001b[39mpass\u001b[39;00m\n",
      "File \u001b[0;32m~/decomposition_EM/decomp_venv/lib/python3.8/site-packages/qiskit/circuit/gate.py:55\u001b[0m, in \u001b[0;36mGate.to_matrix\u001b[0;34m(self)\u001b[0m\n\u001b[1;32m     44\u001b[0m \u001b[39m\"\"\"Return a Numpy.array for the gate unitary matrix.\u001b[39;00m\n\u001b[1;32m     45\u001b[0m \n\u001b[1;32m     46\u001b[0m \u001b[39mReturns:\u001b[39;00m\n\u001b[0;32m   (...)\u001b[0m\n\u001b[1;32m     51\u001b[0m \u001b[39m        exception will be raised when this base class method is called.\u001b[39;00m\n\u001b[1;32m     52\u001b[0m \u001b[39m\"\"\"\u001b[39;00m\n\u001b[1;32m     53\u001b[0m \u001b[39mif\u001b[39;00m \u001b[39mhasattr\u001b[39m(\u001b[39mself\u001b[39m, \u001b[39m\"\u001b[39m\u001b[39m__array__\u001b[39m\u001b[39m\"\u001b[39m):\n\u001b[1;32m     54\u001b[0m     \u001b[39m# pylint: disable=no-member\u001b[39;00m\n\u001b[0;32m---> 55\u001b[0m     \u001b[39mreturn\u001b[39;00m \u001b[39mself\u001b[39;49m\u001b[39m.\u001b[39;49m__array__(dtype\u001b[39m=\u001b[39;49m\u001b[39mcomplex\u001b[39;49m)\n\u001b[1;32m     56\u001b[0m \u001b[39mraise\u001b[39;00m CircuitError(\u001b[39mf\u001b[39m\u001b[39m\"\u001b[39m\u001b[39mto_matrix not defined for this \u001b[39m\u001b[39m{\u001b[39;00m\u001b[39mtype\u001b[39m(\u001b[39mself\u001b[39m)\u001b[39m}\u001b[39;00m\u001b[39m\"\u001b[39m)\n",
      "File \u001b[0;32m~/decomposition_EM/src/scripts/gate_exploration/../../../src/utils/custom_gates.py:147\u001b[0m, in \u001b[0;36mConversionGainSmushGate.__array__\u001b[0;34m(self, dtype)\u001b[0m\n\u001b[1;32m    146\u001b[0m \u001b[39mdef\u001b[39;00m \u001b[39m__array__\u001b[39m(\u001b[39mself\u001b[39m, dtype\u001b[39m=\u001b[39m\u001b[39mNone\u001b[39;00m):\n\u001b[0;32m--> 147\u001b[0m     \u001b[39mself\u001b[39m\u001b[39m.\u001b[39m_array \u001b[39m=\u001b[39m ConversionGainSmush\u001b[39m.\u001b[39;49mconstruct_U(\u001b[39mfloat\u001b[39;49m(\u001b[39mself\u001b[39;49m\u001b[39m.\u001b[39;49mparams[\u001b[39m0\u001b[39;49m]), \u001b[39mfloat\u001b[39;49m(\u001b[39mself\u001b[39;49m\u001b[39m.\u001b[39;49mparams[\u001b[39m1\u001b[39;49m]), \u001b[39mfloat\u001b[39;49m(\u001b[39mself\u001b[39;49m\u001b[39m.\u001b[39;49mparams[\u001b[39m2\u001b[39;49m]), \u001b[39mfloat\u001b[39;49m(\u001b[39mself\u001b[39;49m\u001b[39m.\u001b[39;49mparams[\u001b[39m3\u001b[39;49m]), [\u001b[39mfloat\u001b[39;49m(el) \u001b[39mfor\u001b[39;49;00m el \u001b[39min\u001b[39;49;00m \u001b[39mself\u001b[39;49m\u001b[39m.\u001b[39;49mparams[\u001b[39m4\u001b[39;49m:\u001b[39m4\u001b[39;49m\u001b[39m+\u001b[39;49m\u001b[39mself\u001b[39;49m\u001b[39m.\u001b[39;49mxy_len]], [\u001b[39mfloat\u001b[39;49m(el) \u001b[39mfor\u001b[39;49;00m el \u001b[39min\u001b[39;49;00m \u001b[39mself\u001b[39;49m\u001b[39m.\u001b[39;49mparams[\u001b[39m4\u001b[39;49m\u001b[39m+\u001b[39;49m\u001b[39mself\u001b[39;49m\u001b[39m.\u001b[39;49mxy_len:\u001b[39m-\u001b[39;49m\u001b[39m1\u001b[39;49m]], t\u001b[39m=\u001b[39;49m \u001b[39mfloat\u001b[39;49m(\u001b[39mself\u001b[39;49m\u001b[39m.\u001b[39;49mparams[\u001b[39m-\u001b[39;49m\u001b[39m1\u001b[39;49m]))\n\u001b[1;32m    148\u001b[0m     \u001b[39mreturn\u001b[39;00m \u001b[39mself\u001b[39m\u001b[39m.\u001b[39m_array\n",
      "File \u001b[0;32m~/decomposition_EM/src/scripts/gate_exploration/../../../src/hamiltonian.py:121\u001b[0m, in \u001b[0;36mConversionGainSmush.construct_U\u001b[0;34m(phi_c, phi_g, gc, gg, gxvector, gyvector, t)\u001b[0m\n\u001b[1;32m    119\u001b[0m totalUi \u001b[39m=\u001b[39m np\u001b[39m.\u001b[39meye(\u001b[39m4\u001b[39m)\n\u001b[1;32m    120\u001b[0m \u001b[39mfor\u001b[39;00m it \u001b[39min\u001b[39;00m \u001b[39mrange\u001b[39m(N):\n\u001b[0;32m--> 121\u001b[0m     Ui \u001b[39m=\u001b[39m h_instance\u001b[39m.\u001b[39;49m_construct_U_lambda(phi_c, phi_g, gc, gg, gxvector[it], gyvector[it])(timestep)\u001b[39m.\u001b[39mfull()\n\u001b[1;32m    122\u001b[0m     totalUi \u001b[39m=\u001b[39m Ui \u001b[39m@\u001b[39m totalUi\n\u001b[1;32m    123\u001b[0m \u001b[39mreturn\u001b[39;00m totalUi\n",
      "File \u001b[0;32m~/decomposition_EM/src/scripts/gate_exploration/../../../src/hamiltonian.py:23\u001b[0m, in \u001b[0;36mHamiltonian._construct_U_lambda.<locals>.<lambda>\u001b[0;34m(t)\u001b[0m\n\u001b[1;32m     22\u001b[0m \u001b[39mdef\u001b[39;00m \u001b[39m_construct_U_lambda\u001b[39m(\u001b[39mself\u001b[39m, \u001b[39m*\u001b[39margs):\n\u001b[0;32m---> 23\u001b[0m     \u001b[39mreturn\u001b[39;00m \u001b[39mlambda\u001b[39;00m t: (\u001b[39m-\u001b[39m\u001b[39m1\u001b[39mj \u001b[39m*\u001b[39m t \u001b[39m*\u001b[39m \u001b[39mself\u001b[39;49m\u001b[39m.\u001b[39;49m_construct_H(\u001b[39m*\u001b[39;49margs))\u001b[39m.\u001b[39mexpm()\n",
      "File \u001b[0;32m~/decomposition_EM/src/scripts/gate_exploration/../../../src/hamiltonian.py:20\u001b[0m, in \u001b[0;36mHamiltonian._construct_H\u001b[0;34m(self, *args)\u001b[0m\n\u001b[1;32m     19\u001b[0m \u001b[39mdef\u001b[39;00m \u001b[39m_construct_H\u001b[39m(\u001b[39mself\u001b[39m, \u001b[39m*\u001b[39margs):\n\u001b[0;32m---> 20\u001b[0m     \u001b[39mreturn\u001b[39;00m \u001b[39mself\u001b[39;49m\u001b[39m.\u001b[39;49mH(\u001b[39m*\u001b[39;49margs)\n",
      "File \u001b[0;32m~/decomposition_EM/src/scripts/gate_exploration/../../../src/hamiltonian.py:106\u001b[0m, in \u001b[0;36mConversionGainSmush.__init__.<locals>.foo_H\u001b[0;34m(phi_c, phi_g, gc, gg, gx, gy)\u001b[0m\n\u001b[1;32m    104\u001b[0m H_x \u001b[39m=\u001b[39m (A \u001b[39m+\u001b[39m A\u001b[39m.\u001b[39mdag())\n\u001b[1;32m    105\u001b[0m H_y \u001b[39m=\u001b[39m (B \u001b[39m+\u001b[39m B\u001b[39m.\u001b[39mdag())\n\u001b[0;32m--> 106\u001b[0m H_c \u001b[39m=\u001b[39m np\u001b[39m.\u001b[39mexp(\u001b[39m1\u001b[39mj \u001b[39m*\u001b[39m phi_c) \u001b[39m*\u001b[39m A \u001b[39m*\u001b[39m B\u001b[39m.\u001b[39;49mdag() \u001b[39m+\u001b[39m np\u001b[39m.\u001b[39mexp(\u001b[39m-\u001b[39m\u001b[39m1\u001b[39mj \u001b[39m*\u001b[39m phi_c) \u001b[39m*\u001b[39m A\u001b[39m.\u001b[39mdag() \u001b[39m*\u001b[39m B\n\u001b[1;32m    107\u001b[0m H_g \u001b[39m=\u001b[39m np\u001b[39m.\u001b[39mexp(\u001b[39m1\u001b[39mj \u001b[39m*\u001b[39m phi_g) \u001b[39m*\u001b[39m A \u001b[39m*\u001b[39m B \u001b[39m+\u001b[39m np\u001b[39m.\u001b[39mexp(\u001b[39m-\u001b[39m\u001b[39m1\u001b[39mj \u001b[39m*\u001b[39m phi_g) \u001b[39m*\u001b[39m A\u001b[39m.\u001b[39mdag() \u001b[39m*\u001b[39m B\u001b[39m.\u001b[39mdag()\n\u001b[1;32m    108\u001b[0m \u001b[39mreturn\u001b[39;00m gx\u001b[39m*\u001b[39m H_x \u001b[39m+\u001b[39m gy \u001b[39m*\u001b[39m H_y \u001b[39m+\u001b[39m gc \u001b[39m*\u001b[39m H_c \u001b[39m+\u001b[39m gg \u001b[39m*\u001b[39m H_g\n",
      "File \u001b[0;32m~/decomposition_EM/decomp_venv/lib/python3.8/site-packages/qutip/qobj.py:925\u001b[0m, in \u001b[0;36mQobj.dag\u001b[0;34m(self)\u001b[0m\n\u001b[1;32m    922\u001b[0m \u001b[39mdef\u001b[39;00m \u001b[39mdag\u001b[39m(\u001b[39mself\u001b[39m):\n\u001b[1;32m    923\u001b[0m     \u001b[39m\"\"\"Adjoint operator of quantum object.\u001b[39;00m\n\u001b[1;32m    924\u001b[0m \u001b[39m    \"\"\"\u001b[39;00m\n\u001b[0;32m--> 925\u001b[0m     out \u001b[39m=\u001b[39m Qobj()\n\u001b[1;32m    926\u001b[0m     out\u001b[39m.\u001b[39mdata \u001b[39m=\u001b[39m zcsr_adjoint(\u001b[39mself\u001b[39m\u001b[39m.\u001b[39mdata)\n\u001b[1;32m    927\u001b[0m     out\u001b[39m.\u001b[39mdims \u001b[39m=\u001b[39m [\u001b[39mself\u001b[39m\u001b[39m.\u001b[39mdims[\u001b[39m1\u001b[39m], \u001b[39mself\u001b[39m\u001b[39m.\u001b[39mdims[\u001b[39m0\u001b[39m]]\n",
      "File \u001b[0;32m~/decomposition_EM/decomp_venv/lib/python3.8/site-packages/qutip/qobj.py:247\u001b[0m, in \u001b[0;36mQobj.__init__\u001b[0;34m(self, inpt, dims, shape, type, isherm, copy, fast, superrep, isunitary)\u001b[0m\n\u001b[1;32m    244\u001b[0m         N, M \u001b[39m=\u001b[39m \u001b[39m1\u001b[39m, \u001b[39m1\u001b[39m\n\u001b[1;32m    245\u001b[0m         \u001b[39mself\u001b[39m\u001b[39m.\u001b[39mdims \u001b[39m=\u001b[39m [[N], [M]]\n\u001b[0;32m--> 247\u001b[0m     \u001b[39mself\u001b[39m\u001b[39m.\u001b[39m_data \u001b[39m=\u001b[39m fast_csr_matrix(shape\u001b[39m=\u001b[39;49m(N, M))\n\u001b[1;32m    249\u001b[0m \u001b[39melif\u001b[39;00m \u001b[39misinstance\u001b[39m(inpt, \u001b[39mlist\u001b[39m) \u001b[39mor\u001b[39;00m \u001b[39misinstance\u001b[39m(inpt, \u001b[39mtuple\u001b[39m):\n\u001b[1;32m    250\u001b[0m     \u001b[39m# case where input is a list\u001b[39;00m\n\u001b[1;32m    251\u001b[0m     data \u001b[39m=\u001b[39m np\u001b[39m.\u001b[39marray(inpt)\n",
      "File \u001b[0;32m~/decomposition_EM/decomp_venv/lib/python3.8/site-packages/qutip/fastsparse.py:34\u001b[0m, in \u001b[0;36mfast_csr_matrix.__init__\u001b[0;34m(self, args, shape, dtype, copy)\u001b[0m\n\u001b[1;32m     32\u001b[0m \u001b[39mif\u001b[39;00m shape \u001b[39mis\u001b[39;00m \u001b[39mNone\u001b[39;00m:\n\u001b[1;32m     33\u001b[0m     \u001b[39mraise\u001b[39;00m \u001b[39mException\u001b[39;00m(\u001b[39m'\u001b[39m\u001b[39mShape must be given when building zero matrix.\u001b[39m\u001b[39m'\u001b[39m)\n\u001b[0;32m---> 34\u001b[0m \u001b[39mself\u001b[39m\u001b[39m.\u001b[39mdata \u001b[39m=\u001b[39m np\u001b[39m.\u001b[39marray([], dtype\u001b[39m=\u001b[39m\u001b[39mcomplex\u001b[39m)\n\u001b[1;32m     35\u001b[0m \u001b[39mself\u001b[39m\u001b[39m.\u001b[39mindices \u001b[39m=\u001b[39m np\u001b[39m.\u001b[39marray([], dtype\u001b[39m=\u001b[39mnp\u001b[39m.\u001b[39mint32)\n\u001b[1;32m     36\u001b[0m \u001b[39mself\u001b[39m\u001b[39m.\u001b[39mindptr \u001b[39m=\u001b[39m np\u001b[39m.\u001b[39mzeros(shape[\u001b[39m0\u001b[39m]\u001b[39m+\u001b[39m\u001b[39m1\u001b[39m, dtype\u001b[39m=\u001b[39mnp\u001b[39m.\u001b[39mint32)\n",
      "\u001b[0;31mKeyboardInterrupt\u001b[0m: "
     ]
    }
   ],
   "source": [
    "from src.utils.visualize import unitary_2dlist_weyl\n",
    "from qiskit.quantum_info import Operator\n",
    "from tqdm import tqdm\n",
    "unitary_list = []\n",
    "\n",
    "for i in tqdm(range(3000)):\n",
    "    qc_init = basis.assign_Xk(basis.parameter_guess())\n",
    "    unitary_list.append(Operator(qc_init).data)\n",
    "\n",
    "unitary_2dlist_weyl(unitary_list)"
   ]
  }
 ],
 "metadata": {
  "kernelspec": {
   "display_name": "Python 3.8.10 ('decomp_venv': venv)",
   "language": "python",
   "name": "python3"
  },
  "language_info": {
   "codemirror_mode": {
    "name": "ipython",
    "version": 3
   },
   "file_extension": ".py",
   "mimetype": "text/x-python",
   "name": "python",
   "nbconvert_exporter": "python",
   "pygments_lexer": "ipython3",
   "version": "3.8.10"
  },
  "orig_nbformat": 4,
  "vscode": {
   "interpreter": {
    "hash": "8458c2db8745e513b658ab31603256ba78a013051ccc1ae9ae2e6e521b9ef2ea"
   }
  }
 },
 "nbformat": 4,
 "nbformat_minor": 2
}
