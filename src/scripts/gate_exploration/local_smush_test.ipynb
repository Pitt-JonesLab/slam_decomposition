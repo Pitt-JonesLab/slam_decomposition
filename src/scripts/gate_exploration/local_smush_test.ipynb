{
 "cells": [
  {
   "cell_type": "code",
   "execution_count": null,
   "metadata": {},
   "outputs": [],
   "source": [
    "# this notebook is going to test for randomly sampled locally equivalent gate, whether the basis gate set is sufficient to reconstruct the unitary with smushed gates\n",
    "# we are going to test sqiswap, cnot, and syc as the 3 basis gates realized from gainconversion, CR, and fsim hamiltonians\n",
    "\n",
    "import logging\n",
    "logger = logging.getLogger()\n",
    "logger.setLevel(logging.INFO)\n",
    "\n",
    "%matplotlib widget\n",
    "\n",
    "\n",
    "import logging\n",
    "logger = logging.getLogger()\n",
    "logger.setLevel(logging.INFO)\n",
    "\n",
    "%matplotlib widget\n",
    "\n",
    "import sys\n",
    "sys.path.append(\"../../../\")\n",
    "import numpy as np\n",
    "\n",
    "from qiskit import QuantumCircuit\n",
    "from qiskit.circuit import Parameter\n",
    "from qiskit.quantum_info import random_unitary\n",
    "from src.basisv2 import CircuitTemplateV2\n",
    "from src.utils.custom_gates import ConversionGainSmushGate, ConversionGainGate\n",
    "from src.sampler import GateSample\n",
    "from qiskit.extensions import UnitaryGate\n",
    "from qiskit.quantum_info import Operator\n",
    "from src.optimizer import TemplateOptimizer\n",
    "from src.cost_function import BasicCost, SquareCost"
   ]
  },
  {
   "cell_type": "code",
   "execution_count": null,
   "metadata": {},
   "outputs": [],
   "source": [
    "t= 1\n",
    "timesteps = 10\n",
    "duration_1q = t/timesteps\n",
    "bounds_1q = 2*np.pi\n",
    "\n",
    "# fixing these to be iterated over\n",
    "gc, gg = (1*np.pi/4, 0*np.pi/4)\n",
    "\n",
    "varg_offset = 0 #set to 4 if want to use phase, and change 0s to vargs in pp2 constructor below\n",
    "pp2 =lambda *vargs: ConversionGainSmushGate(0,0 , gc, gg, vargs[varg_offset:varg_offset+round(t/duration_1q)], vargs[varg_offset+round(t/duration_1q):], t_el=t)\n",
    "basis = CircuitTemplateV2(n_qubits=2, base_gates = [pp2], edge_params=[[(0,1)]], vz_only=True, param_vec_expand=[varg_offset,round(t/duration_1q),round(t/duration_1q)])\n",
    "basis_str = \"CG2Q\"\n",
    "\n",
    "# varg_offset = 2\n",
    "# pp3 =lambda *vargs: ConversionGainSmushGate(vargs[0], vargs[1], gc, gg, vargs[varg_offset:varg_offset+round(t/duration_1q)], vargs[varg_offset+round(t/duration_1q):], t_el=t)\n",
    "# basis = CircuitTemplateV2(n_qubits=2, base_gates = [pp3], edge_params=[[(0,1)]], vz_only=True, param_vec_expand=[varg_offset,round(t/duration_1q),round(t/duration_1q)])\n",
    "# basis_str = \"CG2Q+P\"\n",
    "\n",
    "basis.build(1)\n",
    "basis.spanning_range = range(1,2)\n",
    "\n",
    "#for all smush gates make bounds\n",
    "for el in basis.circuit.parameters:\n",
    "    s_el = str(el)\n",
    "    if 'Q' in s_el:\n",
    "        basis.add_bound(s_el, bounds_1q, 0)\n",
    "\n",
    "# # manually set the gc, gg bounds\n",
    "# for el in basis.circuit.parameters:\n",
    "#     s_el = str(el)\n",
    "#     if s_el in [\"Q0\", \"Q1\", \"Q22\", \"Q23\", \"Q44\", \"Q45\"]:\n",
    "#         basis.add_bound(s_el, .5, 0)\n",
    "#         #basis.add_bound(s_el, 0.5*np.pi, 0) #XXX when using riswapgate should be 0.5, but when using ConversionGain should be np.pi/2 !!! BAD BAD BAD\n",
    "\n",
    "\n",
    "# construct the locally variant target\n",
    "\n",
    "qc = QuantumCircuit(2)\n",
    "# qc.append(random_unitary(2), [0])\n",
    "# qc.append(random_unitary(2), [1])\n",
    "g = ConversionGainGate(0, 0, gc, gg, t_el=t)\n",
    "qc.append(g, [0,1])\n",
    "# qc.append(random_unitary(2), [0])\n",
    "# qc.append(random_unitary(2), [1])\n",
    "# qc.rx(-np.pi/2, 0)\n",
    "# qc.rx(-np.pi/2, 1)\n",
    "# qc.draw('mpl');\n",
    "gate_data = Operator(qc).data\n",
    "\n",
    "from src.utils.custom_gates import CanonicalGate\n",
    "sampler = GateSample(CanonicalGate(np.pi / 4, np.pi / 8, np.pi/8))\n",
    "\n",
    "from qiskit.circuit.library import CPhaseGate\n",
    "gate_data = CPhaseGate(theta= 1.5* np.pi).to_matrix()\n",
    "sampler = GateSample(UnitaryGate(gate_data))\n",
    "s = [s for s in sampler][0]\n",
    "\n",
    "objective1 = SquareCost()\n",
    "optimizer3 = TemplateOptimizer(basis=basis, objective=objective1, use_callback=True, override_fail=True, success_threshold = 1e-7, training_restarts=3)\n",
    "basis.circuit.draw(output='mpl');"
   ]
  },
  {
   "cell_type": "code",
   "execution_count": null,
   "metadata": {},
   "outputs": [],
   "source": [
    "_ret3 = optimizer3.approximate_from_distribution(sampler)\n",
    "from src.utils.visualize import optimizer_training_plot\n",
    "optimizer_training_plot(_ret3[0], _ret3[1])"
   ]
  },
  {
   "cell_type": "code",
   "execution_count": null,
   "metadata": {},
   "outputs": [],
   "source": [
    "# _ret3 = optimizer3.approximate_target_U(s)\n",
    "#ret3[2] gets the target_data list, [0] returns the first element over the sampler distribution (we only put one in)\n",
    "basis.reconstruct(_ret3[2][0]).draw()"
   ]
  }
 ],
 "metadata": {
  "kernelspec": {
   "display_name": "Python 3.8.10 ('decomp_venv': venv)",
   "language": "python",
   "name": "python3"
  },
  "language_info": {
   "codemirror_mode": {
    "name": "ipython",
    "version": 3
   },
   "file_extension": ".py",
   "mimetype": "text/x-python",
   "name": "python",
   "nbconvert_exporter": "python",
   "pygments_lexer": "ipython3",
   "version": "3.8.10"
  },
  "orig_nbformat": 4,
  "vscode": {
   "interpreter": {
    "hash": "141f2845ff61560a6082741173a60265cfaf5f1fd91b5e939309b621eb5ce0f2"
   }
  }
 },
 "nbformat": 4,
 "nbformat_minor": 2
}
