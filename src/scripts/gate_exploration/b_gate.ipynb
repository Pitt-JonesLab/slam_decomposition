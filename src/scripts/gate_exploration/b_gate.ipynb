{
 "cells": [
  {
   "cell_type": "code",
   "execution_count": 1,
   "metadata": {},
   "outputs": [],
   "source": [
    "import logging\n",
    "logger = logging.getLogger()\n",
    "logger.setLevel(logging.INFO)\n",
    "\n",
    "import sys\n",
    "sys.path.append(\"../../../\")\n",
    "\n",
    "import numpy as np\n",
    "SPEED_LIMIT = np.pi/2"
   ]
  },
  {
   "cell_type": "code",
   "execution_count": 18,
   "metadata": {},
   "outputs": [],
   "source": [
    "# #test to see expected costs of fractional B gates\n",
    "# from src.utils.custom_gates import CustomCostGate\n",
    "# from src.hamiltonian import ConversionGainHamiltonian\n",
    "# from src.utils.polytope_wrap import gate_set_to_haar_expectation\n",
    "# import numpy as np\n",
    "# h = ConversionGainHamiltonian()\n",
    "# for d in range(1,5):\n",
    "#     u = h._construct_U_lambda(3*np.pi/8, np.pi/8)(1/d).full()\n",
    "#     u = CustomCostGate(u, f\"B^(1/{d})\", cost=1/d)\n",
    "#     gate_set_to_haar_expectation(u)"
   ]
  },
  {
   "cell_type": "code",
   "execution_count": 19,
   "metadata": {},
   "outputs": [
    {
     "name": "stderr",
     "output_type": "stream",
     "text": [
      "INFO:root:('gc=1pi/16', 'gg=1pi/16')\n",
      "INFO:root:==== Working to build a set of covering polytopes ====\n",
      "INFO:root:==== Haar volumes ====\n",
      "INFO:root:Haar-expectation cost: 6.500137765307217\n",
      "INFO:root:('gc=1pi/16', 'gg=2pi/16')\n",
      "INFO:root:('gc=1pi/16', 'gg=3pi/16')\n",
      "INFO:root:('gc=1pi/16', 'gg=4pi/16')\n",
      "INFO:root:('gc=1pi/16', 'gg=5pi/16')\n",
      "INFO:root:('gc=1pi/16', 'gg=6pi/16')\n",
      "INFO:root:('gc=1pi/16', 'gg=7pi/16')\n",
      "INFO:root:('gc=1pi/16', 'gg=8pi/16')\n",
      "INFO:root:('gc=1pi/16', 'gg=9pi/16')\n",
      "INFO:root:('gc=1pi/16', 'gg=10pi/16')\n",
      "INFO:root:('gc=1pi/16', 'gg=11pi/16')\n",
      "INFO:root:('gc=1pi/16', 'gg=12pi/16')\n",
      "INFO:root:('gc=1pi/16', 'gg=13pi/16')\n",
      "INFO:root:('gc=1pi/16', 'gg=14pi/16')\n",
      "INFO:root:('gc=1pi/16', 'gg=15pi/16')\n",
      "INFO:root:('gc=1pi/16', 'gg=16pi/16')\n",
      "INFO:root:('gc=2pi/16', 'gg=1pi/16')\n",
      "INFO:root:==== Working to build a set of covering polytopes ====\n",
      "INFO:root:==== Haar volumes ====\n",
      "INFO:root:Haar-expectation cost: 3.5027991563218492\n",
      "INFO:root:('gc=2pi/16', 'gg=2pi/16')\n",
      "INFO:root:==== Working to build a set of covering polytopes ====\n",
      "INFO:root:==== Haar volumes ====\n",
      "INFO:root:Haar-expectation cost: 3.540254820808025\n",
      "INFO:root:('gc=2pi/16', 'gg=3pi/16')\n",
      "INFO:root:('gc=2pi/16', 'gg=4pi/16')\n",
      "INFO:root:('gc=2pi/16', 'gg=5pi/16')\n",
      "INFO:root:('gc=2pi/16', 'gg=6pi/16')\n",
      "INFO:root:('gc=2pi/16', 'gg=7pi/16')\n",
      "INFO:root:('gc=2pi/16', 'gg=8pi/16')\n",
      "INFO:root:('gc=2pi/16', 'gg=9pi/16')\n",
      "INFO:root:('gc=2pi/16', 'gg=10pi/16')\n",
      "INFO:root:('gc=2pi/16', 'gg=11pi/16')\n",
      "INFO:root:('gc=2pi/16', 'gg=12pi/16')\n",
      "INFO:root:('gc=2pi/16', 'gg=13pi/16')\n",
      "INFO:root:('gc=2pi/16', 'gg=14pi/16')\n",
      "INFO:root:('gc=2pi/16', 'gg=15pi/16')\n",
      "INFO:root:('gc=2pi/16', 'gg=16pi/16')\n",
      "INFO:root:('gc=3pi/16', 'gg=1pi/16')\n",
      "INFO:root:==== Working to build a set of covering polytopes ====\n",
      "INFO:root:==== Haar volumes ====\n",
      "INFO:root:Haar-expectation cost: 2.504189565718911\n",
      "INFO:root:('gc=3pi/16', 'gg=2pi/16')\n",
      "INFO:root:==== Working to build a set of covering polytopes ====\n",
      "INFO:root:==== Haar volumes ====\n",
      "INFO:root:Haar-expectation cost: 2.5255935278542765\n",
      "INFO:root:('gc=3pi/16', 'gg=3pi/16')\n",
      "INFO:root:==== Working to build a set of covering polytopes ====\n",
      "INFO:root:==== Haar volumes ====\n",
      "INFO:root:Haar-expectation cost: 3.0041895657189084\n",
      "INFO:root:('gc=3pi/16', 'gg=4pi/16')\n",
      "INFO:root:('gc=3pi/16', 'gg=5pi/16')\n",
      "INFO:root:('gc=3pi/16', 'gg=6pi/16')\n",
      "INFO:root:('gc=3pi/16', 'gg=7pi/16')\n",
      "INFO:root:('gc=3pi/16', 'gg=8pi/16')\n",
      "INFO:root:('gc=3pi/16', 'gg=9pi/16')\n",
      "INFO:root:('gc=3pi/16', 'gg=10pi/16')\n",
      "INFO:root:('gc=3pi/16', 'gg=11pi/16')\n",
      "INFO:root:('gc=3pi/16', 'gg=12pi/16')\n",
      "INFO:root:('gc=3pi/16', 'gg=13pi/16')\n",
      "INFO:root:('gc=3pi/16', 'gg=14pi/16')\n",
      "INFO:root:('gc=3pi/16', 'gg=15pi/16')\n",
      "INFO:root:('gc=3pi/16', 'gg=16pi/16')\n",
      "INFO:root:('gc=4pi/16', 'gg=1pi/16')\n",
      "INFO:root:==== Working to build a set of covering polytopes ====\n",
      "INFO:root:==== Haar volumes ====\n",
      "INFO:root:Haar-expectation cost: 2.0401723527420503\n",
      "INFO:root:('gc=4pi/16', 'gg=2pi/16')\n",
      "INFO:root:==== Working to build a set of covering polytopes ====\n",
      "INFO:root:==== Haar volumes ====\n",
      "INFO:root:Haar-expectation cost: 2.041729136984175\n",
      "INFO:root:('gc=4pi/16', 'gg=3pi/16')\n",
      "INFO:root:==== Working to build a set of covering polytopes ====\n",
      "INFO:root:==== Haar volumes ====\n",
      "INFO:root:Haar-expectation cost: 2.217148790419858\n",
      "INFO:root:('gc=4pi/16', 'gg=4pi/16')\n",
      "INFO:root:==== Working to build a set of covering polytopes ====\n",
      "INFO:root:==== Haar volumes ====\n",
      "INFO:root:Haar-expectation cost: 3.000000000000001\n",
      "INFO:root:('gc=4pi/16', 'gg=5pi/16')\n",
      "INFO:root:('gc=4pi/16', 'gg=6pi/16')\n",
      "INFO:root:('gc=4pi/16', 'gg=7pi/16')\n",
      "INFO:root:('gc=4pi/16', 'gg=8pi/16')\n",
      "INFO:root:('gc=4pi/16', 'gg=9pi/16')\n",
      "INFO:root:('gc=4pi/16', 'gg=10pi/16')\n",
      "INFO:root:('gc=4pi/16', 'gg=11pi/16')\n",
      "INFO:root:('gc=4pi/16', 'gg=12pi/16')\n",
      "INFO:root:('gc=4pi/16', 'gg=13pi/16')\n",
      "INFO:root:('gc=4pi/16', 'gg=14pi/16')\n",
      "INFO:root:('gc=4pi/16', 'gg=15pi/16')\n",
      "INFO:root:('gc=4pi/16', 'gg=16pi/16')\n",
      "INFO:root:('gc=5pi/16', 'gg=1pi/16')\n",
      "INFO:root:==== Working to build a set of covering polytopes ====\n",
      "INFO:root:==== Haar volumes ====\n",
      "INFO:root:Haar-expectation cost: 2.0011770545216936\n",
      "INFO:root:('gc=5pi/16', 'gg=2pi/16')\n",
      "INFO:root:==== Working to build a set of covering polytopes ====\n",
      "INFO:root:==== Haar volumes ====\n",
      "INFO:root:Haar-expectation cost: 2.0001430172602\n",
      "INFO:root:('gc=5pi/16', 'gg=3pi/16')\n",
      "INFO:root:==== Working to build a set of covering polytopes ====\n",
      "INFO:root:==== Haar volumes ====\n",
      "INFO:root:Haar-expectation cost: 2.011267585362158\n",
      "INFO:root:('gc=5pi/16', 'gg=4pi/16')\n",
      "INFO:root:==== Working to build a set of covering polytopes ====\n",
      "INFO:root:==== Haar volumes ====\n",
      "INFO:root:Haar-expectation cost: 2.2171487904198584\n",
      "INFO:root:('gc=5pi/16', 'gg=5pi/16')\n",
      "INFO:root:==== Working to build a set of covering polytopes ====\n",
      "INFO:root:==== Haar volumes ====\n",
      "INFO:root:Haar-expectation cost: 3.004189565718909\n",
      "INFO:root:('gc=5pi/16', 'gg=6pi/16')\n",
      "INFO:root:('gc=5pi/16', 'gg=7pi/16')\n",
      "INFO:root:('gc=5pi/16', 'gg=8pi/16')\n",
      "INFO:root:('gc=5pi/16', 'gg=9pi/16')\n",
      "INFO:root:('gc=5pi/16', 'gg=10pi/16')\n",
      "INFO:root:('gc=5pi/16', 'gg=11pi/16')\n",
      "INFO:root:('gc=5pi/16', 'gg=12pi/16')\n",
      "INFO:root:('gc=5pi/16', 'gg=13pi/16')\n",
      "INFO:root:('gc=5pi/16', 'gg=14pi/16')\n",
      "INFO:root:('gc=5pi/16', 'gg=15pi/16')\n",
      "INFO:root:('gc=5pi/16', 'gg=16pi/16')\n",
      "INFO:root:('gc=6pi/16', 'gg=1pi/16')\n",
      "INFO:root:==== Working to build a set of covering polytopes ====\n",
      "INFO:root:==== Haar volumes ====\n",
      "INFO:root:Haar-expectation cost: 2.000143017260202\n",
      "INFO:root:('gc=6pi/16', 'gg=2pi/16')\n",
      "INFO:root:==== Working to build a set of covering polytopes ====\n",
      "INFO:root:==== Haar volumes ====\n",
      "INFO:root:Haar-expectation cost: 2.0\n",
      "INFO:root:('gc=6pi/16', 'gg=3pi/16')\n",
      "INFO:root:==== Working to build a set of covering polytopes ====\n",
      "INFO:root:==== Haar volumes ====\n",
      "INFO:root:Haar-expectation cost: 2.0001430172602\n",
      "INFO:root:('gc=6pi/16', 'gg=4pi/16')\n",
      "INFO:root:==== Working to build a set of covering polytopes ====\n",
      "INFO:root:==== Haar volumes ====\n",
      "INFO:root:Haar-expectation cost: 2.041729136984175\n",
      "INFO:root:('gc=6pi/16', 'gg=5pi/16')\n",
      "INFO:root:==== Working to build a set of covering polytopes ====\n",
      "INFO:root:==== Haar volumes ====\n",
      "INFO:root:Haar-expectation cost: 2.5255935278542765\n",
      "INFO:root:('gc=6pi/16', 'gg=6pi/16')\n",
      "INFO:root:==== Working to build a set of covering polytopes ====\n",
      "INFO:root:==== Haar volumes ====\n",
      "INFO:root:Haar-expectation cost: 3.540254820808025\n",
      "INFO:root:('gc=6pi/16', 'gg=7pi/16')\n",
      "INFO:root:('gc=6pi/16', 'gg=8pi/16')\n",
      "INFO:root:('gc=6pi/16', 'gg=9pi/16')\n",
      "INFO:root:('gc=6pi/16', 'gg=10pi/16')\n",
      "INFO:root:('gc=6pi/16', 'gg=11pi/16')\n",
      "INFO:root:('gc=6pi/16', 'gg=12pi/16')\n",
      "INFO:root:('gc=6pi/16', 'gg=13pi/16')\n",
      "INFO:root:('gc=6pi/16', 'gg=14pi/16')\n",
      "INFO:root:('gc=6pi/16', 'gg=15pi/16')\n",
      "INFO:root:('gc=6pi/16', 'gg=16pi/16')\n",
      "INFO:root:('gc=7pi/16', 'gg=1pi/16')\n",
      "INFO:root:==== Working to build a set of covering polytopes ====\n",
      "INFO:root:==== Haar volumes ====\n",
      "INFO:root:Haar-expectation cost: 2.011267585362156\n",
      "INFO:root:('gc=7pi/16', 'gg=2pi/16')\n",
      "INFO:root:==== Working to build a set of covering polytopes ====\n",
      "INFO:root:==== Haar volumes ====\n",
      "INFO:root:Haar-expectation cost: 2.000143017260201\n",
      "INFO:root:('gc=7pi/16', 'gg=3pi/16')\n",
      "INFO:root:==== Working to build a set of covering polytopes ====\n",
      "INFO:root:==== Haar volumes ====\n",
      "INFO:root:Haar-expectation cost: 2.0011770545216936\n",
      "INFO:root:('gc=7pi/16', 'gg=4pi/16')\n",
      "INFO:root:==== Working to build a set of covering polytopes ====\n",
      "INFO:root:==== Haar volumes ====\n",
      "INFO:root:Haar-expectation cost: 2.04017235274205\n",
      "INFO:root:('gc=7pi/16', 'gg=5pi/16')\n",
      "INFO:root:==== Working to build a set of covering polytopes ====\n",
      "INFO:root:==== Haar volumes ====\n",
      "INFO:root:Haar-expectation cost: 2.5041895657189084\n",
      "INFO:root:('gc=7pi/16', 'gg=6pi/16')\n",
      "INFO:root:==== Working to build a set of covering polytopes ====\n",
      "INFO:root:==== Haar volumes ====\n",
      "INFO:root:Haar-expectation cost: 3.5027991563218492\n",
      "INFO:root:('gc=7pi/16', 'gg=7pi/16')\n",
      "INFO:root:==== Working to build a set of covering polytopes ====\n",
      "INFO:root:==== Haar volumes ====\n",
      "INFO:root:Haar-expectation cost: 6.500137765307217\n",
      "INFO:root:('gc=7pi/16', 'gg=8pi/16')\n",
      "INFO:root:('gc=7pi/16', 'gg=9pi/16')\n",
      "INFO:root:('gc=7pi/16', 'gg=10pi/16')\n",
      "INFO:root:('gc=7pi/16', 'gg=11pi/16')\n",
      "INFO:root:('gc=7pi/16', 'gg=12pi/16')\n",
      "INFO:root:('gc=7pi/16', 'gg=13pi/16')\n",
      "INFO:root:('gc=7pi/16', 'gg=14pi/16')\n",
      "INFO:root:('gc=7pi/16', 'gg=15pi/16')\n",
      "INFO:root:('gc=7pi/16', 'gg=16pi/16')\n",
      "INFO:root:('gc=8pi/16', 'gg=1pi/16')\n",
      "INFO:root:==== Working to build a set of covering polytopes ====\n",
      "INFO:root:==== Haar volumes ====\n",
      "INFO:root:Haar-expectation cost: 2.217160467642511\n",
      "INFO:root:('gc=8pi/16', 'gg=2pi/16')\n",
      "INFO:root:==== Working to build a set of covering polytopes ====\n",
      "INFO:root:==== Haar volumes ====\n",
      "INFO:root:Haar-expectation cost: 2.0454225284540524\n",
      "INFO:root:('gc=8pi/16', 'gg=3pi/16')\n",
      "INFO:root:==== Working to build a set of covering polytopes ====\n",
      "INFO:root:==== Haar volumes ====\n",
      "INFO:root:Haar-expectation cost: 2.100434417748742\n",
      "INFO:root:('gc=8pi/16', 'gg=4pi/16')\n",
      "INFO:root:==== Working to build a set of covering polytopes ====\n",
      "INFO:root:==== Haar volumes ====\n",
      "INFO:root:Haar-expectation cost: 2.209882636315677\n",
      "INFO:root:('gc=8pi/16', 'gg=5pi/16')\n",
      "INFO:root:==== Working to build a set of covering polytopes ====\n",
      "INFO:root:==== Haar volumes ====\n",
      "INFO:root:Haar-expectation cost: 2.850019528561618\n",
      "INFO:root:('gc=8pi/16', 'gg=6pi/16')\n",
      "INFO:root:==== Working to build a set of covering polytopes ====\n",
      "INFO:root:==== Haar volumes ====\n",
      "INFO:root:Haar-expectation cost: 3.8395746639269435\n",
      "INFO:root:('gc=8pi/16', 'gg=7pi/16')\n",
      "INFO:root:==== Working to build a set of covering polytopes ====\n",
      "INFO:root:==== Haar volumes ====\n",
      "INFO:root:Haar-expectation cost: 7.291939177112488\n",
      "INFO:root:('gc=8pi/16', 'gg=8pi/16')\n",
      "INFO:root:==== Working to build a set of covering polytopes ====\n",
      "INFO:root:==== Haar volumes ====\n",
      "INFO:root:Haar-expectation cost: 0.0\n",
      "INFO:root:('gc=8pi/16', 'gg=9pi/16')\n",
      "INFO:root:('gc=8pi/16', 'gg=10pi/16')\n",
      "INFO:root:('gc=8pi/16', 'gg=11pi/16')\n",
      "INFO:root:('gc=8pi/16', 'gg=12pi/16')\n",
      "INFO:root:('gc=8pi/16', 'gg=13pi/16')\n",
      "INFO:root:('gc=8pi/16', 'gg=14pi/16')\n",
      "INFO:root:('gc=8pi/16', 'gg=15pi/16')\n",
      "INFO:root:('gc=8pi/16', 'gg=16pi/16')\n",
      "INFO:root:('gc=9pi/16', 'gg=1pi/16')\n",
      "INFO:root:==== Working to build a set of covering polytopes ====\n",
      "INFO:root:==== Haar volumes ====\n",
      "INFO:root:Haar-expectation cost: 2.011267585362156\n",
      "INFO:root:('gc=9pi/16', 'gg=2pi/16')\n",
      "INFO:root:==== Working to build a set of covering polytopes ====\n",
      "INFO:root:==== Haar volumes ====\n",
      "INFO:root:Haar-expectation cost: 2.000143017260201\n",
      "INFO:root:('gc=9pi/16', 'gg=3pi/16')\n",
      "INFO:root:==== Working to build a set of covering polytopes ====\n",
      "INFO:root:==== Haar volumes ====\n",
      "INFO:root:Haar-expectation cost: 2.0011770545216936\n",
      "INFO:root:('gc=9pi/16', 'gg=4pi/16')\n",
      "INFO:root:==== Working to build a set of covering polytopes ====\n",
      "INFO:root:==== Haar volumes ====\n",
      "INFO:root:Haar-expectation cost: 2.04017235274205\n",
      "INFO:root:('gc=9pi/16', 'gg=5pi/16')\n",
      "INFO:root:==== Working to build a set of covering polytopes ====\n",
      "INFO:root:==== Haar volumes ====\n",
      "INFO:root:Haar-expectation cost: 2.5041895657189084\n",
      "INFO:root:('gc=9pi/16', 'gg=6pi/16')\n",
      "INFO:root:==== Working to build a set of covering polytopes ====\n",
      "INFO:root:==== Haar volumes ====\n",
      "INFO:root:Haar-expectation cost: 3.5027991563218492\n",
      "INFO:root:('gc=9pi/16', 'gg=7pi/16')\n",
      "INFO:root:==== Working to build a set of covering polytopes ====\n",
      "INFO:root:==== Haar volumes ====\n",
      "INFO:root:Haar-expectation cost: 6.500137765307217\n",
      "INFO:root:('gc=9pi/16', 'gg=8pi/16')\n",
      "INFO:root:==== Working to build a set of covering polytopes ====\n",
      "INFO:root:==== Haar volumes ====\n",
      "INFO:root:Haar-expectation cost: 7.291939177112488\n",
      "INFO:root:('gc=9pi/16', 'gg=9pi/16')\n",
      "INFO:root:==== Working to build a set of covering polytopes ====\n",
      "INFO:root:==== Haar volumes ====\n",
      "INFO:root:Haar-expectation cost: 6.500137765307217\n",
      "INFO:root:('gc=9pi/16', 'gg=10pi/16')\n",
      "INFO:root:('gc=9pi/16', 'gg=11pi/16')\n",
      "INFO:root:('gc=9pi/16', 'gg=12pi/16')\n",
      "INFO:root:('gc=9pi/16', 'gg=13pi/16')\n",
      "INFO:root:('gc=9pi/16', 'gg=14pi/16')\n",
      "INFO:root:('gc=9pi/16', 'gg=15pi/16')\n",
      "INFO:root:('gc=9pi/16', 'gg=16pi/16')\n",
      "INFO:root:('gc=10pi/16', 'gg=1pi/16')\n",
      "INFO:root:==== Working to build a set of covering polytopes ====\n",
      "INFO:root:==== Haar volumes ====\n",
      "INFO:root:Haar-expectation cost: 2.000143017260202\n",
      "INFO:root:('gc=10pi/16', 'gg=2pi/16')\n",
      "INFO:root:==== Working to build a set of covering polytopes ====\n",
      "INFO:root:==== Haar volumes ====\n",
      "INFO:root:Haar-expectation cost: 2.0\n",
      "INFO:root:('gc=10pi/16', 'gg=3pi/16')\n",
      "INFO:root:==== Working to build a set of covering polytopes ====\n",
      "INFO:root:==== Haar volumes ====\n",
      "INFO:root:Haar-expectation cost: 2.0001430172602\n",
      "INFO:root:('gc=10pi/16', 'gg=4pi/16')\n",
      "INFO:root:==== Working to build a set of covering polytopes ====\n",
      "INFO:root:==== Haar volumes ====\n",
      "INFO:root:Haar-expectation cost: 2.041729136984175\n",
      "INFO:root:('gc=10pi/16', 'gg=5pi/16')\n",
      "INFO:root:==== Working to build a set of covering polytopes ====\n",
      "INFO:root:==== Haar volumes ====\n",
      "INFO:root:Haar-expectation cost: 2.5255935278542765\n",
      "INFO:root:('gc=10pi/16', 'gg=6pi/16')\n",
      "INFO:root:==== Working to build a set of covering polytopes ====\n",
      "INFO:root:==== Haar volumes ====\n",
      "INFO:root:Haar-expectation cost: 3.540254820808025\n",
      "INFO:root:('gc=10pi/16', 'gg=7pi/16')\n",
      "INFO:root:==== Working to build a set of covering polytopes ====\n",
      "INFO:root:==== Haar volumes ====\n",
      "INFO:root:Haar-expectation cost: 3.502799156321846\n",
      "INFO:root:('gc=10pi/16', 'gg=8pi/16')\n",
      "INFO:root:==== Working to build a set of covering polytopes ====\n",
      "INFO:root:==== Haar volumes ====\n",
      "INFO:root:Haar-expectation cost: 3.8395746639269426\n",
      "INFO:root:('gc=10pi/16', 'gg=9pi/16')\n",
      "INFO:root:==== Working to build a set of covering polytopes ====\n",
      "INFO:root:==== Haar volumes ====\n",
      "INFO:root:Haar-expectation cost: 3.502799156321846\n",
      "INFO:root:('gc=10pi/16', 'gg=10pi/16')\n",
      "INFO:root:==== Working to build a set of covering polytopes ====\n",
      "INFO:root:==== Haar volumes ====\n",
      "INFO:root:Haar-expectation cost: 3.540254820808027\n",
      "INFO:root:('gc=10pi/16', 'gg=11pi/16')\n",
      "INFO:root:('gc=10pi/16', 'gg=12pi/16')\n",
      "INFO:root:('gc=10pi/16', 'gg=13pi/16')\n",
      "INFO:root:('gc=10pi/16', 'gg=14pi/16')\n",
      "INFO:root:('gc=10pi/16', 'gg=15pi/16')\n",
      "INFO:root:('gc=10pi/16', 'gg=16pi/16')\n",
      "INFO:root:('gc=11pi/16', 'gg=1pi/16')\n",
      "INFO:root:==== Working to build a set of covering polytopes ====\n",
      "INFO:root:==== Haar volumes ====\n",
      "INFO:root:Haar-expectation cost: 2.0011770545216936\n",
      "INFO:root:('gc=11pi/16', 'gg=2pi/16')\n",
      "INFO:root:==== Working to build a set of covering polytopes ====\n",
      "INFO:root:==== Haar volumes ====\n",
      "INFO:root:Haar-expectation cost: 2.0001430172601995\n",
      "INFO:root:('gc=11pi/16', 'gg=3pi/16')\n",
      "INFO:root:==== Working to build a set of covering polytopes ====\n",
      "INFO:root:==== Haar volumes ====\n",
      "INFO:root:Haar-expectation cost: 2.011267585362158\n",
      "INFO:root:('gc=11pi/16', 'gg=4pi/16')\n",
      "INFO:root:==== Working to build a set of covering polytopes ====\n",
      "INFO:root:==== Haar volumes ====\n",
      "INFO:root:Haar-expectation cost: 2.217148790419858\n",
      "INFO:root:('gc=11pi/16', 'gg=5pi/16')\n",
      "INFO:root:==== Working to build a set of covering polytopes ====\n",
      "INFO:root:==== Haar volumes ====\n",
      "INFO:root:Haar-expectation cost: 3.0041895657189084\n",
      "INFO:root:('gc=11pi/16', 'gg=6pi/16')\n",
      "INFO:root:==== Working to build a set of covering polytopes ====\n",
      "INFO:root:==== Haar volumes ====\n",
      "INFO:root:Haar-expectation cost: 2.5255935278542765\n",
      "INFO:root:('gc=11pi/16', 'gg=7pi/16')\n",
      "INFO:root:==== Working to build a set of covering polytopes ====\n",
      "INFO:root:==== Haar volumes ====\n",
      "INFO:root:Haar-expectation cost: 2.5041895657189084\n",
      "INFO:root:('gc=11pi/16', 'gg=8pi/16')\n",
      "INFO:root:==== Working to build a set of covering polytopes ====\n",
      "INFO:root:==== Haar volumes ====\n",
      "INFO:root:Haar-expectation cost: 2.850019528561618\n",
      "INFO:root:('gc=11pi/16', 'gg=9pi/16')\n",
      "INFO:root:==== Working to build a set of covering polytopes ====\n",
      "INFO:root:==== Haar volumes ====\n",
      "INFO:root:Haar-expectation cost: 2.5041895657189084\n",
      "INFO:root:('gc=11pi/16', 'gg=10pi/16')\n",
      "INFO:root:==== Working to build a set of covering polytopes ====\n",
      "INFO:root:==== Haar volumes ====\n",
      "INFO:root:Haar-expectation cost: 2.5255935278542765\n",
      "INFO:root:('gc=11pi/16', 'gg=11pi/16')\n",
      "INFO:root:==== Working to build a set of covering polytopes ====\n",
      "INFO:root:==== Haar volumes ====\n",
      "INFO:root:Haar-expectation cost: 3.004189565718909\n",
      "INFO:root:('gc=11pi/16', 'gg=12pi/16')\n",
      "INFO:root:('gc=11pi/16', 'gg=13pi/16')\n",
      "INFO:root:('gc=11pi/16', 'gg=14pi/16')\n",
      "INFO:root:('gc=11pi/16', 'gg=15pi/16')\n",
      "INFO:root:('gc=11pi/16', 'gg=16pi/16')\n",
      "INFO:root:('gc=12pi/16', 'gg=1pi/16')\n",
      "INFO:root:==== Working to build a set of covering polytopes ====\n",
      "INFO:root:==== Haar volumes ====\n",
      "INFO:root:Haar-expectation cost: 2.04017235274205\n",
      "INFO:root:('gc=12pi/16', 'gg=2pi/16')\n",
      "INFO:root:==== Working to build a set of covering polytopes ====\n",
      "INFO:root:==== Haar volumes ====\n",
      "INFO:root:Haar-expectation cost: 2.041729136984175\n",
      "INFO:root:('gc=12pi/16', 'gg=3pi/16')\n",
      "INFO:root:==== Working to build a set of covering polytopes ====\n",
      "INFO:root:==== Haar volumes ====\n",
      "INFO:root:Haar-expectation cost: 2.217148790419858\n",
      "INFO:root:('gc=12pi/16', 'gg=4pi/16')\n",
      "INFO:root:==== Working to build a set of covering polytopes ====\n",
      "INFO:root:==== Haar volumes ====\n",
      "INFO:root:Haar-expectation cost: 3.000000000000001\n",
      "INFO:root:('gc=12pi/16', 'gg=5pi/16')\n",
      "INFO:root:==== Working to build a set of covering polytopes ====\n",
      "INFO:root:==== Haar volumes ====\n",
      "INFO:root:Haar-expectation cost: 2.2171487904198584\n",
      "INFO:root:('gc=12pi/16', 'gg=6pi/16')\n",
      "INFO:root:==== Working to build a set of covering polytopes ====\n",
      "INFO:root:==== Haar volumes ====\n",
      "INFO:root:Haar-expectation cost: 2.041729136984175\n",
      "INFO:root:('gc=12pi/16', 'gg=7pi/16')\n",
      "INFO:root:==== Working to build a set of covering polytopes ====\n",
      "INFO:root:==== Haar volumes ====\n",
      "INFO:root:Haar-expectation cost: 2.04017235274205\n",
      "INFO:root:('gc=12pi/16', 'gg=8pi/16')\n",
      "INFO:root:==== Working to build a set of covering polytopes ====\n",
      "INFO:root:==== Haar volumes ====\n",
      "INFO:root:Haar-expectation cost: 2.209882636315677\n",
      "INFO:root:('gc=12pi/16', 'gg=9pi/16')\n",
      "INFO:root:==== Working to build a set of covering polytopes ====\n",
      "INFO:root:==== Haar volumes ====\n",
      "INFO:root:Haar-expectation cost: 2.04017235274205\n",
      "INFO:root:('gc=12pi/16', 'gg=10pi/16')\n",
      "INFO:root:==== Working to build a set of covering polytopes ====\n",
      "INFO:root:==== Haar volumes ====\n",
      "INFO:root:Haar-expectation cost: 2.041729136984175\n",
      "INFO:root:('gc=12pi/16', 'gg=11pi/16')\n",
      "INFO:root:==== Working to build a set of covering polytopes ====\n",
      "INFO:root:==== Haar volumes ====\n",
      "INFO:root:Haar-expectation cost: 2.2171487904198584\n",
      "INFO:root:('gc=12pi/16', 'gg=12pi/16')\n",
      "INFO:root:==== Working to build a set of covering polytopes ====\n",
      "INFO:root:==== Haar volumes ====\n",
      "INFO:root:Haar-expectation cost: 3.000000000000001\n",
      "INFO:root:('gc=12pi/16', 'gg=13pi/16')\n",
      "INFO:root:('gc=12pi/16', 'gg=14pi/16')\n",
      "INFO:root:('gc=12pi/16', 'gg=15pi/16')\n",
      "INFO:root:('gc=12pi/16', 'gg=16pi/16')\n",
      "INFO:root:('gc=13pi/16', 'gg=1pi/16')\n",
      "INFO:root:==== Working to build a set of covering polytopes ====\n",
      "INFO:root:==== Haar volumes ====\n",
      "INFO:root:Haar-expectation cost: 2.5041895657189084\n",
      "INFO:root:('gc=13pi/16', 'gg=2pi/16')\n",
      "INFO:root:==== Working to build a set of covering polytopes ====\n",
      "INFO:root:==== Haar volumes ====\n",
      "INFO:root:Haar-expectation cost: 2.5255935278542765\n",
      "INFO:root:('gc=13pi/16', 'gg=3pi/16')\n",
      "INFO:root:==== Working to build a set of covering polytopes ====\n",
      "INFO:root:==== Haar volumes ====\n",
      "INFO:root:Haar-expectation cost: 3.0041895657189084\n",
      "INFO:root:('gc=13pi/16', 'gg=4pi/16')\n",
      "INFO:root:==== Working to build a set of covering polytopes ====\n",
      "INFO:root:==== Haar volumes ====\n",
      "INFO:root:Haar-expectation cost: 2.217148790419858\n",
      "INFO:root:('gc=13pi/16', 'gg=5pi/16')\n",
      "INFO:root:==== Working to build a set of covering polytopes ====\n",
      "INFO:root:==== Haar volumes ====\n",
      "INFO:root:Haar-expectation cost: 2.011267585362158\n",
      "INFO:root:('gc=13pi/16', 'gg=6pi/16')\n",
      "INFO:root:==== Working to build a set of covering polytopes ====\n",
      "INFO:root:==== Haar volumes ====\n",
      "INFO:root:Haar-expectation cost: 2.0001430172601995\n",
      "INFO:root:('gc=13pi/16', 'gg=7pi/16')\n",
      "INFO:root:==== Working to build a set of covering polytopes ====\n",
      "INFO:root:==== Haar volumes ====\n",
      "INFO:root:Haar-expectation cost: 2.0011770545216936\n",
      "INFO:root:('gc=13pi/16', 'gg=8pi/16')\n",
      "INFO:root:==== Working to build a set of covering polytopes ====\n",
      "INFO:root:==== Haar volumes ====\n",
      "INFO:root:Haar-expectation cost: 2.100434417748743\n",
      "INFO:root:('gc=13pi/16', 'gg=9pi/16')\n",
      "INFO:root:==== Working to build a set of covering polytopes ====\n",
      "INFO:root:==== Haar volumes ====\n",
      "INFO:root:Haar-expectation cost: 2.0011770545216936\n",
      "INFO:root:('gc=13pi/16', 'gg=10pi/16')\n",
      "INFO:root:==== Working to build a set of covering polytopes ====\n",
      "INFO:root:==== Haar volumes ====\n",
      "INFO:root:Haar-expectation cost: 2.0001430172601995\n",
      "INFO:root:('gc=13pi/16', 'gg=11pi/16')\n",
      "INFO:root:==== Working to build a set of covering polytopes ====\n",
      "INFO:root:==== Haar volumes ====\n",
      "INFO:root:Haar-expectation cost: 2.011267585362158\n",
      "INFO:root:('gc=13pi/16', 'gg=12pi/16')\n",
      "INFO:root:==== Working to build a set of covering polytopes ====\n",
      "INFO:root:==== Haar volumes ====\n",
      "INFO:root:Haar-expectation cost: 2.217148790419858\n",
      "INFO:root:('gc=13pi/16', 'gg=13pi/16')\n",
      "INFO:root:==== Working to build a set of covering polytopes ====\n",
      "INFO:root:==== Haar volumes ====\n",
      "INFO:root:Haar-expectation cost: 3.0041895657189084\n",
      "INFO:root:('gc=13pi/16', 'gg=14pi/16')\n",
      "INFO:root:('gc=13pi/16', 'gg=15pi/16')\n",
      "INFO:root:('gc=13pi/16', 'gg=16pi/16')\n",
      "INFO:root:('gc=14pi/16', 'gg=1pi/16')\n",
      "INFO:root:==== Working to build a set of covering polytopes ====\n",
      "INFO:root:==== Haar volumes ====\n",
      "INFO:root:Haar-expectation cost: 3.502799156321846\n",
      "INFO:root:('gc=14pi/16', 'gg=2pi/16')\n",
      "INFO:root:==== Working to build a set of covering polytopes ====\n",
      "INFO:root:==== Haar volumes ====\n",
      "INFO:root:Haar-expectation cost: 3.540254820808027\n",
      "INFO:root:('gc=14pi/16', 'gg=3pi/16')\n",
      "INFO:root:==== Working to build a set of covering polytopes ====\n",
      "INFO:root:==== Haar volumes ====\n",
      "INFO:root:Haar-expectation cost: 2.5255935278542765\n",
      "INFO:root:('gc=14pi/16', 'gg=4pi/16')\n",
      "INFO:root:==== Working to build a set of covering polytopes ====\n",
      "INFO:root:==== Haar volumes ====\n",
      "INFO:root:Haar-expectation cost: 2.041729136984175\n",
      "INFO:root:('gc=14pi/16', 'gg=5pi/16')\n",
      "INFO:root:==== Working to build a set of covering polytopes ====\n",
      "INFO:root:==== Haar volumes ====\n",
      "INFO:root:Haar-expectation cost: 2.0001430172602\n",
      "INFO:root:('gc=14pi/16', 'gg=6pi/16')\n",
      "INFO:root:==== Working to build a set of covering polytopes ====\n",
      "INFO:root:==== Haar volumes ====\n",
      "INFO:root:Haar-expectation cost: 2.0\n",
      "INFO:root:('gc=14pi/16', 'gg=7pi/16')\n",
      "INFO:root:==== Working to build a set of covering polytopes ====\n",
      "INFO:root:==== Haar volumes ====\n",
      "INFO:root:Haar-expectation cost: 2.000143017260201\n",
      "INFO:root:('gc=14pi/16', 'gg=8pi/16')\n",
      "INFO:root:==== Working to build a set of covering polytopes ====\n",
      "INFO:root:==== Haar volumes ====\n",
      "INFO:root:Haar-expectation cost: 2.0454225284540524\n",
      "INFO:root:('gc=14pi/16', 'gg=9pi/16')\n",
      "INFO:root:==== Working to build a set of covering polytopes ====\n",
      "INFO:root:==== Haar volumes ====\n",
      "INFO:root:Haar-expectation cost: 2.000143017260201\n",
      "INFO:root:('gc=14pi/16', 'gg=10pi/16')\n",
      "INFO:root:==== Working to build a set of covering polytopes ====\n",
      "INFO:root:==== Haar volumes ====\n",
      "INFO:root:Haar-expectation cost: 2.0\n",
      "INFO:root:('gc=14pi/16', 'gg=11pi/16')\n",
      "INFO:root:==== Working to build a set of covering polytopes ====\n",
      "INFO:root:==== Haar volumes ====\n",
      "INFO:root:Haar-expectation cost: 2.0001430172602\n",
      "INFO:root:('gc=14pi/16', 'gg=12pi/16')\n",
      "INFO:root:==== Working to build a set of covering polytopes ====\n",
      "INFO:root:==== Haar volumes ====\n",
      "INFO:root:Haar-expectation cost: 2.041729136984175\n",
      "INFO:root:('gc=14pi/16', 'gg=13pi/16')\n",
      "INFO:root:==== Working to build a set of covering polytopes ====\n",
      "INFO:root:==== Haar volumes ====\n",
      "INFO:root:Haar-expectation cost: 2.5255935278542765\n",
      "INFO:root:('gc=14pi/16', 'gg=14pi/16')\n",
      "INFO:root:==== Working to build a set of covering polytopes ====\n",
      "INFO:root:==== Haar volumes ====\n",
      "INFO:root:Haar-expectation cost: 3.540254820808025\n",
      "INFO:root:('gc=14pi/16', 'gg=15pi/16')\n",
      "INFO:root:('gc=14pi/16', 'gg=16pi/16')\n",
      "INFO:root:('gc=15pi/16', 'gg=1pi/16')\n",
      "INFO:root:==== Working to build a set of covering polytopes ====\n",
      "INFO:root:==== Haar volumes ====\n",
      "INFO:root:Haar-expectation cost: 6.500137765307217\n",
      "INFO:root:('gc=15pi/16', 'gg=2pi/16')\n",
      "INFO:root:==== Working to build a set of covering polytopes ====\n",
      "INFO:root:==== Haar volumes ====\n",
      "INFO:root:Haar-expectation cost: 3.5027991563218492\n",
      "INFO:root:('gc=15pi/16', 'gg=3pi/16')\n",
      "INFO:root:==== Working to build a set of covering polytopes ====\n",
      "INFO:root:==== Haar volumes ====\n",
      "INFO:root:Haar-expectation cost: 2.504189565718911\n",
      "INFO:root:('gc=15pi/16', 'gg=4pi/16')\n",
      "INFO:root:==== Working to build a set of covering polytopes ====\n",
      "INFO:root:==== Haar volumes ====\n",
      "INFO:root:Haar-expectation cost: 2.0401723527420503\n",
      "INFO:root:('gc=15pi/16', 'gg=5pi/16')\n",
      "INFO:root:==== Working to build a set of covering polytopes ====\n",
      "INFO:root:==== Haar volumes ====\n",
      "INFO:root:Haar-expectation cost: 2.0011770545216936\n",
      "INFO:root:('gc=15pi/16', 'gg=6pi/16')\n",
      "INFO:root:==== Working to build a set of covering polytopes ====\n",
      "INFO:root:==== Haar volumes ====\n",
      "INFO:root:Haar-expectation cost: 2.000143017260202\n",
      "INFO:root:('gc=15pi/16', 'gg=7pi/16')\n",
      "INFO:root:==== Working to build a set of covering polytopes ====\n",
      "INFO:root:==== Haar volumes ====\n",
      "INFO:root:Haar-expectation cost: 2.011267585362156\n",
      "INFO:root:('gc=15pi/16', 'gg=8pi/16')\n",
      "INFO:root:==== Working to build a set of covering polytopes ====\n",
      "INFO:root:==== Haar volumes ====\n",
      "INFO:root:Haar-expectation cost: 2.2171604676425085\n",
      "INFO:root:('gc=15pi/16', 'gg=9pi/16')\n",
      "INFO:root:==== Working to build a set of covering polytopes ====\n",
      "INFO:root:==== Haar volumes ====\n",
      "INFO:root:Haar-expectation cost: 2.011267585362156\n",
      "INFO:root:('gc=15pi/16', 'gg=10pi/16')\n",
      "INFO:root:==== Working to build a set of covering polytopes ====\n",
      "INFO:root:==== Haar volumes ====\n",
      "INFO:root:Haar-expectation cost: 2.000143017260202\n",
      "INFO:root:('gc=15pi/16', 'gg=11pi/16')\n",
      "INFO:root:==== Working to build a set of covering polytopes ====\n",
      "INFO:root:==== Haar volumes ====\n",
      "INFO:root:Haar-expectation cost: 2.0011770545216936\n",
      "INFO:root:('gc=15pi/16', 'gg=12pi/16')\n",
      "INFO:root:==== Working to build a set of covering polytopes ====\n",
      "INFO:root:==== Haar volumes ====\n",
      "INFO:root:Haar-expectation cost: 2.0401723527420503\n",
      "INFO:root:('gc=15pi/16', 'gg=13pi/16')\n",
      "INFO:root:==== Working to build a set of covering polytopes ====\n",
      "INFO:root:==== Haar volumes ====\n",
      "INFO:root:Haar-expectation cost: 2.504189565718911\n",
      "INFO:root:('gc=15pi/16', 'gg=14pi/16')\n",
      "INFO:root:==== Working to build a set of covering polytopes ====\n",
      "INFO:root:==== Haar volumes ====\n",
      "INFO:root:Haar-expectation cost: 3.5027991563218492\n",
      "INFO:root:('gc=15pi/16', 'gg=15pi/16')\n",
      "INFO:root:==== Working to build a set of covering polytopes ====\n",
      "INFO:root:==== Haar volumes ====\n",
      "INFO:root:Haar-expectation cost: 6.500137765307217\n",
      "INFO:root:('gc=15pi/16', 'gg=16pi/16')\n",
      "INFO:root:('gc=16pi/16', 'gg=1pi/16')\n",
      "INFO:root:==== Working to build a set of covering polytopes ====\n",
      "INFO:root:==== Haar volumes ====\n",
      "INFO:root:Haar-expectation cost: 7.291939177112498\n",
      "INFO:root:('gc=16pi/16', 'gg=2pi/16')\n",
      "INFO:root:==== Working to build a set of covering polytopes ====\n",
      "INFO:root:==== Haar volumes ====\n",
      "INFO:root:Haar-expectation cost: 3.8395746639269435\n",
      "INFO:root:('gc=16pi/16', 'gg=3pi/16')\n",
      "INFO:root:==== Working to build a set of covering polytopes ====\n",
      "INFO:root:==== Haar volumes ====\n",
      "INFO:root:Haar-expectation cost: 2.850019528561617\n",
      "INFO:root:('gc=16pi/16', 'gg=4pi/16')\n",
      "INFO:root:==== Working to build a set of covering polytopes ====\n",
      "INFO:root:==== Haar volumes ====\n",
      "INFO:root:Haar-expectation cost: 2.2098826363156774\n",
      "INFO:root:('gc=16pi/16', 'gg=5pi/16')\n",
      "INFO:root:==== Working to build a set of covering polytopes ====\n",
      "INFO:root:==== Haar volumes ====\n",
      "INFO:root:Haar-expectation cost: 2.100434417748742\n",
      "INFO:root:('gc=16pi/16', 'gg=6pi/16')\n",
      "INFO:root:==== Working to build a set of covering polytopes ====\n",
      "INFO:root:==== Haar volumes ====\n",
      "INFO:root:Haar-expectation cost: 2.0454225284540533\n",
      "INFO:root:('gc=16pi/16', 'gg=7pi/16')\n",
      "INFO:root:==== Working to build a set of covering polytopes ====\n",
      "INFO:root:==== Haar volumes ====\n",
      "INFO:root:Haar-expectation cost: 2.217160467642511\n",
      "INFO:root:('gc=16pi/16', 'gg=8pi/16')\n",
      "INFO:root:==== Working to build a set of covering polytopes ====\n",
      "INFO:root:==== Haar volumes ====\n",
      "INFO:root:Haar-expectation cost: 3.000000000000001\n",
      "INFO:root:('gc=16pi/16', 'gg=9pi/16')\n",
      "INFO:root:==== Working to build a set of covering polytopes ====\n",
      "INFO:root:==== Haar volumes ====\n",
      "INFO:root:Haar-expectation cost: 2.217160467642511\n",
      "INFO:root:('gc=16pi/16', 'gg=10pi/16')\n",
      "INFO:root:==== Working to build a set of covering polytopes ====\n",
      "INFO:root:==== Haar volumes ====\n",
      "INFO:root:Haar-expectation cost: 2.0454225284540533\n",
      "INFO:root:('gc=16pi/16', 'gg=11pi/16')\n",
      "INFO:root:==== Working to build a set of covering polytopes ====\n",
      "INFO:root:==== Haar volumes ====\n",
      "INFO:root:Haar-expectation cost: 2.100434417748742\n",
      "INFO:root:('gc=16pi/16', 'gg=12pi/16')\n",
      "INFO:root:==== Working to build a set of covering polytopes ====\n",
      "INFO:root:==== Haar volumes ====\n",
      "INFO:root:Haar-expectation cost: 2.2098826363156774\n",
      "INFO:root:('gc=16pi/16', 'gg=13pi/16')\n",
      "INFO:root:==== Working to build a set of covering polytopes ====\n",
      "INFO:root:==== Haar volumes ====\n",
      "INFO:root:Haar-expectation cost: 2.850019528561617\n",
      "INFO:root:('gc=16pi/16', 'gg=14pi/16')\n",
      "INFO:root:==== Working to build a set of covering polytopes ====\n",
      "INFO:root:==== Haar volumes ====\n",
      "INFO:root:Haar-expectation cost: 3.8395746639269435\n",
      "INFO:root:('gc=16pi/16', 'gg=15pi/16')\n",
      "INFO:root:==== Working to build a set of covering polytopes ====\n",
      "INFO:root:==== Haar volumes ====\n",
      "INFO:root:Haar-expectation cost: 7.291939177112498\n",
      "INFO:root:('gc=16pi/16', 'gg=16pi/16')\n",
      "INFO:root:==== Working to build a set of covering polytopes ====\n",
      "INFO:root:==== Haar volumes ====\n",
      "INFO:root:Haar-expectation cost: 0.0\n"
     ]
    }
   ],
   "source": [
    "#sweep parameters of B gate with t=1 to see how expected haar changes\n",
    "from src.utils.custom_gates import CustomCostGate\n",
    "from src.hamiltonian import ConversionGainHamiltonian\n",
    "from src.utils.polytope_wrap import gate_set_to_haar_expectation\n",
    "\n",
    "\n",
    "h = ConversionGainHamiltonian()\n",
    "data = []\n",
    "labels = []\n",
    "\n",
    "n_gc = 16\n",
    "n_gg = 16\n",
    "\n",
    "for i in range(1,n_gc+1):\n",
    "    temp_data = []\n",
    "    temp_labels = []\n",
    "    for j in range(1,n_gg+1):\n",
    "            \n",
    "        temp_labels.append((f\"gc={i}pi/{n_gc}\", f\"gg={j}pi/{n_gg}\"))\n",
    "        logging.info(temp_labels[-1])\n",
    "\n",
    "        if i < j: #we might use this depending on whether the results are symmetric\n",
    "            temp_data.append(0)\n",
    "            continue\n",
    "\n",
    "        cost = sum([i*np.pi/n_gc, j*np.pi/n_gg])/SPEED_LIMIT\n",
    "        u = h._construct_U_lambda(i*np.pi/n_gc, j*np.pi/n_gg)(1).full()\n",
    "        u = CustomCostGate(u, f\"B({i*np.pi/n_gc, j*np.pi/n_gg})\", cost=1) #cost=cost\n",
    "\n",
    "        result = gate_set_to_haar_expectation(u, chatty=False)\n",
    "        temp_data.append(result)\n",
    "        \n",
    "    labels.append(temp_labels)\n",
    "    data.append(temp_data) "
   ]
  },
  {
   "cell_type": "code",
   "execution_count": 9,
   "metadata": {},
   "outputs": [],
   "source": [
    "# from src.utils.data_utils import h5py_save\n",
    "# h5py_save(\"b_gate_data\", data=data)\n",
    "from src.utils.data_utils import h5py_load\n",
    "data = h5py_load(\"b_gate_data\", \"data\")[\"data\"]\n",
    "labels =None"
   ]
  },
  {
   "cell_type": "code",
   "execution_count": 11,
   "metadata": {},
   "outputs": [
    {
     "data": {
      "image/png": "[encoded data removed]",
      "text/plain": [
       "<Figure size 504x504 with 2 Axes>"
      ]
     },
     "metadata": {
      "needs_background": "light"
     },
     "output_type": "display_data"
    }
   ],
   "source": [
    "from src.utils.visualize import plotHamiltonianSweep\n",
    "plotHamiltonianSweep(np.matrix(data), title=\"BGate E[Haar]: unit gate count\", labels=labels, vmax=np.amax(data));"
   ]
  },
  {
   "cell_type": "code",
   "execution_count": 15,
   "metadata": {},
   "outputs": [
    {
     "name": "stderr",
     "output_type": "stream",
     "text": [
      "INFO:root:('gc=0pi/16', 'gg=0pi/16')\n",
      "INFO:root:==== Working to build a set of covering polytopes ====\n",
      "INFO:root:==== Haar volumes ====\n"
     ]
    },
    {
     "name": "stdout",
     "output_type": "stream",
     "text": [
      " deg 0\t | Sequence name\n",
      "0.00000\t | \n",
      "0.00000\t | B((0.0, 0.0))\n"
     ]
    },
    {
     "name": "stderr",
     "output_type": "stream",
     "text": [
      "INFO:root:Haar-expectation cost: 0.0\n",
      "INFO:root:('gc=0pi/16', 'gg=1pi/16')\n",
      "INFO:root:('gc=0pi/16', 'gg=2pi/16')\n",
      "INFO:root:('gc=0pi/16', 'gg=3pi/16')\n",
      "INFO:root:('gc=0pi/16', 'gg=4pi/16')\n",
      "INFO:root:('gc=0pi/16', 'gg=5pi/16')\n",
      "INFO:root:('gc=0pi/16', 'gg=6pi/16')\n",
      "INFO:root:('gc=1pi/16', 'gg=0pi/16')\n",
      "INFO:root:==== Working to build a set of covering polytopes ====\n",
      "INFO:root:==== Haar volumes ====\n"
     ]
    },
    {
     "name": "stdout",
     "output_type": "stream",
     "text": [
      " deg 0\t | Sequence name\n",
      "0.00000\t | \n",
      "0.00000\t | B((0.19634954084936207, 0.0))\n",
      "0.00002\t | B((0.19634954084936207, 0.0)).B((0.19634954084936207, 0.0))\n",
      "0.00088\t | B((0.19634954084936207, 0.0)).B((0.19634954084936207, 0.0)).B((0.19634954084936207, 0.0))\n",
      "0.00875\t | B((0.19634954084936207, 0.0)).B((0.19634954084936207, 0.0)).B((0.19634954084936207, 0.0)).B((0.19634954084936207, 0.0))\n",
      "0.04420\t | B((0.19634954084936207, 0.0)).B((0.19634954084936207, 0.0)).B((0.19634954084936207, 0.0)).B((0.19634954084936207, 0.0)).B((0.19634954084936207, 0.0))\n",
      "0.13925\t | B((0.19634954084936207, 0.0)).B((0.19634954084936207, 0.0)).B((0.19634954084936207, 0.0)).B((0.19634954084936207, 0.0)).B((0.19634954084936207, 0.0)).B((0.19634954084936207, 0.0))\n",
      "0.30186\t | B((0.19634954084936207, 0.0)).B((0.19634954084936207, 0.0)).B((0.19634954084936207, 0.0)).B((0.19634954084936207, 0.0)).B((0.19634954084936207, 0.0)).B((0.19634954084936207, 0.0)).B((0.19634954084936207, 0.0))\n",
      "0.46492\t | B((0.19634954084936207, 0.0)).B((0.19634954084936207, 0.0)).B((0.19634954084936207, 0.0)).B((0.19634954084936207, 0.0)).B((0.19634954084936207, 0.0)).B((0.19634954084936207, 0.0)).B((0.19634954084936207, 0.0)).B((0.19634954084936207, 0.0))\n",
      "0.03593\t | B((0.19634954084936207, 0.0)).B((0.19634954084936207, 0.0)).B((0.19634954084936207, 0.0)).B((0.19634954084936207, 0.0)).B((0.19634954084936207, 0.0)).B((0.19634954084936207, 0.0)).B((0.19634954084936207, 0.0)).B((0.19634954084936207, 0.0)).B((0.19634954084936207, 0.0))\n",
      "0.00405\t | B((0.19634954084936207, 0.0)).B((0.19634954084936207, 0.0)).B((0.19634954084936207, 0.0)).B((0.19634954084936207, 0.0)).B((0.19634954084936207, 0.0)).B((0.19634954084936207, 0.0)).B((0.19634954084936207, 0.0)).B((0.19634954084936207, 0.0)).B((0.19634954084936207, 0.0)).B((0.19634954084936207, 0.0))\n",
      "0.00014\t | B((0.19634954084936207, 0.0)).B((0.19634954084936207, 0.0)).B((0.19634954084936207, 0.0)).B((0.19634954084936207, 0.0)).B((0.19634954084936207, 0.0)).B((0.19634954084936207, 0.0)).B((0.19634954084936207, 0.0)).B((0.19634954084936207, 0.0)).B((0.19634954084936207, 0.0)).B((0.19634954084936207, 0.0)).B((0.19634954084936207, 0.0))\n",
      "0.00000\t | B((0.19634954084936207, 0.0)).B((0.19634954084936207, 0.0)).B((0.19634954084936207, 0.0)).B((0.19634954084936207, 0.0)).B((0.19634954084936207, 0.0)).B((0.19634954084936207, 0.0)).B((0.19634954084936207, 0.0)).B((0.19634954084936207, 0.0)).B((0.19634954084936207, 0.0)).B((0.19634954084936207, 0.0)).B((0.19634954084936207, 0.0)).B((0.19634954084936207, 0.0))\n"
     ]
    },
    {
     "name": "stderr",
     "output_type": "stream",
     "text": [
      "INFO:root:Haar-expectation cost: 7.291939177112498\n",
      "INFO:root:('gc=1pi/16', 'gg=1pi/16')\n",
      "INFO:root:==== Working to build a set of covering polytopes ====\n",
      "INFO:root:==== Haar volumes ====\n"
     ]
    },
    {
     "name": "stdout",
     "output_type": "stream",
     "text": [
      " deg 0\t | Sequence name\n",
      "0.00000\t | \n",
      "0.00000\t | B((0.19634954084936207, 0.19634954084936207))\n",
      "0.00000\t | B((0.19634954084936207, 0.19634954084936207)).B((0.19634954084936207, 0.19634954084936207))\n",
      "0.00419\t | B((0.19634954084936207, 0.19634954084936207)).B((0.19634954084936207, 0.19634954084936207)).B((0.19634954084936207, 0.19634954084936207))\n",
      "0.03593\t | B((0.19634954084936207, 0.19634954084936207)).B((0.19634954084936207, 0.19634954084936207)).B((0.19634954084936207, 0.19634954084936207)).B((0.19634954084936207, 0.19634954084936207))\n",
      "0.15041\t | B((0.19634954084936207, 0.19634954084936207)).B((0.19634954084936207, 0.19634954084936207)).B((0.19634954084936207, 0.19634954084936207)).B((0.19634954084936207, 0.19634954084936207)).B((0.19634954084936207, 0.19634954084936207))\n",
      "0.30947\t | B((0.19634954084936207, 0.19634954084936207)).B((0.19634954084936207, 0.19634954084936207)).B((0.19634954084936207, 0.19634954084936207)).B((0.19634954084936207, 0.19634954084936207)).B((0.19634954084936207, 0.19634954084936207)).B((0.19634954084936207, 0.19634954084936207))\n",
      "0.30947\t | B((0.19634954084936207, 0.19634954084936207)).B((0.19634954084936207, 0.19634954084936207)).B((0.19634954084936207, 0.19634954084936207)).B((0.19634954084936207, 0.19634954084936207)).B((0.19634954084936207, 0.19634954084936207)).B((0.19634954084936207, 0.19634954084936207)).B((0.19634954084936207, 0.19634954084936207))\n",
      "0.15041\t | B((0.19634954084936207, 0.19634954084936207)).B((0.19634954084936207, 0.19634954084936207)).B((0.19634954084936207, 0.19634954084936207)).B((0.19634954084936207, 0.19634954084936207)).B((0.19634954084936207, 0.19634954084936207)).B((0.19634954084936207, 0.19634954084936207)).B((0.19634954084936207, 0.19634954084936207)).B((0.19634954084936207, 0.19634954084936207))\n",
      "0.03593\t | B((0.19634954084936207, 0.19634954084936207)).B((0.19634954084936207, 0.19634954084936207)).B((0.19634954084936207, 0.19634954084936207)).B((0.19634954084936207, 0.19634954084936207)).B((0.19634954084936207, 0.19634954084936207)).B((0.19634954084936207, 0.19634954084936207)).B((0.19634954084936207, 0.19634954084936207)).B((0.19634954084936207, 0.19634954084936207)).B((0.19634954084936207, 0.19634954084936207))\n",
      "0.00405\t | B((0.19634954084936207, 0.19634954084936207)).B((0.19634954084936207, 0.19634954084936207)).B((0.19634954084936207, 0.19634954084936207)).B((0.19634954084936207, 0.19634954084936207)).B((0.19634954084936207, 0.19634954084936207)).B((0.19634954084936207, 0.19634954084936207)).B((0.19634954084936207, 0.19634954084936207)).B((0.19634954084936207, 0.19634954084936207)).B((0.19634954084936207, 0.19634954084936207)).B((0.19634954084936207, 0.19634954084936207))\n",
      "0.00014\t | B((0.19634954084936207, 0.19634954084936207)).B((0.19634954084936207, 0.19634954084936207)).B((0.19634954084936207, 0.19634954084936207)).B((0.19634954084936207, 0.19634954084936207)).B((0.19634954084936207, 0.19634954084936207)).B((0.19634954084936207, 0.19634954084936207)).B((0.19634954084936207, 0.19634954084936207)).B((0.19634954084936207, 0.19634954084936207)).B((0.19634954084936207, 0.19634954084936207)).B((0.19634954084936207, 0.19634954084936207)).B((0.19634954084936207, 0.19634954084936207))\n",
      "0.00000\t | B((0.19634954084936207, 0.19634954084936207)).B((0.19634954084936207, 0.19634954084936207)).B((0.19634954084936207, 0.19634954084936207)).B((0.19634954084936207, 0.19634954084936207)).B((0.19634954084936207, 0.19634954084936207)).B((0.19634954084936207, 0.19634954084936207)).B((0.19634954084936207, 0.19634954084936207)).B((0.19634954084936207, 0.19634954084936207)).B((0.19634954084936207, 0.19634954084936207)).B((0.19634954084936207, 0.19634954084936207)).B((0.19634954084936207, 0.19634954084936207)).B((0.19634954084936207, 0.19634954084936207))\n"
     ]
    },
    {
     "name": "stderr",
     "output_type": "stream",
     "text": [
      "INFO:root:Haar-expectation cost: 6.500137765307217\n",
      "INFO:root:('gc=1pi/16', 'gg=2pi/16')\n",
      "INFO:root:('gc=1pi/16', 'gg=3pi/16')\n",
      "INFO:root:('gc=1pi/16', 'gg=4pi/16')\n",
      "INFO:root:('gc=1pi/16', 'gg=5pi/16')\n",
      "INFO:root:('gc=1pi/16', 'gg=6pi/16')\n",
      "INFO:root:('gc=2pi/16', 'gg=0pi/16')\n",
      "INFO:root:==== Working to build a set of covering polytopes ====\n",
      "INFO:root:==== Haar volumes ====\n"
     ]
    },
    {
     "name": "stdout",
     "output_type": "stream",
     "text": [
      " deg 0\t | Sequence name\n",
      "0.00000\t | \n",
      "0.00000\t | B((0.39269908169872414, 0.0))\n",
      "0.00757\t | B((0.39269908169872414, 0.0)).B((0.39269908169872414, 0.0))\n",
      "0.18553\t | B((0.39269908169872414, 0.0)).B((0.39269908169872414, 0.0)).B((0.39269908169872414, 0.0))\n",
      "0.76678\t | B((0.39269908169872414, 0.0)).B((0.39269908169872414, 0.0)).B((0.39269908169872414, 0.0)).B((0.39269908169872414, 0.0))\n",
      "0.03998\t | B((0.39269908169872414, 0.0)).B((0.39269908169872414, 0.0)).B((0.39269908169872414, 0.0)).B((0.39269908169872414, 0.0)).B((0.39269908169872414, 0.0))\n",
      "0.00014\t | B((0.39269908169872414, 0.0)).B((0.39269908169872414, 0.0)).B((0.39269908169872414, 0.0)).B((0.39269908169872414, 0.0)).B((0.39269908169872414, 0.0)).B((0.39269908169872414, 0.0))\n"
     ]
    },
    {
     "name": "stderr",
     "output_type": "stream",
     "text": [
      "INFO:root:Haar-expectation cost: 3.8395746639269435\n",
      "INFO:root:('gc=2pi/16', 'gg=1pi/16')\n",
      "INFO:root:==== Working to build a set of covering polytopes ====\n",
      "INFO:root:==== Haar volumes ====\n"
     ]
    },
    {
     "name": "stdout",
     "output_type": "stream",
     "text": [
      " deg 0\t | Sequence name\n",
      "0.00000\t | \n",
      "0.00000\t | B((0.39269908169872414, 0.19634954084936207))\n",
      "0.03746\t | B((0.39269908169872414, 0.19634954084936207)).B((0.39269908169872414, 0.19634954084936207))\n",
      "0.46254\t | B((0.39269908169872414, 0.19634954084936207)).B((0.39269908169872414, 0.19634954084936207)).B((0.39269908169872414, 0.19634954084936207))\n",
      "0.45988\t | B((0.39269908169872414, 0.19634954084936207)).B((0.39269908169872414, 0.19634954084936207)).B((0.39269908169872414, 0.19634954084936207)).B((0.39269908169872414, 0.19634954084936207))\n",
      "0.03998\t | B((0.39269908169872414, 0.19634954084936207)).B((0.39269908169872414, 0.19634954084936207)).B((0.39269908169872414, 0.19634954084936207)).B((0.39269908169872414, 0.19634954084936207)).B((0.39269908169872414, 0.19634954084936207))\n",
      "0.00014\t | B((0.39269908169872414, 0.19634954084936207)).B((0.39269908169872414, 0.19634954084936207)).B((0.39269908169872414, 0.19634954084936207)).B((0.39269908169872414, 0.19634954084936207)).B((0.39269908169872414, 0.19634954084936207)).B((0.39269908169872414, 0.19634954084936207))\n"
     ]
    },
    {
     "name": "stderr",
     "output_type": "stream",
     "text": [
      "INFO:root:Haar-expectation cost: 3.502799156321846\n",
      "INFO:root:('gc=2pi/16', 'gg=2pi/16')\n",
      "INFO:root:==== Working to build a set of covering polytopes ====\n",
      "INFO:root:==== Haar volumes ====\n"
     ]
    },
    {
     "name": "stdout",
     "output_type": "stream",
     "text": [
      " deg 0\t | Sequence name\n",
      "0.00000\t | \n",
      "0.00000\t | B((0.39269908169872414, 0.39269908169872414))\n",
      "0.00000\t | B((0.39269908169872414, 0.39269908169872414)).B((0.39269908169872414, 0.39269908169872414))\n",
      "0.50000\t | B((0.39269908169872414, 0.39269908169872414)).B((0.39269908169872414, 0.39269908169872414)).B((0.39269908169872414, 0.39269908169872414))\n",
      "0.45988\t | B((0.39269908169872414, 0.39269908169872414)).B((0.39269908169872414, 0.39269908169872414)).B((0.39269908169872414, 0.39269908169872414)).B((0.39269908169872414, 0.39269908169872414))\n",
      "0.03998\t | B((0.39269908169872414, 0.39269908169872414)).B((0.39269908169872414, 0.39269908169872414)).B((0.39269908169872414, 0.39269908169872414)).B((0.39269908169872414, 0.39269908169872414)).B((0.39269908169872414, 0.39269908169872414))\n",
      "0.00014\t | B((0.39269908169872414, 0.39269908169872414)).B((0.39269908169872414, 0.39269908169872414)).B((0.39269908169872414, 0.39269908169872414)).B((0.39269908169872414, 0.39269908169872414)).B((0.39269908169872414, 0.39269908169872414)).B((0.39269908169872414, 0.39269908169872414))\n"
     ]
    },
    {
     "name": "stderr",
     "output_type": "stream",
     "text": [
      "INFO:root:Haar-expectation cost: 3.540254820808027\n",
      "INFO:root:('gc=2pi/16', 'gg=3pi/16')\n",
      "INFO:root:('gc=2pi/16', 'gg=4pi/16')\n",
      "INFO:root:('gc=2pi/16', 'gg=5pi/16')\n",
      "INFO:root:('gc=2pi/16', 'gg=6pi/16')\n",
      "INFO:root:('gc=3pi/16', 'gg=0pi/16')\n",
      "INFO:root:==== Working to build a set of covering polytopes ====\n",
      "INFO:root:==== Haar volumes ====\n"
     ]
    },
    {
     "name": "stdout",
     "output_type": "stream",
     "text": [
      " deg 0\t | Sequence name\n",
      "0.00000\t | \n",
      "0.00000\t | B((0.5890486225480862, 0.0))\n",
      "0.15417\t | B((0.5890486225480862, 0.0)).B((0.5890486225480862, 0.0))\n",
      "0.84164\t | B((0.5890486225480862, 0.0)).B((0.5890486225480862, 0.0)).B((0.5890486225480862, 0.0))\n",
      "0.00419\t | B((0.5890486225480862, 0.0)).B((0.5890486225480862, 0.0)).B((0.5890486225480862, 0.0)).B((0.5890486225480862, 0.0))\n"
     ]
    },
    {
     "name": "stderr",
     "output_type": "stream",
     "text": [
      "INFO:root:Haar-expectation cost: 2.850019528561617\n",
      "INFO:root:('gc=3pi/16', 'gg=1pi/16')\n",
      "INFO:root:==== Working to build a set of covering polytopes ====\n",
      "INFO:root:==== Haar volumes ====\n"
     ]
    },
    {
     "name": "stdout",
     "output_type": "stream",
     "text": [
      " deg 0\t | Sequence name\n",
      "0.00000\t | \n",
      "0.00000\t | B((0.5890486225480862, 0.19634954084936207))\n",
      "0.50000\t | B((0.5890486225480862, 0.19634954084936207)).B((0.5890486225480862, 0.19634954084936207))\n",
      "0.49581\t | B((0.5890486225480862, 0.19634954084936207)).B((0.5890486225480862, 0.19634954084936207)).B((0.5890486225480862, 0.19634954084936207))\n",
      "0.00419\t | B((0.5890486225480862, 0.19634954084936207)).B((0.5890486225480862, 0.19634954084936207)).B((0.5890486225480862, 0.19634954084936207)).B((0.5890486225480862, 0.19634954084936207))\n"
     ]
    },
    {
     "name": "stderr",
     "output_type": "stream",
     "text": [
      "INFO:root:Haar-expectation cost: 2.504189565718911\n",
      "INFO:root:('gc=3pi/16', 'gg=2pi/16')\n",
      "INFO:root:==== Working to build a set of covering polytopes ====\n",
      "INFO:root:==== Haar volumes ====\n"
     ]
    },
    {
     "name": "stdout",
     "output_type": "stream",
     "text": [
      " deg 0\t | Sequence name\n",
      "0.00000\t | \n",
      "0.00000\t | B((0.5890486225480862, 0.39269908169872414))\n",
      "0.47860\t | B((0.5890486225480862, 0.39269908169872414)).B((0.5890486225480862, 0.39269908169872414))\n",
      "0.51721\t | B((0.5890486225480862, 0.39269908169872414)).B((0.5890486225480862, 0.39269908169872414)).B((0.5890486225480862, 0.39269908169872414))\n",
      "0.00419\t | B((0.5890486225480862, 0.39269908169872414)).B((0.5890486225480862, 0.39269908169872414)).B((0.5890486225480862, 0.39269908169872414)).B((0.5890486225480862, 0.39269908169872414))\n"
     ]
    },
    {
     "name": "stderr",
     "output_type": "stream",
     "text": [
      "INFO:root:Haar-expectation cost: 2.5255935278542765\n",
      "INFO:root:('gc=3pi/16', 'gg=3pi/16')\n",
      "INFO:root:==== Working to build a set of covering polytopes ====\n",
      "INFO:root:==== Haar volumes ====\n"
     ]
    },
    {
     "name": "stdout",
     "output_type": "stream",
     "text": [
      " deg 0\t | Sequence name\n",
      "0.00000\t | \n",
      "0.00000\t | B((0.5890486225480862, 0.5890486225480862))\n",
      "0.00000\t | B((0.5890486225480862, 0.5890486225480862)).B((0.5890486225480862, 0.5890486225480862))\n",
      "0.99581\t | B((0.5890486225480862, 0.5890486225480862)).B((0.5890486225480862, 0.5890486225480862)).B((0.5890486225480862, 0.5890486225480862))\n",
      "0.00419\t | B((0.5890486225480862, 0.5890486225480862)).B((0.5890486225480862, 0.5890486225480862)).B((0.5890486225480862, 0.5890486225480862)).B((0.5890486225480862, 0.5890486225480862))\n"
     ]
    },
    {
     "name": "stderr",
     "output_type": "stream",
     "text": [
      "INFO:root:Haar-expectation cost: 3.0041895657189084\n",
      "INFO:root:('gc=3pi/16', 'gg=4pi/16')\n",
      "INFO:root:('gc=3pi/16', 'gg=5pi/16')\n",
      "INFO:root:('gc=3pi/16', 'gg=6pi/16')\n",
      "INFO:root:('gc=4pi/16', 'gg=0pi/16')\n",
      "INFO:root:==== Working to build a set of covering polytopes ====\n",
      "INFO:root:==== Haar volumes ====\n"
     ]
    },
    {
     "name": "stdout",
     "output_type": "stream",
     "text": [
      " deg 0\t | Sequence name\n",
      "0.00000\t | \n",
      "0.00000\t | B((0.7853981633974483, 0.0))\n",
      "0.79012\t | B((0.7853981633974483, 0.0)).B((0.7853981633974483, 0.0))\n",
      "0.20988\t | B((0.7853981633974483, 0.0)).B((0.7853981633974483, 0.0)).B((0.7853981633974483, 0.0))\n"
     ]
    },
    {
     "name": "stderr",
     "output_type": "stream",
     "text": [
      "INFO:root:Haar-expectation cost: 2.2098826363156774\n",
      "INFO:root:('gc=4pi/16', 'gg=1pi/16')\n",
      "INFO:root:==== Working to build a set of covering polytopes ====\n",
      "INFO:root:==== Haar volumes ====\n"
     ]
    },
    {
     "name": "stdout",
     "output_type": "stream",
     "text": [
      " deg 0\t | Sequence name\n",
      "0.00000\t | \n",
      "0.00000\t | B((0.7853981633974483, 0.19634954084936207))\n",
      "0.95983\t | B((0.7853981633974483, 0.19634954084936207)).B((0.7853981633974483, 0.19634954084936207))\n",
      "0.04017\t | B((0.7853981633974483, 0.19634954084936207)).B((0.7853981633974483, 0.19634954084936207)).B((0.7853981633974483, 0.19634954084936207))\n"
     ]
    },
    {
     "name": "stderr",
     "output_type": "stream",
     "text": [
      "INFO:root:Haar-expectation cost: 2.04017235274205\n",
      "INFO:root:('gc=4pi/16', 'gg=2pi/16')\n",
      "INFO:root:==== Working to build a set of covering polytopes ====\n",
      "INFO:root:==== Haar volumes ====\n"
     ]
    },
    {
     "name": "stdout",
     "output_type": "stream",
     "text": [
      " deg 0\t | Sequence name\n",
      "0.00000\t | \n",
      "0.00000\t | B((0.7853981633974483, 0.39269908169872414))\n",
      "0.95827\t | B((0.7853981633974483, 0.39269908169872414)).B((0.7853981633974483, 0.39269908169872414))\n",
      "0.04173\t | B((0.7853981633974483, 0.39269908169872414)).B((0.7853981633974483, 0.39269908169872414)).B((0.7853981633974483, 0.39269908169872414))\n"
     ]
    },
    {
     "name": "stderr",
     "output_type": "stream",
     "text": [
      "INFO:root:Haar-expectation cost: 2.041729136984175\n",
      "INFO:root:('gc=4pi/16', 'gg=3pi/16')\n",
      "INFO:root:==== Working to build a set of covering polytopes ====\n",
      "INFO:root:==== Haar volumes ====\n"
     ]
    },
    {
     "name": "stdout",
     "output_type": "stream",
     "text": [
      " deg 0\t | Sequence name\n",
      "0.00000\t | \n",
      "0.00000\t | B((0.7853981633974483, 0.5890486225480862))\n",
      "0.78285\t | B((0.7853981633974483, 0.5890486225480862)).B((0.7853981633974483, 0.5890486225480862))\n",
      "0.21715\t | B((0.7853981633974483, 0.5890486225480862)).B((0.7853981633974483, 0.5890486225480862)).B((0.7853981633974483, 0.5890486225480862))\n"
     ]
    },
    {
     "name": "stderr",
     "output_type": "stream",
     "text": [
      "INFO:root:Haar-expectation cost: 2.217148790419858\n",
      "INFO:root:('gc=4pi/16', 'gg=4pi/16')\n",
      "INFO:root:==== Working to build a set of covering polytopes ====\n",
      "INFO:root:==== Haar volumes ====\n"
     ]
    },
    {
     "name": "stdout",
     "output_type": "stream",
     "text": [
      " deg 0\t | Sequence name\n",
      "0.00000\t | \n",
      "0.00000\t | B((0.7853981633974483, 0.7853981633974483))\n",
      "0.00000\t | B((0.7853981633974483, 0.7853981633974483)).B((0.7853981633974483, 0.7853981633974483))\n",
      "1.00000\t | B((0.7853981633974483, 0.7853981633974483)).B((0.7853981633974483, 0.7853981633974483)).B((0.7853981633974483, 0.7853981633974483))\n"
     ]
    },
    {
     "name": "stderr",
     "output_type": "stream",
     "text": [
      "INFO:root:Haar-expectation cost: 3.000000000000001\n",
      "INFO:root:('gc=4pi/16', 'gg=5pi/16')\n",
      "INFO:root:('gc=4pi/16', 'gg=6pi/16')\n",
      "INFO:root:('gc=5pi/16', 'gg=0pi/16')\n",
      "INFO:root:==== Working to build a set of covering polytopes ====\n",
      "INFO:root:==== Haar volumes ====\n"
     ]
    },
    {
     "name": "stdout",
     "output_type": "stream",
     "text": [
      " deg 0\t | Sequence name\n",
      "0.00000\t | \n",
      "0.00000\t | B((0.9817477042468103, 0.0))\n",
      "0.89957\t | B((0.9817477042468103, 0.0)).B((0.9817477042468103, 0.0))\n",
      "0.10043\t | B((0.9817477042468103, 0.0)).B((0.9817477042468103, 0.0)).B((0.9817477042468103, 0.0))\n"
     ]
    },
    {
     "name": "stderr",
     "output_type": "stream",
     "text": [
      "INFO:root:Haar-expectation cost: 2.100434417748742\n",
      "INFO:root:('gc=5pi/16', 'gg=1pi/16')\n",
      "INFO:root:==== Working to build a set of covering polytopes ====\n",
      "INFO:root:==== Haar volumes ====\n"
     ]
    },
    {
     "name": "stdout",
     "output_type": "stream",
     "text": [
      " deg 0\t | Sequence name\n",
      "0.00000\t | \n",
      "0.00000\t | B((0.9817477042468103, 0.19634954084936207))\n",
      "0.99882\t | B((0.9817477042468103, 0.19634954084936207)).B((0.9817477042468103, 0.19634954084936207))\n",
      "0.00118\t | B((0.9817477042468103, 0.19634954084936207)).B((0.9817477042468103, 0.19634954084936207)).B((0.9817477042468103, 0.19634954084936207))\n"
     ]
    },
    {
     "name": "stderr",
     "output_type": "stream",
     "text": [
      "INFO:root:Haar-expectation cost: 2.0011770545216936\n",
      "INFO:root:('gc=5pi/16', 'gg=2pi/16')\n",
      "INFO:root:==== Working to build a set of covering polytopes ====\n",
      "INFO:root:==== Haar volumes ====\n"
     ]
    },
    {
     "name": "stdout",
     "output_type": "stream",
     "text": [
      " deg 0\t | Sequence name\n",
      "0.00000\t | \n",
      "0.00000\t | B((0.9817477042468103, 0.39269908169872414))\n",
      "0.99986\t | B((0.9817477042468103, 0.39269908169872414)).B((0.9817477042468103, 0.39269908169872414))\n",
      "0.00014\t | B((0.9817477042468103, 0.39269908169872414)).B((0.9817477042468103, 0.39269908169872414)).B((0.9817477042468103, 0.39269908169872414))\n"
     ]
    },
    {
     "name": "stderr",
     "output_type": "stream",
     "text": [
      "INFO:root:Haar-expectation cost: 2.0001430172601995\n",
      "INFO:root:('gc=5pi/16', 'gg=3pi/16')\n",
      "INFO:root:==== Working to build a set of covering polytopes ====\n",
      "INFO:root:==== Haar volumes ====\n"
     ]
    },
    {
     "name": "stdout",
     "output_type": "stream",
     "text": [
      " deg 0\t | Sequence name\n",
      "0.00000\t | \n",
      "0.00000\t | B((0.9817477042468103, 0.5890486225480862))\n",
      "0.98873\t | B((0.9817477042468103, 0.5890486225480862)).B((0.9817477042468103, 0.5890486225480862))\n",
      "0.01127\t | B((0.9817477042468103, 0.5890486225480862)).B((0.9817477042468103, 0.5890486225480862)).B((0.9817477042468103, 0.5890486225480862))\n"
     ]
    },
    {
     "name": "stderr",
     "output_type": "stream",
     "text": [
      "INFO:root:Haar-expectation cost: 2.011267585362158\n",
      "INFO:root:('gc=5pi/16', 'gg=4pi/16')\n",
      "INFO:root:==== Working to build a set of covering polytopes ====\n",
      "INFO:root:==== Haar volumes ====\n"
     ]
    },
    {
     "name": "stdout",
     "output_type": "stream",
     "text": [
      " deg 0\t | Sequence name\n",
      "0.00000\t | \n",
      "0.00000\t | B((0.9817477042468103, 0.7853981633974483))\n",
      "0.78285\t | B((0.9817477042468103, 0.7853981633974483)).B((0.9817477042468103, 0.7853981633974483))\n",
      "0.21715\t | B((0.9817477042468103, 0.7853981633974483)).B((0.9817477042468103, 0.7853981633974483)).B((0.9817477042468103, 0.7853981633974483))\n"
     ]
    },
    {
     "name": "stderr",
     "output_type": "stream",
     "text": [
      "INFO:root:Haar-expectation cost: 2.217148790419858\n",
      "INFO:root:('gc=5pi/16', 'gg=5pi/16')\n",
      "INFO:root:==== Working to build a set of covering polytopes ====\n",
      "INFO:root:==== Haar volumes ====\n"
     ]
    },
    {
     "name": "stdout",
     "output_type": "stream",
     "text": [
      " deg 0\t | Sequence name\n",
      "0.00000\t | \n",
      "0.00000\t | B((0.9817477042468103, 0.9817477042468103))\n",
      "0.00000\t | B((0.9817477042468103, 0.9817477042468103)).B((0.9817477042468103, 0.9817477042468103))\n",
      "0.99581\t | B((0.9817477042468103, 0.9817477042468103)).B((0.9817477042468103, 0.9817477042468103)).B((0.9817477042468103, 0.9817477042468103))\n",
      "0.00419\t | B((0.9817477042468103, 0.9817477042468103)).B((0.9817477042468103, 0.9817477042468103)).B((0.9817477042468103, 0.9817477042468103)).B((0.9817477042468103, 0.9817477042468103))\n"
     ]
    },
    {
     "name": "stderr",
     "output_type": "stream",
     "text": [
      "INFO:root:Haar-expectation cost: 3.0041895657189084\n",
      "INFO:root:('gc=5pi/16', 'gg=6pi/16')\n",
      "INFO:root:('gc=6pi/16', 'gg=0pi/16')\n",
      "INFO:root:==== Working to build a set of covering polytopes ====\n",
      "INFO:root:==== Haar volumes ====\n"
     ]
    },
    {
     "name": "stdout",
     "output_type": "stream",
     "text": [
      " deg 0\t | Sequence name\n",
      "0.00000\t | \n",
      "0.00000\t | B((1.1780972450961724, 0.0))\n",
      "0.95458\t | B((1.1780972450961724, 0.0)).B((1.1780972450961724, 0.0))\n",
      "0.04542\t | B((1.1780972450961724, 0.0)).B((1.1780972450961724, 0.0)).B((1.1780972450961724, 0.0))\n"
     ]
    },
    {
     "name": "stderr",
     "output_type": "stream",
     "text": [
      "INFO:root:Haar-expectation cost: 2.0454225284540533\n",
      "INFO:root:('gc=6pi/16', 'gg=1pi/16')\n",
      "INFO:root:==== Working to build a set of covering polytopes ====\n",
      "INFO:root:==== Haar volumes ====\n"
     ]
    },
    {
     "name": "stdout",
     "output_type": "stream",
     "text": [
      " deg 0\t | Sequence name\n",
      "0.00000\t | \n",
      "0.00000\t | B((1.1780972450961724, 0.19634954084936207))\n",
      "0.99986\t | B((1.1780972450961724, 0.19634954084936207)).B((1.1780972450961724, 0.19634954084936207))\n",
      "0.00014\t | B((1.1780972450961724, 0.19634954084936207)).B((1.1780972450961724, 0.19634954084936207)).B((1.1780972450961724, 0.19634954084936207))\n"
     ]
    },
    {
     "name": "stderr",
     "output_type": "stream",
     "text": [
      "INFO:root:Haar-expectation cost: 2.000143017260201\n",
      "INFO:root:('gc=6pi/16', 'gg=2pi/16')\n",
      "INFO:root:==== Working to build a set of covering polytopes ====\n",
      "INFO:root:==== Haar volumes ====\n"
     ]
    },
    {
     "name": "stdout",
     "output_type": "stream",
     "text": [
      " deg 0\t | Sequence name\n",
      "0.00000\t | \n",
      "0.00000\t | B((1.1780972450961724, 0.39269908169872414))\n",
      "1.00000\t | B((1.1780972450961724, 0.39269908169872414)).B((1.1780972450961724, 0.39269908169872414))\n"
     ]
    },
    {
     "name": "stderr",
     "output_type": "stream",
     "text": [
      "INFO:root:Haar-expectation cost: 2.0\n",
      "INFO:root:('gc=6pi/16', 'gg=3pi/16')\n",
      "INFO:root:==== Working to build a set of covering polytopes ====\n",
      "INFO:root:==== Haar volumes ====\n"
     ]
    },
    {
     "name": "stdout",
     "output_type": "stream",
     "text": [
      " deg 0\t | Sequence name\n",
      "0.00000\t | \n",
      "0.00000\t | B((1.1780972450961724, 0.5890486225480862))\n",
      "0.99986\t | B((1.1780972450961724, 0.5890486225480862)).B((1.1780972450961724, 0.5890486225480862))\n",
      "0.00014\t | B((1.1780972450961724, 0.5890486225480862)).B((1.1780972450961724, 0.5890486225480862)).B((1.1780972450961724, 0.5890486225480862))\n"
     ]
    },
    {
     "name": "stderr",
     "output_type": "stream",
     "text": [
      "INFO:root:Haar-expectation cost: 2.0001430172602\n",
      "INFO:root:('gc=6pi/16', 'gg=4pi/16')\n",
      "INFO:root:==== Working to build a set of covering polytopes ====\n",
      "INFO:root:==== Haar volumes ====\n"
     ]
    },
    {
     "name": "stdout",
     "output_type": "stream",
     "text": [
      " deg 0\t | Sequence name\n",
      "0.00000\t | \n",
      "0.00000\t | B((1.1780972450961724, 0.7853981633974483))\n",
      "0.95827\t | B((1.1780972450961724, 0.7853981633974483)).B((1.1780972450961724, 0.7853981633974483))\n",
      "0.04173\t | B((1.1780972450961724, 0.7853981633974483)).B((1.1780972450961724, 0.7853981633974483)).B((1.1780972450961724, 0.7853981633974483))\n"
     ]
    },
    {
     "name": "stderr",
     "output_type": "stream",
     "text": [
      "INFO:root:Haar-expectation cost: 2.041729136984175\n",
      "INFO:root:('gc=6pi/16', 'gg=5pi/16')\n",
      "INFO:root:==== Working to build a set of covering polytopes ====\n",
      "INFO:root:==== Haar volumes ====\n"
     ]
    },
    {
     "name": "stdout",
     "output_type": "stream",
     "text": [
      " deg 0\t | Sequence name\n",
      "0.00000\t | \n",
      "0.00000\t | B((1.1780972450961724, 0.9817477042468103))\n",
      "0.47860\t | B((1.1780972450961724, 0.9817477042468103)).B((1.1780972450961724, 0.9817477042468103))\n",
      "0.51721\t | B((1.1780972450961724, 0.9817477042468103)).B((1.1780972450961724, 0.9817477042468103)).B((1.1780972450961724, 0.9817477042468103))\n",
      "0.00419\t | B((1.1780972450961724, 0.9817477042468103)).B((1.1780972450961724, 0.9817477042468103)).B((1.1780972450961724, 0.9817477042468103)).B((1.1780972450961724, 0.9817477042468103))\n"
     ]
    },
    {
     "name": "stderr",
     "output_type": "stream",
     "text": [
      "INFO:root:Haar-expectation cost: 2.5255935278542765\n",
      "INFO:root:('gc=6pi/16', 'gg=6pi/16')\n",
      "INFO:root:==== Working to build a set of covering polytopes ====\n",
      "INFO:root:==== Haar volumes ====\n"
     ]
    },
    {
     "name": "stdout",
     "output_type": "stream",
     "text": [
      " deg 0\t | Sequence name\n",
      "0.00000\t | \n",
      "0.00000\t | B((1.1780972450961724, 1.1780972450961724))\n",
      "0.00000\t | B((1.1780972450961724, 1.1780972450961724)).B((1.1780972450961724, 1.1780972450961724))\n",
      "0.50000\t | B((1.1780972450961724, 1.1780972450961724)).B((1.1780972450961724, 1.1780972450961724)).B((1.1780972450961724, 1.1780972450961724))\n",
      "0.45988\t | B((1.1780972450961724, 1.1780972450961724)).B((1.1780972450961724, 1.1780972450961724)).B((1.1780972450961724, 1.1780972450961724)).B((1.1780972450961724, 1.1780972450961724))\n",
      "0.03998\t | B((1.1780972450961724, 1.1780972450961724)).B((1.1780972450961724, 1.1780972450961724)).B((1.1780972450961724, 1.1780972450961724)).B((1.1780972450961724, 1.1780972450961724)).B((1.1780972450961724, 1.1780972450961724))\n",
      "0.00014\t | B((1.1780972450961724, 1.1780972450961724)).B((1.1780972450961724, 1.1780972450961724)).B((1.1780972450961724, 1.1780972450961724)).B((1.1780972450961724, 1.1780972450961724)).B((1.1780972450961724, 1.1780972450961724)).B((1.1780972450961724, 1.1780972450961724))\n"
     ]
    },
    {
     "name": "stderr",
     "output_type": "stream",
     "text": [
      "INFO:root:Haar-expectation cost: 3.540254820808025\n"
     ]
    }
   ],
   "source": [
    "#zoom in on relevant area\n",
    "#sweep parameters of B gate with t=1 to see how expected haar changes\n",
    "from src.utils.custom_gates import CustomCostGate\n",
    "from src.hamiltonian import ConversionGainHamiltonian\n",
    "from src.utils.polytope_wrap import gate_set_to_haar_expectation\n",
    "from src.basis import MixedOrderBasisCircuitTemplate\n",
    "from src.utils.polytope_wrap import coverage_to_haar_expectation\n",
    "\n",
    "h = ConversionGainHamiltonian()\n",
    "data = []\n",
    "labels = []\n",
    "\n",
    "n_gc = 16\n",
    "n_gg = 16\n",
    "\n",
    "for i in range(0,7):\n",
    "    temp_data = []\n",
    "    temp_labels = []\n",
    "    for j in range(0,7):\n",
    "            \n",
    "        temp_labels.append((f\"gc={i}pi/{n_gc}\", f\"gg={j}pi/{n_gg}\"))\n",
    "        logging.info(temp_labels[-1])\n",
    "\n",
    "        if i < j: #we might use this depending on whether the results are symmetric\n",
    "            temp_data.append(0)\n",
    "            continue\n",
    "\n",
    "        cost = sum([i*np.pi/n_gc, j*np.pi/n_gg])/SPEED_LIMIT\n",
    "        u = h._construct_U_lambda(i*np.pi/n_gc, j*np.pi/n_gg)(1).full()\n",
    "        u = CustomCostGate(u, f\"B({i*np.pi/n_gc, j*np.pi/n_gg})\", cost=1) #cost=cost\n",
    "        basis_gates = [u]# ,gate3]  \n",
    "        basis = MixedOrderBasisCircuitTemplate(base_gates=basis_gates, chatty_build=False)\n",
    "        result = coverage_to_haar_expectation(basis.coverage)\n",
    "        #result = gate_set_to_haar_expectation([u], chatty=False)\n",
    "        temp_data.append(result)\n",
    "        \n",
    "    labels.append(temp_labels)\n",
    "    data.append(temp_data) "
   ]
  },
  {
   "cell_type": "code",
   "execution_count": 16,
   "metadata": {},
   "outputs": [
    {
     "data": {
      "image/png": "[encoded data removed]",
      "text/plain": [
       "<Figure size 504x504 with 2 Axes>"
      ]
     },
     "metadata": {
      "needs_background": "light"
     },
     "output_type": "display_data"
    }
   ],
   "source": [
    "from src.utils.visualize import plotHamiltonianSweep\n",
    "plotHamiltonianSweep(np.matrix(data), title=\"BGate E[Haar]: unit gate count\", labels=labels, vmax=np.amax(data));"
   ]
  },
  {
   "cell_type": "code",
   "execution_count": 19,
   "metadata": {},
   "outputs": [
    {
     "data": {
      "image/png": "[encoded data removed]",
      "text/plain": [
       "<Figure size 504x504 with 2 Axes>"
      ]
     },
     "metadata": {
      "needs_background": "light"
     },
     "output_type": "display_data"
    }
   ],
   "source": [
    "#apply cost function,\n",
    "#for single gate basis we can just use multplication instead of recalcing\n",
    "\n",
    "# cost = (sum([i*np.pi/n_gc, j*np.pi/n_gg]))**2/(SPEED_LIMIT)**2 #current -> power\n",
    "# cost = sum([i*np.pi/n_gc, j*np.pi/n_gg])/SPEED_LIMIT #linear power\n",
    "\n",
    "cost_data = []\n",
    "for i in range(0,7):\n",
    "    temp_data = []\n",
    "    for j in range(0,7):\n",
    "        cost = sum([i*np.pi/n_gc, j*np.pi/n_gg])/SPEED_LIMIT\n",
    "        temp_data.append(data[i][j] * cost)  \n",
    "    cost_data.append(temp_data) \n",
    "plotHamiltonianSweep(np.matrix(cost_data), title=\"BGate E[Haar]: unit pulse cost\", labels=labels, vmax=np.amax(cost_data));"
   ]
  },
  {
   "cell_type": "code",
   "execution_count": 13,
   "metadata": {},
   "outputs": [
    {
     "data": {
      "image/png": "[encoded data removed]",
      "text/plain": [
       "<Figure size 504x504 with 2 Axes>"
      ]
     },
     "metadata": {
      "needs_background": "light"
     },
     "output_type": "display_data"
    }
   ],
   "source": [
    "#apply cost function,\n",
    "#for single gate basis we can just use multplication instead of recalcing\n",
    "\n",
    "#here we are defining cost as pulse duration using speed limit\n",
    "#using knowledge that power (g_total) and duration are inversely proportional\n",
    "#we know that if we define a speed limit (maximum viable g_total)\n",
    "#then the pulse duration of any gate becomes the ratio of its g_total/speed_limit\n",
    "#in other words, if a gate has half power of speedlimit, we can reduce time by half\n",
    "\n",
    "#NOTE suggestion from michael, says g actually proportional to current, \n",
    "# chao says use current but speedlimit proportional to current (not power)\n",
    "# so square these terms to make proportional to power\n",
    "# need to investigate further\n",
    "# cost = (sum([i*np.pi/n_gc, j*np.pi/n_gg]))**2/(SPEED_LIMIT)**2 #current -> power\n",
    "# cost = sum([i*np.pi/n_gc, j*np.pi/n_gg])/SPEED_LIMIT #linear power\n",
    "\n",
    "# how do we model this, resistive loads in series/parallel\n",
    "\n",
    "n_gc=16\n",
    "n_gg=16\n",
    "cost_data = []\n",
    "for i in range(1,n_gc+1):\n",
    "    temp_data = []\n",
    "    for j in range(1,n_gg+1):\n",
    "        cost = sum([i*np.pi/n_gc, j*np.pi/n_gg])/SPEED_LIMIT\n",
    "        temp_data.append(data[i-1][j-1] * cost)  \n",
    "    cost_data.append(temp_data) \n",
    "plotHamiltonianSweep(np.matrix(cost_data), title=\"BGate E[Haar]: unit pulse cost\", labels=labels, vmax=np.amax(cost_data));"
   ]
  },
  {
   "cell_type": "code",
   "execution_count": null,
   "metadata": {},
   "outputs": [],
   "source": [
    "from src.basis import CustomCostCircuitTemplate\n",
    "from src.utils.custom_gates import CustomCostGate\n",
    "from src.hamiltonian import SnailEffectiveHamiltonian\n",
    "from src.utils.polytope_wrap import gate_set_to_coverage\n",
    "import numpy as np\n",
    "h = SnailEffectiveHamiltonian()\n",
    "i,j = (2,1)\n",
    "u = h._construct_U_lambda(i*np.pi/8, j*np.pi/8)(1).full()\n",
    "u = CustomCostGate(u, f\"B({i*np.pi/8, j*np.pi/8})\", cost=sum([i*np.pi/8, j*np.pi/8])/SPEED_LIMIT)\n",
    "\n",
    "i,j = (3,1)\n",
    "u2 = h._construct_U_lambda(i*np.pi/8, j*np.pi/8)(1).full()\n",
    "u2 = CustomCostGate(u, f\"B({i*np.pi/8, j*np.pi/8})\", cost=sum([i*np.pi/8, j*np.pi/8])/SPEED_LIMIT)\n",
    "\n",
    "basis = CustomCostCircuitTemplate(base_gates=[u, u2])"
   ]
  }
 ],
 "metadata": {
  "kernelspec": {
   "display_name": "Python 3.8.10 ('decomp_venv': venv)",
   "language": "python",
   "name": "python3"
  },
  "language_info": {
   "codemirror_mode": {
    "name": "ipython",
    "version": 3
   },
   "file_extension": ".py",
   "mimetype": "text/x-python",
   "name": "python",
   "nbconvert_exporter": "python",
   "pygments_lexer": "ipython3",
   "version": "3.8.10"
  },
  "orig_nbformat": 4,
  "vscode": {
   "interpreter": {
    "hash": "8458c2db8745e513b658ab31603256ba78a013051ccc1ae9ae2e6e521b9ef2ea"
   }
  }
 },
 "nbformat": 4,
 "nbformat_minor": 2
}
