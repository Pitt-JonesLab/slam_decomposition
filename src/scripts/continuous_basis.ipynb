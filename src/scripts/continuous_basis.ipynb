{
 "cells": [
  {
   "cell_type": "code",
   "execution_count": 1,
   "metadata": {},
   "outputs": [],
   "source": [
    "#what happens if we build a circuit variational template but with basis gates that are parameters\n",
    "#I think the guess, and eval functions wil be messed up but we can start with that\n",
    "import logging\n",
    "logger = logging.getLogger()\n",
    "logger.setLevel(logging.INFO)\n",
    "\n",
    "import sys\n",
    "sys.path.append(\"../../\")\n",
    "\n",
    "# %matplotlib widget"
   ]
  },
  {
   "cell_type": "code",
   "execution_count": 21,
   "metadata": {},
   "outputs": [
    {
     "ename": "TypeError",
     "evalue": "ParameterExpression with unbound parameters ({Parameter(a)}) cannot be cast to an int.",
     "output_type": "error",
     "traceback": [
      "\u001b[0;31m---------------------------------------------------------------------------\u001b[0m",
      "\u001b[0;31mRuntimeError\u001b[0m                              Traceback (most recent call last)",
      "File \u001b[0;32m~/decomposition_EM/decomp_venv/lib/python3.8/site-packages/qiskit/circuit/parameterexpression.py:469\u001b[0m, in \u001b[0;36mParameterExpression.__int__\u001b[0;34m(self)\u001b[0m\n\u001b[1;32m    468\u001b[0m \u001b[39mtry\u001b[39;00m:\n\u001b[0;32m--> 469\u001b[0m     \u001b[39mreturn\u001b[39;00m \u001b[39mint\u001b[39;49m(\u001b[39mself\u001b[39;49m\u001b[39m.\u001b[39;49m_symbol_expr)\n\u001b[1;32m    470\u001b[0m \u001b[39m# TypeError is for sympy, RuntimeError for symengine\u001b[39;00m\n",
      "File \u001b[0;32msymengine_wrapper.pyx:1157\u001b[0m, in \u001b[0;36msymengine.lib.symengine_wrapper.Basic.__int__\u001b[0;34m()\u001b[0m\n",
      "File \u001b[0;32msymengine_wrapper.pyx:1151\u001b[0m, in \u001b[0;36msymengine.lib.symengine_wrapper.Basic.__float__\u001b[0;34m()\u001b[0m\n",
      "File \u001b[0;32msymengine_wrapper.pyx:976\u001b[0m, in \u001b[0;36msymengine.lib.symengine_wrapper.Basic.n\u001b[0;34m()\u001b[0m\n",
      "File \u001b[0;32msymengine_wrapper.pyx:4346\u001b[0m, in \u001b[0;36msymengine.lib.symengine_wrapper.evalf\u001b[0;34m()\u001b[0m\n",
      "\u001b[0;31mRuntimeError\u001b[0m: Symbol cannot be evaluated.",
      "\nThe above exception was the direct cause of the following exception:\n",
      "\u001b[0;31mTypeError\u001b[0m                                 Traceback (most recent call last)",
      "\u001b[1;32m/home/evm9/decomposition_EM/src/scripts/continuous_basis.ipynb Cell 2\u001b[0m in \u001b[0;36m<cell line: 7>\u001b[0;34m()\u001b[0m\n\u001b[1;32m      <a href='vscode-notebook-cell://ssh-remote%2B7b22686f73744e616d65223a224f707469706c6578227d/home/evm9/decomposition_EM/src/scripts/continuous_basis.ipynb#ch0000001vscode-remote?line=4'>5</a>\u001b[0m \u001b[39mfrom\u001b[39;00m \u001b[39mqiskit\u001b[39;00m\u001b[39m.\u001b[39;00m\u001b[39mcircuit\u001b[39;00m\u001b[39m.\u001b[39;00m\u001b[39mlibrary\u001b[39;00m\u001b[39m.\u001b[39;00m\u001b[39mstandard_gates\u001b[39;00m \u001b[39mimport\u001b[39;00m iSwapGate, CPhaseGate\n\u001b[1;32m      <a href='vscode-notebook-cell://ssh-remote%2B7b22686f73744e616d65223a224f707469706c6578227d/home/evm9/decomposition_EM/src/scripts/continuous_basis.ipynb#ch0000001vscode-remote?line=5'>6</a>\u001b[0m a \u001b[39m=\u001b[39m Parameter(\u001b[39m'\u001b[39m\u001b[39ma\u001b[39m\u001b[39m'\u001b[39m)\n\u001b[0;32m----> <a href='vscode-notebook-cell://ssh-remote%2B7b22686f73744e616d65223a224f707469706c6578227d/home/evm9/decomposition_EM/src/scripts/continuous_basis.ipynb#ch0000001vscode-remote?line=6'>7</a>\u001b[0m gates\u001b[39m.\u001b[39;49mRiSwapGate(a)\n",
      "File \u001b[0;32m~/decomposition_EM/src/scripts/../../src/utils/custom_gates.py:254\u001b[0m, in \u001b[0;36mRiSwapGate.__init__\u001b[0;34m(self, alpha)\u001b[0m\n\u001b[1;32m    251\u001b[0m \u001b[39mdef\u001b[39;00m \u001b[39m__init__\u001b[39m(\u001b[39mself\u001b[39m, alpha: ParameterValueType):\n\u001b[1;32m    252\u001b[0m     \u001b[39m\"\"\"Create new iSwap gate.\"\"\"\u001b[39;00m\n\u001b[1;32m    253\u001b[0m     \u001b[39msuper\u001b[39m()\u001b[39m.\u001b[39m\u001b[39m__init__\u001b[39m(\n\u001b[0;32m--> 254\u001b[0m         \u001b[39m\"\u001b[39m\u001b[39mriswap\u001b[39m\u001b[39m\"\u001b[39m, \u001b[39m2\u001b[39m, [alpha], label\u001b[39m=\u001b[39m\u001b[39mr\u001b[39m\u001b[39m\"\u001b[39m\u001b[39m$\u001b[39m\u001b[39m\\\u001b[39m\u001b[39msqrt[\u001b[39m\u001b[39m\"\u001b[39m \u001b[39m+\u001b[39m \u001b[39mstr\u001b[39m(\u001b[39mint\u001b[39;49m(\u001b[39m1\u001b[39;49m \u001b[39m/\u001b[39;49m alpha)) \u001b[39m+\u001b[39m \u001b[39mr\u001b[39m\u001b[39m\"\u001b[39m\u001b[39m]\u001b[39m\u001b[39m{iSwap}\u001b[39;00m\u001b[39m$\u001b[39m\u001b[39m\"\u001b[39m\n\u001b[1;32m    255\u001b[0m     )\n",
      "File \u001b[0;32m~/decomposition_EM/decomp_venv/lib/python3.8/site-packages/qiskit/circuit/parameterexpression.py:472\u001b[0m, in \u001b[0;36mParameterExpression.__int__\u001b[0;34m(self)\u001b[0m\n\u001b[1;32m    470\u001b[0m \u001b[39m# TypeError is for sympy, RuntimeError for symengine\u001b[39;00m\n\u001b[1;32m    471\u001b[0m \u001b[39mexcept\u001b[39;00m (\u001b[39mTypeError\u001b[39;00m, \u001b[39mRuntimeError\u001b[39;00m) \u001b[39mas\u001b[39;00m exc:\n\u001b[0;32m--> 472\u001b[0m     \u001b[39mraise\u001b[39;00m \u001b[39mTypeError\u001b[39;00m(\n\u001b[1;32m    473\u001b[0m         \u001b[39m\"\u001b[39m\u001b[39mParameterExpression with unbound parameters (\u001b[39m\u001b[39m{}\u001b[39;00m\u001b[39m) \u001b[39m\u001b[39m\"\u001b[39m\n\u001b[1;32m    474\u001b[0m         \u001b[39m\"\u001b[39m\u001b[39mcannot be cast to an int.\u001b[39m\u001b[39m\"\u001b[39m\u001b[39m.\u001b[39mformat(\u001b[39mself\u001b[39m\u001b[39m.\u001b[39mparameters)\n\u001b[1;32m    475\u001b[0m     ) \u001b[39mfrom\u001b[39;00m \u001b[39mexc\u001b[39;00m\n",
      "\u001b[0;31mTypeError\u001b[0m: ParameterExpression with unbound parameters ({Parameter(a)}) cannot be cast to an int."
     ]
    }
   ],
   "source": [
    "from ast import Param\n",
    "import src.utils.custom_gates as gates\n",
    "from qiskit import QuantumCircuit\n",
    "from qiskit.circuit import Parameter\n",
    "from qiskit.circuit.library.standard_gates import iSwapGate, CPhaseGate\n",
    "a = Parameter('a')\n",
    "gates.RiSwapGate(a)\n",
    "#iSwapGate().power(1/a)\n",
    "#CPhaseGate(a)"
   ]
  }
 ],
 "metadata": {
  "kernelspec": {
   "display_name": "Python 3.8.10 ('decomp_venv': venv)",
   "language": "python",
   "name": "python3"
  },
  "language_info": {
   "codemirror_mode": {
    "name": "ipython",
    "version": 3
   },
   "file_extension": ".py",
   "mimetype": "text/x-python",
   "name": "python",
   "nbconvert_exporter": "python",
   "pygments_lexer": "ipython3",
   "version": "3.8.10"
  },
  "orig_nbformat": 4,
  "vscode": {
   "interpreter": {
    "hash": "141f2845ff61560a6082741173a60265cfaf5f1fd91b5e939309b621eb5ce0f2"
   }
  }
 },
 "nbformat": 4,
 "nbformat_minor": 2
}
