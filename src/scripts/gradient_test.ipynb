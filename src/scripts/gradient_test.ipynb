{
 "cells": [
  {
   "cell_type": "code",
   "execution_count": 1,
   "metadata": {},
   "outputs": [],
   "source": [
    "#https://qiskit.org/documentation/tutorials/operators/02_gradients_framework.html\n",
    "#could use to compute hessian and pass to optimizer?"
   ]
  },
  {
   "cell_type": "code",
   "execution_count": 2,
   "metadata": {},
   "outputs": [],
   "source": [
    "import logging\n",
    "logger = logging.getLogger()\n",
    "logger.setLevel(logging.CRITICAL)\n",
    "\n",
    "import sys\n",
    "sys.path.append(\"../../\")\n",
    "import numpy as np"
   ]
  },
  {
   "cell_type": "code",
   "execution_count": 3,
   "metadata": {},
   "outputs": [],
   "source": [
    "#General imports\n",
    "import numpy as np\n",
    "\n",
    "#Operator Imports\n",
    "from qiskit.opflow import Z, X, I, StateFn, CircuitStateFn, SummedOp\n",
    "from qiskit.opflow.gradients import Gradient, NaturalGradient, QFI, Hessian\n",
    "\n",
    "#Circuit imports\n",
    "from qiskit.circuit import QuantumCircuit, QuantumRegister, Parameter, ParameterVector, ParameterExpression\n",
    "from qiskit.circuit.library import EfficientSU2\n",
    "\n",
    "from qiskit.circuit.library.standard_gates import CXGate\n",
    "from qiskit.opflow import (StateFn, Zero, One, Plus, Minus, H,\n",
    "                           DictStateFn, VectorStateFn, CircuitStateFn, OperatorStateFn)\n",
    "\n",
    "\n",
    "import numpy as np\n",
    "from qiskit.opflow import I, X, Y, Z, H, CX, Zero, ListOp, PauliExpectation, PauliTrotterEvolution, CircuitSampler, MatrixEvolution, Suzuki\n",
    "from qiskit.circuit import Parameter\n",
    "from qiskit import Aer\n",
    "import random"
   ]
  },
  {
   "cell_type": "code",
   "execution_count": 4,
   "metadata": {},
   "outputs": [],
   "source": [
    "# #from https://qiskit.org/documentation/tutorials/operators/02_gradients_framework.html\n",
    "# # Instantiate the quantum state\n",
    "# a = Parameter('a')\n",
    "# b = Parameter('b')\n",
    "# q = QuantumRegister(2)\n",
    "# qc = QuantumCircuit(q)\n",
    "# qc.h(q)\n",
    "# qc.rz(a, q[0])\n",
    "# qc.rx(b, q[0])\n",
    "\n",
    "# # Instantiate the Hamiltonian observable\n",
    "# H = (2 * X) + Z\n",
    "\n",
    "# # Combine the Hamiltonian observable and the state\n",
    "# op = ~StateFn(I) @ CircuitStateFn(primitive=qc, coeff=1.)\n",
    "\n",
    "# # Print the operator corresponding to the expectation value\n",
    "# # print(op)\n",
    "\n",
    "# qc2 = QuantumCircuit(2)\n",
    "# qc2.rx(a, 0)\n",
    "# qc2.rx(b, 1)\n",
    "\n",
    "# composedqc = qc.compose(qc2.inverse())\n",
    "# # op = CircuitStateFn(primitive=qc2, coeff=1.)\n",
    "# # print(op)\n",
    "\n",
    "# op = CircuitStateFn(primitive=composedqc)\n",
    "# print(op)"
   ]
  },
  {
   "cell_type": "code",
   "execution_count": 5,
   "metadata": {},
   "outputs": [
    {
     "data": {
      "image/png": "[encoded data removed]",
      "text/plain": [
       "<Figure size 869.052x144.48 with 1 Axes>"
      ]
     },
     "execution_count": 5,
     "metadata": {},
     "output_type": "execute_result"
    }
   ],
   "source": [
    "#first build basis template\n",
    "from src.basis import CircuitTemplate\n",
    "n_qubits = 2\n",
    "basis = CircuitTemplate(n_qubits = n_qubits, base_gates = [CXGate()], preseed=False, use_polytopes=False, no_exterior_1q=0)\n",
    "basis.build(3)\n",
    "params = list(basis.circuit.parameters)\n",
    "template_qc = basis.circuit\n",
    "\n",
    "#define some ground truth cost function\n",
    "from src.cost_function import SquareCost as Cost\n",
    "cost = Cost()\n",
    "\n",
    "#create target unitary and target state vector\n",
    "from src.sampler import HaarSample, GateSample\n",
    "from qiskit.quantum_info import Operator\n",
    "from qiskit.circuit.library.standard_gates import CZGate, SwapGate\n",
    "\n",
    "#sampler = HaarSample(seed=0)\n",
    "sampler = GateSample(gate=CZGate())\n",
    "target_u = sampler._get_unitary()\n",
    "\n",
    "target_qc = QuantumCircuit(n_qubits)\n",
    "target_qc.append(Operator(target_u), range(n_qubits))\n",
    "# target_vec = target_u @ np.array([1,0,0,0]) \n",
    "qc = template_qc.compose(target_qc.inverse())\n",
    "qc.draw(output='mpl')"
   ]
  },
  {
   "cell_type": "code",
   "execution_count": 6,
   "metadata": {},
   "outputs": [
    {
     "name": "stdout",
     "output_type": "stream",
     "text": [
      "CircuitMeasurement(\n",
      "     ┌─────────────┐      ┌─────────────┐      ┌────────────────┐     »\n",
      "q_0: ┤ U(P0,P1,P2) ├──■───┤ U(P6,P7,P8) ├───■──┤ U(P12,P13,P14) ├──■──»\n",
      "     ├─────────────┤┌─┴─┐┌┴─────────────┴┐┌─┴─┐├────────────────┤┌─┴─┐»\n",
      "q_1: ┤ U(P3,P4,P5) ├┤ X ├┤ U(P9,P10,P11) ├┤ X ├┤ U(P15,P16,P17) ├┤ X ├»\n",
      "     └─────────────┘└───┘└───────────────┘└───┘└────────────────┘└───┘»\n",
      "«     ┌────────────────┐┌──────────┐\n",
      "«q_0: ┤ U(P18,P19,P20) ├┤0         ├\n",
      "«     ├────────────────┤│  Unitary │\n",
      "«q_1: ┤ U(P21,P22,P23) ├┤1         ├\n",
      "«     └────────────────┘└──────────┘\n",
      ")\n"
     ]
    }
   ],
   "source": [
    "\"\"\"I think it's very likely there is an easier way to accomplish this, but I am coding this as I am still learning qiskit.opflow and having issues getting things to work\n",
    "So I apologize to future self if this turns out to be an unnecessarily ugly solution :)\"\"\"\n",
    "\n",
    "#convert into OperatorFn\n",
    "#op = ~StateFn(target_vec) @ CircuitStateFn(primitive=qc, coeff=1.)\n",
    "\n",
    "#construct expectation operator\n",
    "#testing definition usiing template_circuit + adjoint(target_circuit)\n",
    "#add stateFn for measurement\n",
    "\n",
    "#op = ~CircuitStateFn(primitive=template_qc, coeff=1.) @  CircuitStateFn(primitive=target_qc)\n",
    "op = CircuitStateFn(primitive=qc, is_measurement=True)\n",
    "#op = ~StateFn(Z^I) @ CircuitStateFn(primitive=qc)\n",
    "print(op)"
   ]
  },
  {
   "cell_type": "code",
   "execution_count": 7,
   "metadata": {},
   "outputs": [],
   "source": [
    "#XXX currently, trains so expectation value is always 00, in computational-basis\n",
    "#but doesn't match the gate, so what if we randomly add Rx gates at end so trains in all basis's overtime"
   ]
  },
  {
   "cell_type": "code",
   "execution_count": 8,
   "metadata": {},
   "outputs": [
    {
     "name": "stdout",
     "output_type": "stream",
     "text": [
      "0.7921703089968878 0.249975\n",
      "0.7910018485789492 0.24995000250000002\n",
      "0.7906027553054238 0.24992500749975002\n",
      "0.7910892159285201 0.24990001499900005\n",
      "0.7851105797705883 0.24987502499750017\n",
      "0.7856760017618613 0.24985003749500043\n",
      "0.7865411799486445 0.24982505249125092\n"
     ]
    },
    {
     "ename": "KeyboardInterrupt",
     "evalue": "",
     "output_type": "error",
     "traceback": [
      "\u001b[0;31m---------------------------------------------------------------------------\u001b[0m",
      "\u001b[0;31mKeyboardInterrupt\u001b[0m                         Traceback (most recent call last)",
      "\u001b[1;32m/home/evm9/decomposition_EM/src/scripts/gradient_test.ipynb Cell 8\u001b[0m in \u001b[0;36m<cell line: 94>\u001b[0;34m()\u001b[0m\n\u001b[1;32m     <a href='vscode-notebook-cell://ssh-remote%2B7b22686f73744e616d65223a224f707469706c6578227d/home/evm9/decomposition_EM/src/scripts/gradient_test.ipynb#ch0000006vscode-remote?line=91'>92</a>\u001b[0m         \u001b[39m#print(op.assign_parameters(value_dict).eval())\u001b[39;00m\n\u001b[1;32m     <a href='vscode-notebook-cell://ssh-remote%2B7b22686f73744e616d65223a224f707469706c6578227d/home/evm9/decomposition_EM/src/scripts/gradient_test.ipynb#ch0000006vscode-remote?line=92'>93</a>\u001b[0m     \u001b[39mreturn\u001b[39;00m value_dict\n\u001b[0;32m---> <a href='vscode-notebook-cell://ssh-remote%2B7b22686f73744e616d65223a224f707469706c6578227d/home/evm9/decomposition_EM/src/scripts/gradient_test.ipynb#ch0000006vscode-remote?line=93'>94</a>\u001b[0m vd \u001b[39m=\u001b[39m optimize()\n\u001b[1;32m     <a href='vscode-notebook-cell://ssh-remote%2B7b22686f73744e616d65223a224f707469706c6578227d/home/evm9/decomposition_EM/src/scripts/gradient_test.ipynb#ch0000006vscode-remote?line=95'>96</a>\u001b[0m \u001b[39mimport\u001b[39;00m \u001b[39mmatplotlib\u001b[39;00m\u001b[39m.\u001b[39;00m\u001b[39mpyplot\u001b[39;00m \u001b[39mas\u001b[39;00m \u001b[39mplt\u001b[39;00m\n\u001b[1;32m     <a href='vscode-notebook-cell://ssh-remote%2B7b22686f73744e616d65223a224f707469706c6578227d/home/evm9/decomposition_EM/src/scripts/gradient_test.ipynb#ch0000006vscode-remote?line=96'>97</a>\u001b[0m plt\u001b[39m.\u001b[39mplot(training_loss)\n",
      "\u001b[1;32m/home/evm9/decomposition_EM/src/scripts/gradient_test.ipynb Cell 8\u001b[0m in \u001b[0;36moptimize\u001b[0;34m()\u001b[0m\n\u001b[1;32m     <a href='vscode-notebook-cell://ssh-remote%2B7b22686f73744e616d65223a224f707469706c6578227d/home/evm9/decomposition_EM/src/scripts/gradient_test.ipynb#ch0000006vscode-remote?line=50'>51</a>\u001b[0m \u001b[39m#calculate gradient\u001b[39;00m\n\u001b[1;32m     <a href='vscode-notebook-cell://ssh-remote%2B7b22686f73744e616d65223a224f707469706c6578227d/home/evm9/decomposition_EM/src/scripts/gradient_test.ipynb#ch0000006vscode-remote?line=51'>52</a>\u001b[0m grad \u001b[39m=\u001b[39m Gradient()\u001b[39m.\u001b[39mconvert(operator \u001b[39m=\u001b[39m op, params \u001b[39m=\u001b[39m params)\n\u001b[0;32m---> <a href='vscode-notebook-cell://ssh-remote%2B7b22686f73744e616d65223a224f707469706c6578227d/home/evm9/decomposition_EM/src/scripts/gradient_test.ipynb#ch0000006vscode-remote?line=52'>53</a>\u001b[0m grad_result \u001b[39m=\u001b[39m grad\u001b[39m.\u001b[39;49massign_parameters(value_dict)\u001b[39m.\u001b[39;49meval()\n\u001b[1;32m     <a href='vscode-notebook-cell://ssh-remote%2B7b22686f73744e616d65223a224f707469706c6578227d/home/evm9/decomposition_EM/src/scripts/gradient_test.ipynb#ch0000006vscode-remote?line=54'>55</a>\u001b[0m \u001b[39m#alt gradient method\u001b[39;00m\n\u001b[1;32m     <a href='vscode-notebook-cell://ssh-remote%2B7b22686f73744e616d65223a224f707469706c6578227d/home/evm9/decomposition_EM/src/scripts/gradient_test.ipynb#ch0000006vscode-remote?line=55'>56</a>\u001b[0m \u001b[39m#state_grad = Gradient(grad_method='param_shift').convert(operator=op, params=params)\u001b[39;00m\n\u001b[1;32m     <a href='vscode-notebook-cell://ssh-remote%2B7b22686f73744e616d65223a224f707469706c6578227d/home/evm9/decomposition_EM/src/scripts/gradient_test.ipynb#ch0000006vscode-remote?line=56'>57</a>\u001b[0m \u001b[39m#state_grad_result = state_grad.assign_parameters(value_dict).eval()\u001b[39;00m\n\u001b[0;32m   (...)\u001b[0m\n\u001b[1;32m     <a href='vscode-notebook-cell://ssh-remote%2B7b22686f73744e616d65223a224f707469706c6578227d/home/evm9/decomposition_EM/src/scripts/gradient_test.ipynb#ch0000006vscode-remote?line=61'>62</a>\u001b[0m \u001b[39m# c += 1\u001b[39;00m\n\u001b[1;32m     <a href='vscode-notebook-cell://ssh-remote%2B7b22686f73744e616d65223a224f707469706c6578227d/home/evm9/decomposition_EM/src/scripts/gradient_test.ipynb#ch0000006vscode-remote?line=62'>63</a>\u001b[0m \u001b[39m# c %=4\u001b[39;00m\n\u001b[1;32m     <a href='vscode-notebook-cell://ssh-remote%2B7b22686f73744e616d65223a224f707469706c6578227d/home/evm9/decomposition_EM/src/scripts/gradient_test.ipynb#ch0000006vscode-remote?line=64'>65</a>\u001b[0m bit_convert \u001b[39m=\u001b[39m [\u001b[39m'\u001b[39m\u001b[39m00\u001b[39m\u001b[39m'\u001b[39m, \u001b[39m'\u001b[39m\u001b[39m01\u001b[39m\u001b[39m'\u001b[39m, \u001b[39m'\u001b[39m\u001b[39m10\u001b[39m\u001b[39m'\u001b[39m,\u001b[39m'\u001b[39m\u001b[39m11\u001b[39m\u001b[39m'\u001b[39m]\n",
      "File \u001b[0;32m~/decomposition_EM/decomp_venv/lib/python3.8/site-packages/qiskit/opflow/list_ops/list_op.py:433\u001b[0m, in \u001b[0;36mListOp.eval\u001b[0;34m(self, front)\u001b[0m\n\u001b[1;32m    428\u001b[0m \u001b[39mif\u001b[39;00m \u001b[39mnot\u001b[39;00m \u001b[39mself\u001b[39m\u001b[39m.\u001b[39mdistributive:\n\u001b[1;32m    429\u001b[0m     \u001b[39mraise\u001b[39;00m \u001b[39mNotImplementedError\u001b[39;00m(\n\u001b[1;32m    430\u001b[0m         \u001b[39m\"\u001b[39m\u001b[39mListOp\u001b[39m\u001b[39m'\u001b[39m\u001b[39ms eval function is only defined for distributive ListOps.\u001b[39m\u001b[39m\"\u001b[39m\n\u001b[1;32m    431\u001b[0m     )\n\u001b[0;32m--> 433\u001b[0m evals \u001b[39m=\u001b[39m [op\u001b[39m.\u001b[39meval(front) \u001b[39mfor\u001b[39;00m op \u001b[39min\u001b[39;00m \u001b[39mself\u001b[39m\u001b[39m.\u001b[39moplist]\n\u001b[1;32m    435\u001b[0m \u001b[39m# Handle application of combo_fn for DictStateFn resp VectorStateFn operators\u001b[39;00m\n\u001b[1;32m    436\u001b[0m \u001b[39mif\u001b[39;00m \u001b[39mself\u001b[39m\u001b[39m.\u001b[39m_combo_fn \u001b[39mis\u001b[39;00m \u001b[39mnot\u001b[39;00m \u001b[39mNone\u001b[39;00m:  \u001b[39m# If not using default.\u001b[39;00m\n",
      "File \u001b[0;32m~/decomposition_EM/decomp_venv/lib/python3.8/site-packages/qiskit/opflow/list_ops/list_op.py:433\u001b[0m, in \u001b[0;36m<listcomp>\u001b[0;34m(.0)\u001b[0m\n\u001b[1;32m    428\u001b[0m \u001b[39mif\u001b[39;00m \u001b[39mnot\u001b[39;00m \u001b[39mself\u001b[39m\u001b[39m.\u001b[39mdistributive:\n\u001b[1;32m    429\u001b[0m     \u001b[39mraise\u001b[39;00m \u001b[39mNotImplementedError\u001b[39;00m(\n\u001b[1;32m    430\u001b[0m         \u001b[39m\"\u001b[39m\u001b[39mListOp\u001b[39m\u001b[39m'\u001b[39m\u001b[39ms eval function is only defined for distributive ListOps.\u001b[39m\u001b[39m\"\u001b[39m\n\u001b[1;32m    431\u001b[0m     )\n\u001b[0;32m--> 433\u001b[0m evals \u001b[39m=\u001b[39m [op\u001b[39m.\u001b[39;49meval(front) \u001b[39mfor\u001b[39;00m op \u001b[39min\u001b[39;00m \u001b[39mself\u001b[39m\u001b[39m.\u001b[39moplist]\n\u001b[1;32m    435\u001b[0m \u001b[39m# Handle application of combo_fn for DictStateFn resp VectorStateFn operators\u001b[39;00m\n\u001b[1;32m    436\u001b[0m \u001b[39mif\u001b[39;00m \u001b[39mself\u001b[39m\u001b[39m.\u001b[39m_combo_fn \u001b[39mis\u001b[39;00m \u001b[39mnot\u001b[39;00m \u001b[39mNone\u001b[39;00m:  \u001b[39m# If not using default.\u001b[39;00m\n",
      "File \u001b[0;32m~/decomposition_EM/decomp_venv/lib/python3.8/site-packages/qiskit/opflow/list_ops/list_op.py:433\u001b[0m, in \u001b[0;36mListOp.eval\u001b[0;34m(self, front)\u001b[0m\n\u001b[1;32m    428\u001b[0m \u001b[39mif\u001b[39;00m \u001b[39mnot\u001b[39;00m \u001b[39mself\u001b[39m\u001b[39m.\u001b[39mdistributive:\n\u001b[1;32m    429\u001b[0m     \u001b[39mraise\u001b[39;00m \u001b[39mNotImplementedError\u001b[39;00m(\n\u001b[1;32m    430\u001b[0m         \u001b[39m\"\u001b[39m\u001b[39mListOp\u001b[39m\u001b[39m'\u001b[39m\u001b[39ms eval function is only defined for distributive ListOps.\u001b[39m\u001b[39m\"\u001b[39m\n\u001b[1;32m    431\u001b[0m     )\n\u001b[0;32m--> 433\u001b[0m evals \u001b[39m=\u001b[39m [op\u001b[39m.\u001b[39meval(front) \u001b[39mfor\u001b[39;00m op \u001b[39min\u001b[39;00m \u001b[39mself\u001b[39m\u001b[39m.\u001b[39moplist]\n\u001b[1;32m    435\u001b[0m \u001b[39m# Handle application of combo_fn for DictStateFn resp VectorStateFn operators\u001b[39;00m\n\u001b[1;32m    436\u001b[0m \u001b[39mif\u001b[39;00m \u001b[39mself\u001b[39m\u001b[39m.\u001b[39m_combo_fn \u001b[39mis\u001b[39;00m \u001b[39mnot\u001b[39;00m \u001b[39mNone\u001b[39;00m:  \u001b[39m# If not using default.\u001b[39;00m\n",
      "File \u001b[0;32m~/decomposition_EM/decomp_venv/lib/python3.8/site-packages/qiskit/opflow/list_ops/list_op.py:433\u001b[0m, in \u001b[0;36m<listcomp>\u001b[0;34m(.0)\u001b[0m\n\u001b[1;32m    428\u001b[0m \u001b[39mif\u001b[39;00m \u001b[39mnot\u001b[39;00m \u001b[39mself\u001b[39m\u001b[39m.\u001b[39mdistributive:\n\u001b[1;32m    429\u001b[0m     \u001b[39mraise\u001b[39;00m \u001b[39mNotImplementedError\u001b[39;00m(\n\u001b[1;32m    430\u001b[0m         \u001b[39m\"\u001b[39m\u001b[39mListOp\u001b[39m\u001b[39m'\u001b[39m\u001b[39ms eval function is only defined for distributive ListOps.\u001b[39m\u001b[39m\"\u001b[39m\n\u001b[1;32m    431\u001b[0m     )\n\u001b[0;32m--> 433\u001b[0m evals \u001b[39m=\u001b[39m [op\u001b[39m.\u001b[39;49meval(front) \u001b[39mfor\u001b[39;00m op \u001b[39min\u001b[39;00m \u001b[39mself\u001b[39m\u001b[39m.\u001b[39moplist]\n\u001b[1;32m    435\u001b[0m \u001b[39m# Handle application of combo_fn for DictStateFn resp VectorStateFn operators\u001b[39;00m\n\u001b[1;32m    436\u001b[0m \u001b[39mif\u001b[39;00m \u001b[39mself\u001b[39m\u001b[39m.\u001b[39m_combo_fn \u001b[39mis\u001b[39;00m \u001b[39mnot\u001b[39;00m \u001b[39mNone\u001b[39;00m:  \u001b[39m# If not using default.\u001b[39;00m\n",
      "File \u001b[0;32m~/decomposition_EM/decomp_venv/lib/python3.8/site-packages/qiskit/opflow/state_fns/circuit_state_fn.py:309\u001b[0m, in \u001b[0;36mCircuitStateFn.eval\u001b[0;34m(self, front)\u001b[0m\n\u001b[1;32m    302\u001b[0m \u001b[39mdef\u001b[39;00m \u001b[39meval\u001b[39m(\n\u001b[1;32m    303\u001b[0m     \u001b[39mself\u001b[39m,\n\u001b[1;32m    304\u001b[0m     front: Optional[\n\u001b[1;32m    305\u001b[0m         Union[\u001b[39mstr\u001b[39m, Dict[\u001b[39mstr\u001b[39m, \u001b[39mcomplex\u001b[39m], np\u001b[39m.\u001b[39mndarray, OperatorBase, Statevector]\n\u001b[1;32m    306\u001b[0m     ] \u001b[39m=\u001b[39m \u001b[39mNone\u001b[39;00m,\n\u001b[1;32m    307\u001b[0m ) \u001b[39m-\u001b[39m\u001b[39m>\u001b[39m Union[OperatorBase, \u001b[39mcomplex\u001b[39m]:\n\u001b[1;32m    308\u001b[0m     \u001b[39mif\u001b[39;00m front \u001b[39mis\u001b[39;00m \u001b[39mNone\u001b[39;00m:\n\u001b[0;32m--> 309\u001b[0m         vector_state_fn \u001b[39m=\u001b[39m \u001b[39mself\u001b[39;49m\u001b[39m.\u001b[39;49mto_matrix_op()\u001b[39m.\u001b[39meval()\n\u001b[1;32m    310\u001b[0m         \u001b[39mreturn\u001b[39;00m vector_state_fn\n\u001b[1;32m    312\u001b[0m     \u001b[39mif\u001b[39;00m \u001b[39mnot\u001b[39;00m \u001b[39mself\u001b[39m\u001b[39m.\u001b[39mis_measurement \u001b[39mand\u001b[39;00m \u001b[39misinstance\u001b[39m(front, OperatorBase):\n",
      "File \u001b[0;32m~/decomposition_EM/decomp_venv/lib/python3.8/site-packages/qiskit/opflow/state_fns/state_fn.py:429\u001b[0m, in \u001b[0;36mStateFn.to_matrix_op\u001b[0;34m(self, massive)\u001b[0m\n\u001b[1;32m    426\u001b[0m \u001b[39m# pylint: disable=cyclic-import\u001b[39;00m\n\u001b[1;32m    427\u001b[0m \u001b[39mfrom\u001b[39;00m \u001b[39m.\u001b[39;00m\u001b[39mvector_state_fn\u001b[39;00m \u001b[39mimport\u001b[39;00m VectorStateFn\n\u001b[0;32m--> 429\u001b[0m \u001b[39mreturn\u001b[39;00m VectorStateFn(\u001b[39mself\u001b[39;49m\u001b[39m.\u001b[39;49mto_matrix(massive\u001b[39m=\u001b[39;49mmassive), is_measurement\u001b[39m=\u001b[39m\u001b[39mself\u001b[39m\u001b[39m.\u001b[39mis_measurement)\n",
      "File \u001b[0;32m~/decomposition_EM/decomp_venv/lib/python3.8/site-packages/qiskit/opflow/state_fns/circuit_state_fn.py:261\u001b[0m, in \u001b[0;36mCircuitStateFn.to_matrix\u001b[0;34m(self, massive)\u001b[0m\n\u001b[1;32m    259\u001b[0m statevector_backend \u001b[39m=\u001b[39m BasicAer\u001b[39m.\u001b[39mget_backend(\u001b[39m\"\u001b[39m\u001b[39mstatevector_simulator\u001b[39m\u001b[39m\"\u001b[39m)\n\u001b[1;32m    260\u001b[0m transpiled \u001b[39m=\u001b[39m transpile(qc, statevector_backend, optimization_level\u001b[39m=\u001b[39m\u001b[39m0\u001b[39m)\n\u001b[0;32m--> 261\u001b[0m statevector \u001b[39m=\u001b[39m statevector_backend\u001b[39m.\u001b[39;49mrun(transpiled)\u001b[39m.\u001b[39mresult()\u001b[39m.\u001b[39mget_statevector()\n\u001b[1;32m    262\u001b[0m \u001b[39mfrom\u001b[39;00m \u001b[39m.\u001b[39;00m\u001b[39m.\u001b[39;00m\u001b[39moperator_globals\u001b[39;00m \u001b[39mimport\u001b[39;00m EVAL_SIG_DIGITS\n\u001b[1;32m    264\u001b[0m \u001b[39mreturn\u001b[39;00m np\u001b[39m.\u001b[39mround(statevector \u001b[39m*\u001b[39m \u001b[39mself\u001b[39m\u001b[39m.\u001b[39mcoeff, decimals\u001b[39m=\u001b[39mEVAL_SIG_DIGITS)\n",
      "File \u001b[0;32m~/decomposition_EM/decomp_venv/lib/python3.8/site-packages/qiskit/providers/basicaer/qasm_simulator.py:399\u001b[0m, in \u001b[0;36mQasmSimulatorPy.run\u001b[0;34m(self, qobj, **backend_options)\u001b[0m\n\u001b[1;32m    374\u001b[0m \u001b[39m\"\"\"Run qobj asynchronously.\u001b[39;00m\n\u001b[1;32m    375\u001b[0m \n\u001b[1;32m    376\u001b[0m \u001b[39mArgs:\u001b[39;00m\n\u001b[0;32m   (...)\u001b[0m\n\u001b[1;32m    396\u001b[0m \u001b[39m        }\u001b[39;00m\n\u001b[1;32m    397\u001b[0m \u001b[39m\"\"\"\u001b[39;00m\n\u001b[1;32m    398\u001b[0m \u001b[39mif\u001b[39;00m \u001b[39misinstance\u001b[39m(qobj, (QuantumCircuit, \u001b[39mlist\u001b[39m)):\n\u001b[0;32m--> 399\u001b[0m     \u001b[39mfrom\u001b[39;00m \u001b[39mqiskit\u001b[39;00m\u001b[39m.\u001b[39;00m\u001b[39mcompiler\u001b[39;00m \u001b[39mimport\u001b[39;00m assemble\n\u001b[1;32m    401\u001b[0m     out_options \u001b[39m=\u001b[39m {}\n\u001b[1;32m    402\u001b[0m     \u001b[39mfor\u001b[39;00m key \u001b[39min\u001b[39;00m backend_options:\n",
      "File \u001b[0;32m<frozen importlib._bootstrap>:1017\u001b[0m, in \u001b[0;36m_handle_fromlist\u001b[0;34m(module, fromlist, import_, recursive)\u001b[0m\n",
      "\u001b[0;31mKeyboardInterrupt\u001b[0m: "
     ]
    }
   ],
   "source": [
    "from weylchamber import c1c2c3\n",
    "\n",
    "\n",
    "training_loss = []\n",
    "coordinate_list = []\n",
    "\n",
    "def optimize():\n",
    "    k=4\n",
    "    alpha = 1/k #arbitary learning rate\n",
    "    param_vals = basis.parameter_guess() #random starting guess\n",
    "    c=0\n",
    "    its = 0\n",
    "    while True and its < 100:\n",
    "        its +=1\n",
    "\n",
    "        alpha *= .9999 #mock simulated annealing \n",
    "        if its > 3 and training_loss[-1] < 1/(2*k):\n",
    "            alpha *= .999\n",
    "        if its > 3 and training_loss[-1] < 1/(4*k):\n",
    "            alpha *= .995\n",
    "        #set param values\n",
    "        value_dict = {k:v for k,v in zip(params, param_vals)}\n",
    "\n",
    "        #XXX\n",
    "        measurement_qc = QuantumCircuit(n_qubits)\n",
    "        #randomly modify measurement basis\n",
    "        # for q in range(n_qubits):\n",
    "        #     m_basis = random.choice(['x', 'y', 'z'])\n",
    "        #     if m_basis == 'x' or m_basis == 'y' or m_basis == 'z':\n",
    "        #         measurement_qc.h(q)\n",
    "        #     if m_basis == 'y':\n",
    "        #         measurement_qc.sdg(q)\n",
    "        #     if m_basis == 'y' or m_basis == 'z':\n",
    "        #         measurement_qc.h(q)\n",
    "        # total_qc = measurement_qc.compose(qc)\n",
    "        # op = CircuitStateFn(primitive=total_qc, is_measurement=True)\n",
    "        \n",
    "        #what if instead of random we do all of them\n",
    "        measurement_string = ['xx', 'yx', 'zx', 'xy', 'yy', 'zy', 'xz', 'yz', 'zz']\n",
    "        for m_s_el in measurement_string:\n",
    "            for q in range(n_qubits):\n",
    "                m_basis = m_s_el[q]\n",
    "                if m_basis == 'x' or m_basis == 'y' or m_basis == 'z':\n",
    "                    measurement_qc.h(q)\n",
    "                if m_basis == 'y':\n",
    "                    measurement_qc.sdg(q)\n",
    "                if m_basis == 'y' or m_basis == 'z':\n",
    "                    measurement_qc.h(q)\n",
    "            total_qc = measurement_qc.compose(qc)\n",
    "            op = CircuitStateFn(primitive=total_qc, is_measurement=True)\n",
    "            #calculate gradient\n",
    "            grad = Gradient().convert(operator = op, params = params)\n",
    "            grad_result = grad.assign_parameters(value_dict).eval()\n",
    "\n",
    "            #alt gradient method\n",
    "            #state_grad = Gradient(grad_method='param_shift').convert(operator=op, params=params)\n",
    "            #state_grad_result = state_grad.assign_parameters(value_dict).eval()\n",
    "\n",
    "            #update param values\n",
    "            #there are lots of ways I can imagine doing this,\n",
    "            #for starters, lets just sample the expectation vectorstatefn and only update that one\n",
    "            # c += 1\n",
    "            # c %=4\n",
    "\n",
    "            bit_convert = ['00', '01', '10','11']\n",
    "            m = CircuitStateFn(measurement_qc)\n",
    "            sample = list(m.eval().sample())[0]\n",
    "            \n",
    "            #need to determine if we need to move up or down based on current value\n",
    "            #right now just says if >.5 go up, but its possible we are already above the value\n",
    "            #say expectation value is .55 and current anstaz has .75 then should want to go down\n",
    "            for c in range(2**n_qubits):\n",
    "                if np.array(abs(m.to_matrix()) - abs(op.assign_parameters(value_dict).eval().to_matrix()))[0][c] >= 0:\n",
    "                #[abs(el)>=.5 for el in m.to_matrix()][c]: #bit_convert[c] == sample:\n",
    "                    param_vals = [el + alpha/9 * gradient_el[c] for el, gradient_el in zip(param_vals, grad_result)]\n",
    "                else:\n",
    "                    param_vals = [el - alpha/9 * gradient_el[c] for el, gradient_el in zip(param_vals, grad_result)]\n",
    "\n",
    "        #param_vals = [el - alpha * gradient_el for el, gradient_el in zip(param_vals, grad_result)]\n",
    "        \n",
    "        #for safety\n",
    "        param_vals = np.real(param_vals)\n",
    "\n",
    "        #evaluate ground truth\n",
    "        current_template = basis.eval(Xk=param_vals)\n",
    "        gt_cost = cost.unitary_fidelity(current_u= current_template, target_u=target_u)\n",
    "        print(gt_cost, alpha)\n",
    "        training_loss.append(gt_cost)\n",
    "        coordinate_list.append(c1c2c3(current_template))\n",
    "\n",
    "        #print(op.assign_parameters(value_dict).eval())\n",
    "    return value_dict\n",
    "vd = optimize()\n",
    "\n",
    "import matplotlib.pyplot as plt\n",
    "plt.plot(training_loss)\n",
    "plt.xlabel(\"training iters\")\n",
    "plt.ylabel(\"unitary fidelity\")"
   ]
  },
  {
   "cell_type": "code",
   "execution_count": null,
   "metadata": {},
   "outputs": [
    {
     "ename": "NameError",
     "evalue": "name 'vd' is not defined",
     "output_type": "error",
     "traceback": [
      "\u001b[0;31m---------------------------------------------------------------------------\u001b[0m",
      "\u001b[0;31mNameError\u001b[0m                                 Traceback (most recent call last)",
      "\u001b[1;32m/home/evm9/decomposition_EM/src/scripts/gradient_test.ipynb Cell 9\u001b[0m in \u001b[0;36m<cell line: 1>\u001b[0;34m()\u001b[0m\n\u001b[0;32m----> <a href='vscode-notebook-cell://ssh-remote%2B7b22686f73744e616d65223a224f707469706c6578227d/home/evm9/decomposition_EM/src/scripts/gradient_test.ipynb#ch0000007vscode-remote?line=0'>1</a>\u001b[0m trained_qc \u001b[39m=\u001b[39m qc\u001b[39m.\u001b[39massign_parameters(vd)\n\u001b[1;32m      <a href='vscode-notebook-cell://ssh-remote%2B7b22686f73744e616d65223a224f707469706c6578227d/home/evm9/decomposition_EM/src/scripts/gradient_test.ipynb#ch0000007vscode-remote?line=1'>2</a>\u001b[0m trained_qc\u001b[39m.\u001b[39mdraw(output\u001b[39m=\u001b[39m\u001b[39m'\u001b[39m\u001b[39mmpl\u001b[39m\u001b[39m'\u001b[39m)\n",
      "\u001b[0;31mNameError\u001b[0m: name 'vd' is not defined"
     ]
    }
   ],
   "source": [
    "trained_qc = qc.assign_parameters(vd)\n",
    "trained_qc.draw(output='mpl')"
   ]
  },
  {
   "cell_type": "code",
   "execution_count": null,
   "metadata": {},
   "outputs": [
    {
     "data": {
      "image/png": "[encoded data removed]",
      "text/plain": [
       "<Figure size 432x288 with 2 Axes>"
      ]
     },
     "metadata": {
      "needs_background": "light"
     },
     "output_type": "display_data"
    }
   ],
   "source": [
    "from src.utils.visualize import optimizer_training_plot\n",
    "#if successful, should be Identity, because we have created template to match dagger of target\n",
    "optimizer_training_plot([[-1,0] + training_loss], [coordinate_list]);"
   ]
  },
  {
   "cell_type": "code",
   "execution_count": 9,
   "metadata": {},
   "outputs": [
    {
     "ename": "NameError",
     "evalue": "name 'trained_qc' is not defined",
     "output_type": "error",
     "traceback": [
      "\u001b[0;31m---------------------------------------------------------------------------\u001b[0m",
      "\u001b[0;31mNameError\u001b[0m                                 Traceback (most recent call last)",
      "\u001b[1;32m/home/evm9/decomposition_EM/src/scripts/gradient_test.ipynb Cell 11\u001b[0m in \u001b[0;36m<cell line: 13>\u001b[0;34m()\u001b[0m\n\u001b[1;32m     <a href='vscode-notebook-cell://ssh-remote%2B7b22686f73744e616d65223a224f707469706c6578227d/home/evm9/decomposition_EM/src/scripts/gradient_test.ipynb#ch0000009vscode-remote?line=10'>11</a>\u001b[0m \u001b[39m# Transpile for simulator\u001b[39;00m\n\u001b[1;32m     <a href='vscode-notebook-cell://ssh-remote%2B7b22686f73744e616d65223a224f707469706c6578227d/home/evm9/decomposition_EM/src/scripts/gradient_test.ipynb#ch0000009vscode-remote?line=11'>12</a>\u001b[0m simulator \u001b[39m=\u001b[39m Aer\u001b[39m.\u001b[39mget_backend(\u001b[39m'\u001b[39m\u001b[39maer_simulator\u001b[39m\u001b[39m'\u001b[39m)\n\u001b[0;32m---> <a href='vscode-notebook-cell://ssh-remote%2B7b22686f73744e616d65223a224f707469706c6578227d/home/evm9/decomposition_EM/src/scripts/gradient_test.ipynb#ch0000009vscode-remote?line=12'>13</a>\u001b[0m circ \u001b[39m=\u001b[39m transpile(trained_qc, simulator)\n\u001b[1;32m     <a href='vscode-notebook-cell://ssh-remote%2B7b22686f73744e616d65223a224f707469706c6578227d/home/evm9/decomposition_EM/src/scripts/gradient_test.ipynb#ch0000009vscode-remote?line=14'>15</a>\u001b[0m \u001b[39m#add measurement\u001b[39;00m\n\u001b[1;32m     <a href='vscode-notebook-cell://ssh-remote%2B7b22686f73744e616d65223a224f707469706c6578227d/home/evm9/decomposition_EM/src/scripts/gradient_test.ipynb#ch0000009vscode-remote?line=15'>16</a>\u001b[0m measurement_string \u001b[39m=\u001b[39m [\u001b[39m'\u001b[39m\u001b[39mxx\u001b[39m\u001b[39m'\u001b[39m, \u001b[39m'\u001b[39m\u001b[39myx\u001b[39m\u001b[39m'\u001b[39m, \u001b[39m'\u001b[39m\u001b[39mzx\u001b[39m\u001b[39m'\u001b[39m, \u001b[39m'\u001b[39m\u001b[39mxy\u001b[39m\u001b[39m'\u001b[39m, \u001b[39m'\u001b[39m\u001b[39myy\u001b[39m\u001b[39m'\u001b[39m, \u001b[39m'\u001b[39m\u001b[39mzy\u001b[39m\u001b[39m'\u001b[39m, \u001b[39m'\u001b[39m\u001b[39mxz\u001b[39m\u001b[39m'\u001b[39m, \u001b[39m'\u001b[39m\u001b[39myz\u001b[39m\u001b[39m'\u001b[39m, \u001b[39m'\u001b[39m\u001b[39mzz\u001b[39m\u001b[39m'\u001b[39m]\n",
      "\u001b[0;31mNameError\u001b[0m: name 'trained_qc' is not defined"
     ]
    }
   ],
   "source": [
    "import numpy as np\n",
    "\n",
    "# Import Qiskit\n",
    "from qiskit import QuantumCircuit\n",
    "from qiskit import Aer, transpile\n",
    "from qiskit.tools.visualization import plot_histogram, plot_state_city\n",
    "import qiskit.quantum_info as qi\n",
    "simulator = Aer.get_backend('aer_simulator')\n",
    "\n",
    "\n",
    "# Transpile for simulator\n",
    "simulator = Aer.get_backend('aer_simulator')\n",
    "circ = transpile(trained_qc, simulator)\n",
    "\n",
    "#add measurement\n",
    "measurement_string = ['xx', 'yx', 'zx', 'xy', 'yy', 'zy', 'xz', 'yz', 'zz']\n",
    "for m_s_el in measurement_string:\n",
    "    measurement_qc = QuantumCircuit(n_qubits)\n",
    "    for q in range(n_qubits):\n",
    "        m_basis = m_s_el[q]\n",
    "        if m_basis == 'x' or m_basis == 'y' or m_basis == 'z':\n",
    "            measurement_qc.h(q)\n",
    "        if m_basis == 'y':\n",
    "            measurement_qc.sdg(q)\n",
    "        if m_basis == 'y' or m_basis == 'z':\n",
    "            measurement_qc.h(q)\n",
    "    total_qc = circ.compose(measurement_qc)\n",
    "    measurement_qc.measure_all()\n",
    "    total_qc.measure_all()\n",
    "    \n",
    "    # Run and get counts\n",
    "    expected_result = simulator.run(measurement_qc).result()\n",
    "    actual_result = simulator.run(total_qc).result()\n",
    "    e_counts = expected_result.get_counts(measurement_qc)\n",
    "    a_counts = actual_result.get_counts(total_qc)\n",
    "\n",
    "    fig = plt.figure(figsize=(12,6))\n",
    "    ax1 = fig.add_subplot(121)\n",
    "    plot_histogram(e_counts, ax=ax1,title=f'Expected {m_s_el.upper()}-measurement basis')\n",
    "    ax2 = fig.add_subplot(122)\n",
    "    plot_histogram(a_counts, ax=ax2,title=f'Trained {m_s_el.upper()}-measurement basis')\n",
    "    fig.show()"
   ]
  },
  {
   "cell_type": "code",
   "execution_count": null,
   "metadata": {},
   "outputs": [],
   "source": [
    "# # Besides the method to compute the circuit gradients resp. QFI, a regularization method can be chosen:\n",
    "# # `ridge` or `lasso` with automatic parameter search or `perturb_diag_elements` or `perturb_diag`\n",
    "# # which perturb the diagonal elements of the QFI.\n",
    "# nat_grad = NaturalGradient(grad_method='lin_comb', qfi_method='lin_comb_full', regularization='ridge').convert(\n",
    "#                            operator=op, params=params)\n",
    "\n",
    "# # Assign the parameters and evaluate the gradient\n",
    "# nat_grad_result = nat_grad.assign_parameters(value_dict).eval()\n",
    "# print('Natural gradient computed with linear combination of unitaries', nat_grad_result)"
   ]
  },
  {
   "cell_type": "code",
   "execution_count": null,
   "metadata": {},
   "outputs": [],
   "source": [
    "# # Get the operator object representing the Hessian\n",
    "# state_hess = Hessian(hess_method='param_shift').convert(operator=op, params=params)\n",
    "# # Assign the parameters and evaluate the Hessian\n",
    "# hessian_result = state_hess.assign_parameters(value_dict).eval()\n",
    "# print('Hessian computed using the parameter shift method\\n', (np.array(hessian_result)))\n",
    "\n",
    "# # Get the operator object representing the Hessian\n",
    "# state_hess = Hessian(hess_method='lin_comb').convert(operator=op, params=params)\n",
    "# # Assign the parameters and evaluate the Hessian\n",
    "# hessian_result = state_hess.assign_parameters(value_dict).eval()\n",
    "# print('Hessian computed using the linear combination of unitaries method\\n', (np.array(hessian_result)))\n",
    "\n",
    "# # Get the operator object representing the Hessian using finite difference\n",
    "# state_hess = Hessian(hess_method='fin_diff').convert(operator=op, params=params)\n",
    "# # Assign the parameters and evaluate the Hessian\n",
    "# hessian_result = state_hess.assign_parameters(value_dict).eval()\n",
    "# print('Hessian computed with finite difference\\n', (np.array(hessian_result)))"
   ]
  }
 ],
 "metadata": {
  "kernelspec": {
   "display_name": "Python 3.8.10 ('decomp_venv': venv)",
   "language": "python",
   "name": "python3"
  },
  "language_info": {
   "codemirror_mode": {
    "name": "ipython",
    "version": 3
   },
   "file_extension": ".py",
   "mimetype": "text/x-python",
   "name": "python",
   "nbconvert_exporter": "python",
   "pygments_lexer": "ipython3",
   "version": "3.8.10"
  },
  "orig_nbformat": 4,
  "vscode": {
   "interpreter": {
    "hash": "8458c2db8745e513b658ab31603256ba78a013051ccc1ae9ae2e6e521b9ef2ea"
   }
  }
 },
 "nbformat": 4,
 "nbformat_minor": 2
}
