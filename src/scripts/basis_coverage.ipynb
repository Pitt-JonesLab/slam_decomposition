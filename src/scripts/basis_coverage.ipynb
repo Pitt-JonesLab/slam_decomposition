{
 "cells": [
  {
   "cell_type": "code",
   "execution_count": 3,
   "metadata": {},
   "outputs": [],
   "source": [
    "import logging\n",
    "logger = logging.getLogger()\n",
    "logger.setLevel(logging.INFO)\n",
    "\n",
    "import sys\n",
    "sys.path.append(\"../../\")"
   ]
  },
  {
   "cell_type": "code",
   "execution_count": 5,
   "metadata": {},
   "outputs": [
    {
     "name": "stderr",
     "output_type": "stream",
     "text": [
      "INFO:root:==== Haar volumes ====\n"
     ]
    },
    {
     "name": "stdout",
     "output_type": "stream",
     "text": [
      " deg 0\t | Sequence name\n",
      "0.00000\t | \n",
      "0.00000\t | $\\sqrt[3]{iSwap}$\n",
      "0.00000\t | $\\sqrt[2]{iSwap}$\n",
      "0.06819\t | $\\sqrt[3]{iSwap}$.$\\sqrt[3]{iSwap}$\n",
      "0.21489\t | $\\sqrt[3]{iSwap}$.$\\sqrt[2]{iSwap}$\n",
      "0.67681\t | $\\sqrt[3]{iSwap}$.$\\sqrt[3]{iSwap}$.$\\sqrt[3]{iSwap}$\n",
      "0.03847\t | $\\sqrt[3]{iSwap}$.$\\sqrt[2]{iSwap}$.$\\sqrt[3]{iSwap}$\n",
      "0.00165\t | $\\sqrt[3]{iSwap}$.$\\sqrt[3]{iSwap}$.$\\sqrt[3]{iSwap}$.$\\sqrt[3]{iSwap}$\n",
      "0.00000\t | $\\sqrt[3]{iSwap}$.$\\sqrt[2]{iSwap}$.$\\sqrt[3]{iSwap}$.$\\sqrt[3]{iSwap}$\n"
     ]
    },
    {
     "name": "stderr",
     "output_type": "stream",
     "text": [
      "INFO:root:Haar-expectation cost: 0.9484185085810616\n"
     ]
    },
    {
     "data": {
      "text/plain": [
       "0.9484185085810616"
      ]
     },
     "execution_count": 5,
     "metadata": {},
     "output_type": "execute_result"
    }
   ],
   "source": [
    "from src.utils.polytope_wrap import gate_set_to_coverage\n",
    "from src.utils.custom_gates import RiSwapGate, CustomCostGate\n",
    "basis_gates = [CustomCostGate.from_gate(RiSwapGate(1/2), cost=1/2), CustomCostGate.from_gate(RiSwapGate(1/3), cost=1/3)]\n",
    "gate_set_to_coverage(*basis_gates)"
   ]
  },
  {
   "cell_type": "code",
   "execution_count": 10,
   "metadata": {},
   "outputs": [
    {
     "name": "stderr",
     "output_type": "stream",
     "text": [
      "INFO:root:==== Haar volumes ====\n"
     ]
    },
    {
     "name": "stdout",
     "output_type": "stream",
     "text": [
      " deg 0\t | Sequence name\n",
      "0.00000\t | \n",
      "0.00000\t | SYC\n",
      "0.00000\t | SYC.SYC\n",
      "0.99986\t | SYC.SYC.SYC\n",
      "0.00014\t | SYC.SYC.SYC.SYC\n"
     ]
    },
    {
     "name": "stderr",
     "output_type": "stream",
     "text": [
      "INFO:root:Haar-expectation cost: 3.0001374571237025\n"
     ]
    },
    {
     "data": {
      "text/plain": [
       "3.0001374571237025"
      ]
     },
     "execution_count": 10,
     "metadata": {},
     "output_type": "execute_result"
    }
   ],
   "source": [
    "#test expected cost of fsim\n",
    "from src.utils.custom_gates import SYC\n",
    "u= CustomCostGate.from_gate(SYC(), cost=1)\n",
    "gate_set_to_coverage(u)"
   ]
  },
  {
   "cell_type": "code",
   "execution_count": 58,
   "metadata": {},
   "outputs": [
    {
     "name": "stderr",
     "output_type": "stream",
     "text": [
      "INFO:root:==== Haar volumes ====\n"
     ]
    },
    {
     "name": "stdout",
     "output_type": "stream",
     "text": [
      " deg 0\t | Sequence name\n",
      "0.00000\t | \n",
      "0.00000\t | B^(1/1)\n",
      "1.00000\t | B^(1/1).B^(1/1)\n"
     ]
    },
    {
     "name": "stderr",
     "output_type": "stream",
     "text": [
      "INFO:root:Haar-expectation cost: 2.0\n",
      "INFO:root:==== Haar volumes ====\n"
     ]
    },
    {
     "name": "stdout",
     "output_type": "stream",
     "text": [
      " deg 0\t | Sequence name\n",
      "0.00000\t | \n",
      "0.00000\t | B^(1/2)\n",
      "0.50000\t | B^(1/2).B^(1/2)\n",
      "0.49581\t | B^(1/2).B^(1/2).B^(1/2)\n",
      "0.00419\t | B^(1/2).B^(1/2).B^(1/2).B^(1/2)\n"
     ]
    },
    {
     "name": "stderr",
     "output_type": "stream",
     "text": [
      "INFO:root:Haar-expectation cost: 1.2520947828594555\n",
      "INFO:root:==== Haar volumes ====\n"
     ]
    },
    {
     "name": "stdout",
     "output_type": "stream",
     "text": [
      " deg 0\t | Sequence name\n",
      "0.00000\t | \n",
      "0.00000\t | B^(1/3)\n",
      "0.03142\t | B^(1/3).B^(1/3)\n",
      "0.46858\t | B^(1/3).B^(1/3).B^(1/3)\n",
      "0.45988\t | B^(1/3).B^(1/3).B^(1/3).B^(1/3)\n",
      "0.03998\t | B^(1/3).B^(1/3).B^(1/3).B^(1/3).B^(1/3)\n",
      "0.00014\t | B^(1/3).B^(1/3).B^(1/3).B^(1/3).B^(1/3).B^(1/3)\n"
     ]
    },
    {
     "name": "stderr",
     "output_type": "stream",
     "text": [
      "INFO:root:Haar-expectation cost: 1.1696105275291186\n",
      "INFO:root:==== Haar volumes ====\n"
     ]
    },
    {
     "name": "stdout",
     "output_type": "stream",
     "text": [
      " deg 0\t | Sequence name\n",
      "0.00000\t | \n",
      "0.00000\t | B^(1/4)\n",
      "0.00316\t | B^(1/4).B^(1/4)\n",
      "0.07246\t | B^(1/4).B^(1/4).B^(1/4)\n",
      "0.42437\t | B^(1/4).B^(1/4).B^(1/4).B^(1/4)\n",
      "0.40561\t | B^(1/4).B^(1/4).B^(1/4).B^(1/4).B^(1/4)\n",
      "0.09020\t | B^(1/4).B^(1/4).B^(1/4).B^(1/4).B^(1/4).B^(1/4)\n",
      "0.00418\t | B^(1/4).B^(1/4).B^(1/4).B^(1/4).B^(1/4).B^(1/4).B^(1/4)\n",
      "0.00001\t | B^(1/4).B^(1/4).B^(1/4).B^(1/4).B^(1/4).B^(1/4).B^(1/4).B^(1/4)\n"
     ]
    },
    {
     "name": "stderr",
     "output_type": "stream",
     "text": [
      "INFO:root:Haar-expectation cost: 1.1299491073593464\n"
     ]
    }
   ],
   "source": [
    "#test to see expected costs of fractional B gates\n",
    "from src.utils.custom_gates import CustomGate\n",
    "from src.hamiltonian import ConversionGainHamiltonian\n",
    "import numpy as np\n",
    "h = ConversionGainHamiltonian()\n",
    "for d in range(1,5):\n",
    "    u = h._construct_U_lambda(3*np.pi/8, np.pi/8)(1/d).full()\n",
    "    u = CustomGate(u, f\"B^(1/{d})\", duration=1/d)\n",
    "    gate_set_to_coverage(u)"
   ]
  },
  {
   "cell_type": "code",
   "execution_count": null,
   "metadata": {},
   "outputs": [],
   "source": [
    "#sweep parameters of B gate with t=1 to see how expected haar changes\n"
   ]
  },
  {
   "cell_type": "code",
   "execution_count": 45,
   "metadata": {},
   "outputs": [],
   "source": [
    "#this doesn't really work but just seeing what would happen if try to minimize expected cost\n",
    "\n",
    "# from src.hamiltonian import ConversionGainHamiltonian\n",
    "# h = ConversionGainHamiltonian()\n",
    "# import numpy as np\n",
    "# gv = [3*np.pi/8, np.pi/8]\n",
    "# import scipy.optimize as opt\n",
    "# def opt_fun(gv):\n",
    "#     return gate_set_to_coverage(h.construct_U(*gv).full())\n",
    "# result = opt.minimize(fun=opt_fun, x0=gv)"
   ]
  }
 ],
 "metadata": {
  "interpreter": {
   "hash": "8458c2db8745e513b658ab31603256ba78a013051ccc1ae9ae2e6e521b9ef2ea"
  },
  "kernelspec": {
   "display_name": "Python 3.8.10 ('decomp_venv': venv)",
   "language": "python",
   "name": "python3"
  },
  "language_info": {
   "codemirror_mode": {
    "name": "ipython",
    "version": 3
   },
   "file_extension": ".py",
   "mimetype": "text/x-python",
   "name": "python",
   "nbconvert_exporter": "python",
   "pygments_lexer": "ipython3",
   "version": "3.8.10"
  },
  "orig_nbformat": 4
 },
 "nbformat": 4,
 "nbformat_minor": 2
}
