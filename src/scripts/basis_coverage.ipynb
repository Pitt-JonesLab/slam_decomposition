{
 "cells": [
  {
   "cell_type": "code",
   "execution_count": 3,
   "metadata": {},
   "outputs": [],
   "source": [
    "import logging\n",
    "logger = logging.getLogger()\n",
    "logger.setLevel(logging.INFO)\n",
    "\n",
    "import sys\n",
    "sys.path.append(\"../../\")"
   ]
  },
  {
   "cell_type": "code",
   "execution_count": 4,
   "metadata": {},
   "outputs": [
    {
     "ename": "AttributeError",
     "evalue": "'RiSwapGate' object has no attribute 'cost'",
     "output_type": "error",
     "traceback": [
      "\u001b[0;31m---------------------------------------------------------------------------\u001b[0m",
      "\u001b[0;31mAttributeError\u001b[0m                            Traceback (most recent call last)",
      "\u001b[1;32m/home/evm9/decomposition_EM/src/scripts/basis_coverage.ipynb Cell 2'\u001b[0m in \u001b[0;36m<cell line: 4>\u001b[0;34m()\u001b[0m\n\u001b[1;32m      <a href='vscode-notebook-cell://ssh-remote%2B7b22686f73744e616d65223a224f707469706c6578227d/home/evm9/decomposition_EM/src/scripts/basis_coverage.ipynb#ch0000007vscode-remote?line=1'>2</a>\u001b[0m \u001b[39mfrom\u001b[39;00m \u001b[39msrc\u001b[39;00m\u001b[39m.\u001b[39;00m\u001b[39mutils\u001b[39;00m\u001b[39m.\u001b[39;00m\u001b[39mcustom_gates\u001b[39;00m \u001b[39mimport\u001b[39;00m RiSwapGate\n\u001b[1;32m      <a href='vscode-notebook-cell://ssh-remote%2B7b22686f73744e616d65223a224f707469706c6578227d/home/evm9/decomposition_EM/src/scripts/basis_coverage.ipynb#ch0000007vscode-remote?line=2'>3</a>\u001b[0m basis_gates \u001b[39m=\u001b[39m [RiSwapGate(\u001b[39m1\u001b[39m\u001b[39m/\u001b[39m\u001b[39m2\u001b[39m), RiSwapGate(\u001b[39m1\u001b[39m\u001b[39m/\u001b[39m\u001b[39m3\u001b[39m)]\n\u001b[0;32m----> <a href='vscode-notebook-cell://ssh-remote%2B7b22686f73744e616d65223a224f707469706c6578227d/home/evm9/decomposition_EM/src/scripts/basis_coverage.ipynb#ch0000007vscode-remote?line=3'>4</a>\u001b[0m gate_set_to_coverage(\u001b[39m*\u001b[39;49mbasis_gates)\n",
      "File \u001b[0;32m~/decomposition_EM/src/scripts/../../src/utils/polytope_wrap.py:94\u001b[0m, in \u001b[0;36mgate_set_to_coverage\u001b[0;34m(*basis_gates)\u001b[0m\n\u001b[1;32m     <a href='file:///home/evm9/decomposition_EM/src/scripts/../../src/utils/polytope_wrap.py?line=79'>80</a>\u001b[0m     circuit_polytope \u001b[39m=\u001b[39m deduce_qlr_consequences(\n\u001b[1;32m     <a href='file:///home/evm9/decomposition_EM/src/scripts/../../src/utils/polytope_wrap.py?line=80'>81</a>\u001b[0m         target\u001b[39m=\u001b[39m\u001b[39m\"\u001b[39m\u001b[39mc\u001b[39m\u001b[39m\"\u001b[39m,\n\u001b[1;32m     <a href='file:///home/evm9/decomposition_EM/src/scripts/../../src/utils/polytope_wrap.py?line=81'>82</a>\u001b[0m         a_polytope\u001b[39m=\u001b[39mcircuit_polytope,\n\u001b[1;32m     <a href='file:///home/evm9/decomposition_EM/src/scripts/../../src/utils/polytope_wrap.py?line=82'>83</a>\u001b[0m         b_polytope\u001b[39m=\u001b[39mb_polytope,\n\u001b[1;32m     <a href='file:///home/evm9/decomposition_EM/src/scripts/../../src/utils/polytope_wrap.py?line=83'>84</a>\u001b[0m         c_polytope\u001b[39m=\u001b[39meverything_polytope\n\u001b[1;32m     <a href='file:///home/evm9/decomposition_EM/src/scripts/../../src/utils/polytope_wrap.py?line=84'>85</a>\u001b[0m     )\n\u001b[1;32m     <a href='file:///home/evm9/decomposition_EM/src/scripts/../../src/utils/polytope_wrap.py?line=86'>87</a>\u001b[0m     \u001b[39m#here need to define cost of a gate\u001b[39;00m\n\u001b[1;32m     <a href='file:///home/evm9/decomposition_EM/src/scripts/../../src/utils/polytope_wrap.py?line=87'>88</a>\u001b[0m     \u001b[39m#might do this like cost = gate.duration, #TODO\u001b[39;00m\n\u001b[1;32m     <a href='file:///home/evm9/decomposition_EM/src/scripts/../../src/utils/polytope_wrap.py?line=88'>89</a>\u001b[0m     operations\u001b[39m.\u001b[39mappend(\n\u001b[1;32m     <a href='file:///home/evm9/decomposition_EM/src/scripts/../../src/utils/polytope_wrap.py?line=89'>90</a>\u001b[0m         CircuitPolytope(\n\u001b[1;32m     <a href='file:///home/evm9/decomposition_EM/src/scripts/../../src/utils/polytope_wrap.py?line=90'>91</a>\u001b[0m             operations\u001b[39m=\u001b[39m[\u001b[39mstr\u001b[39m(gate)],\n\u001b[1;32m     <a href='file:///home/evm9/decomposition_EM/src/scripts/../../src/utils/polytope_wrap.py?line=91'>92</a>\u001b[0m             \u001b[39m#cost=1,\u001b[39;00m\n\u001b[1;32m     <a href='file:///home/evm9/decomposition_EM/src/scripts/../../src/utils/polytope_wrap.py?line=92'>93</a>\u001b[0m             \u001b[39m#cost=1 - (1- base_iswap_fidelity)*basis_gate.params[0],\u001b[39;00m\n\u001b[0;32m---> <a href='file:///home/evm9/decomposition_EM/src/scripts/../../src/utils/polytope_wrap.py?line=93'>94</a>\u001b[0m             cost\u001b[39m=\u001b[39mgate\u001b[39m.\u001b[39;49mcost,\n\u001b[1;32m     <a href='file:///home/evm9/decomposition_EM/src/scripts/../../src/utils/polytope_wrap.py?line=94'>95</a>\u001b[0m             convex_subpolytopes\u001b[39m=\u001b[39mcircuit_polytope\u001b[39m.\u001b[39mconvex_subpolytopes)\n\u001b[1;32m     <a href='file:///home/evm9/decomposition_EM/src/scripts/../../src/utils/polytope_wrap.py?line=95'>96</a>\u001b[0m         )\n\u001b[1;32m     <a href='file:///home/evm9/decomposition_EM/src/scripts/../../src/utils/polytope_wrap.py?line=97'>98</a>\u001b[0m \u001b[39m#second build coverage set which finds the necessary permutations to do a complete span\u001b[39;00m\n\u001b[1;32m     <a href='file:///home/evm9/decomposition_EM/src/scripts/../../src/utils/polytope_wrap.py?line=98'>99</a>\u001b[0m \u001b[39m#logging.info(\"==== Working to build a set of covering polytopes ====\")\u001b[39;00m\n\u001b[1;32m    <a href='file:///home/evm9/decomposition_EM/src/scripts/../../src/utils/polytope_wrap.py?line=99'>100</a>\u001b[0m coverage_set \u001b[39m=\u001b[39m build_coverage_set(operations, chatty\u001b[39m=\u001b[39m\u001b[39mFalse\u001b[39;00m)\n",
      "\u001b[0;31mAttributeError\u001b[0m: 'RiSwapGate' object has no attribute 'cost'"
     ]
    }
   ],
   "source": [
    "from src.utils.polytope_wrap import gate_set_to_coverage\n",
    "from src.utils.custom_gates import RiSwapGate, CustomCostGate\n",
    "basis_gates = [CustomCostGate.from_gate(RiSwapGate(1/2), cost=1/2), CustomCostGate.from_gate(RiSwapGate(1/3), cost=1/3)]\n",
    "gate_set_to_coverage(*basis_gates)"
   ]
  },
  {
   "cell_type": "code",
   "execution_count": 58,
   "metadata": {},
   "outputs": [
    {
     "name": "stderr",
     "output_type": "stream",
     "text": [
      "INFO:root:==== Haar volumes ====\n"
     ]
    },
    {
     "name": "stdout",
     "output_type": "stream",
     "text": [
      " deg 0\t | Sequence name\n",
      "0.00000\t | \n",
      "0.00000\t | B^(1/1)\n",
      "1.00000\t | B^(1/1).B^(1/1)\n"
     ]
    },
    {
     "name": "stderr",
     "output_type": "stream",
     "text": [
      "INFO:root:Haar-expectation cost: 2.0\n",
      "INFO:root:==== Haar volumes ====\n"
     ]
    },
    {
     "name": "stdout",
     "output_type": "stream",
     "text": [
      " deg 0\t | Sequence name\n",
      "0.00000\t | \n",
      "0.00000\t | B^(1/2)\n",
      "0.50000\t | B^(1/2).B^(1/2)\n",
      "0.49581\t | B^(1/2).B^(1/2).B^(1/2)\n",
      "0.00419\t | B^(1/2).B^(1/2).B^(1/2).B^(1/2)\n"
     ]
    },
    {
     "name": "stderr",
     "output_type": "stream",
     "text": [
      "INFO:root:Haar-expectation cost: 1.2520947828594555\n",
      "INFO:root:==== Haar volumes ====\n"
     ]
    },
    {
     "name": "stdout",
     "output_type": "stream",
     "text": [
      " deg 0\t | Sequence name\n",
      "0.00000\t | \n",
      "0.00000\t | B^(1/3)\n",
      "0.03142\t | B^(1/3).B^(1/3)\n",
      "0.46858\t | B^(1/3).B^(1/3).B^(1/3)\n",
      "0.45988\t | B^(1/3).B^(1/3).B^(1/3).B^(1/3)\n",
      "0.03998\t | B^(1/3).B^(1/3).B^(1/3).B^(1/3).B^(1/3)\n",
      "0.00014\t | B^(1/3).B^(1/3).B^(1/3).B^(1/3).B^(1/3).B^(1/3)\n"
     ]
    },
    {
     "name": "stderr",
     "output_type": "stream",
     "text": [
      "INFO:root:Haar-expectation cost: 1.1696105275291186\n",
      "INFO:root:==== Haar volumes ====\n"
     ]
    },
    {
     "name": "stdout",
     "output_type": "stream",
     "text": [
      " deg 0\t | Sequence name\n",
      "0.00000\t | \n",
      "0.00000\t | B^(1/4)\n",
      "0.00316\t | B^(1/4).B^(1/4)\n",
      "0.07246\t | B^(1/4).B^(1/4).B^(1/4)\n",
      "0.42437\t | B^(1/4).B^(1/4).B^(1/4).B^(1/4)\n",
      "0.40561\t | B^(1/4).B^(1/4).B^(1/4).B^(1/4).B^(1/4)\n",
      "0.09020\t | B^(1/4).B^(1/4).B^(1/4).B^(1/4).B^(1/4).B^(1/4)\n",
      "0.00418\t | B^(1/4).B^(1/4).B^(1/4).B^(1/4).B^(1/4).B^(1/4).B^(1/4)\n",
      "0.00001\t | B^(1/4).B^(1/4).B^(1/4).B^(1/4).B^(1/4).B^(1/4).B^(1/4).B^(1/4)\n"
     ]
    },
    {
     "name": "stderr",
     "output_type": "stream",
     "text": [
      "INFO:root:Haar-expectation cost: 1.1299491073593464\n"
     ]
    }
   ],
   "source": [
    "#test to see expected costs of fractional B gates\n",
    "from src.utils.custom_gates import CustomGate\n",
    "from src.hamiltonian import ConversionGainHamiltonian\n",
    "import numpy as np\n",
    "h = ConversionGainHamiltonian()\n",
    "for d in range(1,5):\n",
    "    u = h._construct_U_lambda(3*np.pi/8, np.pi/8)(1/d).full()\n",
    "    u = CustomGate(u, f\"B^(1/{d})\", duration=1/d)\n",
    "    gate_set_to_coverage(u)"
   ]
  },
  {
   "cell_type": "code",
   "execution_count": 45,
   "metadata": {},
   "outputs": [],
   "source": [
    "#this doesn't really work but just seeing what would happen if try to minimize expected cost\n",
    "\n",
    "# from src.hamiltonian import ConversionGainHamiltonian\n",
    "# h = ConversionGainHamiltonian()\n",
    "# import numpy as np\n",
    "# gv = [3*np.pi/8, np.pi/8]\n",
    "# import scipy.optimize as opt\n",
    "# def opt_fun(gv):\n",
    "#     return gate_set_to_coverage(h.construct_U(*gv).full())\n",
    "# result = opt.minimize(fun=opt_fun, x0=gv)"
   ]
  }
 ],
 "metadata": {
  "interpreter": {
   "hash": "8458c2db8745e513b658ab31603256ba78a013051ccc1ae9ae2e6e521b9ef2ea"
  },
  "kernelspec": {
   "display_name": "Python 3.8.10 ('decomp_venv': venv)",
   "language": "python",
   "name": "python3"
  },
  "language_info": {
   "codemirror_mode": {
    "name": "ipython",
    "version": 3
   },
   "file_extension": ".py",
   "mimetype": "text/x-python",
   "name": "python",
   "nbconvert_exporter": "python",
   "pygments_lexer": "ipython3",
   "version": "3.8.10"
  },
  "orig_nbformat": 4
 },
 "nbformat": 4,
 "nbformat_minor": 2
}
