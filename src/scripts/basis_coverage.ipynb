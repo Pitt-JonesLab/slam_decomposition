{
 "cells": [
  {
   "cell_type": "code",
   "execution_count": 1,
   "metadata": {},
   "outputs": [],
   "source": [
    "import logging\n",
    "logger = logging.getLogger()\n",
    "logger.setLevel(logging.INFO)\n",
    "\n",
    "import sys\n",
    "sys.path.append(\"../../\")"
   ]
  },
  {
   "cell_type": "code",
   "execution_count": 5,
   "metadata": {},
   "outputs": [
    {
     "name": "stderr",
     "output_type": "stream",
     "text": [
      "INFO:root:==== Haar volumes ====\n"
     ]
    },
    {
     "name": "stdout",
     "output_type": "stream",
     "text": [
      " deg 0\t | Sequence name\n",
      "0.00000\t | \n",
      "0.00000\t | $\\sqrt[3]{iSwap}$\n",
      "0.00000\t | $\\sqrt[2]{iSwap}$\n",
      "0.06819\t | $\\sqrt[3]{iSwap}$.$\\sqrt[3]{iSwap}$\n",
      "0.21489\t | $\\sqrt[3]{iSwap}$.$\\sqrt[2]{iSwap}$\n",
      "0.67681\t | $\\sqrt[3]{iSwap}$.$\\sqrt[3]{iSwap}$.$\\sqrt[3]{iSwap}$\n",
      "0.03847\t | $\\sqrt[3]{iSwap}$.$\\sqrt[2]{iSwap}$.$\\sqrt[3]{iSwap}$\n",
      "0.00165\t | $\\sqrt[3]{iSwap}$.$\\sqrt[3]{iSwap}$.$\\sqrt[3]{iSwap}$.$\\sqrt[3]{iSwap}$\n",
      "0.00000\t | $\\sqrt[3]{iSwap}$.$\\sqrt[2]{iSwap}$.$\\sqrt[3]{iSwap}$.$\\sqrt[3]{iSwap}$\n"
     ]
    },
    {
     "name": "stderr",
     "output_type": "stream",
     "text": [
      "INFO:root:Haar-expectation cost: 0.9484185085810616\n"
     ]
    },
    {
     "data": {
      "text/plain": [
       "0.9484185085810616"
      ]
     },
     "execution_count": 5,
     "metadata": {},
     "output_type": "execute_result"
    }
   ],
   "source": [
    "from src.utils.polytope_wrap import gate_set_to_coverage\n",
    "from src.utils.custom_gates import RiSwapGate, CustomCostGate\n",
    "basis_gates = [CustomCostGate.from_gate(RiSwapGate(1/2), cost=1/2), CustomCostGate.from_gate(RiSwapGate(1/3), cost=1/3)]\n",
    "gate_set_to_coverage(*basis_gates)"
   ]
  },
  {
   "cell_type": "code",
   "execution_count": 3,
   "metadata": {},
   "outputs": [
    {
     "name": "stderr",
     "output_type": "stream",
     "text": [
      "INFO:root:==== Haar volumes ====\n",
      "INFO:root:Haar-expectation cost: 3.263533584618538\n",
      "INFO:root:==== Haar volumes ====\n",
      "INFO:root:Haar-expectation cost: 4.441917398633472\n",
      "INFO:root:==== Haar volumes ====\n",
      "INFO:root:Haar-expectation cost: 3.0923351827359733\n",
      "INFO:root:==== Haar volumes ====\n",
      "INFO:root:Haar-expectation cost: 2.503872946744405\n",
      "INFO:root:==== Haar volumes ====\n",
      "INFO:root:Haar-expectation cost: 2.10702995951045\n",
      "INFO:root:==== Haar volumes ====\n",
      "INFO:root:Haar-expectation cost: 2.10702995951045\n",
      "INFO:root:==== Haar volumes ====\n",
      "INFO:root:Haar-expectation cost: 2.503872946744405\n",
      "INFO:root:==== Haar volumes ====\n",
      "INFO:root:Haar-expectation cost: 3.054108241323724\n",
      "INFO:root:==== Haar volumes ====\n",
      "INFO:root:Haar-expectation cost: 4.411835552289101\n",
      "INFO:root:==== Haar volumes ====\n",
      "INFO:root:Haar-expectation cost: 3.240322765512005\n",
      "INFO:root:==== Haar volumes ====\n",
      "INFO:root:Haar-expectation cost: 3.0001374571237025\n",
      "INFO:root:==== Haar volumes ====\n",
      "INFO:root:Haar-expectation cost: 3.0401173636843204\n",
      "INFO:root:==== Haar volumes ====\n",
      "INFO:root:Haar-expectation cost: 3.5000000000000027\n",
      "INFO:root:==== Haar volumes ====\n",
      "INFO:root:Haar-expectation cost: 4.639983791935886\n",
      "INFO:root:==== Haar volumes ====\n",
      "INFO:root:Haar-expectation cost: 8.594506405339164\n",
      "INFO:root:==== Haar volumes ====\n",
      "INFO:root:Haar-expectation cost: 2.10702995951045\n",
      "INFO:root:==== Haar volumes ====\n",
      "INFO:root:Haar-expectation cost: 2.503872946744405\n",
      "INFO:root:==== Haar volumes ====\n",
      "INFO:root:Haar-expectation cost: 3.054108241323724\n",
      "INFO:root:==== Haar volumes ====\n",
      "INFO:root:Haar-expectation cost: 4.411835552289101\n",
      "INFO:root:==== Haar volumes ====\n",
      "INFO:root:Haar-expectation cost: 3.240322765512005\n",
      "INFO:root:==== Haar volumes ====\n",
      "INFO:root:Haar-expectation cost: 3.263533584618538\n",
      "INFO:root:==== Haar volumes ====\n",
      "INFO:root:Haar-expectation cost: 4.441917398633472\n",
      "INFO:root:==== Haar volumes ====\n",
      "INFO:root:Haar-expectation cost: 3.0923351827359733\n",
      "INFO:root:==== Haar volumes ====\n",
      "INFO:root:Haar-expectation cost: 2.503872946744405\n",
      "INFO:root:==== Haar volumes ====\n",
      "INFO:root:Haar-expectation cost: 2.10702995951045\n"
     ]
    },
    {
     "data": {
      "image/png": "[encoded data removed]",
      "text/plain": [
       "<Figure size 504x504 with 2 Axes>"
      ]
     },
     "metadata": {
      "needs_background": "light"
     },
     "output_type": "display_data"
    },
    {
     "data": {
      "text/plain": [
       "<matplotlib.image.AxesImage at 0x7f1b3c529b50>"
      ]
     },
     "execution_count": 3,
     "metadata": {},
     "output_type": "execute_result"
    }
   ],
   "source": [
    "#test expected cost of fsim\n",
    "from src.utils.custom_gates import SYC, FSim\n",
    "# u= CustomCostGate.from_gate(SYC(), cost=1)\n",
    "# gate_set_to_coverage(u)\n",
    "#sweep parameters of fSim gate with t=1 to see how expected haar changes\n",
    "from src.utils.custom_gates import CustomCostGate\n",
    "from src.utils.polytope_wrap import gate_set_to_coverage\n",
    "import numpy as np\n",
    "\n",
    "data = []\n",
    "for i in range(1,6):\n",
    "    temp_data = []\n",
    "    for j in range(1,6):\n",
    "        u = FSim(theta=i*np.pi/6, phi=j*np.pi/6).to_matrix()\n",
    "        #u = CustomCostGate(u, f\"fSim({i*np.pi/6, j*np.pi/6})\", cost=1)\n",
    "        #what is duration; proportional to rotation?\n",
    "        cost = max(i*np.pi/6, j*np.pi/6)\n",
    "        u = CustomCostGate(u, f\"fSim({i*np.pi/6, j*np.pi/6})\", cost=1)\n",
    "        result = gate_set_to_coverage(u, chatty=False)\n",
    "        temp_data.append(result)\n",
    "    data.append(temp_data) \n",
    "\n",
    "from src.utils.visualize import plotMatrix\n",
    "plotMatrix(np.matrix(data))"
   ]
  },
  {
   "cell_type": "code",
   "execution_count": null,
   "metadata": {},
   "outputs": [],
   "source": [
    "#notice that the 8.59 is the worst, but also is very close to SWAP"
   ]
  },
  {
   "cell_type": "code",
   "execution_count": 12,
   "metadata": {},
   "outputs": [],
   "source": [
    "# i,j = (3,5)\n",
    "# u = FSim(theta=i*np.pi/6, phi=j*np.pi/6).to_matrix()\n",
    "# plotMatrix(u)\n",
    "# # u = CustomCostGate(u, f\"B({i*np.pi/8, j*np.pi/8})\", cost=1)\n",
    "# # gate_set_to_coverage(u, chatty=True)\n",
    "# from src.utils.visualize import unitary_to_weyl\n",
    "# unitary_to_weyl(u)"
   ]
  },
  {
   "cell_type": "code",
   "execution_count": 51,
   "metadata": {},
   "outputs": [
    {
     "name": "stderr",
     "output_type": "stream",
     "text": [
      "INFO:root:==== Haar volumes ====\n"
     ]
    },
    {
     "name": "stdout",
     "output_type": "stream",
     "text": [
      " deg 0\t | Sequence name\n",
      "0.00000\t | \n",
      "0.00000\t | can\n",
      "0.99882\t | can.can\n",
      "0.00118\t | can.can.can\n"
     ]
    },
    {
     "name": "stderr",
     "output_type": "stream",
     "text": [
      "INFO:root:Haar-expectation cost: 2.0011770545216936\n"
     ]
    },
    {
     "data": {
      "text/plain": [
       "2.0011770545216936"
      ]
     },
     "execution_count": 51,
     "metadata": {},
     "output_type": "execute_result"
    }
   ],
   "source": [
    "#test expected CAN(symmetric middle)\n",
    "from src.utils.custom_gates import CanonicalGate\n",
    "u = CanonicalGate(np.pi/4, np.pi/8 ,np.pi/16).to_matrix()\n",
    "u = CustomCostGate(u, \"can\")\n",
    "gate_set_to_coverage(u)\n",
    "# from src.utils.visualize import unitary_to_weyl\n",
    "# unitary_to_weyl(u)"
   ]
  },
  {
   "cell_type": "markdown",
   "metadata": {},
   "source": [
    "Question for Chao: how do parameters relate to duration? If t=1, then we talk about duration using the parameter 3pi/8, but what if we are changing t?"
   ]
  },
  {
   "cell_type": "code",
   "execution_count": 58,
   "metadata": {},
   "outputs": [
    {
     "name": "stderr",
     "output_type": "stream",
     "text": [
      "INFO:root:==== Haar volumes ====\n"
     ]
    },
    {
     "name": "stdout",
     "output_type": "stream",
     "text": [
      " deg 0\t | Sequence name\n",
      "0.00000\t | \n",
      "0.00000\t | B^(1/1)\n",
      "1.00000\t | B^(1/1).B^(1/1)\n"
     ]
    },
    {
     "name": "stderr",
     "output_type": "stream",
     "text": [
      "INFO:root:Haar-expectation cost: 2.0\n",
      "INFO:root:==== Haar volumes ====\n"
     ]
    },
    {
     "name": "stdout",
     "output_type": "stream",
     "text": [
      " deg 0\t | Sequence name\n",
      "0.00000\t | \n",
      "0.00000\t | B^(1/2)\n",
      "0.50000\t | B^(1/2).B^(1/2)\n",
      "0.49581\t | B^(1/2).B^(1/2).B^(1/2)\n",
      "0.00419\t | B^(1/2).B^(1/2).B^(1/2).B^(1/2)\n"
     ]
    },
    {
     "name": "stderr",
     "output_type": "stream",
     "text": [
      "INFO:root:Haar-expectation cost: 1.2520947828594555\n",
      "INFO:root:==== Haar volumes ====\n"
     ]
    },
    {
     "name": "stdout",
     "output_type": "stream",
     "text": [
      " deg 0\t | Sequence name\n",
      "0.00000\t | \n",
      "0.00000\t | B^(1/3)\n",
      "0.03142\t | B^(1/3).B^(1/3)\n",
      "0.46858\t | B^(1/3).B^(1/3).B^(1/3)\n",
      "0.45988\t | B^(1/3).B^(1/3).B^(1/3).B^(1/3)\n",
      "0.03998\t | B^(1/3).B^(1/3).B^(1/3).B^(1/3).B^(1/3)\n",
      "0.00014\t | B^(1/3).B^(1/3).B^(1/3).B^(1/3).B^(1/3).B^(1/3)\n"
     ]
    },
    {
     "name": "stderr",
     "output_type": "stream",
     "text": [
      "INFO:root:Haar-expectation cost: 1.1696105275291186\n",
      "INFO:root:==== Haar volumes ====\n"
     ]
    },
    {
     "name": "stdout",
     "output_type": "stream",
     "text": [
      " deg 0\t | Sequence name\n",
      "0.00000\t | \n",
      "0.00000\t | B^(1/4)\n",
      "0.00316\t | B^(1/4).B^(1/4)\n",
      "0.07246\t | B^(1/4).B^(1/4).B^(1/4)\n",
      "0.42437\t | B^(1/4).B^(1/4).B^(1/4).B^(1/4)\n",
      "0.40561\t | B^(1/4).B^(1/4).B^(1/4).B^(1/4).B^(1/4)\n",
      "0.09020\t | B^(1/4).B^(1/4).B^(1/4).B^(1/4).B^(1/4).B^(1/4)\n",
      "0.00418\t | B^(1/4).B^(1/4).B^(1/4).B^(1/4).B^(1/4).B^(1/4).B^(1/4)\n",
      "0.00001\t | B^(1/4).B^(1/4).B^(1/4).B^(1/4).B^(1/4).B^(1/4).B^(1/4).B^(1/4)\n"
     ]
    },
    {
     "name": "stderr",
     "output_type": "stream",
     "text": [
      "INFO:root:Haar-expectation cost: 1.1299491073593464\n"
     ]
    }
   ],
   "source": [
    "#test to see expected costs of fractional B gates\n",
    "from src.utils.custom_gates import CustomCostGate\n",
    "from src.hamiltonian import ConversionGainHamiltonian\n",
    "import numpy as np\n",
    "h = ConversionGainHamiltonian()\n",
    "for d in range(1,5):\n",
    "    u = h._construct_U_lambda(3*np.pi/8, np.pi/8)(1/d).full()\n",
    "    u = CustomCostGate(u, f\"B^(1/{d})\", cost=1/d)\n",
    "    gate_set_to_coverage(u)"
   ]
  },
  {
   "cell_type": "code",
   "execution_count": 10,
   "metadata": {},
   "outputs": [
    {
     "name": "stderr",
     "output_type": "stream",
     "text": [
      "INFO:root:==== Haar volumes ====\n",
      "INFO:root:Haar-expectation cost: 3.540254820808025\n",
      "INFO:root:==== Haar volumes ====\n",
      "INFO:root:Haar-expectation cost: 2.041729136984175\n",
      "INFO:root:==== Haar volumes ====\n",
      "INFO:root:Haar-expectation cost: 2.0\n",
      "INFO:root:==== Haar volumes ====\n",
      "INFO:root:Haar-expectation cost: 2.0454225284540524\n",
      "INFO:root:==== Haar volumes ====\n",
      "INFO:root:Haar-expectation cost: 2.0\n",
      "INFO:root:==== Haar volumes ====\n",
      "INFO:root:Haar-expectation cost: 2.041729136984175\n",
      "INFO:root:==== Haar volumes ====\n",
      "INFO:root:Haar-expectation cost: 3.540254820808027\n",
      "INFO:root:==== Haar volumes ====\n",
      "INFO:root:Haar-expectation cost: 3.8395746639269435\n",
      "INFO:root:==== Haar volumes ====\n",
      "INFO:root:Haar-expectation cost: 2.041729136984175\n",
      "INFO:root:==== Haar volumes ====\n",
      "INFO:root:Haar-expectation cost: 3.000000000000001\n",
      "INFO:root:==== Haar volumes ====\n",
      "INFO:root:Haar-expectation cost: 2.041729136984175\n",
      "INFO:root:==== Haar volumes ====\n",
      "INFO:root:Haar-expectation cost: 2.209882636315677\n",
      "INFO:root:==== Haar volumes ====\n",
      "INFO:root:Haar-expectation cost: 2.041729136984175\n",
      "INFO:root:==== Haar volumes ====\n",
      "INFO:root:Haar-expectation cost: 3.000000000000001\n",
      "INFO:root:==== Haar volumes ====\n",
      "INFO:root:Haar-expectation cost: 2.041729136984175\n",
      "INFO:root:==== Haar volumes ====\n",
      "INFO:root:Haar-expectation cost: 2.2098826363156774\n",
      "INFO:root:==== Haar volumes ====\n",
      "INFO:root:Haar-expectation cost: 2.0\n",
      "INFO:root:==== Haar volumes ====\n",
      "INFO:root:Haar-expectation cost: 2.041729136984175\n",
      "INFO:root:==== Haar volumes ====\n",
      "INFO:root:Haar-expectation cost: 3.540254820808025\n",
      "INFO:root:==== Haar volumes ====\n",
      "INFO:root:Haar-expectation cost: 3.8395746639269435\n",
      "INFO:root:==== Haar volumes ====\n",
      "INFO:root:Haar-expectation cost: 3.540254820808025\n",
      "INFO:root:==== Haar volumes ====\n",
      "INFO:root:Haar-expectation cost: 2.041729136984175\n",
      "INFO:root:==== Haar volumes ====\n",
      "INFO:root:Haar-expectation cost: 2.0\n",
      "INFO:root:==== Haar volumes ====\n",
      "INFO:root:Haar-expectation cost: 2.0454225284540533\n",
      "INFO:root:==== Haar volumes ====\n",
      "INFO:root:Haar-expectation cost: 2.0454225284540524\n",
      "INFO:root:==== Haar volumes ====\n",
      "INFO:root:Haar-expectation cost: 2.209882636315677\n",
      "INFO:root:==== Haar volumes ====\n",
      "INFO:root:Haar-expectation cost: 3.8395746639269435\n",
      "INFO:root:==== Haar volumes ====\n",
      "INFO:root:Haar-expectation cost: 0.0\n",
      "INFO:root:==== Haar volumes ====\n",
      "INFO:root:Haar-expectation cost: 3.8395746639269426\n",
      "INFO:root:==== Haar volumes ====\n",
      "INFO:root:Haar-expectation cost: 2.209882636315677\n",
      "INFO:root:==== Haar volumes ====\n",
      "INFO:root:Haar-expectation cost: 2.0454225284540524\n",
      "INFO:root:==== Haar volumes ====\n",
      "INFO:root:Haar-expectation cost: 3.000000000000001\n",
      "INFO:root:==== Haar volumes ====\n",
      "INFO:root:Haar-expectation cost: 2.0\n",
      "INFO:root:==== Haar volumes ====\n",
      "INFO:root:Haar-expectation cost: 2.041729136984175\n",
      "INFO:root:==== Haar volumes ====\n",
      "INFO:root:Haar-expectation cost: 3.540254820808025\n",
      "INFO:root:==== Haar volumes ====\n",
      "INFO:root:Haar-expectation cost: 3.8395746639269426\n",
      "INFO:root:==== Haar volumes ====\n",
      "INFO:root:Haar-expectation cost: 3.540254820808027\n",
      "INFO:root:==== Haar volumes ====\n",
      "INFO:root:Haar-expectation cost: 2.041729136984175\n",
      "INFO:root:==== Haar volumes ====\n",
      "INFO:root:Haar-expectation cost: 2.0\n",
      "INFO:root:==== Haar volumes ====\n",
      "INFO:root:Haar-expectation cost: 2.0454225284540533\n",
      "INFO:root:==== Haar volumes ====\n",
      "INFO:root:Haar-expectation cost: 2.041729136984175\n",
      "INFO:root:==== Haar volumes ====\n",
      "INFO:root:Haar-expectation cost: 3.000000000000001\n",
      "INFO:root:==== Haar volumes ====\n",
      "INFO:root:Haar-expectation cost: 2.041729136984175\n",
      "INFO:root:==== Haar volumes ====\n",
      "INFO:root:Haar-expectation cost: 2.209882636315677\n",
      "INFO:root:==== Haar volumes ====\n",
      "INFO:root:Haar-expectation cost: 2.041729136984175\n",
      "INFO:root:==== Haar volumes ====\n",
      "INFO:root:Haar-expectation cost: 3.000000000000001\n",
      "INFO:root:==== Haar volumes ====\n",
      "INFO:root:Haar-expectation cost: 2.041729136984175\n",
      "INFO:root:==== Haar volumes ====\n",
      "INFO:root:Haar-expectation cost: 2.2098826363156774\n",
      "INFO:root:==== Haar volumes ====\n",
      "INFO:root:Haar-expectation cost: 3.540254820808027\n",
      "INFO:root:==== Haar volumes ====\n",
      "INFO:root:Haar-expectation cost: 2.041729136984175\n",
      "INFO:root:==== Haar volumes ====\n",
      "INFO:root:Haar-expectation cost: 2.0\n",
      "INFO:root:==== Haar volumes ====\n",
      "INFO:root:Haar-expectation cost: 2.0454225284540524\n",
      "INFO:root:==== Haar volumes ====\n",
      "INFO:root:Haar-expectation cost: 2.0\n",
      "INFO:root:==== Haar volumes ====\n",
      "INFO:root:Haar-expectation cost: 2.041729136984175\n",
      "INFO:root:==== Haar volumes ====\n",
      "INFO:root:Haar-expectation cost: 3.540254820808025\n",
      "INFO:root:==== Haar volumes ====\n",
      "INFO:root:Haar-expectation cost: 3.8395746639269435\n",
      "INFO:root:==== Haar volumes ====\n",
      "INFO:root:Haar-expectation cost: 3.8395746639269435\n",
      "INFO:root:==== Haar volumes ====\n",
      "INFO:root:Haar-expectation cost: 2.2098826363156774\n",
      "INFO:root:==== Haar volumes ====\n",
      "INFO:root:Haar-expectation cost: 2.0454225284540533\n",
      "INFO:root:==== Haar volumes ====\n",
      "INFO:root:Haar-expectation cost: 3.000000000000001\n",
      "INFO:root:==== Haar volumes ====\n",
      "INFO:root:Haar-expectation cost: 2.0454225284540533\n",
      "INFO:root:==== Haar volumes ====\n",
      "INFO:root:Haar-expectation cost: 2.2098826363156774\n",
      "INFO:root:==== Haar volumes ====\n",
      "INFO:root:Haar-expectation cost: 3.8395746639269435\n",
      "INFO:root:==== Haar volumes ====\n",
      "INFO:root:Haar-expectation cost: 0.0\n"
     ]
    },
    {
     "data": {
      "image/png": "[encoded data removed]",
      "text/plain": [
       "<Figure size 504x504 with 2 Axes>"
      ]
     },
     "metadata": {
      "needs_background": "light"
     },
     "output_type": "display_data"
    },
    {
     "data": {
      "text/plain": [
       "<matplotlib.image.AxesImage at 0x7ff9acb51a90>"
      ]
     },
     "execution_count": 10,
     "metadata": {},
     "output_type": "execute_result"
    }
   ],
   "source": [
    "#sweep parameters of B gate with t=1 to see how expected haar changes\n",
    "from src.utils.custom_gates import CustomCostGate\n",
    "from src.hamiltonian import ConversionGainHamiltonian\n",
    "from src.utils.polytope_wrap import gate_set_to_coverage\n",
    "import numpy as np\n",
    "h = ConversionGainHamiltonian()\n",
    "data = []\n",
    "for i in range(1,9):\n",
    "    temp_data = []\n",
    "    for j in range(1,9):\n",
    "        u = h._construct_U_lambda(i*np.pi/8, j*np.pi/8)(1).full()\n",
    "        u = CustomCostGate(u, f\"B({i*np.pi/8, j*np.pi/8})\", cost=1)\n",
    "        result = gate_set_to_coverage(u, chatty=False)\n",
    "        temp_data.append(result)\n",
    "    data.append(temp_data) \n",
    "\n",
    "from src.utils.visualize import plotMatrix\n",
    "plotMatrix(np.matrix(data))"
   ]
  },
  {
   "cell_type": "code",
   "execution_count": null,
   "metadata": {},
   "outputs": [],
   "source": [
    "#TODO plot spanning region of the 2.04 gate"
   ]
  },
  {
   "cell_type": "code",
   "execution_count": 9,
   "metadata": {},
   "outputs": [
    {
     "data": {
      "image/png": "[encoded data removed]",
      "text/plain": [
       "<Figure size 504x504 with 2 Axes>"
      ]
     },
     "metadata": {
      "needs_background": "light"
     },
     "output_type": "display_data"
    },
    {
     "data": {
      "image/png": "[encoded data removed]",
      "text/plain": [
       "<Figure size 432x288 with 1 Axes>"
      ]
     },
     "metadata": {
      "needs_background": "light"
     },
     "output_type": "display_data"
    }
   ],
   "source": [
    "from src.utils.custom_gates import CustomCostGate\n",
    "from src.hamiltonian import ConversionGainHamiltonian\n",
    "from src.utils.polytope_wrap import gate_set_to_coverage\n",
    "import numpy as np\n",
    "from src.utils.visualize import plotMatrix\n",
    "h = ConversionGainHamiltonian()\n",
    "i,j = (4,2)\n",
    "u = h._construct_U_lambda(i*np.pi/8, j*np.pi/8)(1).full()\n",
    "plotMatrix(u)\n",
    "# u = CustomCostGate(u, f\"B({i*np.pi/8, j*np.pi/8})\", cost=1)\n",
    "# gate_set_to_coverage(u, chatty=True)\n",
    "from src.utils.visualize import unitary_to_weyl\n",
    "unitary_to_weyl(u)"
   ]
  },
  {
   "cell_type": "code",
   "execution_count": 45,
   "metadata": {},
   "outputs": [],
   "source": [
    "#this doesn't really work but just seeing what would happen if try to minimize expected cost\n",
    "\n",
    "# from src.hamiltonian import ConversionGainHamiltonian\n",
    "# h = ConversionGainHamiltonian()\n",
    "# import numpy as np\n",
    "# gv = [3*np.pi/8, np.pi/8]\n",
    "# import scipy.optimize as opt\n",
    "# def opt_fun(gv):\n",
    "#     return gate_set_to_coverage(h.construct_U(*gv).full())\n",
    "# result = opt.minimize(fun=opt_fun, x0=gv)"
   ]
  }
 ],
 "metadata": {
  "interpreter": {
   "hash": "8458c2db8745e513b658ab31603256ba78a013051ccc1ae9ae2e6e521b9ef2ea"
  },
  "kernelspec": {
   "display_name": "Python 3.8.10 ('decomp_venv': venv)",
   "language": "python",
   "name": "python3"
  },
  "language_info": {
   "codemirror_mode": {
    "name": "ipython",
    "version": 3
   },
   "file_extension": ".py",
   "mimetype": "text/x-python",
   "name": "python",
   "nbconvert_exporter": "python",
   "pygments_lexer": "ipython3",
   "version": "3.8.10"
  },
  "orig_nbformat": 4
 },
 "nbformat": 4,
 "nbformat_minor": 2
}
