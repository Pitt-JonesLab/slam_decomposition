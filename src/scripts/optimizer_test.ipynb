{
 "cells": [
  {
   "cell_type": "code",
   "execution_count": 86,
   "metadata": {},
   "outputs": [],
   "source": [
    "import logging\n",
    "logger = logging.getLogger()\n",
    "logger.setLevel(logging.INFO)\n",
    "\n",
    "import sys\n",
    "sys.path.append(\"../../\")\n",
    "import numpy as np"
   ]
  },
  {
   "cell_type": "code",
   "execution_count": 87,
   "metadata": {},
   "outputs": [],
   "source": [
    "from src.basis import CircuitTemplate\n",
    "from src.utils.custom_gates import RiSwapGate\n",
    "\n",
    "basis = CircuitTemplate(preseed=False, use_polytopes=0, no_exterior_1q=0)\n",
    "basis.spanning_range = range(2,3)"
   ]
  },
  {
   "cell_type": "code",
   "execution_count": 88,
   "metadata": {},
   "outputs": [],
   "source": [
    "from src.cost_function import BasicCost as Cost\n",
    "objective = Cost()\n",
    "\n",
    "from src.cost_function import MakhlinFunctionalCost as AdvancedCost\n",
    "#objective = AdvancedCost()"
   ]
  },
  {
   "cell_type": "code",
   "execution_count": 89,
   "metadata": {},
   "outputs": [],
   "source": [
    "from src.optimizer import TemplateOptimizer\n",
    "optimizer = TemplateOptimizer(basis=basis, objective=objective, use_callback=True, override_fail=True)"
   ]
  },
  {
   "cell_type": "code",
   "execution_count": 90,
   "metadata": {},
   "outputs": [
    {
     "name": "stderr",
     "output_type": "stream",
     "text": [
      "WARNING:root:This sampler only works for \\sqrt[2]iSwap\n",
      "INFO:root:Starting sample iter 0\n",
      "INFO:root:Begin search: (0.71028244, 0.11334628, 0.02334538)\n",
      "INFO:root:Starting opt on template size 2\n",
      "INFO:root:Break on cycle 2\n",
      "INFO:root:Loss=8.500955495094331e-11\n",
      "INFO:root:Success: (0.71028244, 0.11334628, 0.02334538)\n",
      "WARNING:root:This sampler only works for \\sqrt[2]iSwap\n",
      "INFO:root:Starting sample iter 1\n",
      "INFO:root:Begin search: (0.43788992, 0.37620284, 0.02021303)\n",
      "INFO:root:Starting opt on template size 2\n",
      "INFO:root:Break on cycle 2\n",
      "INFO:root:Loss=7.89259768652073e-11\n",
      "INFO:root:Success: (0.43788992, 0.37620284, 0.02021303)\n",
      "WARNING:root:This sampler only works for \\sqrt[2]iSwap\n",
      "INFO:root:Starting sample iter 2\n",
      "INFO:root:Begin search: (0.53215427, 0.26371115, 0.1463595)\n",
      "INFO:root:Starting opt on template size 2\n",
      "INFO:root:Loss=1.225972656726526e-10\n",
      "INFO:root:Fail: (0.53215427, 0.26371115, 0.1463595), Alternative: (0.53215245, 0.26371087, 0.14635825)\n",
      "WARNING:root:This sampler only works for \\sqrt[2]iSwap\n",
      "INFO:root:Starting sample iter 3\n",
      "INFO:root:Begin search: (0.41893503, 0.16052811, 0.01158052)\n",
      "INFO:root:Starting opt on template size 2\n",
      "INFO:root:Loss=1.1942513644669361e-10\n",
      "INFO:root:Fail: (0.41893503, 0.16052811, 0.01158052), Alternative: (0.41893557, 0.16052702, 0.01157657)\n",
      "WARNING:root:This sampler only works for \\sqrt[2]iSwap\n",
      "INFO:root:Starting sample iter 4\n",
      "INFO:root:Begin search: (0.51587277, 0.21424332, 0.02191536)\n",
      "INFO:root:Starting opt on template size 2\n",
      "INFO:root:Loss=1.6461987328852956e-10\n",
      "INFO:root:Fail: (0.51587277, 0.21424332, 0.02191536), Alternative: (0.51586938, 0.21424268, 0.0219172)\n",
      "WARNING:root:This sampler only works for \\sqrt[2]iSwap\n",
      "INFO:root:Starting sample iter 5\n",
      "INFO:root:Begin search: (0.35531412, 0.1896686, 0.04498609)\n",
      "INFO:root:Starting opt on template size 2\n",
      "INFO:root:Break on cycle 2\n",
      "INFO:root:Loss=9.755951602130608e-11\n",
      "INFO:root:Success: (0.35531412, 0.1896686, 0.04498609)\n",
      "WARNING:root:This sampler only works for \\sqrt[2]iSwap\n",
      "INFO:root:Starting sample iter 6\n",
      "INFO:root:Begin search: (0.49968853, 0.16385849, 0.08616836)\n",
      "INFO:root:Starting opt on template size 2\n",
      "INFO:root:Loss=2.711781910136324e-10\n",
      "INFO:root:Fail: (0.49968853, 0.16385849, 0.08616836), Alternative: (0.49968315, 0.16385994, 0.08616984)\n",
      "WARNING:root:This sampler only works for \\sqrt[2]iSwap\n",
      "INFO:root:Starting sample iter 7\n",
      "INFO:root:Begin search: (0.48511847, 0.11524029, 0.03686076)\n",
      "INFO:root:Starting opt on template size 2\n",
      "INFO:root:Break on cycle 2\n",
      "INFO:root:Loss=8.12323541765636e-11\n",
      "INFO:root:Success: (0.48511847, 0.11524029, 0.03686076)\n",
      "WARNING:root:This sampler only works for \\sqrt[2]iSwap\n",
      "INFO:root:Starting sample iter 8\n",
      "INFO:root:Begin search: (0.52701815, 0.31958351, 0.11554675)\n",
      "INFO:root:Starting opt on template size 2\n",
      "INFO:root:Break on cycle 2\n",
      "INFO:root:Loss=7.475953189839402e-11\n",
      "INFO:root:Success: (0.52701815, 0.31958351, 0.11554675)\n",
      "WARNING:root:This sampler only works for \\sqrt[2]iSwap\n",
      "INFO:root:Starting sample iter 9\n",
      "INFO:root:Begin search: (0.45380596, 0.29161694, 0.11484194)\n",
      "INFO:root:Starting opt on template size 2\n",
      "INFO:root:Break on cycle 2\n",
      "INFO:root:Loss=7.673728319446127e-11\n",
      "INFO:root:Success: (0.45380596, 0.29161694, 0.11484194)\n",
      "WARNING:root:This sampler only works for \\sqrt[2]iSwap\n",
      "INFO:root:Starting sample iter 10\n",
      "INFO:root:Begin search: (0.61914132, 0.20529832, 0.02133026)\n",
      "INFO:root:Starting opt on template size 2\n",
      "INFO:root:Break on cycle 2\n",
      "INFO:root:Loss=9.013567670024258e-11\n",
      "INFO:root:Success: (0.61914132, 0.20529832, 0.02133026)\n",
      "WARNING:root:This sampler only works for \\sqrt[2]iSwap\n",
      "INFO:root:Starting sample iter 11\n",
      "INFO:root:Begin search: (0.47884624, 0.13935459, 0.08734393)\n",
      "INFO:root:Starting opt on template size 2\n",
      "INFO:root:Break on cycle 2\n",
      "INFO:root:Loss=1.726241372068671e-11\n",
      "INFO:root:Success: (0.47884624, 0.13935459, 0.08734393)\n",
      "WARNING:root:This sampler only works for \\sqrt[2]iSwap\n",
      "INFO:root:Starting sample iter 12\n",
      "INFO:root:Begin search: (0.43716394, 0.35815494, 0.02482316)\n",
      "INFO:root:Starting opt on template size 2\n",
      "INFO:root:Loss=1.2999823439940883e-10\n",
      "INFO:root:Fail: (0.43716394, 0.35815494, 0.02482316), Alternative: (0.43716012, 0.35815448, 0.02482315)\n",
      "WARNING:root:This sampler only works for \\sqrt[2]iSwap\n",
      "INFO:root:Starting sample iter 13\n",
      "INFO:root:Begin search: (0.38764121, 0.22550218, 0.04970162)\n",
      "INFO:root:Starting opt on template size 2\n",
      "INFO:root:Break on cycle 2\n",
      "INFO:root:Loss=3.386513292014115e-11\n",
      "INFO:root:Success: (0.38764121, 0.22550218, 0.04970162)\n",
      "WARNING:root:This sampler only works for \\sqrt[2]iSwap\n",
      "INFO:root:Starting sample iter 14\n",
      "INFO:root:Begin search: (0.44529872, 0.38063219, 0.03272929)\n",
      "INFO:root:Starting opt on template size 2\n",
      "INFO:root:Break on cycle 2\n",
      "INFO:root:Loss=2.024225231878063e-11\n",
      "INFO:root:Success: (0.44529872, 0.38063219, 0.03272929)\n",
      "WARNING:root:This sampler only works for \\sqrt[2]iSwap\n",
      "INFO:root:Starting sample iter 15\n",
      "INFO:root:Begin search: (0.57780206, 0.32404393, 0.05117618)\n",
      "INFO:root:Starting opt on template size 2\n",
      "INFO:root:Loss=1.7651013983766006e-10\n",
      "INFO:root:Fail: (0.57780206, 0.32404393, 0.05117618), Alternative: (0.57780611, 0.32404741, 0.05117707)\n",
      "WARNING:root:This sampler only works for \\sqrt[2]iSwap\n",
      "INFO:root:Starting sample iter 16\n",
      "INFO:root:Begin search: (0.41254303, 0.21494777, 0.06489581)\n",
      "INFO:root:Starting opt on template size 2\n",
      "INFO:root:Loss=1.3064749282420962e-10\n",
      "INFO:root:Fail: (0.41254303, 0.21494777, 0.06489581), Alternative: (0.41254246, 0.21494555, 0.06489658)\n",
      "WARNING:root:This sampler only works for \\sqrt[2]iSwap\n",
      "INFO:root:Starting sample iter 17\n",
      "INFO:root:Begin search: (0.59237494, 0.27222417, 0.05233507)\n",
      "INFO:root:Starting opt on template size 2\n",
      "INFO:root:Break on cycle 2\n",
      "INFO:root:Loss=9.203970918747473e-11\n",
      "INFO:root:Success: (0.59237494, 0.27222417, 0.05233507)\n",
      "WARNING:root:This sampler only works for \\sqrt[2]iSwap\n",
      "INFO:root:Starting sample iter 18\n",
      "INFO:root:Begin search: (0.30315091, 0.25622439, 0.02600507)\n",
      "INFO:root:Starting opt on template size 2\n",
      "INFO:root:Loss=1.4401591030832606e-10\n",
      "INFO:root:Fail: (0.30315091, 0.25622439, 0.02600507), Alternative: (0.30315159, 0.2562253, 0.02600798)\n",
      "WARNING:root:This sampler only works for \\sqrt[2]iSwap\n",
      "INFO:root:Starting sample iter 19\n",
      "INFO:root:Begin search: (0.36042862, 0.25471638, 0.02632885)\n",
      "INFO:root:Starting opt on template size 2\n",
      "INFO:root:Break on cycle 2\n",
      "INFO:root:Loss=4.4359627082712905e-11\n",
      "INFO:root:Success: (0.36042862, 0.25471638, 0.02632885)\n"
     ]
    }
   ],
   "source": [
    "from src.sampler import Haar2Sample as HaarSample\n",
    "from src.sampler import GateSample\n",
    "sampler = HaarSample(seed=0,n_samples=20)\n",
    "from qiskit.circuit.library.standard_gates import SwapGate\n",
    "#sampler = GateSample(SwapGate())\n",
    "ret = optimizer.approximate_from_distribution(sampler=sampler)"
   ]
  },
  {
   "cell_type": "code",
   "execution_count": 100,
   "metadata": {},
   "outputs": [
    {
     "data": {
      "text/plain": [
       "[106,\n",
       " 106,\n",
       " 178,\n",
       " 178,\n",
       " 178,\n",
       " 259,\n",
       " 259,\n",
       " 259,\n",
       " 259,\n",
       " 259,\n",
       " 304,\n",
       " 304,\n",
       " 304,\n",
       " 304,\n",
       " 304,\n",
       " 408,\n",
       " 408,\n",
       " 408,\n",
       " 408,\n",
       " 408,\n",
       " 42,\n",
       " 405,\n",
       " 405,\n",
       " 405,\n",
       " 405,\n",
       " 405,\n",
       " 90,\n",
       " 157,\n",
       " 157,\n",
       " 157,\n",
       " 150,\n",
       " 150,\n",
       " 150,\n",
       " 43,\n",
       " 123,\n",
       " 123,\n",
       " 314,\n",
       " 314,\n",
       " 314,\n",
       " 314,\n",
       " 314,\n",
       " 46,\n",
       " 102,\n",
       " 102,\n",
       " 244,\n",
       " 244,\n",
       " 244,\n",
       " 244,\n",
       " 244,\n",
       " 256,\n",
       " 256,\n",
       " 256,\n",
       " 256,\n",
       " 256,\n",
       " 243,\n",
       " 243,\n",
       " 243,\n",
       " 243,\n",
       " 243,\n",
       " 290,\n",
       " 290,\n",
       " 290,\n",
       " 290,\n",
       " 290,\n",
       " 336,\n",
       " 336,\n",
       " 336,\n",
       " 336,\n",
       " 336]"
      ]
     },
     "execution_count": 100,
     "metadata": {},
     "output_type": "execute_result"
    }
   ],
   "source": [
    "#average convergence\n",
    "np.average([min([fk for fk in el if fk >=0]) for el in ret[0]])\n",
    "#average training iters\n",
    "[len(el[2:]) for el in ret[0]]"
   ]
  },
  {
   "cell_type": "code",
   "execution_count": 92,
   "metadata": {},
   "outputs": [],
   "source": [
    "%matplotlib inline"
   ]
  },
  {
   "cell_type": "code",
   "execution_count": 93,
   "metadata": {},
   "outputs": [
    {
     "data": {
      "image/png": "[encoded data removed]",
      "text/plain": [
       "<Figure size 432x288 with 1 Axes>"
      ]
     },
     "metadata": {
      "needs_background": "light"
     },
     "output_type": "display_data"
    }
   ],
   "source": [
    "from src.utils.visualize import optimizer_training_plot, training_loss_plot\n",
    "import matplotlib.pyplot as plt\n",
    "plt.close()\n",
    "fig = plt.figure(figsize=(6,4))\n",
    "axs = fig.add_subplot(111)\n",
    "fig = training_loss_plot(axs, ret[0][0])\n",
    "plt.savefig(\"/home/evm9/decomposition_EM/images/fig1.pdf\", facecolor='white')\n",
    "plt.savefig(\"/home/evm9/decomposition_EM/images/fig1.png\", facecolor='white')"
   ]
  }
 ],
 "metadata": {
  "kernelspec": {
   "display_name": "Python 3.8.10 ('decomp_venv': venv)",
   "language": "python",
   "name": "python3"
  },
  "language_info": {
   "codemirror_mode": {
    "name": "ipython",
    "version": 3
   },
   "file_extension": ".py",
   "mimetype": "text/x-python",
   "name": "python",
   "nbconvert_exporter": "python",
   "pygments_lexer": "ipython3",
   "version": "3.8.10"
  },
  "orig_nbformat": 4,
  "vscode": {
   "interpreter": {
    "hash": "8458c2db8745e513b658ab31603256ba78a013051ccc1ae9ae2e6e521b9ef2ea"
   }
  }
 },
 "nbformat": 4,
 "nbformat_minor": 2
}
