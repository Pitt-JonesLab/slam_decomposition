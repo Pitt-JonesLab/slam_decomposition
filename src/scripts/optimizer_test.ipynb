{
 "cells": [
  {
   "cell_type": "code",
   "execution_count": 1,
   "metadata": {},
   "outputs": [],
   "source": [
    "import logging\n",
    "logger = logging.getLogger()\n",
    "logger.setLevel(logging.INFO)\n",
    "\n",
    "import sys\n",
    "sys.path.append(\"../../\")\n",
    "import numpy as np"
   ]
  },
  {
   "cell_type": "code",
   "execution_count": 2,
   "metadata": {},
   "outputs": [],
   "source": [
    "from src.basis import CircuitTemplate\n",
    "basis = CircuitTemplate(preseed=False, use_polytopes=False, no_exterior_1q=0)\n",
    "basis.spanning_range = range(2,3)"
   ]
  },
  {
   "cell_type": "code",
   "execution_count": 3,
   "metadata": {},
   "outputs": [],
   "source": [
    "from src.cost_function import BasicCost as Cost\n",
    "objective = Cost()"
   ]
  },
  {
   "cell_type": "code",
   "execution_count": 4,
   "metadata": {},
   "outputs": [],
   "source": [
    "from src.optimizer import TemplateOptimizer\n",
    "optimizer = TemplateOptimizer(basis=basis, objective=objective, use_callback=False)"
   ]
  },
  {
   "cell_type": "code",
   "execution_count": 5,
   "metadata": {},
   "outputs": [
    {
     "name": "stderr",
     "output_type": "stream",
     "text": [
      "WARNING:root:This sampler only works for \\sqrt[2]iSwap\n",
      "INFO:root:Starting sample iter 0\n",
      "INFO:root:Begin search: (0.54025446, 0.28641701, 0.07022398)\n",
      "INFO:root:Starting opt on template size 2\n",
      "INFO:root:Break on cycle 2\n",
      "INFO:root:Loss=8.318057354017583e-11\n",
      "INFO:root:Success: (0.54025446, 0.28641701, 0.07022398)\n"
     ]
    }
   ],
   "source": [
    "from src.sampler import Haar2Sample as HaarSample\n",
    "sampler = HaarSample(n_samples=1)\n",
    "ret = optimizer.approximate_from_distribution(sampler=sampler)"
   ]
  },
  {
   "cell_type": "code",
   "execution_count": 6,
   "metadata": {},
   "outputs": [],
   "source": [
    "%matplotlib inline"
   ]
  },
  {
   "cell_type": "code",
   "execution_count": 7,
   "metadata": {},
   "outputs": [
    {
     "data": {
      "text/plain": [
       "<Figure size 432x0 with 0 Axes>"
      ]
     },
     "execution_count": 7,
     "metadata": {},
     "output_type": "execute_result"
    },
    {
     "data": {
      "text/plain": [
       "<Figure size 432x0 with 0 Axes>"
      ]
     },
     "metadata": {},
     "output_type": "display_data"
    }
   ],
   "source": [
    "from src.utils.visualize import optimizer_training_plot\n",
    "optimizer_training_plot(*ret)"
   ]
  }
 ],
 "metadata": {
  "kernelspec": {
   "display_name": "Python 3.8.10 ('decomp_venv': venv)",
   "language": "python",
   "name": "python3"
  },
  "language_info": {
   "codemirror_mode": {
    "name": "ipython",
    "version": 3
   },
   "file_extension": ".py",
   "mimetype": "text/x-python",
   "name": "python",
   "nbconvert_exporter": "python",
   "pygments_lexer": "ipython3",
   "version": "3.8.10"
  },
  "orig_nbformat": 4,
  "vscode": {
   "interpreter": {
    "hash": "8458c2db8745e513b658ab31603256ba78a013051ccc1ae9ae2e6e521b9ef2ea"
   }
  }
 },
 "nbformat": 4,
 "nbformat_minor": 2
}
