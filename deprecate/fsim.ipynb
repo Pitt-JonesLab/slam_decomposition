{
 "cells": [
  {
   "cell_type": "code",
   "execution_count": 9,
   "metadata": {},
   "outputs": [],
   "source": [
    "import logging\n",
    "logger = logging.getLogger()\n",
    "logger.setLevel(logging.INFO)\n",
    "\n",
    "import sys\n",
    "sys.path.append(\"../../../\")\n",
    "\n",
    "import numpy as np\n",
    "SPEED_LIMIT = np.pi/2"
   ]
  },
  {
   "cell_type": "code",
   "execution_count": 10,
   "metadata": {},
   "outputs": [
    {
     "name": "stderr",
     "output_type": "stream",
     "text": [
      "INFO:root:('theta=1pi/6', 'phi=1pi/6')\n",
      "INFO:root:==== Working to build a set of covering polytopes ====\n",
      "INFO:root:==== Haar volumes ====\n",
      "INFO:root:Haar-expectation cost: 3.263533584618538\n",
      "INFO:root:('theta=1pi/6', 'phi=2pi/6')\n",
      "INFO:root:==== Working to build a set of covering polytopes ====\n",
      "INFO:root:==== Haar volumes ====\n",
      "INFO:root:Haar-expectation cost: 4.441917398633472\n",
      "INFO:root:('theta=1pi/6', 'phi=3pi/6')\n",
      "INFO:root:==== Working to build a set of covering polytopes ====\n",
      "INFO:root:==== Haar volumes ====\n",
      "INFO:root:Haar-expectation cost: 3.0923351827359733\n",
      "INFO:root:('theta=1pi/6', 'phi=4pi/6')\n",
      "INFO:root:==== Working to build a set of covering polytopes ====\n",
      "INFO:root:==== Haar volumes ====\n",
      "INFO:root:Haar-expectation cost: 2.503872946744405\n",
      "INFO:root:('theta=1pi/6', 'phi=5pi/6')\n",
      "INFO:root:==== Working to build a set of covering polytopes ====\n",
      "INFO:root:==== Haar volumes ====\n",
      "INFO:root:Haar-expectation cost: 2.10702995951045\n",
      "INFO:root:('theta=2pi/6', 'phi=1pi/6')\n",
      "INFO:root:==== Working to build a set of covering polytopes ====\n",
      "INFO:root:==== Haar volumes ====\n",
      "INFO:root:Haar-expectation cost: 2.10702995951045\n",
      "INFO:root:('theta=2pi/6', 'phi=2pi/6')\n",
      "INFO:root:==== Working to build a set of covering polytopes ====\n",
      "INFO:root:==== Haar volumes ====\n",
      "INFO:root:Haar-expectation cost: 2.503872946744405\n",
      "INFO:root:('theta=2pi/6', 'phi=3pi/6')\n",
      "INFO:root:==== Working to build a set of covering polytopes ====\n",
      "INFO:root:==== Haar volumes ====\n",
      "INFO:root:Haar-expectation cost: 3.054108241323724\n",
      "INFO:root:('theta=2pi/6', 'phi=4pi/6')\n",
      "INFO:root:==== Working to build a set of covering polytopes ====\n",
      "INFO:root:==== Haar volumes ====\n",
      "INFO:root:Haar-expectation cost: 4.411835552289101\n",
      "INFO:root:('theta=2pi/6', 'phi=5pi/6')\n",
      "INFO:root:==== Working to build a set of covering polytopes ====\n",
      "INFO:root:==== Haar volumes ====\n",
      "INFO:root:Haar-expectation cost: 3.240322765512005\n",
      "INFO:root:('theta=3pi/6', 'phi=1pi/6')\n",
      "INFO:root:==== Working to build a set of covering polytopes ====\n",
      "INFO:root:==== Haar volumes ====\n",
      "INFO:root:Haar-expectation cost: 3.0001374571237025\n",
      "INFO:root:('theta=3pi/6', 'phi=2pi/6')\n",
      "INFO:root:==== Working to build a set of covering polytopes ====\n",
      "INFO:root:==== Haar volumes ====\n",
      "INFO:root:Haar-expectation cost: 3.0401173636843204\n",
      "INFO:root:('theta=3pi/6', 'phi=3pi/6')\n",
      "INFO:root:==== Working to build a set of covering polytopes ====\n",
      "INFO:root:==== Haar volumes ====\n",
      "INFO:root:Haar-expectation cost: 3.5000000000000027\n",
      "INFO:root:('theta=3pi/6', 'phi=4pi/6')\n",
      "INFO:root:==== Working to build a set of covering polytopes ====\n",
      "INFO:root:==== Haar volumes ====\n",
      "INFO:root:Haar-expectation cost: 4.639983791935886\n",
      "INFO:root:('theta=3pi/6', 'phi=5pi/6')\n",
      "INFO:root:==== Working to build a set of covering polytopes ====\n",
      "INFO:root:==== Haar volumes ====\n",
      "INFO:root:Haar-expectation cost: 8.594506405339164\n",
      "INFO:root:('theta=4pi/6', 'phi=1pi/6')\n",
      "INFO:root:==== Working to build a set of covering polytopes ====\n",
      "INFO:root:==== Haar volumes ====\n",
      "INFO:root:Haar-expectation cost: 2.10702995951045\n",
      "INFO:root:('theta=4pi/6', 'phi=2pi/6')\n",
      "INFO:root:==== Working to build a set of covering polytopes ====\n",
      "INFO:root:==== Haar volumes ====\n",
      "INFO:root:Haar-expectation cost: 2.503872946744405\n",
      "INFO:root:('theta=4pi/6', 'phi=3pi/6')\n",
      "INFO:root:==== Working to build a set of covering polytopes ====\n",
      "INFO:root:==== Haar volumes ====\n",
      "INFO:root:Haar-expectation cost: 3.054108241323724\n",
      "INFO:root:('theta=4pi/6', 'phi=4pi/6')\n",
      "INFO:root:==== Working to build a set of covering polytopes ====\n",
      "INFO:root:==== Haar volumes ====\n",
      "INFO:root:Haar-expectation cost: 4.411835552289101\n",
      "INFO:root:('theta=4pi/6', 'phi=5pi/6')\n",
      "INFO:root:==== Working to build a set of covering polytopes ====\n",
      "INFO:root:==== Haar volumes ====\n",
      "INFO:root:Haar-expectation cost: 3.240322765512005\n",
      "INFO:root:('theta=5pi/6', 'phi=1pi/6')\n",
      "INFO:root:==== Working to build a set of covering polytopes ====\n",
      "INFO:root:==== Haar volumes ====\n",
      "INFO:root:Haar-expectation cost: 3.263533584618538\n",
      "INFO:root:('theta=5pi/6', 'phi=2pi/6')\n",
      "INFO:root:==== Working to build a set of covering polytopes ====\n",
      "INFO:root:==== Haar volumes ====\n",
      "INFO:root:Haar-expectation cost: 4.441917398633472\n",
      "INFO:root:('theta=5pi/6', 'phi=3pi/6')\n",
      "INFO:root:==== Working to build a set of covering polytopes ====\n",
      "INFO:root:==== Haar volumes ====\n",
      "INFO:root:Haar-expectation cost: 3.0923351827359733\n",
      "INFO:root:('theta=5pi/6', 'phi=4pi/6')\n",
      "INFO:root:==== Working to build a set of covering polytopes ====\n",
      "INFO:root:==== Haar volumes ====\n",
      "INFO:root:Haar-expectation cost: 2.503872946744405\n",
      "INFO:root:('theta=5pi/6', 'phi=5pi/6')\n",
      "INFO:root:==== Working to build a set of covering polytopes ====\n",
      "INFO:root:==== Haar volumes ====\n",
      "INFO:root:Haar-expectation cost: 2.10702995951045\n"
     ]
    }
   ],
   "source": [
    "#test expected cost of fsim\n",
    "#sweep parameters of fSim gate with t=1 to see how expected haar changes\n",
    "#notice that the 8.59 is the worst, but also is very close to SWAP\n",
    "from src.utils.custom_gates import SYC, FSim\n",
    "from src.utils.custom_gates import CustomCostGate\n",
    "from src.utils.polytope_wrap import gate_set_to_haar_expectation\n",
    "\n",
    "data = []\n",
    "labels = []\n",
    "n_theta = 6\n",
    "n_phi = 6\n",
    "for i in range(1,n_theta+1):\n",
    "    temp_data = []\n",
    "    temp_labels = []\n",
    "    for j in range(1,n_phi+1):\n",
    "            \n",
    "        temp_labels.append((f\"theta={i}pi/{n_theta}\", f\"phi={j}pi/{n_phi}\"))\n",
    "        logging.info(temp_labels[-1])\n",
    "\n",
    "        # if i < j: #we might use this depending on whether the results are symmetric\n",
    "        #     temp_data.append(0)\n",
    "        #     continue\n",
    "\n",
    "        cost = sum([i*np.pi/n_theta, j*np.pi/n_phi])/SPEED_LIMIT\n",
    "        u = FSim(theta=i*np.pi/n_theta, phi=j*np.pi/n_phi).to_matrix()\n",
    "        u = CustomCostGate(u, f\"fSim({i*np.pi/n_theta, j*np.pi/n_phi})\", cost=1)\n",
    "\n",
    "        result = gate_set_to_haar_expectation(u, chatty=False)\n",
    "        temp_data.append(result)\n",
    "        \n",
    "    labels.append(temp_labels)\n",
    "    data.append(temp_data) "
   ]
  },
  {
   "cell_type": "code",
   "execution_count": 11,
   "metadata": {},
   "outputs": [
    {
     "data": {
      "image/png": "[encoded data removed]",
      "text/plain": [
       "<Figure size 504x504 with 2 Axes>"
      ]
     },
     "metadata": {
      "needs_background": "light"
     },
     "output_type": "display_data"
    }
   ],
   "source": [
    "from src.utils.visualize import plotHamiltonianSweep\n",
    "plotHamiltonianSweep(np.matrix(data), title=\"FSim E[Haar]: unit gate count\", labels=labels, vmax=np.amax(data));"
   ]
  }
 ],
 "metadata": {
  "kernelspec": {
   "display_name": "Python 3.8.10 ('decomp_venv': venv)",
   "language": "python",
   "name": "python3"
  },
  "language_info": {
   "codemirror_mode": {
    "name": "ipython",
    "version": 3
   },
   "file_extension": ".py",
   "mimetype": "text/x-python",
   "name": "python",
   "nbconvert_exporter": "python",
   "pygments_lexer": "ipython3",
   "version": "3.8.10"
  },
  "orig_nbformat": 4,
  "vscode": {
   "interpreter": {
    "hash": "8458c2db8745e513b658ab31603256ba78a013051ccc1ae9ae2e6e521b9ef2ea"
   }
  }
 },
 "nbformat": 4,
 "nbformat_minor": 2
}
