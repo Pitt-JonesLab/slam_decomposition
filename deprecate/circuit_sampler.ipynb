{
 "cells": [
  {
   "cell_type": "code",
   "execution_count": 20,
   "metadata": {},
   "outputs": [],
   "source": [
    "import logging\n",
    "logger = logging.getLogger()\n",
    "logger.setLevel(logging.INFO)\n",
    "\n",
    "import sys\n",
    "sys.path.append(\"../../\")"
   ]
  },
  {
   "cell_type": "code",
   "execution_count": 21,
   "metadata": {},
   "outputs": [],
   "source": [
    "from src.basis import CustomCostCircuitTemplate\n",
    "from src.utils.custom_gates import RiSwapGate, CustomCostGate\n",
    "from src.cost_function import BasicCost\n",
    "from src.optimizer import TemplateOptimizer\n",
    "\n",
    "# gate2 = CustomCostGate.from_gate(RiSwapGate(1/3), 1/3)\n",
    "gate = CustomCostGate.from_gate(RiSwapGate(1/2), 1/2)\n",
    "basis = CustomCostCircuitTemplate(base_gates=[gate])\n",
    "#basis.clear_all_save_data()\n",
    "\n",
    "objective = BasicCost()\n",
    "\n",
    "optimizer = TemplateOptimizer(basis=basis, objective=objective, use_callback=True)"
   ]
  },
  {
   "cell_type": "code",
   "execution_count": 32,
   "metadata": {},
   "outputs": [
    {
     "name": "stderr",
     "output_type": "stream",
     "text": [
      "INFO:qiskit.transpiler.runningpassmanager:Pass: Collect2qBlocks - 0.19646 (ms)\n",
      "INFO:qiskit.transpiler.runningpassmanager:Pass: ConsolidateBlocks - 16.12997 (ms)\n",
      "INFO:root:Created sampler with 12 2Q gates\n",
      "INFO:root:Starting sample iter 0\n",
      "INFO:root:Found saved: (0.75, 0.0, 0.0)\n",
      "INFO:root:Starting sample iter 1\n",
      "INFO:root:Found saved: (0.5, 0.5, 0.5)\n",
      "INFO:root:Starting sample iter 2\n",
      "INFO:root:Found saved: (0.875, -0.0, 0.0)\n",
      "INFO:root:Starting sample iter 3\n",
      "INFO:root:Found saved: (0.25, 0.0, 0.0)\n",
      "INFO:root:Starting sample iter 4\n",
      "INFO:root:Found saved: (0.5, 0.5, 0.5)\n",
      "INFO:root:Starting sample iter 5\n",
      "INFO:root:Monodromy found needs 3 basis applications\n",
      "INFO:root:Preseed from neighbor: (0.5, 0.5, 0.5)\n",
      "INFO:root:Starting sample iter 6\n",
      "INFO:root:Found saved: (0.875, -0.0, 0.0)\n",
      "INFO:root:Starting sample iter 7\n",
      "INFO:root:Found saved: (0.25, 0.0, 0.0)\n",
      "INFO:root:Starting sample iter 8\n",
      "INFO:root:Found saved: (0.5, 0.5, 0.5)\n",
      "INFO:root:Starting sample iter 9\n",
      "INFO:root:Found saved: (0.5, 0.5, 0.5)\n",
      "INFO:root:Starting sample iter 10\n",
      "INFO:root:Found saved: (0.5, 0.5, 0.5)\n",
      "INFO:root:Starting sample iter 11\n",
      "INFO:root:Found saved: (0.5, 0.5, 0.5)\n",
      "INFO:root:Total circuit pulse cost: 15.5\n",
      "INFO:root:Average gate pulse cost: 1.2916666666666667\n"
     ]
    }
   ],
   "source": [
    "from src.sampler import CircuitSample\n",
    "from qiskit.circuit.library.basis_change import QFT\n",
    "from qiskit import transpile\n",
    "from qiskit.test.mock import FakeVigoV2\n",
    "qc = QFT(4)\n",
    "logger.setLevel(logging.CRITICAL) #turn off to avoid unnecessary messages\n",
    "qc = transpile(qc, coupling_map=FakeVigoV2().coupling_map)\n",
    "logger.setLevel(logging.INFO) #turn back on\n",
    "sampler = CircuitSample(qc)\n",
    "#optimizer.approximate_from_distribution(sampler=sampler) #pretrains\n",
    "ret = optimizer.cost_from_distribution(sampler=sampler)\n",
    "\n",
    "#notice the cost is not always the same, because #swaps not always the same"
   ]
  }
 ],
 "metadata": {
  "interpreter": {
   "hash": "8458c2db8745e513b658ab31603256ba78a013051ccc1ae9ae2e6e521b9ef2ea"
  },
  "kernelspec": {
   "display_name": "Python 3.8.10 ('decomp_venv': venv)",
   "language": "python",
   "name": "python3"
  },
  "language_info": {
   "codemirror_mode": {
    "name": "ipython",
    "version": 3
   },
   "file_extension": ".py",
   "mimetype": "text/x-python",
   "name": "python",
   "nbconvert_exporter": "python",
   "pygments_lexer": "ipython3",
   "version": "3.8.10"
  },
  "orig_nbformat": 4
 },
 "nbformat": 4,
 "nbformat_minor": 2
}
