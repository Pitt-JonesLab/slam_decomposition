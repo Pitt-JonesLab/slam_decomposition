{
 "cells": [
  {
   "cell_type": "code",
   "execution_count": 1,
   "metadata": {},
   "outputs": [],
   "source": [
    "import logging\n",
    "logger = logging.getLogger()\n",
    "logger.setLevel(logging.INFO)\n",
    "\n",
    "import sys\n",
    "sys.path.append(\"../../\")\n",
    "\n",
    "import numpy as np"
   ]
  },
  {
   "cell_type": "code",
   "execution_count": 2,
   "metadata": {},
   "outputs": [
    {
     "ename": "KeyboardInterrupt",
     "evalue": "",
     "output_type": "error",
     "traceback": [
      "\u001b[0;31m---------------------------------------------------------------------------\u001b[0m",
      "\u001b[0;31mKeyboardInterrupt\u001b[0m                         Traceback (most recent call last)",
      "\u001b[1;32m/home/evm9/decomposition_EM/src/scripts/snail_death_haar.ipynb Cell 2\u001b[0m in \u001b[0;36m<cell line: 1>\u001b[0;34m()\u001b[0m\n\u001b[0;32m----> <a href='vscode-notebook-cell://ssh-remote%2B7b22686f73744e616d65223a224f707469706c6578227d/home/evm9/decomposition_EM/src/scripts/snail_death_haar.ipynb#W1sdnNjb2RlLXJlbW90ZQ%3D%3D?line=0'>1</a>\u001b[0m \u001b[39mfrom\u001b[39;00m \u001b[39mchao_checkDeath\u001b[39;00m \u001b[39mimport\u001b[39;00m get_speedlimit\n\u001b[1;32m      <a href='vscode-notebook-cell://ssh-remote%2B7b22686f73744e616d65223a224f707469706c6578227d/home/evm9/decomposition_EM/src/scripts/snail_death_haar.ipynb#W1sdnNjb2RlLXJlbW90ZQ%3D%3D?line=1'>2</a>\u001b[0m \u001b[39mfrom\u001b[39;00m \u001b[39msrc\u001b[39;00m\u001b[39m.\u001b[39;00m\u001b[39mutils\u001b[39;00m\u001b[39m.\u001b[39;00m\u001b[39mpolytope_wrap\u001b[39;00m \u001b[39mimport\u001b[39;00m gate_set_to_haar_expectation\n",
      "File \u001b[0;32m~/decomposition_EM/src/scripts/../../chao_checkDeath.py:1\u001b[0m, in \u001b[0;36m<module>\u001b[0;34m\u001b[0m\n\u001b[0;32m----> 1\u001b[0m \u001b[39mimport\u001b[39;00m \u001b[39mmatplotlib\u001b[39;00m\u001b[39m.\u001b[39;00m\u001b[39mpyplot\u001b[39;00m \u001b[39mas\u001b[39;00m \u001b[39mplt\u001b[39;00m\n\u001b[1;32m      2\u001b[0m \u001b[39mimport\u001b[39;00m \u001b[39mnumpy\u001b[39;00m \u001b[39mas\u001b[39;00m \u001b[39mnp\u001b[39;00m\n\u001b[1;32m      3\u001b[0m \u001b[39m# Go to Chao's HaPiCodes repo under pulseAndQueueDev branch to install these data processing modules\u001b[39;00m\n\u001b[1;32m      4\u001b[0m \u001b[39m# from HaPiCodes.data_process import fittingAndDataProcess as f\u001b[39;00m\n\u001b[1;32m      5\u001b[0m \n\u001b[0;32m   (...)\u001b[0m\n\u001b[1;32m     12\u001b[0m \u001b[39m#saveDir = r\"H:\\Data\\SNAIL_Pump_Limitation\\Q_SNAIL_GC\\SweepTwoAmps\\2022-09-11\\Q3_-1.15mA-C_width_1300-G_width_1300-cPumpParams_{width_1300-ssbFreq_0.1}-gPumpParams_{width_1300-ssbFreq_0.1}\\\\\"\u001b[39;00m\n\u001b[1;32m     13\u001b[0m \u001b[39m#sweepAxes, msmtInfoDict = getSweepDictAndMSMTInfo(saveDir)\u001b[39;00m\n",
      "File \u001b[0;32m~/decomposition_EM/decomp_venv/lib/python3.8/site-packages/matplotlib/__init__.py:109\u001b[0m, in \u001b[0;36m<module>\u001b[0;34m\u001b[0m\n\u001b[1;32m    105\u001b[0m \u001b[39mfrom\u001b[39;00m \u001b[39mpackaging\u001b[39;00m\u001b[39m.\u001b[39;00m\u001b[39mversion\u001b[39;00m \u001b[39mimport\u001b[39;00m parse \u001b[39mas\u001b[39;00m parse_version\n\u001b[1;32m    107\u001b[0m \u001b[39m# cbook must import matplotlib only within function\u001b[39;00m\n\u001b[1;32m    108\u001b[0m \u001b[39m# definitions, so it is safe to import from it here.\u001b[39;00m\n\u001b[0;32m--> 109\u001b[0m \u001b[39mfrom\u001b[39;00m \u001b[39m.\u001b[39;00m \u001b[39mimport\u001b[39;00m _api, _version, cbook, docstring, rcsetup\n\u001b[1;32m    110\u001b[0m \u001b[39mfrom\u001b[39;00m \u001b[39mmatplotlib\u001b[39;00m\u001b[39m.\u001b[39;00m\u001b[39mcbook\u001b[39;00m \u001b[39mimport\u001b[39;00m MatplotlibDeprecationWarning, sanitize_sequence\n\u001b[1;32m    111\u001b[0m \u001b[39mfrom\u001b[39;00m \u001b[39mmatplotlib\u001b[39;00m\u001b[39m.\u001b[39;00m\u001b[39mcbook\u001b[39;00m \u001b[39mimport\u001b[39;00m mplDeprecation  \u001b[39m# deprecated\u001b[39;00m\n",
      "File \u001b[0;32m~/decomposition_EM/decomp_venv/lib/python3.8/site-packages/matplotlib/rcsetup.py:27\u001b[0m, in \u001b[0;36m<module>\u001b[0;34m\u001b[0m\n\u001b[1;32m     25\u001b[0m \u001b[39mfrom\u001b[39;00m \u001b[39mmatplotlib\u001b[39;00m \u001b[39mimport\u001b[39;00m _api, cbook\n\u001b[1;32m     26\u001b[0m \u001b[39mfrom\u001b[39;00m \u001b[39mmatplotlib\u001b[39;00m\u001b[39m.\u001b[39;00m\u001b[39mcbook\u001b[39;00m \u001b[39mimport\u001b[39;00m ls_mapper\n\u001b[0;32m---> 27\u001b[0m \u001b[39mfrom\u001b[39;00m \u001b[39mmatplotlib\u001b[39;00m\u001b[39m.\u001b[39;00m\u001b[39mcolors\u001b[39;00m \u001b[39mimport\u001b[39;00m Colormap, is_color_like\n\u001b[1;32m     28\u001b[0m \u001b[39mfrom\u001b[39;00m \u001b[39mmatplotlib\u001b[39;00m\u001b[39m.\u001b[39;00m\u001b[39mfontconfig_pattern\u001b[39;00m \u001b[39mimport\u001b[39;00m parse_fontconfig_pattern\n\u001b[1;32m     29\u001b[0m \u001b[39mfrom\u001b[39;00m \u001b[39mmatplotlib\u001b[39;00m\u001b[39m.\u001b[39;00m\u001b[39m_enums\u001b[39;00m \u001b[39mimport\u001b[39;00m JoinStyle, CapStyle\n",
      "File \u001b[0;32m~/decomposition_EM/decomp_venv/lib/python3.8/site-packages/matplotlib/colors.py:51\u001b[0m, in \u001b[0;36m<module>\u001b[0;34m\u001b[0m\n\u001b[1;32m     49\u001b[0m \u001b[39mfrom\u001b[39;00m \u001b[39mnumbers\u001b[39;00m \u001b[39mimport\u001b[39;00m Number\n\u001b[1;32m     50\u001b[0m \u001b[39mimport\u001b[39;00m \u001b[39mre\u001b[39;00m\n\u001b[0;32m---> 51\u001b[0m \u001b[39mfrom\u001b[39;00m \u001b[39mPIL\u001b[39;00m \u001b[39mimport\u001b[39;00m Image\n\u001b[1;32m     52\u001b[0m \u001b[39mfrom\u001b[39;00m \u001b[39mPIL\u001b[39;00m\u001b[39m.\u001b[39;00m\u001b[39mPngImagePlugin\u001b[39;00m \u001b[39mimport\u001b[39;00m PngInfo\n\u001b[1;32m     54\u001b[0m \u001b[39mimport\u001b[39;00m \u001b[39mmatplotlib\u001b[39;00m \u001b[39mas\u001b[39;00m \u001b[39mmpl\u001b[39;00m\n",
      "File \u001b[0;32m~/decomposition_EM/decomp_venv/lib/python3.8/site-packages/PIL/Image.py:132\u001b[0m, in \u001b[0;36m<module>\u001b[0;34m\u001b[0m\n\u001b[1;32m    123\u001b[0m MAX_IMAGE_PIXELS \u001b[39m=\u001b[39m \u001b[39mint\u001b[39m(\u001b[39m1024\u001b[39m \u001b[39m*\u001b[39m \u001b[39m1024\u001b[39m \u001b[39m*\u001b[39m \u001b[39m1024\u001b[39m \u001b[39m/\u001b[39m\u001b[39m/\u001b[39m \u001b[39m4\u001b[39m \u001b[39m/\u001b[39m\u001b[39m/\u001b[39m \u001b[39m3\u001b[39m)\n\u001b[1;32m    126\u001b[0m \u001b[39mtry\u001b[39;00m:\n\u001b[1;32m    127\u001b[0m     \u001b[39m# If the _imaging C module is not present, Pillow will not load.\u001b[39;00m\n\u001b[1;32m    128\u001b[0m     \u001b[39m# Note that other modules should not refer to _imaging directly;\u001b[39;00m\n\u001b[1;32m    129\u001b[0m     \u001b[39m# import Image and use the Image.core variable instead.\u001b[39;00m\n\u001b[1;32m    130\u001b[0m     \u001b[39m# Also note that Image.core is not a publicly documented interface,\u001b[39;00m\n\u001b[1;32m    131\u001b[0m     \u001b[39m# and should be considered private and subject to change.\u001b[39;00m\n\u001b[0;32m--> 132\u001b[0m     \u001b[39mfrom\u001b[39;00m \u001b[39m.\u001b[39;00m \u001b[39mimport\u001b[39;00m _imaging \u001b[39mas\u001b[39;00m core\n\u001b[1;32m    134\u001b[0m     \u001b[39mif\u001b[39;00m __version__ \u001b[39m!=\u001b[39m \u001b[39mgetattr\u001b[39m(core, \u001b[39m\"\u001b[39m\u001b[39mPILLOW_VERSION\u001b[39m\u001b[39m\"\u001b[39m, \u001b[39mNone\u001b[39;00m):\n\u001b[1;32m    135\u001b[0m         \u001b[39mraise\u001b[39;00m \u001b[39mImportError\u001b[39;00m(\n\u001b[1;32m    136\u001b[0m             \u001b[39m\"\u001b[39m\u001b[39mThe _imaging extension was built for another version of Pillow or PIL:\u001b[39m\u001b[39m\\n\u001b[39;00m\u001b[39m\"\u001b[39m\n\u001b[1;32m    137\u001b[0m             \u001b[39mf\u001b[39m\u001b[39m\"\u001b[39m\u001b[39mCore version: \u001b[39m\u001b[39m{\u001b[39;00m\u001b[39mgetattr\u001b[39m(core, \u001b[39m'\u001b[39m\u001b[39mPILLOW_VERSION\u001b[39m\u001b[39m'\u001b[39m, \u001b[39mNone\u001b[39;00m)\u001b[39m}\u001b[39;00m\u001b[39m\\n\u001b[39;00m\u001b[39m\"\u001b[39m\n\u001b[1;32m    138\u001b[0m             \u001b[39mf\u001b[39m\u001b[39m\"\u001b[39m\u001b[39mPillow version: \u001b[39m\u001b[39m{\u001b[39;00m__version__\u001b[39m}\u001b[39;00m\u001b[39m\"\u001b[39m\n\u001b[1;32m    139\u001b[0m         )\n",
      "\u001b[0;31mKeyboardInterrupt\u001b[0m: "
     ]
    }
   ],
   "source": [
    "from chao_checkDeath import get_speedlimit\n",
    "from src.utils.polytope_wrap import gate_set_to_haar_expectation"
   ]
  },
  {
   "cell_type": "code",
   "execution_count": null,
   "metadata": {},
   "outputs": [
    {
     "ename": "ModuleNotFoundError",
     "evalue": "No module named 'src'",
     "output_type": "error",
     "traceback": [
      "\u001b[0;31m---------------------------------------------------------------------------\u001b[0m",
      "\u001b[0;31mModuleNotFoundError\u001b[0m                       Traceback (most recent call last)",
      "\u001b[1;32m/home/evm9/decomposition_EM/src/scripts/snail_death_haar.ipynb Cell 3\u001b[0m in \u001b[0;36m<cell line: 2>\u001b[0;34m()\u001b[0m\n\u001b[1;32m      <a href='vscode-notebook-cell://ssh-remote%2B7b22686f73744e616d65223a224f707469706c6578227d/home/evm9/decomposition_EM/src/scripts/snail_death_haar.ipynb#W2sdnNjb2RlLXJlbW90ZQ%3D%3D?line=0'>1</a>\u001b[0m \u001b[39m# from src.utils.custom_gates import ConversionGainGate\u001b[39;00m\n\u001b[0;32m----> <a href='vscode-notebook-cell://ssh-remote%2B7b22686f73744e616d65223a224f707469706c6578227d/home/evm9/decomposition_EM/src/scripts/snail_death_haar.ipynb#W2sdnNjb2RlLXJlbW90ZQ%3D%3D?line=1'>2</a>\u001b[0m \u001b[39mfrom\u001b[39;00m \u001b[39msrc\u001b[39;00m\u001b[39m.\u001b[39;00m\u001b[39mutils\u001b[39;00m\u001b[39m.\u001b[39;00m\u001b[39mcustom_gates\u001b[39;00m \u001b[39mimport\u001b[39;00m ConversionGainPhaseHamiltonian\n\u001b[1;32m      <a href='vscode-notebook-cell://ssh-remote%2B7b22686f73744e616d65223a224f707469706c6578227d/home/evm9/decomposition_EM/src/scripts/snail_death_haar.ipynb#W2sdnNjb2RlLXJlbW90ZQ%3D%3D?line=2'>3</a>\u001b[0m \u001b[39mfrom\u001b[39;00m \u001b[39mqiskit\u001b[39;00m\u001b[39m.\u001b[39;00m\u001b[39mcircuit\u001b[39;00m\u001b[39m.\u001b[39;00m\u001b[39mparameterexpression\u001b[39;00m \u001b[39mimport\u001b[39;00m ParameterValueType\n\u001b[1;32m      <a href='vscode-notebook-cell://ssh-remote%2B7b22686f73744e616d65223a224f707469706c6578227d/home/evm9/decomposition_EM/src/scripts/snail_death_haar.ipynb#W2sdnNjb2RlLXJlbW90ZQ%3D%3D?line=3'>4</a>\u001b[0m \u001b[39mfrom\u001b[39;00m \u001b[39mqiskit\u001b[39;00m\u001b[39m.\u001b[39;00m\u001b[39mcircuit\u001b[39;00m\u001b[39m.\u001b[39;00m\u001b[39mgate\u001b[39;00m \u001b[39mimport\u001b[39;00m Gate\n",
      "\u001b[0;31mModuleNotFoundError\u001b[0m: No module named 'src'"
     ]
    }
   ],
   "source": [
    "# from src.utils.custom_gates import ConversionGainGate\n",
    "from src.utils.custom_gates import ConversionGainPhaseHamiltonian\n",
    "from qiskit.circuit.parameterexpression import ParameterValueType\n",
    "from qiskit.circuit.gate import Gate\n",
    "class ConversionGainGate(Gate):\n",
    "    def __init__(self, p1:ParameterValueType, p2:ParameterValueType, g1:ParameterValueType, g2:ParameterValueType, t_el: ParameterValueType = 1):\n",
    "        super().__init__(\"2QGate\", 2, [p1, p2, g1, g2, t_el], \"2QGate\")\n",
    "    \n",
    "    def __array__(self, dtype=None):\n",
    "        self._array = ConversionGainPhaseHamiltonian.construct_U(*[float(el) for el in self.params[0:-1]], t= float(self.params[-1]))\n",
    "        return self._array.full()\n",
    "    \n",
    "    def cost(self):\n",
    "        #make a line in the snail death plot that scales the g terms linearly\n",
    "        gy = lambda gx: self.params[2]/self.params[3] * gx\n",
    "        #find where the line intercepts with the speed limit\n",
    "\n",
    "        #sum the g terms\n",
    "        c = (sum(abs(np.array(self.params[2:-1]))) * self.params[-1])/norm\n",
    "        return c"
   ]
  },
  {
   "cell_type": "code",
   "execution_count": null,
   "metadata": {},
   "outputs": [
    {
     "data": {
      "text/plain": [
       "(9.999999999388847e-05, 0.00019999999998777693)"
      ]
     },
     "execution_count": 28,
     "metadata": {},
     "output_type": "execute_result"
    }
   ],
   "source": [
    "get_speedlimit(0.01, 0.02)"
   ]
  },
  {
   "cell_type": "code",
   "execution_count": null,
   "metadata": {},
   "outputs": [
    {
     "ename": "NameError",
     "evalue": "name 'ConversionGainGate' is not defined",
     "output_type": "error",
     "traceback": [
      "\u001b[0;31m---------------------------------------------------------------------------\u001b[0m",
      "\u001b[0;31mNameError\u001b[0m                                 Traceback (most recent call last)",
      "\u001b[1;32m/home/evm9/decomposition_EM/src/scripts/snail_death_haar.ipynb Cell 5\u001b[0m in \u001b[0;36m<cell line: 1>\u001b[0;34m()\u001b[0m\n\u001b[0;32m----> <a href='vscode-notebook-cell://ssh-remote%2B7b22686f73744e616d65223a224f707469706c6578227d/home/evm9/decomposition_EM/src/scripts/snail_death_haar.ipynb#W3sdnNjb2RlLXJlbW90ZQ%3D%3D?line=0'>1</a>\u001b[0m u \u001b[39m=\u001b[39m ConversionGainGate(\u001b[39m0\u001b[39m,\u001b[39m0\u001b[39m, np\u001b[39m.\u001b[39mpi\u001b[39m/\u001b[39m\u001b[39m4\u001b[39m, np\u001b[39m.\u001b[39mpi\u001b[39m/\u001b[39m\u001b[39m4\u001b[39m, \u001b[39m1\u001b[39m)\n\u001b[1;32m      <a href='vscode-notebook-cell://ssh-remote%2B7b22686f73744e616d65223a224f707469706c6578227d/home/evm9/decomposition_EM/src/scripts/snail_death_haar.ipynb#W3sdnNjb2RlLXJlbW90ZQ%3D%3D?line=1'>2</a>\u001b[0m u\u001b[39m.\u001b[39mcost()\n",
      "\u001b[0;31mNameError\u001b[0m: name 'ConversionGainGate' is not defined"
     ]
    }
   ],
   "source": [
    "u = ConversionGainGate(0,0, np.pi/4, np.pi/4, 1)\n",
    "u.cost()"
   ]
  },
  {
   "cell_type": "code",
   "execution_count": null,
   "metadata": {},
   "outputs": [
    {
     "name": "stderr",
     "output_type": "stream",
     "text": [
      "INFO:root:==== Working to build a set of covering polytopes ====\n"
     ]
    },
    {
     "name": "stdout",
     "output_type": "stream",
     "text": [
      "Considering Instruction(name='2QGate', num_qubits=2, num_clbits=0, params=[0, 0, 0.7853981633974483, 0.7853981633974483, 1]);\tCost 1 and Euclidean volume   0.00%\n",
      "Considering Instruction(name='2QGate', num_qubits=2, num_clbits=0, params=[0, 0, 0.7853981633974483, 0.7853981633974483, 1])·Instruction(name='2QGate', num_qubits=2, num_clbits=0, params=[0, 0, 0.7853981633974483, 0.7853981633974483, 1]);\tCost 2 and Euclidean volume   0.00%\n",
      "Considering Instruction(name='2QGate', num_qubits=2, num_clbits=0, params=[0, 0, 0.7853981633974483, 0.7853981633974483, 1])·Instruction(name='2QGate', num_qubits=2, num_clbits=0, params=[0, 0, 0.7853981633974483, 0.7853981633974483, 1])·Instruction(name='2QGate', num_qubits=2, num_clbits=0, params=[0, 0, 0.7853981633974483, 0.7853981633974483, 1]);\tCost 3 and Euclidean volume 100.00%\n"
     ]
    },
    {
     "name": "stderr",
     "output_type": "stream",
     "text": [
      "INFO:root:==== Done. Here's what we found: ====\n",
      "INFO:root:Percent volume of A_C2\t | Cost\t | Sequence name\n",
      "  0.00% =    0/1    \t | 0.00\t | \n",
      "  0.00% =    0/1    \t | 1.00\t | Instruction(name='2QGate', num_qubits=2, num_clbits=0, params=[0, 0, 0.7853981633974483, 0.7853981633974483, 1])\n",
      "  0.00% =    0/1    \t | 2.00\t | Instruction(name='2QGate', num_qubits=2, num_clbits=0, params=[0, 0, 0.7853981633974483, 0.7853981633974483, 1]).Instruction(name='2QGate', num_qubits=2, num_clbits=0, params=[0, 0, 0.7853981633974483, 0.7853981633974483, 1])\n",
      "100.00% =    1/1    \t | 3.00\t | Instruction(name='2QGate', num_qubits=2, num_clbits=0, params=[0, 0, 0.7853981633974483, 0.7853981633974483, 1]).Instruction(name='2QGate', num_qubits=2, num_clbits=0, params=[0, 0, 0.7853981633974483, 0.7853981633974483, 1]).Instruction(name='2QGate', num_qubits=2, num_clbits=0, params=[0, 0, 0.7853981633974483, 0.7853981633974483, 1])\n",
      "\n",
      "INFO:root:==== Haar volumes ====\n"
     ]
    },
    {
     "name": "stdout",
     "output_type": "stream",
     "text": [
      " deg 0\t | Sequence name\n",
      "0.00000\t | \n",
      "0.00000\t | Instruction(name='2QGate', num_qubits=2, num_clbits=0, params=[0, 0, 0.7853981633974483, 0.7853981633974483, 1])\n",
      "0.00000\t | Instruction(name='2QGate', num_qubits=2, num_clbits=0, params=[0, 0, 0.7853981633974483, 0.7853981633974483, 1]).Instruction(name='2QGate', num_qubits=2, num_clbits=0, params=[0, 0, 0.7853981633974483, 0.7853981633974483, 1])\n",
      "1.00000\t | Instruction(name='2QGate', num_qubits=2, num_clbits=0, params=[0, 0, 0.7853981633974483, 0.7853981633974483, 1]).Instruction(name='2QGate', num_qubits=2, num_clbits=0, params=[0, 0, 0.7853981633974483, 0.7853981633974483, 1]).Instruction(name='2QGate', num_qubits=2, num_clbits=0, params=[0, 0, 0.7853981633974483, 0.7853981633974483, 1])\n"
     ]
    },
    {
     "name": "stderr",
     "output_type": "stream",
     "text": [
      "INFO:root:Haar-expectation cost: 3.000000000000001\n"
     ]
    },
    {
     "data": {
      "text/plain": [
       "3.000000000000001"
      ]
     },
     "execution_count": 9,
     "metadata": {},
     "output_type": "execute_result"
    }
   ],
   "source": [
    "gate_set_to_haar_expectation(u)"
   ]
  }
 ],
 "metadata": {
  "kernelspec": {
   "display_name": "Python 3.8.10 ('decomp_venv': venv)",
   "language": "python",
   "name": "python3"
  },
  "language_info": {
   "codemirror_mode": {
    "name": "ipython",
    "version": 3
   },
   "file_extension": ".py",
   "mimetype": "text/x-python",
   "name": "python",
   "nbconvert_exporter": "python",
   "pygments_lexer": "ipython3",
   "version": "3.8.10"
  },
  "orig_nbformat": 4,
  "vscode": {
   "interpreter": {
    "hash": "8458c2db8745e513b658ab31603256ba78a013051ccc1ae9ae2e6e521b9ef2ea"
   }
  }
 },
 "nbformat": 4,
 "nbformat_minor": 2
}
