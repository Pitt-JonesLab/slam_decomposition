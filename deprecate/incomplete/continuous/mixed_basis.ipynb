{
    "cells": [
        {
            "cell_type": "code",
            "execution_count": 58,
            "metadata": {},
            "outputs": [],
            "source": [
                "import logging\n",
                "logger = logging.getLogger()\n",
                "logger.setLevel(logging.INFO)\n",
                "\n",
                "import numpy as np"
            ]
        },
        {
            "cell_type": "code",
            "execution_count": 59,
            "metadata": {},
            "outputs": [],
            "source": [
                "#this would be a very lengthy calculation but could iterate over product of B gate family (in both gc and gg) with itself, find best combination of #k gates\n",
                "from slam.hamiltonian import ConversionGainHamiltonian\n",
                "from slam.utils.gates.custom_gates import CustomCostGate\n",
                "from slam.basis import MixedOrderBasisCircuitTemplate\n",
                "from slam.utils.monodromy.polytope_wrap import coverage_to_haar_expectation"
            ]
        },
        {
            "cell_type": "code",
            "execution_count": 62,
            "metadata": {},
            "outputs": [
                {
                    "name": "stderr",
                    "output_type": "stream",
                    "text": [
                        "INFO:root:==== Working to build a set of covering polytopes ====\n"
                    ]
                },
                {
                    "name": "stdout",
                    "output_type": "stream",
                    "text": [
                        "Considering B((0.39269908169872414, 0.14726215563702155));\tCost 0.34374999999999994 and Euclidean volume   0.00%\n",
                        "Considering B((0.39269908169872414, 0.14726215563702155))·B((0.39269908169872414, 0.14726215563702155));\tCost 0.6874999999999999 and Euclidean volume  15.14%\n",
                        "Considering B((0.39269908169872414, 0.14726215563702155))·B((0.39269908169872414, 0.14726215563702155))·B((0.39269908169872414, 0.14726215563702155));\tCost 1.0312499999999998 and Euclidean volume  50.00%\n",
                        "Considering B((0.39269908169872414, 0.14726215563702155))·B((0.39269908169872414, 0.14726215563702155))·B((0.39269908169872414, 0.14726215563702155))·B((0.39269908169872414, 0.14726215563702155));\tCost 1.3749999999999998 and Euclidean volume  83.33%\n",
                        "Considering B((0.39269908169872414, 0.14726215563702155))·B((0.39269908169872414, 0.14726215563702155))·B((0.39269908169872414, 0.14726215563702155))·B((0.39269908169872414, 0.14726215563702155))·B((0.39269908169872414, 0.14726215563702155));\tCost 1.7187499999999998 and Euclidean volume  97.92%\n",
                        "Considering B((0.39269908169872414, 0.14726215563702155))·B((0.39269908169872414, 0.14726215563702155))·B((0.39269908169872414, 0.14726215563702155))·B((0.39269908169872414, 0.14726215563702155))·B((0.39269908169872414, 0.14726215563702155))·B((0.39269908169872414, 0.14726215563702155));\tCost 2.0624999999999996 and Euclidean volume 100.00%\n"
                    ]
                },
                {
                    "name": "stderr",
                    "output_type": "stream",
                    "text": [
                        "INFO:root:==== Done. Here's what we found: ====\n",
                        "INFO:root:Percent volume of A_C2\t | Cost\t | Sequence name\n",
                        "  0.00% =    0/1    \t | 0.00\t | \n",
                        "  0.00% =    0/1    \t | 0.34\t | B((0.39269908169872414, 0.14726215563702155))\n",
                        " 15.14% =  155/1024 \t | 0.69\t | B((0.39269908169872414, 0.14726215563702155)).B((0.39269908169872414, 0.14726215563702155))\n",
                        " 50.00% =    1/2    \t | 1.03\t | B((0.39269908169872414, 0.14726215563702155)).B((0.39269908169872414, 0.14726215563702155)).B((0.39269908169872414, 0.14726215563702155))\n",
                        " 83.33% =    5/6    \t | 1.37\t | B((0.39269908169872414, 0.14726215563702155)).B((0.39269908169872414, 0.14726215563702155)).B((0.39269908169872414, 0.14726215563702155)).B((0.39269908169872414, 0.14726215563702155))\n",
                        " 97.92% =   47/48   \t | 1.72\t | B((0.39269908169872414, 0.14726215563702155)).B((0.39269908169872414, 0.14726215563702155)).B((0.39269908169872414, 0.14726215563702155)).B((0.39269908169872414, 0.14726215563702155)).B((0.39269908169872414, 0.14726215563702155))\n",
                        "100.00% =    1/1    \t | 2.06\t | B((0.39269908169872414, 0.14726215563702155)).B((0.39269908169872414, 0.14726215563702155)).B((0.39269908169872414, 0.14726215563702155)).B((0.39269908169872414, 0.14726215563702155)).B((0.39269908169872414, 0.14726215563702155)).B((0.39269908169872414, 0.14726215563702155))\n",
                        "\n",
                        "INFO:root:==== Haar volumes ====\n"
                    ]
                },
                {
                    "name": "stdout",
                    "output_type": "stream",
                    "text": [
                        " deg 0\t | Sequence name\n",
                        "0.00000\t | \n",
                        "0.00000\t | B((0.39269908169872414, 0.14726215563702155))\n",
                        "0.03337\t | B((0.39269908169872414, 0.14726215563702155)).B((0.39269908169872414, 0.14726215563702155))\n",
                        "0.46663\t | B((0.39269908169872414, 0.14726215563702155)).B((0.39269908169872414, 0.14726215563702155)).B((0.39269908169872414, 0.14726215563702155))\n",
                        "0.45988\t | B((0.39269908169872414, 0.14726215563702155)).B((0.39269908169872414, 0.14726215563702155)).B((0.39269908169872414, 0.14726215563702155)).B((0.39269908169872414, 0.14726215563702155))\n",
                        "0.03998\t | B((0.39269908169872414, 0.14726215563702155)).B((0.39269908169872414, 0.14726215563702155)).B((0.39269908169872414, 0.14726215563702155)).B((0.39269908169872414, 0.14726215563702155)).B((0.39269908169872414, 0.14726215563702155))\n",
                        "0.00014\t | B((0.39269908169872414, 0.14726215563702155)).B((0.39269908169872414, 0.14726215563702155)).B((0.39269908169872414, 0.14726215563702155)).B((0.39269908169872414, 0.14726215563702155)).B((0.39269908169872414, 0.14726215563702155)).B((0.39269908169872414, 0.14726215563702155))\n"
                    ]
                },
                {
                    "name": "stderr",
                    "output_type": "stream",
                    "text": [
                        "INFO:root:Haar-expectation cost: 1.2054917276766806\n"
                    ]
                },
                {
                    "data": {
                        "text/plain": [
                            "1.2054917276766806"
                        ]
                    },
                    "execution_count": 62,
                    "metadata": {},
                    "output_type": "execute_result"
                }
            ],
            "source": [
                "#this shows combinining 2 conversion-gain gates to minimize expected haar cost\n",
                "#what is probably more useful is to instead minimize cost on a circuit, so we can get better coverage ie a hard to build swap gate\n",
                "\n",
                "h = ConversionGainHamiltonian()\n",
                "SPEED_LIMIT = np.pi/2\n",
                "\n",
                "i,j = 0,4 #sqiswap\n",
                "cost = sum([i*np.pi/16, j*np.pi/16])/SPEED_LIMIT\n",
                "u = h._construct_U_lambda(i*np.pi/16, j*np.pi/16)(1).full()\n",
                "gate1 = CustomCostGate(u, f\"B({i*np.pi/16, j*np.pi/16})\", cost=cost)\n",
                "\n",
                "i,j = 3,1 #B\n",
                "cost = sum([i*np.pi/16, j*np.pi/16])/SPEED_LIMIT\n",
                "u = h._construct_U_lambda(i*np.pi/16, j*np.pi/16)(1).full()\n",
                "gate2 = CustomCostGate(u, f\"B({i*np.pi/16, j*np.pi/16})\", cost=cost)\n",
                "\n",
                "# from qiskit.circuit.library.standard_gates import SwapGate\n",
                "# gate3 = CustomCostGate(SwapGate(), \"Swap\", cost=1)\n",
                "\n",
                "basis_gates = [gate2]# ,gate3]\n",
                "basis = MixedOrderBasisCircuitTemplate(base_gates=basis_gates)\n",
                "coverage_to_haar_expectation(basis.coverage)"
            ]
        },
        {
            "cell_type": "code",
            "execution_count": 4,
            "metadata": {},
            "outputs": [],
            "source": [
                "from slam.cost_function import BasicCost\n",
                "from slam.optimizer import TemplateOptimizer\n",
                "objective = BasicCost()\n",
                "optimizer = TemplateOptimizer(basis=basis, objective=objective, use_callback=True)"
            ]
        },
        {
            "cell_type": "code",
            "execution_count": 5,
            "metadata": {},
            "outputs": [
                {
                    "name": "stderr",
                    "output_type": "stream",
                    "text": [
                        "INFO:root:Total circuit pulse cost: 1.5\n",
                        "INFO:root:Average gate pulse cost: 1.5\n"
                    ]
                },
                {
                    "data": {
                        "text/plain": [
                            "1.5"
                        ]
                    },
                    "execution_count": 5,
                    "metadata": {},
                    "output_type": "execute_result"
                }
            ],
            "source": [
                "#compare cost for a single SWAP gate\n",
                "from qiskit.circuit.library.standard_gates import SwapGate\n",
                "from slam.sampler import GateSample\n",
                "swap_sample = GateSample(gate=SwapGate())\n",
                "optimizer.cost_from_distribution(sampler=swap_sample)"
            ]
        },
        {
            "cell_type": "code",
            "execution_count": 6,
            "metadata": {},
            "outputs": [
                {
                    "name": "stderr",
                    "output_type": "stream",
                    "text": [
                        "INFO:qiskit.transpiler.runningpassmanager:Pass: Collect2qBlocks - 0.20146 (ms)\n",
                        "INFO:qiskit.transpiler.runningpassmanager:Pass: ConsolidateBlocks - 13.36122 (ms)\n",
                        "INFO:root:Created sampler with 13 2Q gates\n",
                        "INFO:root:Total circuit pulse cost: 17.0\n",
                        "INFO:root:Average gate pulse cost: 1.3076923076923077\n"
                    ]
                }
            ],
            "source": [
                "#compare cost on an actual circuit\n",
                "from slam.sampler import CircuitSample\n",
                "from qiskit.circuit.library.basis_change import QFT\n",
                "from qiskit import transpile\n",
                "from qiskit.test.mock import FakeVigoV2\n",
                "\n",
                "#transpile QFT on a topology to induce SWAPs\n",
                "qc = QFT(4)\n",
                "logger.setLevel(logging.CRITICAL) #turn off to avoid unnecessary messages\n",
                "qc = transpile(qc, coupling_map=FakeVigoV2().coupling_map)\n",
                "logger.setLevel(logging.INFO) #turn back on\n",
                "qft_sampler = CircuitSample(qc)\n",
                "\n",
                "#optimizer.approximate_from_distribution(sampler=sampler) #pretrains\n",
                "ret = optimizer.cost_from_distribution(sampler=qft_sampler)"
            ]
        },
        {
            "cell_type": "code",
            "execution_count": 7,
            "metadata": {},
            "outputs": [],
            "source": [
                "#and don't forget we can decompose into actual gate values\n",
                "#TODO, integrate into a transpiler pass, just have to assign the Xk values at the end and wrap in a transformation pass"
            ]
        },
        {
            "cell_type": "code",
            "execution_count": 8,
            "metadata": {},
            "outputs": [
                {
                    "data": {
                        "text/plain": [
                            "[2, 4, 6, 8, 10, 12, 14, 16]"
                        ]
                    },
                    "execution_count": 8,
                    "metadata": {},
                    "output_type": "execute_result"
                }
            ],
            "source": [
                "[el for el in range(2,18,2)]"
            ]
        },
        {
            "cell_type": "code",
            "execution_count": 44,
            "metadata": {},
            "outputs": [
                {
                    "name": "stdout",
                    "output_type": "stream",
                    "text": [
                        "iter 0,0\n"
                    ]
                },
                {
                    "name": "stderr",
                    "output_type": "stream",
                    "text": [
                        "INFO:root:==== Working to build a set of covering polytopes ====\n",
                        "INFO:root:Total circuit pulse cost: 17.0\n",
                        "INFO:root:Average gate pulse cost: 1.3076923076923077\n",
                        "INFO:root:Total circuit pulse cost: 1.5\n",
                        "INFO:root:Average gate pulse cost: 1.5\n",
                        "INFO:root:==== Haar volumes ====\n"
                    ]
                },
                {
                    "name": "stdout",
                    "output_type": "stream",
                    "text": [
                        " deg 0\t | Sequence name\n",
                        "0.00000\t | \n",
                        "0.00000\t | B((0.0, 0.0))\n",
                        "0.00000\t | B((0.0, 0.0)).B((0.0, 0.7853981633974483))\n",
                        "0.79012\t | B((0.0, 0.0)).B((0.0, 0.7853981633974483)).B((0.0, 0.7853981633974483))\n",
                        "0.20988\t | B((0.0, 0.0)).B((0.0, 0.7853981633974483)).B((0.0, 0.7853981633974483)).B((0.0, 0.7853981633974483))\n"
                    ]
                },
                {
                    "name": "stderr",
                    "output_type": "stream",
                    "text": [
                        "INFO:root:Haar-expectation cost: 1.1049413181578387\n"
                    ]
                },
                {
                    "name": "stdout",
                    "output_type": "stream",
                    "text": [
                        "iter 1,0\n"
                    ]
                },
                {
                    "name": "stderr",
                    "output_type": "stream",
                    "text": [
                        "INFO:root:==== Working to build a set of covering polytopes ====\n",
                        "INFO:root:Total circuit pulse cost: 17.0\n",
                        "INFO:root:Average gate pulse cost: 1.3076923076923077\n",
                        "INFO:root:Total circuit pulse cost: 1.5\n",
                        "INFO:root:Average gate pulse cost: 1.5\n",
                        "INFO:root:==== Haar volumes ====\n"
                    ]
                },
                {
                    "name": "stdout",
                    "output_type": "stream",
                    "text": [
                        " deg 0\t | Sequence name\n",
                        "0.00000\t | \n",
                        "0.00000\t | B((0.19634954084936207, 0.0))\n",
                        "0.00002\t | B((0.19634954084936207, 0.0)).B((0.19634954084936207, 0.0))\n",
                        "0.00088\t | B((0.19634954084936207, 0.0)).B((0.19634954084936207, 0.0)).B((0.19634954084936207, 0.0))\n",
                        "0.00875\t | B((0.19634954084936207, 0.0)).B((0.19634954084936207, 0.0)).B((0.19634954084936207, 0.0)).B((0.19634954084936207, 0.0))\n",
                        "0.04420\t | B((0.19634954084936207, 0.0)).B((0.19634954084936207, 0.0)).B((0.19634954084936207, 0.0)).B((0.19634954084936207, 0.0)).B((0.19634954084936207, 0.0))\n",
                        "0.13925\t | B((0.19634954084936207, 0.0)).B((0.19634954084936207, 0.0)).B((0.19634954084936207, 0.0)).B((0.19634954084936207, 0.0)).B((0.19634954084936207, 0.0)).B((0.19634954084936207, 0.0))\n",
                        "0.30186\t | B((0.19634954084936207, 0.0)).B((0.19634954084936207, 0.0)).B((0.19634954084936207, 0.0)).B((0.19634954084936207, 0.0)).B((0.19634954084936207, 0.0)).B((0.19634954084936207, 0.0)).B((0.19634954084936207, 0.0))\n",
                        "0.46492\t | B((0.19634954084936207, 0.0)).B((0.19634954084936207, 0.0)).B((0.19634954084936207, 0.0)).B((0.19634954084936207, 0.0)).B((0.19634954084936207, 0.0)).B((0.19634954084936207, 0.0)).B((0.19634954084936207, 0.0)).B((0.19634954084936207, 0.0))\n",
                        "0.03593\t | B((0.19634954084936207, 0.0)).B((0.19634954084936207, 0.0)).B((0.19634954084936207, 0.0)).B((0.19634954084936207, 0.0)).B((0.19634954084936207, 0.0)).B((0.19634954084936207, 0.0)).B((0.19634954084936207, 0.0)).B((0.19634954084936207, 0.0)).B((0.19634954084936207, 0.0))\n",
                        "0.00405\t | B((0.19634954084936207, 0.0)).B((0.19634954084936207, 0.0)).B((0.19634954084936207, 0.0)).B((0.19634954084936207, 0.0)).B((0.19634954084936207, 0.0)).B((0.19634954084936207, 0.0)).B((0.19634954084936207, 0.0)).B((0.19634954084936207, 0.0)).B((0.19634954084936207, 0.0)).B((0.19634954084936207, 0.0))\n",
                        "0.00014\t | B((0.19634954084936207, 0.0)).B((0.19634954084936207, 0.0)).B((0.19634954084936207, 0.0)).B((0.19634954084936207, 0.0)).B((0.19634954084936207, 0.0)).B((0.19634954084936207, 0.0)).B((0.19634954084936207, 0.0)).B((0.19634954084936207, 0.0)).B((0.19634954084936207, 0.0)).B((0.19634954084936207, 0.0)).B((0.19634954084936207, 0.0))\n",
                        "0.00000\t | B((0.19634954084936207, 0.0)).B((0.19634954084936207, 0.0)).B((0.19634954084936207, 0.0)).B((0.19634954084936207, 0.0)).B((0.19634954084936207, 0.0)).B((0.19634954084936207, 0.0)).B((0.19634954084936207, 0.0)).B((0.19634954084936207, 0.0)).B((0.0, 0.7853981633974483))\n"
                    ]
                },
                {
                    "name": "stderr",
                    "output_type": "stream",
                    "text": [
                        "INFO:root:Haar-expectation cost: 0.9114923971390635\n"
                    ]
                },
                {
                    "name": "stdout",
                    "output_type": "stream",
                    "text": [
                        "iter 1,1\n"
                    ]
                },
                {
                    "name": "stderr",
                    "output_type": "stream",
                    "text": [
                        "INFO:root:==== Working to build a set of covering polytopes ====\n",
                        "INFO:root:Total circuit pulse cost: 17.0\n",
                        "INFO:root:Average gate pulse cost: 1.3076923076923077\n",
                        "INFO:root:Total circuit pulse cost: 1.5\n",
                        "INFO:root:Average gate pulse cost: 1.5\n",
                        "INFO:root:==== Haar volumes ====\n"
                    ]
                },
                {
                    "name": "stdout",
                    "output_type": "stream",
                    "text": [
                        " deg 0\t | Sequence name\n",
                        "0.00000\t | \n",
                        "0.00000\t | B((0.19634954084936207, 0.19634954084936207))\n",
                        "0.00000\t | B((0.19634954084936207, 0.19634954084936207)).B((0.19634954084936207, 0.19634954084936207))\n",
                        "0.00000\t | B((0.0, 0.7853981633974483))\n",
                        "0.00419\t | B((0.19634954084936207, 0.19634954084936207)).B((0.19634954084936207, 0.19634954084936207)).B((0.19634954084936207, 0.19634954084936207))\n",
                        "0.01365\t | B((0.19634954084936207, 0.19634954084936207)).B((0.0, 0.7853981633974483))\n",
                        "0.77405\t | B((0.0, 0.7853981633974483)).B((0.0, 0.7853981633974483))\n",
                        "0.03219\t | B((0.19634954084936207, 0.19634954084936207)).B((0.19634954084936207, 0.19634954084936207)).B((0.0, 0.7853981633974483))\n",
                        "0.00024\t | B((0.19634954084936207, 0.19634954084936207)).B((0.19634954084936207, 0.19634954084936207)).B((0.19634954084936207, 0.19634954084936207)).B((0.19634954084936207, 0.19634954084936207))\n",
                        "0.14724\t | B((0.0, 0.7853981633974483)).B((0.0, 0.7853981633974483)).B((0.19634954084936207, 0.19634954084936207))\n",
                        "0.00356\t | B((0.19634954084936207, 0.19634954084936207)).B((0.19634954084936207, 0.19634954084936207)).B((0.19634954084936207, 0.19634954084936207)).B((0.0, 0.7853981633974483))\n",
                        "0.02488\t | B((0.0, 0.7853981633974483)).B((0.0, 0.7853981633974483)).B((0.0, 0.7853981633974483))\n"
                    ]
                },
                {
                    "name": "stderr",
                    "output_type": "stream",
                    "text": [
                        "INFO:root:Haar-expectation cost: 1.0456777144887897\n"
                    ]
                },
                {
                    "name": "stdout",
                    "output_type": "stream",
                    "text": [
                        "iter 2,0\n"
                    ]
                },
                {
                    "name": "stderr",
                    "output_type": "stream",
                    "text": [
                        "INFO:root:==== Working to build a set of covering polytopes ====\n",
                        "INFO:root:Total circuit pulse cost: 17.0\n",
                        "INFO:root:Average gate pulse cost: 1.3076923076923077\n",
                        "INFO:root:Total circuit pulse cost: 1.5\n",
                        "INFO:root:Average gate pulse cost: 1.5\n",
                        "INFO:root:==== Haar volumes ====\n"
                    ]
                },
                {
                    "name": "stdout",
                    "output_type": "stream",
                    "text": [
                        " deg 0\t | Sequence name\n",
                        "0.00000\t | \n",
                        "0.00000\t | B((0.39269908169872414, 0.0))\n",
                        "0.00757\t | B((0.39269908169872414, 0.0)).B((0.39269908169872414, 0.0))\n",
                        "0.18553\t | B((0.39269908169872414, 0.0)).B((0.39269908169872414, 0.0)).B((0.39269908169872414, 0.0))\n",
                        "0.76678\t | B((0.39269908169872414, 0.0)).B((0.39269908169872414, 0.0)).B((0.39269908169872414, 0.0)).B((0.39269908169872414, 0.0))\n",
                        "0.03998\t | B((0.39269908169872414, 0.0)).B((0.39269908169872414, 0.0)).B((0.39269908169872414, 0.0)).B((0.39269908169872414, 0.0)).B((0.39269908169872414, 0.0))\n",
                        "0.00014\t | B((0.39269908169872414, 0.0)).B((0.39269908169872414, 0.0)).B((0.39269908169872414, 0.0)).B((0.39269908169872414, 0.0)).B((0.39269908169872414, 0.0)).B((0.39269908169872414, 0.0))\n"
                    ]
                },
                {
                    "name": "stderr",
                    "output_type": "stream",
                    "text": [
                        "INFO:root:Haar-expectation cost: 0.9598936659817359\n"
                    ]
                },
                {
                    "name": "stdout",
                    "output_type": "stream",
                    "text": [
                        "iter 2,1\n"
                    ]
                },
                {
                    "name": "stderr",
                    "output_type": "stream",
                    "text": [
                        "INFO:root:==== Working to build a set of covering polytopes ====\n",
                        "INFO:root:Total circuit pulse cost: 17.0\n",
                        "INFO:root:Average gate pulse cost: 1.3076923076923077\n",
                        "INFO:root:Total circuit pulse cost: 1.5\n",
                        "INFO:root:Average gate pulse cost: 1.5\n",
                        "INFO:root:==== Haar volumes ====\n"
                    ]
                },
                {
                    "name": "stdout",
                    "output_type": "stream",
                    "text": [
                        " deg 0\t | Sequence name\n",
                        "0.00000\t | \n",
                        "0.00000\t | B((0.39269908169872414, 0.19634954084936207))\n",
                        "0.00000\t | B((0.0, 0.7853981633974483))\n",
                        "0.03746\t | B((0.39269908169872414, 0.19634954084936207)).B((0.39269908169872414, 0.19634954084936207))\n",
                        "0.20443\t | B((0.39269908169872414, 0.19634954084936207)).B((0.0, 0.7853981633974483))\n",
                        "0.58000\t | B((0.0, 0.7853981633974483)).B((0.0, 0.7853981633974483))\n",
                        "0.00717\t | B((0.39269908169872414, 0.19634954084936207)).B((0.39269908169872414, 0.19634954084936207)).B((0.39269908169872414, 0.19634954084936207))\n",
                        "0.13083\t | B((0.39269908169872414, 0.19634954084936207)).B((0.0, 0.7853981633974483)).B((0.39269908169872414, 0.19634954084936207))\n",
                        "0.03900\t | B((0.0, 0.7853981633974483)).B((0.0, 0.7853981633974483)).B((0.39269908169872414, 0.19634954084936207))\n",
                        "0.00112\t | B((0.0, 0.7853981633974483)).B((0.0, 0.7853981633974483)).B((0.0, 0.7853981633974483))\n"
                    ]
                },
                {
                    "name": "stderr",
                    "output_type": "stream",
                    "text": [
                        "INFO:root:Haar-expectation cost: 1.013870960821309\n"
                    ]
                },
                {
                    "name": "stdout",
                    "output_type": "stream",
                    "text": [
                        "iter 2,2\n"
                    ]
                },
                {
                    "name": "stderr",
                    "output_type": "stream",
                    "text": [
                        "INFO:root:==== Working to build a set of covering polytopes ====\n",
                        "INFO:root:Total circuit pulse cost: 17.0\n",
                        "INFO:root:Average gate pulse cost: 1.3076923076923077\n",
                        "INFO:root:Total circuit pulse cost: 1.5\n",
                        "INFO:root:Average gate pulse cost: 1.5\n",
                        "INFO:root:==== Haar volumes ====\n"
                    ]
                },
                {
                    "name": "stdout",
                    "output_type": "stream",
                    "text": [
                        " deg 0\t | Sequence name\n",
                        "0.00000\t | \n",
                        "0.00000\t | B((0.0, 0.7853981633974483))\n",
                        "0.00000\t | B((0.39269908169872414, 0.39269908169872414))\n",
                        "0.79012\t | B((0.0, 0.7853981633974483)).B((0.0, 0.7853981633974483))\n",
                        "0.01365\t | B((0.39269908169872414, 0.39269908169872414)).B((0.0, 0.7853981633974483))\n",
                        "0.19623\t | B((0.0, 0.7853981633974483)).B((0.0, 0.7853981633974483)).B((0.0, 0.7853981633974483))\n"
                    ]
                },
                {
                    "name": "stderr",
                    "output_type": "stream",
                    "text": [
                        "INFO:root:Haar-expectation cost: 1.0981146503585557\n"
                    ]
                },
                {
                    "name": "stdout",
                    "output_type": "stream",
                    "text": [
                        "iter 3,0\n"
                    ]
                },
                {
                    "name": "stderr",
                    "output_type": "stream",
                    "text": [
                        "INFO:root:==== Working to build a set of covering polytopes ====\n",
                        "INFO:root:Total circuit pulse cost: 17.0\n",
                        "INFO:root:Average gate pulse cost: 1.3076923076923077\n",
                        "INFO:root:Total circuit pulse cost: 1.5\n",
                        "INFO:root:Average gate pulse cost: 1.5\n",
                        "INFO:root:==== Haar volumes ====\n"
                    ]
                },
                {
                    "name": "stdout",
                    "output_type": "stream",
                    "text": [
                        " deg 0\t | Sequence name\n",
                        "0.00000\t | \n",
                        "0.00000\t | B((0.5890486225480862, 0.0))\n",
                        "0.00000\t | B((0.0, 0.7853981633974483))\n",
                        "0.15417\t | B((0.5890486225480862, 0.0)).B((0.5890486225480862, 0.0))\n",
                        "0.23746\t | B((0.5890486225480862, 0.0)).B((0.0, 0.7853981633974483))\n",
                        "0.39848\t | B((0.0, 0.7853981633974483)).B((0.0, 0.7853981633974483))\n",
                        "0.20569\t | B((0.5890486225480862, 0.0)).B((0.5890486225480862, 0.0)).B((0.5890486225480862, 0.0))\n",
                        "0.00405\t | B((0.5890486225480862, 0.0)).B((0.0, 0.7853981633974483)).B((0.5890486225480862, 0.0))\n",
                        "0.00014\t | B((0.0, 0.7853981633974483)).B((0.0, 0.7853981633974483)).B((0.5890486225480862, 0.0))\n",
                        "0.00000\t | B((0.0, 0.7853981633974483)).B((0.0, 0.7853981633974483)).B((0.0, 0.7853981633974483))\n"
                    ]
                },
                {
                    "name": "stderr",
                    "output_type": "stream",
                    "text": [
                        "INFO:root:Haar-expectation cost: 0.9585517793117264\n"
                    ]
                },
                {
                    "name": "stdout",
                    "output_type": "stream",
                    "text": [
                        "iter 3,1\n"
                    ]
                },
                {
                    "name": "stderr",
                    "output_type": "stream",
                    "text": [
                        "INFO:root:==== Working to build a set of covering polytopes ====\n",
                        "INFO:root:Total circuit pulse cost: 17.0\n",
                        "INFO:root:Average gate pulse cost: 1.3076923076923077\n",
                        "INFO:root:Total circuit pulse cost: 1.5\n",
                        "INFO:root:Average gate pulse cost: 1.5\n",
                        "INFO:root:==== Haar volumes ====\n"
                    ]
                },
                {
                    "name": "stdout",
                    "output_type": "stream",
                    "text": [
                        " deg 0\t | Sequence name\n",
                        "0.00000\t | \n",
                        "0.00000\t | B((0.0, 0.7853981633974483))\n",
                        "0.00000\t | B((0.5890486225480862, 0.19634954084936207))\n",
                        "0.73244\t | B((0.5890486225480862, 0.19634954084936207)).B((0.0, 0.7853981633974483))\n",
                        "0.14575\t | B((0.0, 0.7853981633974483)).B((0.0, 0.7853981633974483))\n",
                        "0.00082\t | B((0.5890486225480862, 0.19634954084936207)).B((0.5890486225480862, 0.19634954084936207))\n",
                        "0.12099\t | B((0.0, 0.7853981633974483)).B((0.0, 0.7853981633974483)).B((0.0, 0.7853981633974483))\n"
                    ]
                },
                {
                    "name": "stderr",
                    "output_type": "stream",
                    "text": [
                        "INFO:root:Haar-expectation cost: 1.0604970191691034\n"
                    ]
                },
                {
                    "name": "stdout",
                    "output_type": "stream",
                    "text": [
                        "iter 3,2\n"
                    ]
                },
                {
                    "name": "stderr",
                    "output_type": "stream",
                    "text": [
                        "INFO:root:==== Working to build a set of covering polytopes ====\n",
                        "INFO:root:Total circuit pulse cost: 17.0\n",
                        "INFO:root:Average gate pulse cost: 1.3076923076923077\n",
                        "INFO:root:Total circuit pulse cost: 1.5\n",
                        "INFO:root:Average gate pulse cost: 1.5\n",
                        "INFO:root:==== Haar volumes ====\n"
                    ]
                },
                {
                    "name": "stdout",
                    "output_type": "stream",
                    "text": [
                        " deg 0\t | Sequence name\n",
                        "0.00000\t | \n",
                        "0.00000\t | B((0.0, 0.7853981633974483))\n",
                        "0.00000\t | B((0.5890486225480862, 0.39269908169872414))\n",
                        "0.79012\t | B((0.0, 0.7853981633974483)).B((0.0, 0.7853981633974483))\n",
                        "0.07070\t | B((0.5890486225480862, 0.39269908169872414)).B((0.0, 0.7853981633974483))\n",
                        "0.00221\t | B((0.5890486225480862, 0.39269908169872414)).B((0.5890486225480862, 0.39269908169872414))\n",
                        "0.13697\t | B((0.0, 0.7853981633974483)).B((0.0, 0.7853981633974483)).B((0.0, 0.7853981633974483))\n"
                    ]
                },
                {
                    "name": "stderr",
                    "output_type": "stream",
                    "text": [
                        "INFO:root:Haar-expectation cost: 1.0778740012900667\n"
                    ]
                },
                {
                    "name": "stdout",
                    "output_type": "stream",
                    "text": [
                        "iter 3,3\n"
                    ]
                },
                {
                    "name": "stderr",
                    "output_type": "stream",
                    "text": [
                        "INFO:root:==== Working to build a set of covering polytopes ====\n",
                        "INFO:root:Total circuit pulse cost: 17.0\n",
                        "INFO:root:Average gate pulse cost: 1.3076923076923077\n",
                        "INFO:root:Total circuit pulse cost: 1.5\n",
                        "INFO:root:Average gate pulse cost: 1.5\n",
                        "INFO:root:==== Haar volumes ====\n"
                    ]
                },
                {
                    "name": "stdout",
                    "output_type": "stream",
                    "text": [
                        " deg 0\t | Sequence name\n",
                        "0.00000\t | \n",
                        "0.00000\t | B((0.0, 0.7853981633974483))\n",
                        "0.00000\t | B((0.5890486225480862, 0.5890486225480862))\n",
                        "0.79012\t | B((0.0, 0.7853981633974483)).B((0.0, 0.7853981633974483))\n",
                        "0.01776\t | B((0.5890486225480862, 0.5890486225480862)).B((0.0, 0.7853981633974483))\n",
                        "0.19212\t | B((0.0, 0.7853981633974483)).B((0.0, 0.7853981633974483)).B((0.0, 0.7853981633974483))\n"
                    ]
                },
                {
                    "name": "stderr",
                    "output_type": "stream",
                    "text": [
                        "INFO:root:Haar-expectation cost: 1.1005002716350116\n"
                    ]
                },
                {
                    "name": "stdout",
                    "output_type": "stream",
                    "text": [
                        "iter 4,0\n"
                    ]
                },
                {
                    "name": "stderr",
                    "output_type": "stream",
                    "text": [
                        "INFO:root:==== Working to build a set of covering polytopes ====\n",
                        "INFO:root:Total circuit pulse cost: 17.0\n",
                        "INFO:root:Average gate pulse cost: 1.3076923076923077\n",
                        "INFO:root:Total circuit pulse cost: 1.5\n",
                        "INFO:root:Average gate pulse cost: 1.5\n",
                        "INFO:root:==== Haar volumes ====\n"
                    ]
                },
                {
                    "name": "stdout",
                    "output_type": "stream",
                    "text": [
                        " deg 0\t | Sequence name\n",
                        "0.00000\t | \n",
                        "0.00000\t | B((0.0, 0.7853981633974483))\n",
                        "0.79012\t | B((0.0, 0.7853981633974483)).B((0.0, 0.7853981633974483))\n",
                        "0.20988\t | B((0.0, 0.7853981633974483)).B((0.0, 0.7853981633974483)).B((0.0, 0.7853981633974483))\n"
                    ]
                },
                {
                    "name": "stderr",
                    "output_type": "stream",
                    "text": [
                        "INFO:root:Haar-expectation cost: 1.1049413181578387\n"
                    ]
                },
                {
                    "name": "stdout",
                    "output_type": "stream",
                    "text": [
                        "iter 4,1\n"
                    ]
                },
                {
                    "name": "stderr",
                    "output_type": "stream",
                    "text": [
                        "INFO:root:==== Working to build a set of covering polytopes ====\n",
                        "INFO:root:Total circuit pulse cost: 17.0\n",
                        "INFO:root:Average gate pulse cost: 1.3076923076923077\n",
                        "INFO:root:Total circuit pulse cost: 1.5\n",
                        "INFO:root:Average gate pulse cost: 1.5\n",
                        "INFO:root:==== Haar volumes ====\n"
                    ]
                },
                {
                    "name": "stdout",
                    "output_type": "stream",
                    "text": [
                        " deg 0\t | Sequence name\n",
                        "0.00000\t | \n",
                        "0.00000\t | B((0.0, 0.7853981633974483))\n",
                        "0.00000\t | B((0.7853981633974483, 0.19634954084936207))\n",
                        "0.79012\t | B((0.0, 0.7853981633974483)).B((0.0, 0.7853981633974483))\n",
                        "0.15580\t | B((0.7853981633974483, 0.19634954084936207)).B((0.0, 0.7853981633974483))\n",
                        "0.01391\t | B((0.7853981633974483, 0.19634954084936207)).B((0.7853981633974483, 0.19634954084936207))\n",
                        "0.04017\t | B((0.0, 0.7853981633974483)).B((0.0, 0.7853981633974483)).B((0.0, 0.7853981633974483))\n"
                    ]
                },
                {
                    "name": "stderr",
                    "output_type": "stream",
                    "text": [
                        "INFO:root:Haar-expectation cost: 1.0430386307655595\n"
                    ]
                },
                {
                    "name": "stdout",
                    "output_type": "stream",
                    "text": [
                        "iter 4,2\n"
                    ]
                },
                {
                    "name": "stderr",
                    "output_type": "stream",
                    "text": [
                        "INFO:root:==== Working to build a set of covering polytopes ====\n",
                        "INFO:root:Total circuit pulse cost: 17.0\n",
                        "INFO:root:Average gate pulse cost: 1.3076923076923077\n",
                        "INFO:root:Total circuit pulse cost: 1.5\n",
                        "INFO:root:Average gate pulse cost: 1.5\n",
                        "INFO:root:==== Haar volumes ====\n"
                    ]
                },
                {
                    "name": "stdout",
                    "output_type": "stream",
                    "text": [
                        " deg 0\t | Sequence name\n",
                        "0.00000\t | \n",
                        "0.00000\t | B((0.0, 0.7853981633974483))\n",
                        "0.00000\t | B((0.7853981633974483, 0.39269908169872414))\n",
                        "0.79012\t | B((0.0, 0.7853981633974483)).B((0.0, 0.7853981633974483))\n",
                        "0.14950\t | B((0.7853981633974483, 0.39269908169872414)).B((0.0, 0.7853981633974483))\n",
                        "0.06038\t | B((0.0, 0.7853981633974483)).B((0.0, 0.7853981633974483)).B((0.0, 0.7853981633974483))\n"
                    ]
                },
                {
                    "name": "stderr",
                    "output_type": "stream",
                    "text": [
                        "INFO:root:Haar-expectation cost: 1.0675651676752018\n"
                    ]
                },
                {
                    "name": "stdout",
                    "output_type": "stream",
                    "text": [
                        "iter 4,3\n"
                    ]
                },
                {
                    "name": "stderr",
                    "output_type": "stream",
                    "text": [
                        "INFO:root:==== Working to build a set of covering polytopes ====\n",
                        "INFO:root:Total circuit pulse cost: 17.0\n",
                        "INFO:root:Average gate pulse cost: 1.3076923076923077\n",
                        "INFO:root:Total circuit pulse cost: 1.5\n",
                        "INFO:root:Average gate pulse cost: 1.5\n",
                        "INFO:root:==== Haar volumes ====\n"
                    ]
                },
                {
                    "name": "stdout",
                    "output_type": "stream",
                    "text": [
                        " deg 0\t | Sequence name\n",
                        "0.00000\t | \n",
                        "0.00000\t | B((0.0, 0.7853981633974483))\n",
                        "0.00000\t | B((0.7853981633974483, 0.5890486225480862))\n",
                        "0.79012\t | B((0.0, 0.7853981633974483)).B((0.0, 0.7853981633974483))\n",
                        "0.07846\t | B((0.7853981633974483, 0.5890486225480862)).B((0.0, 0.7853981633974483))\n",
                        "0.13142\t | B((0.0, 0.7853981633974483)).B((0.0, 0.7853981633974483)).B((0.0, 0.7853981633974483))\n"
                    ]
                },
                {
                    "name": "stderr",
                    "output_type": "stream",
                    "text": [
                        "INFO:root:Haar-expectation cost: 1.0951335519935137\n"
                    ]
                },
                {
                    "name": "stdout",
                    "output_type": "stream",
                    "text": [
                        "iter 4,4\n"
                    ]
                },
                {
                    "name": "stderr",
                    "output_type": "stream",
                    "text": [
                        "INFO:root:==== Working to build a set of covering polytopes ====\n",
                        "INFO:root:Total circuit pulse cost: 17.0\n",
                        "INFO:root:Average gate pulse cost: 1.3076923076923077\n",
                        "INFO:root:Total circuit pulse cost: 1.5\n",
                        "INFO:root:Average gate pulse cost: 1.5\n",
                        "INFO:root:==== Haar volumes ====\n"
                    ]
                },
                {
                    "name": "stdout",
                    "output_type": "stream",
                    "text": [
                        " deg 0\t | Sequence name\n",
                        "0.00000\t | \n",
                        "0.00000\t | B((0.0, 0.7853981633974483))\n",
                        "0.79012\t | B((0.0, 0.7853981633974483)).B((0.0, 0.7853981633974483))\n",
                        "0.20988\t | B((0.0, 0.7853981633974483)).B((0.0, 0.7853981633974483)).B((0.0, 0.7853981633974483))\n"
                    ]
                },
                {
                    "name": "stderr",
                    "output_type": "stream",
                    "text": [
                        "INFO:root:Haar-expectation cost: 1.1049413181578387\n"
                    ]
                }
            ],
            "source": [
                "#so here is the big question\n",
                "#given a circuit, how to you do this process backwards and determine which gates to select to minimize average gate pulse cost\n",
                "#besides brute forcing...\n",
                "#maybe we just start with if we have 1 gate, iterate over the rest to find its best compliment\n",
                "\n",
                "data1 = [] #QFT cost\n",
                "data2 = [] #Swap cost\n",
                "data3 = [] #E[haar] cost\n",
                "\n",
                "i,j = 0,4 #sqiswap, holding this one constant, TODO do again with cube root\n",
                "cost = sum([i*np.pi/16, j*np.pi/16])/SPEED_LIMIT\n",
                "u = h._construct_U_lambda(i*np.pi/16, j*np.pi/16)(1).full()\n",
                "gate1 = CustomCostGate(u, f\"B({i*np.pi/16, j*np.pi/16})\", cost=cost)\n",
                "\n",
                "for i in range(0,5): #range(2,18,2)\n",
                "    temp_data1 = []\n",
                "    temp_data2 = []\n",
                "    temp_data3 = []\n",
                "    for j in range(0,5):\n",
                "        if i < j:\n",
                "            temp_data1.append(-1)\n",
                "            temp_data2.append(-1)\n",
                "            temp_data3.append(-1)\n",
                "            continue\n",
                "        \n",
                "        print(f\"iter {i},{j}\")\n",
                "        cost = sum([i*np.pi/16, j*np.pi/16])/SPEED_LIMIT\n",
                "        u = h._construct_U_lambda(i*np.pi/16, j*np.pi/16)(1).full()\n",
                "        gate2 = CustomCostGate(u, f\"B({i*np.pi/16, j*np.pi/16})\", cost=cost)\n",
                "\n",
                "        basis_gates = [gate1, gate2]# ,gate3]\n",
                "        basis = MixedOrderBasisCircuitTemplate(base_gates=basis_gates, chatty_build=False)\n",
                "\n",
                "        #finding best over this QFT circuit above\n",
                "        ret = optimizer.cost_from_distribution(sampler=qft_sampler) \n",
                "        temp_data1.append(ret)\n",
                "\n",
                "        #swap data\n",
                "        ret = optimizer.cost_from_distribution(sampler=swap_sample)\n",
                "        temp_data2.append(ret)\n",
                "\n",
                "        #e[haar] data\n",
                "        ret = coverage_to_haar_expectation(basis.coverage)\n",
                "        temp_data3.append(ret)\n",
                "\n",
                "    data1.append(temp_data1)\n",
                "    data2.append(temp_data2)\n",
                "    data3.append(temp_data3)"
            ]
        },
        {
            "cell_type": "code",
            "execution_count": 57,
            "metadata": {},
            "outputs": [
                {
                    "data": {
                        "image/png": "[encoded data removed]",
                        "text/plain": [
                            "<Figure size 504x504 with 2 Axes>"
                        ]
                    },
                    "metadata": {
                        "needs_background": "light"
                    },
                    "output_type": "display_data"
                },
                {
                    "data": {
                        "image/png": "[encoded data removed]",
                        "text/plain": [
                            "<Figure size 504x504 with 2 Axes>"
                        ]
                    },
                    "metadata": {
                        "needs_background": "light"
                    },
                    "output_type": "display_data"
                },
                {
                    "data": {
                        "image/png": "[encoded data removed]",
                        "text/plain": [
                            "<Figure size 504x504 with 2 Axes>"
                        ]
                    },
                    "metadata": {
                        "needs_background": "light"
                    },
                    "output_type": "display_data"
                }
            ],
            "source": [
                "from slam.utils.visualize import plotHamiltonianSweep\n",
                "plotHamiltonianSweep(np.matrix(data1), title=\"QFT Normalized Unit Pulses\");\n",
                "plotHamiltonianSweep(np.matrix(data2), title=\"Swap Normalized Unit Pulses\");\n",
                "plotHamiltonianSweep(np.matrix(data3), title=\"E[Haar] Normalized Unit Pulses\");"
            ]
        },
        {
            "cell_type": "code",
            "execution_count": null,
            "metadata": {},
            "outputs": [],
            "source": [
                "# from slam.utils.monodromy.polytope_wrap import coverage_to_haar_expectation\n",
                "# from slam.basis import MixedOrderBasisCircuitTemplate\n",
                "# from slam.utils.gates.custom_gates import RiSwapGate, CustomCostGate\n",
                "# gate1 = CustomCostGate.from_gate(RiSwapGate(1/2), cost=1/2)\n",
                "# gate2 = CustomCostGate.from_gate(RiSwapGate(1/3), cost=1/3)\n",
                "# basis_gates = [gate1,gate2]\n",
                "# basis = MixedOrderBasisCircuitTemplate(base_gates=basis_gates)\n",
                "# coverage_to_haar_expectation(basis.coverage)"
            ]
        }
    ],
    "metadata": {
        "interpreter": {
            "hash": "8458c2db8745e513b658ab31603256ba78a013051ccc1ae9ae2e6e521b9ef2ea"
        },
        "kernelspec": {
            "display_name": "Python 3.8.10 ('decomp_venv': venv)",
            "language": "python",
            "name": "python3"
        },
        "language_info": {
            "codemirror_mode": {
                "name": "ipython",
                "version": 3
            },
            "file_extension": ".py",
            "mimetype": "text/x-python",
            "name": "python",
            "nbconvert_exporter": "python",
            "pygments_lexer": "ipython3",
            "version": "3.8.10"
        },
        "orig_nbformat": 4
    },
    "nbformat": 4,
    "nbformat_minor": 2
}
