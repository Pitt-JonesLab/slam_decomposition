{
    "cells": [
        {
            "cell_type": "code",
            "execution_count": 40,
            "metadata": {},
            "outputs": [],
            "source": [
                "# we want to test whether we can do\n",
                "# a- adding phase terms\n",
                "# b- adding simulatenous 1q gates during the 2q gates \n",
                "# we know that adding these terms won't change the unitary in the weyl space\n",
                "# but we want to eliminate the 1q gates to minimize the overall duration\n",
                "# so although it doesn't change in the weyl space, it does change the actual unitary\n",
                "# its possible that these changes mean that the 1q gates are no longer needed \n",
                "# for example, the same 2Q hamiltonian can make both the CX and CZ gate directly\n",
                "# the additional benefit is that these are changes on top of the originally calibrated gate\n",
                "# so they don't have to be recabibrated - we calibrate 1 point in the weyl chamber and get for free the different version of the gate\n",
                "\n",
                "# the benefit to be clear is that small 2Q gates require more applications, and the benefit diminshes when we need much more 1Q gates\n",
                "# if we don't need to count 1Q gates using this method the benefit from smaller 2Q is significantly large"
            ]
        },
        {
            "cell_type": "code",
            "execution_count": 41,
            "metadata": {},
            "outputs": [],
            "source": [
                "import logging\n",
                "logger = logging.getLogger()\n",
                "logger.setLevel(logging.INFO)\n",
                "\n",
                "import numpy as np\n",
                "\n",
                "%matplotlib widget"
            ]
        },
        {
            "cell_type": "code",
            "execution_count": 42,
            "metadata": {},
            "outputs": [],
            "source": [
                "from slam.hamiltonian import ConversionGainPhaseHamiltonian\n",
                "from slam.basisv2 import CircuitTemplateV2\n",
                "from slam.utils.gates.custom_gates import ConversionGainGate\n",
                "pp =lambda p1, p2: ConversionGainGate(p1, p2, np.pi/4, np.pi/4)\n",
                "basis = CircuitTemplateV2(n_qubits=2, base_gates=[pp], no_exterior_1q=0, vz_only=1)\n",
                "basis.build(1)"
            ]
        },
        {
            "cell_type": "code",
            "execution_count": 43,
            "metadata": {},
            "outputs": [
                {
                    "data": {
                        "text/html": [
                            "<pre style=\"word-wrap: normal;white-space: pre;background: #fff0;line-height: 1.1;font-family: &quot;Courier New&quot;,Courier,monospace\">     ┌────────┐┌──────────────────────────┐┌────────┐\n",
                            "q_0: ┤ Rz(P0) ├┤0                         ├┤ Rz(P2) ├\n",
                            "     ├────────┤│  2qgate(Q0,Q1,π/4,π/4,1) │├────────┤\n",
                            "q_1: ┤ Rz(P1) ├┤1                         ├┤ Rz(P3) ├\n",
                            "     └────────┘└──────────────────────────┘└────────┘</pre>"
                        ],
                        "text/plain": [
                            "     ┌────────┐┌──────────────────────────┐┌────────┐\n",
                            "q_0: ┤ Rz(P0) ├┤0                         ├┤ Rz(P2) ├\n",
                            "     ├────────┤│  2qgate(Q0,Q1,π/4,π/4,1) │├────────┤\n",
                            "q_1: ┤ Rz(P1) ├┤1                         ├┤ Rz(P3) ├\n",
                            "     └────────┘└──────────────────────────┘└────────┘"
                        ]
                    },
                    "execution_count": 43,
                    "metadata": {},
                    "output_type": "execute_result"
                }
            ],
            "source": [
                "basis.spanning_range = range(1,2)\n",
                "basis.circuit.draw()"
            ]
        },
        {
            "cell_type": "code",
            "execution_count": 44,
            "metadata": {},
            "outputs": [],
            "source": [
                "from slam.cost_function import MutualInformation, MutualInformationSquare, BasicCostInverse, BasicCost, BasicReducedCost\n",
                "#objective = MutualInformation(state='w')\n",
                "unitary_objective = BasicCost() #Inverse()\n",
                "from slam.optimizer import TemplateOptimizer\n",
                "#optimizer = TemplateOptimizer(basis=basis, objective=objective, use_callback=True, override_fail=True)\n",
                "optimizer = TemplateOptimizer(basis=basis, objective=unitary_objective, use_callback=False, override_fail=True, training_restarts=15)"
            ]
        },
        {
            "cell_type": "code",
            "execution_count": 45,
            "metadata": {},
            "outputs": [
                {
                    "name": "stderr",
                    "output_type": "stream",
                    "text": [
                        "INFO:root:Begin search: (0.5, 0.0, 0.0)\n",
                        "INFO:root:Starting opt on template size 1\n",
                        "100%|██████████| 15/15 [00:06<00:00,  2.25it/s]\n",
                        "INFO:root:Loss=0.5000000000000001\n",
                        "INFO:root:Fail: (0.5, 0.0, 0.0), Alternative: (0.5, 0.0, 0.0)\n"
                    ]
                }
            ],
            "source": [
                "from slam.sampler import HaarSample, GateSample\n",
                "#sampler = HaarSample(seed=0,n_samples=1) #don't care\n",
                "from qiskit.circuit.library import CXGate, CZGate\n",
                "#sampler = GateSample(gate = CXGate())\n",
                "sampler = GateSample(gate = CZGate())\n",
                "s = [s for s in sampler][0]\n",
                "ret = optimizer.approximate_target_U(s)"
            ]
        },
        {
            "cell_type": "code",
            "execution_count": 46,
            "metadata": {},
            "outputs": [
                {
                    "name": "stdout",
                    "output_type": "stream",
                    "text": [
                        "Fidelity 0.5000000000000001\n",
                        "duration cost: 0.0\n"
                    ]
                },
                {
                    "data": {
                        "text/html": [
                            "<pre style=\"word-wrap: normal;white-space: pre;background: #fff0;line-height: 1.1;font-family: &quot;Courier New&quot;,Courier,monospace\">      ┌──────────────────────┐ »\n",
                            "q_0: ─┤ Rz(7.99619237371622) ├─»\n",
                            "     ┌┴──────────────────────┴┐»\n",
                            "q_1: ┤ Rz(-0.335206958125518) ├»\n",
                            "     └────────────────────────┘»\n",
                            "«     ┌────────────────────────────────────────────────────────┐»\n",
                            "«q_0: ┤0                                                       ├»\n",
                            "«     │  2qgate(-0.48757119084371,-8.69206801170595,π/4,π/4,1) │»\n",
                            "«q_1: ┤1                                                       ├»\n",
                            "«     └────────────────────────────────────────────────────────┘»\n",
                            "«     ┌──────────────────────┐\n",
                            "«q_0: ┤ Rz(2.99938186607118) ├\n",
                            "«     ├──────────────────────┤\n",
                            "«q_1: ┤ Rz(11.3307812281878) ├\n",
                            "«     └──────────────────────┘</pre>"
                        ],
                        "text/plain": [
                            "      ┌──────────────────────┐ »\n",
                            "q_0: ─┤ Rz(7.99619237371622) ├─»\n",
                            "     ┌┴──────────────────────┴┐»\n",
                            "q_1: ┤ Rz(-0.335206958125518) ├»\n",
                            "     └────────────────────────┘»\n",
                            "«     ┌────────────────────────────────────────────────────────┐»\n",
                            "«q_0: ┤0                                                       ├»\n",
                            "«     │  2qgate(-0.48757119084371,-8.69206801170595,π/4,π/4,1) │»\n",
                            "«q_1: ┤1                                                       ├»\n",
                            "«     └────────────────────────────────────────────────────────┘»\n",
                            "«     ┌──────────────────────┐\n",
                            "«q_0: ┤ Rz(2.99938186607118) ├\n",
                            "«     ├──────────────────────┤\n",
                            "«q_1: ┤ Rz(11.3307812281878) ├\n",
                            "«     └──────────────────────┘"
                        ]
                    },
                    "execution_count": 46,
                    "metadata": {},
                    "output_type": "execute_result"
                }
            ],
            "source": [
                "#show the result of training\n",
                "basis.build(ret.cycles)\n",
                "circuit =basis.assign_Xk(ret.Xk)\n",
                "print(\"Fidelity\", ret.loss_result)\n",
                "print(\"duration cost:\", basis.circuit_cost(ret.Xk))\n",
                "circuit.draw()"
            ]
        },
        {
            "cell_type": "code",
            "execution_count": 47,
            "metadata": {},
            "outputs": [],
            "source": [
                "from slam.utils.gates.custom_gates import ConversionGainSmushGate\n",
                "t = 0.1\n",
                "duration_1q = 0.05\n",
                "# NOTE first variable is tracking an offset (basically set it to 2 if counting the phase variables)\n",
                "p_expand = [0, round(t/duration_1q), round(t/duration_1q)]\n",
                "# XXX turn p_expand into indices is tricky\n",
                "\n",
                "#pp2 =lambda *vargs: ConversionGainSmushGate(vargs[0], vargs[1], np.pi/2, 0, vargs[2:2+round(t/duration_1q)], vargs[2+round(t/duration_1q):], t_el=t)\n",
                "pp2 =lambda *vargs: ConversionGainSmushGate(0, 0, np.pi/2, 0, vargs[:round(t/duration_1q)], vargs[round(t/duration_1q):], t_el=t)\n",
                "#pp2 =lambda *vargs: ConversionGainSmushGate(0,0, vargs[0], vargs[1], vargs[2:2+round(t/duration_1q)], vargs[2+round(t/duration_1q):], t_el=t)\n",
                "\n",
                "# circuittemplate builds # of parameters by checking the number of parameters in the lambda function to build the gate\n",
                "# because the parametes for gx and gy are vectors they only get counted once and it messes up\n",
                "# we can add an extra parameter called param_vec_expand\n",
                "# we need to use this to tell it to expand the number of parameters we should include\n",
                "# however, this will get really messy because we don't know which parameters are the vectors or not\n",
                "# be careful, this is going to be a mess :(\n",
                "basis = CircuitTemplateV2(n_qubits=2, base_gates=[pp2], no_exterior_1q=0, vz_only=1, param_vec_expand = p_expand)\n",
                "basis.build(1)"
            ]
        },
        {
            "cell_type": "code",
            "execution_count": 48,
            "metadata": {},
            "outputs": [
                {
                    "data": {
                        "text/html": [
                            "<pre style=\"word-wrap: normal;white-space: pre;background: #fff0;line-height: 1.1;font-family: &quot;Courier New&quot;,Courier,monospace\">     ┌────────┐┌────────────────────────────────────┐┌────────┐\n",
                            "q_0: ┤ Rz(P0) ├┤0                                   ├┤ Rz(P2) ├\n",
                            "     ├────────┤│  2qgate(0,0,π/2,0,Q0,Q1,Q2,Q3,0.1) │├────────┤\n",
                            "q_1: ┤ Rz(P1) ├┤1                                   ├┤ Rz(P3) ├\n",
                            "     └────────┘└────────────────────────────────────┘└────────┘</pre>"
                        ],
                        "text/plain": [
                            "     ┌────────┐┌────────────────────────────────────┐┌────────┐\n",
                            "q_0: ┤ Rz(P0) ├┤0                                   ├┤ Rz(P2) ├\n",
                            "     ├────────┤│  2qgate(0,0,π/2,0,Q0,Q1,Q2,Q3,0.1) │├────────┤\n",
                            "q_1: ┤ Rz(P1) ├┤1                                   ├┤ Rz(P3) ├\n",
                            "     └────────┘└────────────────────────────────────┘└────────┘"
                        ]
                    },
                    "execution_count": 48,
                    "metadata": {},
                    "output_type": "execute_result"
                }
            ],
            "source": [
                "basis.spanning_range = range(1,2)\n",
                "basis.circuit.draw()"
            ]
        },
        {
            "cell_type": "code",
            "execution_count": 49,
            "metadata": {},
            "outputs": [],
            "source": [
                "[str(el) for el in basis.circuit.parameters]\n",
                "for el in basis.circuit.parameters:\n",
                "    s_el = str(el)\n",
                "    if 'Q' in s_el:\n",
                "        basis.add_bound(s_el, 4*np.pi, 0)\n",
                "#basis.add_bound(\"Q0\", 4*np.pi, 0)"
            ]
        },
        {
            "cell_type": "code",
            "execution_count": 50,
            "metadata": {},
            "outputs": [],
            "source": [
                "from slam.cost_function import MutualInformation, MutualInformationSquare, BasicCostInverse, BasicCost, BasicReducedCost, SquareCost\n",
                "#objective = MutualInformation(state='w')\n",
                "unitary_objective = BasicCost()\n",
                "from slam.optimizer import TemplateOptimizer\n",
                "#optimizer = TemplateOptimizer(basis=basis, objective=objective, use_callback=True, override_fail=True)\n",
                "optimizer = TemplateOptimizer(basis=basis, objective=unitary_objective, use_callback=False, override_fail=True, training_restarts=5)"
            ]
        },
        {
            "cell_type": "code",
            "execution_count": 51,
            "metadata": {},
            "outputs": [
                {
                    "data": {
                        "text/html": [
                            "<pre style=\"word-wrap: normal;white-space: pre;background: #fff0;line-height: 1.1;font-family: &quot;Courier New&quot;,Courier,monospace\">     ┌────────────────────────┐┌───┐┌───┐\n",
                            "q_0: ┤0                       ├┤ H ├┤ Y ├\n",
                            "     │  2qgate(0,0,π/2,0,0.1) │├───┤├───┤\n",
                            "q_1: ┤1                       ├┤ H ├┤ X ├\n",
                            "     └────────────────────────┘└───┘└───┘</pre>"
                        ],
                        "text/plain": [
                            "     ┌────────────────────────┐┌───┐┌───┐\n",
                            "q_0: ┤0                       ├┤ H ├┤ Y ├\n",
                            "     │  2qgate(0,0,π/2,0,0.1) │├───┤├───┤\n",
                            "q_1: ┤1                       ├┤ H ├┤ X ├\n",
                            "     └────────────────────────┘└───┘└───┘"
                        ]
                    },
                    "execution_count": 51,
                    "metadata": {},
                    "output_type": "execute_result"
                }
            ],
            "source": [
                "from qiskit import QuantumCircuit\n",
                "target = QuantumCircuit(2)\n",
                "target.append(ConversionGainGate(0,0, np.pi/2, 0, t_el=t), [0,1])\n",
                "target.h(0)\n",
                "target.y(0)\n",
                "target.h(1)\n",
                "target.x(1)\n",
                "target.draw()"
            ]
        },
        {
            "cell_type": "code",
            "execution_count": 52,
            "metadata": {},
            "outputs": [
                {
                    "name": "stderr",
                    "output_type": "stream",
                    "text": [
                        "INFO:root:Begin search: (0.05, 0.05, 0.0)\n",
                        "INFO:root:Starting opt on template size 1\n",
                        "100%|██████████| 5/5 [00:38<00:00,  7.79s/it]\n",
                        "INFO:root:Loss=0.0010506251696715818\n",
                        "INFO:root:Fail: (0.05, 0.05, 0.0), Alternative: (0.95, 0.04052791, 0.00947209)\n"
                    ]
                }
            ],
            "source": [
                "from slam.sampler import HaarSample, GateSample\n",
                "#sampler = HaarSample(seed=0,n_samples=1) #don't care\n",
                "from qiskit.circuit.library import CXGate, CZGate, SwapGate\n",
                "#sampler = GateSample(gate = CZGate())\n",
                "#sampler = GateSample(gate = CZGate())\n",
                "sampler = GateSample(gate = target)\n",
                "s = [s for s in sampler][0]\n",
                "ret = optimizer.approximate_target_U(s)"
            ]
        },
        {
            "cell_type": "code",
            "execution_count": 53,
            "metadata": {},
            "outputs": [
                {
                    "name": "stdout",
                    "output_type": "stream",
                    "text": [
                        "Fidelity 0.0010506251696715818\n"
                    ]
                },
                {
                    "data": {
                        "image/png": "[encoded data removed]",
                        "text/plain": [
                            "<Figure size 1123.41x200.667 with 1 Axes>"
                        ]
                    },
                    "execution_count": 53,
                    "metadata": {},
                    "output_type": "execute_result"
                },
                {
                    "data": {
                        "application/vnd.jupyter.widget-view+json": {
                            "model_id": "5be3f58d02ba449aaebd717072b80e30",
                            "version_major": 2,
                            "version_minor": 0
                        },
                        "image/png": "[encoded data removed]",
                        "text/html": [
                            "\n",
                            "            <div style=\"display: inline-block;\">\n",
                            "                <div class=\"jupyter-widgets widget-label\" style=\"text-align: center;\">\n",
                            "                    Figure\n",
                            "                </div>\n",
                            "                <img src='data:image/png;base64,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' width=1123.4055628488/>\n",
                            "            </div>\n",
                            "        "
                        ],
                        "text/plain": [
                            "Canvas(toolbar=Toolbar(toolitems=[('Home', 'Reset original view', 'home', 'home'), ('Back', 'Back to previous …"
                        ]
                    },
                    "metadata": {},
                    "output_type": "display_data"
                }
            ],
            "source": [
                "#show the result of training\n",
                "basis.build(ret.cycles)\n",
                "circuit =basis.assign_Xk(ret.Xk)    \n",
                "print(\"Fidelity\", ret.loss_result)\n",
                "# print(\"duration cost:\", basis.circuit_cost(ret.Xk))\n",
                "circuit.draw(output='mpl')"
            ]
        },
        {
            "cell_type": "code",
            "execution_count": null,
            "metadata": {},
            "outputs": [],
            "source": []
        }
    ],
    "metadata": {
        "kernelspec": {
            "display_name": "Python 3.8.10 ('decomp_venv': venv)",
            "language": "python",
            "name": "python3"
        },
        "language_info": {
            "codemirror_mode": {
                "name": "ipython",
                "version": 3
            },
            "file_extension": ".py",
            "mimetype": "text/x-python",
            "name": "python",
            "nbconvert_exporter": "python",
            "pygments_lexer": "ipython3",
            "version": "3.8.10"
        },
        "orig_nbformat": 4,
        "vscode": {
            "interpreter": {
                "hash": "141f2845ff61560a6082741173a60265cfaf5f1fd91b5e939309b621eb5ce0f2"
            }
        }
    },
    "nbformat": 4,
    "nbformat_minor": 2
}
